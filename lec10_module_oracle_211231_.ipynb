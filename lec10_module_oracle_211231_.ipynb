{
 "cells": [
  {
   "cell_type": "markdown",
   "id": "d87b0124-6f2d-44c4-b342-bd7363d68317",
   "metadata": {},
   "source": [
    "# 10장 모듈 , Oracle 연동\n",
    "lec \n",
    "pip install cx-Oracle"
   ]
  },
  {
   "cell_type": "markdown",
   "id": "6b02e9ac-8316-4beb-a5cb-a80ee2305a02",
   "metadata": {},
   "source": [
    "* 날짜 내장 모듈"
   ]
  },
  {
   "cell_type": "code",
   "execution_count": 1,
   "id": "36fe98f0-603c-4e84-9ab2-66362e5c6afd",
   "metadata": {},
   "outputs": [
    {
     "name": "stdout",
     "output_type": "stream",
     "text": [
      "2019-03-01 <class 'datetime.date'>\n"
     ]
    }
   ],
   "source": [
    "import datetime\n",
    "set_day = datetime.date(2019,3,1)\n",
    "print(set_day, type(set_day))\n",
    "\n",
    "print(set_day.day, set_day.month, set_day.year) # 이런 문법도 자주 쓴다!!!"
   ]
  },
  {
   "cell_type": "code",
   "execution_count": null,
   "id": "dbbd2c02-eec2-4702-a93e-2ee4fb52d1d3",
   "metadata": {},
   "outputs": [],
   "source": [
    "print('{0}/{1}/{2}'.format(set_day.year,set_day.month,set_day.day ))"
   ]
  },
  {
   "cell_type": "code",
   "execution_count": 2,
   "id": "3fe88f91-7947-4daf-bb90-57483b33aca0",
   "metadata": {},
   "outputs": [
    {
     "name": "stdout",
     "output_type": "stream",
     "text": [
      "2021-12-31\n"
     ]
    }
   ],
   "source": [
    "print(datetime.date.today()) # 오늘 날짜. 오라클에서 sysdate 생각하면 된다.\n",
    "# select sysdate from dual"
   ]
  },
  {
   "cell_type": "code",
   "execution_count": 13,
   "id": "eff944ea-f426-4b9b-bac6-9dc750165320",
   "metadata": {},
   "outputs": [
    {
     "name": "stdout",
     "output_type": "stream",
     "text": [
      "15:30:45\n",
      "15 30 45\n"
     ]
    }
   ],
   "source": [
    "#time만 따로 빼서 자주 쓰는 건 아니지만 참고~\n",
    "\n",
    "import datetime\n",
    "\n",
    "set_time = datetime.time(15, 30, 45)\n",
    "print(set_time)\n",
    "print(set_time.hour, set_time.minute, set_time.second)"
   ]
  },
  {
   "cell_type": "code",
   "execution_count": 10,
   "id": "11bbf05e-26d2-4ed0-814e-acb1f5932e7f",
   "metadata": {},
   "outputs": [
    {
     "name": "stdout",
     "output_type": "stream",
     "text": [
      "2018-10-09 10:20:00\n",
      "2018-10-09 10:20:00\n",
      "2018 10 9 10 20 0\n"
     ]
    }
   ],
   "source": [
    "import datetime\n",
    "\n",
    "set_dt = datetime.datetime(2018, 10, 9, 10, 20, 0)\n",
    "print(set_dt)\n",
    "\n",
    "print(set_dt)\n",
    "print(set_dt.year, set_dt.month, set_dt.day, set_dt.hour, set_dt.minute, set_dt.second)"
   ]
  },
  {
   "cell_type": "code",
   "execution_count": 14,
   "id": "37e8761c-75c8-4343-ae8f-3fe6523d3e76",
   "metadata": {},
   "outputs": [
    {
     "name": "stdout",
     "output_type": "stream",
     "text": [
      "2021-12-31\n",
      "2021-12-31 16:35:34.527893\n"
     ]
    }
   ],
   "source": [
    "print(datetime.date.today())\n",
    "print(datetime.datetime.now())"
   ]
  },
  {
   "cell_type": "code",
   "execution_count": 16,
   "id": "009e89d6-06b8-4994-adb2-a7eb4713ef6e",
   "metadata": {},
   "outputs": [
    {
     "name": "stdout",
     "output_type": "stream",
     "text": [
      "Date & Time: 2021-12-31, 16:35:45\n"
     ]
    }
   ],
   "source": [
    "#포맷도 된다.\n",
    "now = datetime.datetime.now()\n",
    "print(\"Date & Time: {:%Y-%m-%d, %H:%M:%S}\".format(now))"
   ]
  },
  {
   "cell_type": "code",
   "execution_count": 12,
   "id": "b6051395-886a-4d60-af1a-fc2e04b80daa",
   "metadata": {},
   "outputs": [
    {
     "name": "stdout",
     "output_type": "stream",
     "text": [
      "                                  2018\n",
      "\n",
      "      January                   February                   March\n",
      "Mo Tu We Th Fr Sa Su      Mo Tu We Th Fr Sa Su      Mo Tu We Th Fr Sa Su\n",
      " 1  2  3  4  5  6  7                1  2  3  4                1  2  3  4\n",
      " 8  9 10 11 12 13 14       5  6  7  8  9 10 11       5  6  7  8  9 10 11\n",
      "15 16 17 18 19 20 21      12 13 14 15 16 17 18      12 13 14 15 16 17 18\n",
      "22 23 24 25 26 27 28      19 20 21 22 23 24 25      19 20 21 22 23 24 25\n",
      "29 30 31                  26 27 28                  26 27 28 29 30 31\n",
      "\n",
      "       April                      May                       June\n",
      "Mo Tu We Th Fr Sa Su      Mo Tu We Th Fr Sa Su      Mo Tu We Th Fr Sa Su\n",
      "                   1          1  2  3  4  5  6                   1  2  3\n",
      " 2  3  4  5  6  7  8       7  8  9 10 11 12 13       4  5  6  7  8  9 10\n",
      " 9 10 11 12 13 14 15      14 15 16 17 18 19 20      11 12 13 14 15 16 17\n",
      "16 17 18 19 20 21 22      21 22 23 24 25 26 27      18 19 20 21 22 23 24\n",
      "23 24 25 26 27 28 29      28 29 30 31               25 26 27 28 29 30\n",
      "30\n",
      "\n",
      "        July                     August                  September\n",
      "Mo Tu We Th Fr Sa Su      Mo Tu We Th Fr Sa Su      Mo Tu We Th Fr Sa Su\n",
      "                   1             1  2  3  4  5                      1  2\n",
      " 2  3  4  5  6  7  8       6  7  8  9 10 11 12       3  4  5  6  7  8  9\n",
      " 9 10 11 12 13 14 15      13 14 15 16 17 18 19      10 11 12 13 14 15 16\n",
      "16 17 18 19 20 21 22      20 21 22 23 24 25 26      17 18 19 20 21 22 23\n",
      "23 24 25 26 27 28 29      27 28 29 30 31            24 25 26 27 28 29 30\n",
      "30 31\n",
      "\n",
      "      October                   November                  December\n",
      "Mo Tu We Th Fr Sa Su      Mo Tu We Th Fr Sa Su      Mo Tu We Th Fr Sa Su\n",
      " 1  2  3  4  5  6  7                1  2  3  4                      1  2\n",
      " 8  9 10 11 12 13 14       5  6  7  8  9 10 11       3  4  5  6  7  8  9\n",
      "15 16 17 18 19 20 21      12 13 14 15 16 17 18      10 11 12 13 14 15 16\n",
      "22 23 24 25 26 27 28      19 20 21 22 23 24 25      17 18 19 20 21 22 23\n",
      "29 30 31                  26 27 28 29 30            24 25 26 27 28 29 30\n",
      "                                                    31\n",
      "\n"
     ]
    }
   ],
   "source": [
    "import calendar\n",
    "\n",
    "print(calendar.calendar(2018))"
   ]
  },
  {
   "cell_type": "code",
   "execution_count": null,
   "id": "e0131375-6f8c-4a2a-83f6-72358413263a",
   "metadata": {},
   "outputs": [],
   "source": []
  },
  {
   "cell_type": "code",
   "execution_count": null,
   "id": "2347a236-762a-4a3d-800c-271b63a64c0c",
   "metadata": {},
   "outputs": [],
   "source": []
  },
  {
   "cell_type": "code",
   "execution_count": null,
   "id": "69865f72-9c23-4f7f-9120-fdeab17a460d",
   "metadata": {},
   "outputs": [],
   "source": []
  }
 ],
 "metadata": {
  "kernelspec": {
   "display_name": "Python 3 (ipykernel)",
   "language": "python",
   "name": "python3"
  },
  "language_info": {
   "codemirror_mode": {
    "name": "ipython",
    "version": 3
   },
   "file_extension": ".py",
   "mimetype": "text/x-python",
   "name": "python",
   "nbconvert_exporter": "python",
   "pygments_lexer": "ipython3",
   "version": "3.8.8"
  }
 },
 "nbformat": 4,
 "nbformat_minor": 5
}
