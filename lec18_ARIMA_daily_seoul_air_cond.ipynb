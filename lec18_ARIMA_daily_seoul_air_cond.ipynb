{
 "cells": [
  {
   "cell_type": "markdown",
   "id": "ab9a0fdb-b50b-4478-a6ce-51cf075f2e6c",
   "metadata": {},
   "source": [
    "# lec18. ARIMA - 공공데이터포털\n",
    "* daily_seoul_air_cond"
   ]
  },
  {
   "cell_type": "code",
   "execution_count": 1,
   "id": "7cbb8bf7-9ce6-4e7d-883a-9a418d501477",
   "metadata": {},
   "outputs": [
    {
     "data": {
      "text/html": [
       "<style>.container{width:100% !important;}</style>"
      ],
      "text/plain": [
       "<IPython.core.display.HTML object>"
      ]
     },
     "metadata": {},
     "output_type": "display_data"
    }
   ],
   "source": [
    "import pandas as pd\n",
    "import numpy as np\n",
    "import matplotlib.pyplot as plt\n",
    "import seaborn as sns\n",
    "\n",
    "import datetime as dt\n",
    "\n",
    "\n",
    "import warnings\n",
    "warnings.filterwarnings(action='ignore')\n",
    "\n",
    "#-------------------- 차트 관련 속성 (한글처리, 그리드) -----------\n",
    "#plt.rc('font', family='NanumGothicOTF') # For MacOS\n",
    "plt.rcParams['font.family']= 'Malgun Gothic'\n",
    "plt.rcParams['axes.unicode_minus'] = False\n",
    "sns.set()\n",
    "\n",
    "#-------------------- 주피터 , 출력결과 넓이 늘리기 ---------------\n",
    "from IPython.core.display import display, HTML\n",
    "display(HTML(\"<style>.container{width:100% !important;}</style>\"))\n",
    "pd.set_option('display.max_rows', 100)\n",
    "pd.set_option('display.max_columns', 100)\n",
    "pd.set_option('max_colwidth', None)"
   ]
  },
  {
   "cell_type": "code",
   "execution_count": 3,
   "id": "7db0660a-9813-4e5e-8d65-a06404edee09",
   "metadata": {},
   "outputs": [],
   "source": [
    "df = pd.read_csv(\"./lec18_daily_seoul_air_cond_2020.04.csv\", parse_dates=['측정일시']) "
   ]
  },
  {
   "cell_type": "code",
   "execution_count": 4,
   "id": "a002c485-08a0-468d-a0bf-787a26da9db5",
   "metadata": {},
   "outputs": [
    {
     "data": {
      "text/plain": [
       "Index(['측정일시', '권역코드', '권역명', '측정소코드', '측정소명', '미세먼지 1시간(㎍/㎥)',\n",
       "       '미세먼지 24시간(㎍/㎥)', '초미세먼지(㎍/㎥)', '오존(ppm)', '이산화질소농도(ppm)',\n",
       "       '일산화탄소농도(ppm)', '아황산가스농도(ppm)'],\n",
       "      dtype='object')"
      ]
     },
     "execution_count": 4,
     "metadata": {},
     "output_type": "execute_result"
    }
   ],
   "source": [
    "df.columns   # '측정일시' '측정소명' '미세먼지 1시간(㎍/㎥)',"
   ]
  },
  {
   "cell_type": "code",
   "execution_count": 5,
   "id": "9c2eb87b-91e7-419a-8cd9-6732c84508c0",
   "metadata": {},
   "outputs": [
    {
     "name": "stdout",
     "output_type": "stream",
     "text": [
      "(18000, 12)\n",
      "<class 'pandas.core.frame.DataFrame'>\n",
      "RangeIndex: 18000 entries, 0 to 17999\n",
      "Data columns (total 12 columns):\n",
      " #   Column          Non-Null Count  Dtype         \n",
      "---  ------          --------------  -----         \n",
      " 0   측정일시            18000 non-null  datetime64[ns]\n",
      " 1   권역코드            18000 non-null  int64         \n",
      " 2   권역명             18000 non-null  object        \n",
      " 3   측정소코드           18000 non-null  int64         \n",
      " 4   측정소명            18000 non-null  object        \n",
      " 5   미세먼지 1시간(㎍/㎥)   18000 non-null  int64         \n",
      " 6   미세먼지 24시간(㎍/㎥)  18000 non-null  int64         \n",
      " 7   초미세먼지(㎍/㎥)      18000 non-null  int64         \n",
      " 8   오존(ppm)         18000 non-null  float64       \n",
      " 9   이산화질소농도(ppm)    18000 non-null  float64       \n",
      " 10  일산화탄소농도(ppm)    18000 non-null  float64       \n",
      " 11  아황산가스농도(ppm)    18000 non-null  float64       \n",
      "dtypes: datetime64[ns](1), float64(4), int64(5), object(2)\n",
      "memory usage: 1.6+ MB\n",
      "None\n"
     ]
    },
    {
     "data": {
      "text/html": [
       "<div>\n",
       "<style scoped>\n",
       "    .dataframe tbody tr th:only-of-type {\n",
       "        vertical-align: middle;\n",
       "    }\n",
       "\n",
       "    .dataframe tbody tr th {\n",
       "        vertical-align: top;\n",
       "    }\n",
       "\n",
       "    .dataframe thead th {\n",
       "        text-align: right;\n",
       "    }\n",
       "</style>\n",
       "<table border=\"1\" class=\"dataframe\">\n",
       "  <thead>\n",
       "    <tr style=\"text-align: right;\">\n",
       "      <th></th>\n",
       "      <th>측정일시</th>\n",
       "      <th>권역코드</th>\n",
       "      <th>권역명</th>\n",
       "      <th>측정소코드</th>\n",
       "      <th>측정소명</th>\n",
       "      <th>미세먼지 1시간(㎍/㎥)</th>\n",
       "      <th>미세먼지 24시간(㎍/㎥)</th>\n",
       "      <th>초미세먼지(㎍/㎥)</th>\n",
       "      <th>오존(ppm)</th>\n",
       "      <th>이산화질소농도(ppm)</th>\n",
       "      <th>일산화탄소농도(ppm)</th>\n",
       "      <th>아황산가스농도(ppm)</th>\n",
       "    </tr>\n",
       "  </thead>\n",
       "  <tbody>\n",
       "    <tr>\n",
       "      <th>0</th>\n",
       "      <td>2020-04-30 23:00:00</td>\n",
       "      <td>100</td>\n",
       "      <td>도심권</td>\n",
       "      <td>111123</td>\n",
       "      <td>종로구</td>\n",
       "      <td>40</td>\n",
       "      <td>43</td>\n",
       "      <td>21</td>\n",
       "      <td>0.036</td>\n",
       "      <td>0.008</td>\n",
       "      <td>0.3</td>\n",
       "      <td>0.003</td>\n",
       "    </tr>\n",
       "    <tr>\n",
       "      <th>1</th>\n",
       "      <td>2020-04-30 23:00:00</td>\n",
       "      <td>100</td>\n",
       "      <td>도심권</td>\n",
       "      <td>111121</td>\n",
       "      <td>중구</td>\n",
       "      <td>31</td>\n",
       "      <td>41</td>\n",
       "      <td>22</td>\n",
       "      <td>0.037</td>\n",
       "      <td>0.010</td>\n",
       "      <td>0.3</td>\n",
       "      <td>0.003</td>\n",
       "    </tr>\n",
       "    <tr>\n",
       "      <th>2</th>\n",
       "      <td>2020-04-30 23:00:00</td>\n",
       "      <td>100</td>\n",
       "      <td>도심권</td>\n",
       "      <td>111131</td>\n",
       "      <td>용산구</td>\n",
       "      <td>41</td>\n",
       "      <td>40</td>\n",
       "      <td>21</td>\n",
       "      <td>0.035</td>\n",
       "      <td>0.011</td>\n",
       "      <td>0.3</td>\n",
       "      <td>0.002</td>\n",
       "    </tr>\n",
       "    <tr>\n",
       "      <th>3</th>\n",
       "      <td>2020-04-30 23:00:00</td>\n",
       "      <td>101</td>\n",
       "      <td>서북권</td>\n",
       "      <td>111181</td>\n",
       "      <td>은평구</td>\n",
       "      <td>32</td>\n",
       "      <td>37</td>\n",
       "      <td>20</td>\n",
       "      <td>0.053</td>\n",
       "      <td>0.005</td>\n",
       "      <td>0.3</td>\n",
       "      <td>0.003</td>\n",
       "    </tr>\n",
       "    <tr>\n",
       "      <th>4</th>\n",
       "      <td>2020-04-30 23:00:00</td>\n",
       "      <td>101</td>\n",
       "      <td>서북권</td>\n",
       "      <td>111201</td>\n",
       "      <td>마포구</td>\n",
       "      <td>34</td>\n",
       "      <td>34</td>\n",
       "      <td>21</td>\n",
       "      <td>0.043</td>\n",
       "      <td>0.009</td>\n",
       "      <td>0.3</td>\n",
       "      <td>0.002</td>\n",
       "    </tr>\n",
       "  </tbody>\n",
       "</table>\n",
       "</div>"
      ],
      "text/plain": [
       "                 측정일시  권역코드  권역명   측정소코드 측정소명  미세먼지 1시간(㎍/㎥)  미세먼지 24시간(㎍/㎥)  \\\n",
       "0 2020-04-30 23:00:00   100  도심권  111123  종로구             40              43   \n",
       "1 2020-04-30 23:00:00   100  도심권  111121   중구             31              41   \n",
       "2 2020-04-30 23:00:00   100  도심권  111131  용산구             41              40   \n",
       "3 2020-04-30 23:00:00   101  서북권  111181  은평구             32              37   \n",
       "4 2020-04-30 23:00:00   101  서북권  111201  마포구             34              34   \n",
       "\n",
       "   초미세먼지(㎍/㎥)  오존(ppm)  이산화질소농도(ppm)  일산화탄소농도(ppm)  아황산가스농도(ppm)  \n",
       "0          21    0.036         0.008           0.3         0.003  \n",
       "1          22    0.037         0.010           0.3         0.003  \n",
       "2          21    0.035         0.011           0.3         0.002  \n",
       "3          20    0.053         0.005           0.3         0.003  \n",
       "4          21    0.043         0.009           0.3         0.002  "
      ]
     },
     "execution_count": 5,
     "metadata": {},
     "output_type": "execute_result"
    }
   ],
   "source": [
    "print(df.shape)\n",
    "print(df.info())\n",
    "df.head()\n"
   ]
  },
  {
   "cell_type": "code",
   "execution_count": 6,
   "id": "3c31c27e-6635-4117-a8e2-7fc47516c19d",
   "metadata": {},
   "outputs": [
    {
     "data": {
      "text/html": [
       "<div>\n",
       "<style scoped>\n",
       "    .dataframe tbody tr th:only-of-type {\n",
       "        vertical-align: middle;\n",
       "    }\n",
       "\n",
       "    .dataframe tbody tr th {\n",
       "        vertical-align: top;\n",
       "    }\n",
       "\n",
       "    .dataframe thead th {\n",
       "        text-align: right;\n",
       "    }\n",
       "</style>\n",
       "<table border=\"1\" class=\"dataframe\">\n",
       "  <thead>\n",
       "    <tr style=\"text-align: right;\">\n",
       "      <th></th>\n",
       "      <th>측정일시</th>\n",
       "      <th>측정소명</th>\n",
       "      <th>미세먼지 1시간(㎍/㎥)</th>\n",
       "      <th>미세먼지 24시간(㎍/㎥)</th>\n",
       "    </tr>\n",
       "  </thead>\n",
       "  <tbody>\n",
       "    <tr>\n",
       "      <th>0</th>\n",
       "      <td>2020-04-30 23:00:00</td>\n",
       "      <td>종로구</td>\n",
       "      <td>40</td>\n",
       "      <td>43</td>\n",
       "    </tr>\n",
       "    <tr>\n",
       "      <th>1</th>\n",
       "      <td>2020-04-30 23:00:00</td>\n",
       "      <td>중구</td>\n",
       "      <td>31</td>\n",
       "      <td>41</td>\n",
       "    </tr>\n",
       "  </tbody>\n",
       "</table>\n",
       "</div>"
      ],
      "text/plain": [
       "                 측정일시 측정소명  미세먼지 1시간(㎍/㎥)  미세먼지 24시간(㎍/㎥)\n",
       "0 2020-04-30 23:00:00  종로구             40              43\n",
       "1 2020-04-30 23:00:00   중구             31              41"
      ]
     },
     "execution_count": 6,
     "metadata": {},
     "output_type": "execute_result"
    }
   ],
   "source": [
    "df = df[['측정일시', '측정소명','미세먼지 1시간(㎍/㎥)','미세먼지 24시간(㎍/㎥)']].copy()\n",
    "df.head(2)"
   ]
  },
  {
   "cell_type": "markdown",
   "id": "10f416ff-0d8b-42c0-ac4c-4f877714f493",
   "metadata": {},
   "source": [
    "# EDA"
   ]
  },
  {
   "cell_type": "markdown",
   "id": "e514e03e-29fa-412b-8b36-0fa45fef2f90",
   "metadata": {},
   "source": [
    "## 측정소별로 미세먼지 평균"
   ]
  },
  {
   "cell_type": "code",
   "execution_count": 23,
   "id": "c84df72b-e76f-43b9-bc40-0ff93b15ec27",
   "metadata": {},
   "outputs": [],
   "source": [
    "plt.rcParams['font.family']= 'Malgun Gothic'\n",
    "plt.rcParams['axes.unicode_minus'] = False # - 기호 안 깨지게"
   ]
  },
  {
   "cell_type": "code",
   "execution_count": 35,
   "id": "cf011ab1-670a-4041-b59b-5ab1bcb775ad",
   "metadata": {},
   "outputs": [
    {
     "data": {
      "image/png": "[encoded data removed]",
      "text/plain": [
       "<Figure size 432x288 with 1 Axes>"
      ]
     },
     "metadata": {},
     "output_type": "display_data"
    }
   ],
   "source": [
    "df.groupby(by='측정소명')['미세먼지 1시간(㎍/㎥)'].mean().plot()\n",
    "plt.show()"
   ]
  },
  {
   "cell_type": "markdown",
   "id": "7558154b-47a3-4745-913e-6f7b1476f2ba",
   "metadata": {},
   "source": [
    "### 강사님"
   ]
  },
  {
   "cell_type": "code",
   "execution_count": 39,
   "id": "ef1a9437-8a86-4279-9fbf-41d5f17fcee2",
   "metadata": {},
   "outputs": [
    {
     "data": {
      "text/plain": [
       "<AxesSubplot:xlabel='측정소명'>"
      ]
     },
     "execution_count": 39,
     "metadata": {},
     "output_type": "execute_result"
    },
    {
     "data": {
      "image/png": "[encoded data removed]",
      "text/plain": [
       "<Figure size 432x288 with 1 Axes>"
      ]
     },
     "metadata": {},
     "output_type": "display_data"
    }
   ],
   "source": [
    "df.groupby(by='측정소명')['미세먼지 1시간(㎍/㎥)'].mean().plot(kind='bar')"
   ]
  },
  {
   "cell_type": "code",
   "execution_count": 40,
   "id": "0a89f4da-2bad-43c6-b7fd-a84c6abc4e28",
   "metadata": {},
   "outputs": [
    {
     "data": {
      "text/plain": [
       "<AxesSubplot:xlabel='측정소명', ylabel='미세먼지 1시간(㎍/㎥)'>"
      ]
     },
     "execution_count": 40,
     "metadata": {},
     "output_type": "execute_result"
    },
    {
     "data": {
      "image/png": "[encoded data removed]",
      "text/plain": [
       "<Figure size 432x288 with 1 Axes>"
      ]
     },
     "metadata": {},
     "output_type": "display_data"
    }
   ],
   "source": [
    "sns.barplot(x='측정소명', y='미세먼지 1시간(㎍/㎥)', data=df)"
   ]
  },
  {
   "cell_type": "markdown",
   "id": "5280b687-0a68-4031-b42b-714093e22cc0",
   "metadata": {},
   "source": [
    "# ARIMA 모델을 위한 데이터셋 준비"
   ]
  },
  {
   "cell_type": "markdown",
   "id": "8a5afbfc-2435-4b53-9d9e-9a54d7347d15",
   "metadata": {},
   "source": [
    "## (방법1) df[조건].copy"
   ]
  },
  {
   "cell_type": "code",
   "execution_count": 45,
   "id": "9cc78d90-2f2e-45a9-8947-617536ef8880",
   "metadata": {},
   "outputs": [],
   "source": [
    "dfg=df[df['측정소명']=='중구'][['측정일시','미세먼지 1시간(㎍/㎥)']].copy()"
   ]
  },
  {
   "cell_type": "code",
   "execution_count": 46,
   "id": "569cc85f-1ff0-48df-a3c1-55e85986274f",
   "metadata": {},
   "outputs": [],
   "source": [
    "dfs=df[df['측정소명']=='서대문구'][['측정일시','미세먼지 1시간(㎍/㎥)']].copy()"
   ]
  },
  {
   "cell_type": "code",
   "execution_count": 47,
   "id": "f076fec1-8772-46f2-aeac-a467bc900231",
   "metadata": {},
   "outputs": [
    {
     "data": {
      "text/html": [
       "<div>\n",
       "<style scoped>\n",
       "    .dataframe tbody tr th:only-of-type {\n",
       "        vertical-align: middle;\n",
       "    }\n",
       "\n",
       "    .dataframe tbody tr th {\n",
       "        vertical-align: top;\n",
       "    }\n",
       "\n",
       "    .dataframe thead th {\n",
       "        text-align: right;\n",
       "    }\n",
       "</style>\n",
       "<table border=\"1\" class=\"dataframe\">\n",
       "  <thead>\n",
       "    <tr style=\"text-align: right;\">\n",
       "      <th></th>\n",
       "      <th>측정일시</th>\n",
       "      <th>미세먼지 1시간(㎍/㎥)</th>\n",
       "    </tr>\n",
       "  </thead>\n",
       "  <tbody>\n",
       "    <tr>\n",
       "      <th>1</th>\n",
       "      <td>2020-04-30 23:00:00</td>\n",
       "      <td>31</td>\n",
       "    </tr>\n",
       "    <tr>\n",
       "      <th>26</th>\n",
       "      <td>2020-04-30 22:00:00</td>\n",
       "      <td>35</td>\n",
       "    </tr>\n",
       "    <tr>\n",
       "      <th>52</th>\n",
       "      <td>2020-04-30 21:00:00</td>\n",
       "      <td>46</td>\n",
       "    </tr>\n",
       "    <tr>\n",
       "      <th>77</th>\n",
       "      <td>2020-04-30 20:00:00</td>\n",
       "      <td>65</td>\n",
       "    </tr>\n",
       "    <tr>\n",
       "      <th>100</th>\n",
       "      <td>2020-04-30 19:00:00</td>\n",
       "      <td>47</td>\n",
       "    </tr>\n",
       "  </tbody>\n",
       "</table>\n",
       "</div>"
      ],
      "text/plain": [
       "                   측정일시  미세먼지 1시간(㎍/㎥)\n",
       "1   2020-04-30 23:00:00             31\n",
       "26  2020-04-30 22:00:00             35\n",
       "52  2020-04-30 21:00:00             46\n",
       "77  2020-04-30 20:00:00             65\n",
       "100 2020-04-30 19:00:00             47"
      ]
     },
     "execution_count": 47,
     "metadata": {},
     "output_type": "execute_result"
    }
   ],
   "source": [
    "dfg.head()"
   ]
  },
  {
   "cell_type": "code",
   "execution_count": 48,
   "id": "adfd9697-b51a-4d35-b655-9defe8eeda46",
   "metadata": {},
   "outputs": [
    {
     "data": {
      "text/html": [
       "<div>\n",
       "<style scoped>\n",
       "    .dataframe tbody tr th:only-of-type {\n",
       "        vertical-align: middle;\n",
       "    }\n",
       "\n",
       "    .dataframe tbody tr th {\n",
       "        vertical-align: top;\n",
       "    }\n",
       "\n",
       "    .dataframe thead th {\n",
       "        text-align: right;\n",
       "    }\n",
       "</style>\n",
       "<table border=\"1\" class=\"dataframe\">\n",
       "  <thead>\n",
       "    <tr style=\"text-align: right;\">\n",
       "      <th></th>\n",
       "      <th>측정일시</th>\n",
       "      <th>미세먼지 1시간(㎍/㎥)</th>\n",
       "    </tr>\n",
       "  </thead>\n",
       "  <tbody>\n",
       "    <tr>\n",
       "      <th>5</th>\n",
       "      <td>2020-04-30 23:00:00</td>\n",
       "      <td>36</td>\n",
       "    </tr>\n",
       "    <tr>\n",
       "      <th>29</th>\n",
       "      <td>2020-04-30 22:00:00</td>\n",
       "      <td>40</td>\n",
       "    </tr>\n",
       "    <tr>\n",
       "      <th>55</th>\n",
       "      <td>2020-04-30 21:00:00</td>\n",
       "      <td>39</td>\n",
       "    </tr>\n",
       "    <tr>\n",
       "      <th>78</th>\n",
       "      <td>2020-04-30 20:00:00</td>\n",
       "      <td>35</td>\n",
       "    </tr>\n",
       "    <tr>\n",
       "      <th>103</th>\n",
       "      <td>2020-04-30 19:00:00</td>\n",
       "      <td>33</td>\n",
       "    </tr>\n",
       "  </tbody>\n",
       "</table>\n",
       "</div>"
      ],
      "text/plain": [
       "                   측정일시  미세먼지 1시간(㎍/㎥)\n",
       "5   2020-04-30 23:00:00             36\n",
       "29  2020-04-30 22:00:00             40\n",
       "55  2020-04-30 21:00:00             39\n",
       "78  2020-04-30 20:00:00             35\n",
       "103 2020-04-30 19:00:00             33"
      ]
     },
     "execution_count": 48,
     "metadata": {},
     "output_type": "execute_result"
    }
   ],
   "source": [
    "dfs.head()"
   ]
  },
  {
   "cell_type": "markdown",
   "id": "ee24b477-b874-45b8-b105-f9171349b68a",
   "metadata": {},
   "source": [
    "## (방법2) 피벗 이용 (가로축, 세로축 변경)"
   ]
  },
  {
   "cell_type": "code",
   "execution_count": 53,
   "id": "e65dfc29-775c-466a-a1f1-3e2a9512d197",
   "metadata": {},
   "outputs": [
    {
     "data": {
      "text/plain": [
       "측정일시                 측정소명\n",
       "2020-04-01 00:00:00  강남구     44.0\n",
       "                     강동구     51.0\n",
       "                     강북구     56.0\n",
       "                     강서구     52.0\n",
       "                     관악구     45.0\n",
       "                             ... \n",
       "2020-04-30 23:00:00  용산구     41.0\n",
       "                     은평구     32.0\n",
       "                     종로구     40.0\n",
       "                     중구      31.0\n",
       "                     중랑구     40.0\n",
       "Name: 미세먼지 1시간(㎍/㎥), Length: 18000, dtype: float64"
      ]
     },
     "execution_count": 53,
     "metadata": {},
     "output_type": "execute_result"
    }
   ],
   "source": [
    "# 두 개 동시 그룹바이\n",
    "# 복합인덱스: 측정일시, 측정소명\n",
    "df.groupby(by=['측정일시','측정소명'])['미세먼지 1시간(㎍/㎥)'].mean()\n",
    "\n",
    "# 보기 불편 -> 일시가 인덱스, 측정소명이 가로로 들어가는 형태가 편하지 않겠나"
   ]
  },
  {
   "cell_type": "code",
   "execution_count": 56,
   "id": "eb2016e6-7418-4e94-a6a2-9cf47c86c27b",
   "metadata": {},
   "outputs": [
    {
     "data": {
      "text/html": [
       "<div>\n",
       "<style scoped>\n",
       "    .dataframe tbody tr th:only-of-type {\n",
       "        vertical-align: middle;\n",
       "    }\n",
       "\n",
       "    .dataframe tbody tr th {\n",
       "        vertical-align: top;\n",
       "    }\n",
       "\n",
       "    .dataframe thead th {\n",
       "        text-align: right;\n",
       "    }\n",
       "</style>\n",
       "<table border=\"1\" class=\"dataframe\">\n",
       "  <thead>\n",
       "    <tr style=\"text-align: right;\">\n",
       "      <th>측정소명</th>\n",
       "      <th>강남구</th>\n",
       "      <th>강동구</th>\n",
       "      <th>강북구</th>\n",
       "      <th>강서구</th>\n",
       "      <th>관악구</th>\n",
       "      <th>광진구</th>\n",
       "      <th>구로구</th>\n",
       "      <th>금천구</th>\n",
       "      <th>노원구</th>\n",
       "      <th>도봉구</th>\n",
       "      <th>동대문구</th>\n",
       "      <th>동작구</th>\n",
       "      <th>마포구</th>\n",
       "      <th>서대문구</th>\n",
       "      <th>서초구</th>\n",
       "      <th>성동구</th>\n",
       "      <th>성북구</th>\n",
       "      <th>송파구</th>\n",
       "      <th>양천구</th>\n",
       "      <th>영등포구</th>\n",
       "      <th>용산구</th>\n",
       "      <th>은평구</th>\n",
       "      <th>종로구</th>\n",
       "      <th>중구</th>\n",
       "      <th>중랑구</th>\n",
       "    </tr>\n",
       "    <tr>\n",
       "      <th>측정일시</th>\n",
       "      <th></th>\n",
       "      <th></th>\n",
       "      <th></th>\n",
       "      <th></th>\n",
       "      <th></th>\n",
       "      <th></th>\n",
       "      <th></th>\n",
       "      <th></th>\n",
       "      <th></th>\n",
       "      <th></th>\n",
       "      <th></th>\n",
       "      <th></th>\n",
       "      <th></th>\n",
       "      <th></th>\n",
       "      <th></th>\n",
       "      <th></th>\n",
       "      <th></th>\n",
       "      <th></th>\n",
       "      <th></th>\n",
       "      <th></th>\n",
       "      <th></th>\n",
       "      <th></th>\n",
       "      <th></th>\n",
       "      <th></th>\n",
       "      <th></th>\n",
       "    </tr>\n",
       "  </thead>\n",
       "  <tbody>\n",
       "    <tr>\n",
       "      <th>2020-04-01 00:00:00</th>\n",
       "      <td>44</td>\n",
       "      <td>51</td>\n",
       "      <td>56</td>\n",
       "      <td>52</td>\n",
       "      <td>45</td>\n",
       "      <td>54</td>\n",
       "      <td>62</td>\n",
       "      <td>39</td>\n",
       "      <td>56</td>\n",
       "      <td>57</td>\n",
       "      <td>44</td>\n",
       "      <td>51</td>\n",
       "      <td>48</td>\n",
       "      <td>55</td>\n",
       "      <td>55</td>\n",
       "      <td>45</td>\n",
       "      <td>48</td>\n",
       "      <td>51</td>\n",
       "      <td>52</td>\n",
       "      <td>46</td>\n",
       "      <td>58</td>\n",
       "      <td>54</td>\n",
       "      <td>46</td>\n",
       "      <td>44</td>\n",
       "      <td>51</td>\n",
       "    </tr>\n",
       "    <tr>\n",
       "      <th>2020-04-01 01:00:00</th>\n",
       "      <td>49</td>\n",
       "      <td>56</td>\n",
       "      <td>69</td>\n",
       "      <td>51</td>\n",
       "      <td>52</td>\n",
       "      <td>54</td>\n",
       "      <td>64</td>\n",
       "      <td>43</td>\n",
       "      <td>73</td>\n",
       "      <td>64</td>\n",
       "      <td>46</td>\n",
       "      <td>57</td>\n",
       "      <td>52</td>\n",
       "      <td>61</td>\n",
       "      <td>59</td>\n",
       "      <td>46</td>\n",
       "      <td>55</td>\n",
       "      <td>55</td>\n",
       "      <td>52</td>\n",
       "      <td>49</td>\n",
       "      <td>59</td>\n",
       "      <td>55</td>\n",
       "      <td>47</td>\n",
       "      <td>44</td>\n",
       "      <td>53</td>\n",
       "    </tr>\n",
       "    <tr>\n",
       "      <th>2020-04-01 02:00:00</th>\n",
       "      <td>50</td>\n",
       "      <td>55</td>\n",
       "      <td>90</td>\n",
       "      <td>59</td>\n",
       "      <td>57</td>\n",
       "      <td>61</td>\n",
       "      <td>79</td>\n",
       "      <td>52</td>\n",
       "      <td>91</td>\n",
       "      <td>82</td>\n",
       "      <td>51</td>\n",
       "      <td>68</td>\n",
       "      <td>51</td>\n",
       "      <td>61</td>\n",
       "      <td>68</td>\n",
       "      <td>52</td>\n",
       "      <td>90</td>\n",
       "      <td>55</td>\n",
       "      <td>60</td>\n",
       "      <td>51</td>\n",
       "      <td>60</td>\n",
       "      <td>52</td>\n",
       "      <td>53</td>\n",
       "      <td>47</td>\n",
       "      <td>64</td>\n",
       "    </tr>\n",
       "    <tr>\n",
       "      <th>2020-04-01 03:00:00</th>\n",
       "      <td>54</td>\n",
       "      <td>74</td>\n",
       "      <td>98</td>\n",
       "      <td>75</td>\n",
       "      <td>65</td>\n",
       "      <td>97</td>\n",
       "      <td>90</td>\n",
       "      <td>66</td>\n",
       "      <td>97</td>\n",
       "      <td>90</td>\n",
       "      <td>67</td>\n",
       "      <td>77</td>\n",
       "      <td>56</td>\n",
       "      <td>88</td>\n",
       "      <td>74</td>\n",
       "      <td>63</td>\n",
       "      <td>84</td>\n",
       "      <td>61</td>\n",
       "      <td>73</td>\n",
       "      <td>56</td>\n",
       "      <td>62</td>\n",
       "      <td>57</td>\n",
       "      <td>59</td>\n",
       "      <td>56</td>\n",
       "      <td>90</td>\n",
       "    </tr>\n",
       "    <tr>\n",
       "      <th>2020-04-01 04:00:00</th>\n",
       "      <td>58</td>\n",
       "      <td>81</td>\n",
       "      <td>97</td>\n",
       "      <td>80</td>\n",
       "      <td>67</td>\n",
       "      <td>96</td>\n",
       "      <td>95</td>\n",
       "      <td>69</td>\n",
       "      <td>93</td>\n",
       "      <td>87</td>\n",
       "      <td>74</td>\n",
       "      <td>83</td>\n",
       "      <td>60</td>\n",
       "      <td>83</td>\n",
       "      <td>83</td>\n",
       "      <td>60</td>\n",
       "      <td>84</td>\n",
       "      <td>61</td>\n",
       "      <td>80</td>\n",
       "      <td>63</td>\n",
       "      <td>65</td>\n",
       "      <td>70</td>\n",
       "      <td>66</td>\n",
       "      <td>71</td>\n",
       "      <td>88</td>\n",
       "    </tr>\n",
       "  </tbody>\n",
       "</table>\n",
       "</div>"
      ],
      "text/plain": [
       "측정소명                 강남구  강동구  강북구  강서구  관악구  광진구  구로구  금천구  노원구  도봉구  동대문구  \\\n",
       "측정일시                                                                          \n",
       "2020-04-01 00:00:00   44   51   56   52   45   54   62   39   56   57    44   \n",
       "2020-04-01 01:00:00   49   56   69   51   52   54   64   43   73   64    46   \n",
       "2020-04-01 02:00:00   50   55   90   59   57   61   79   52   91   82    51   \n",
       "2020-04-01 03:00:00   54   74   98   75   65   97   90   66   97   90    67   \n",
       "2020-04-01 04:00:00   58   81   97   80   67   96   95   69   93   87    74   \n",
       "\n",
       "측정소명                 동작구  마포구  서대문구  서초구  성동구  성북구  송파구  양천구  영등포구  용산구  은평구  \\\n",
       "측정일시                                                                           \n",
       "2020-04-01 00:00:00   51   48    55   55   45   48   51   52    46   58   54   \n",
       "2020-04-01 01:00:00   57   52    61   59   46   55   55   52    49   59   55   \n",
       "2020-04-01 02:00:00   68   51    61   68   52   90   55   60    51   60   52   \n",
       "2020-04-01 03:00:00   77   56    88   74   63   84   61   73    56   62   57   \n",
       "2020-04-01 04:00:00   83   60    83   83   60   84   61   80    63   65   70   \n",
       "\n",
       "측정소명                 종로구  중구  중랑구  \n",
       "측정일시                               \n",
       "2020-04-01 00:00:00   46  44   51  \n",
       "2020-04-01 01:00:00   47  44   53  \n",
       "2020-04-01 02:00:00   53  47   64  \n",
       "2020-04-01 03:00:00   59  56   90  \n",
       "2020-04-01 04:00:00   66  71   88  "
      ]
     },
     "execution_count": 56,
     "metadata": {},
     "output_type": "execute_result"
    }
   ],
   "source": [
    "pvdf=df.pivot_table(values='미세먼지 1시간(㎍/㎥)',\n",
    "                   index='측정일시',\n",
    "                   columns='측정소명',\n",
    "                   aggfunc='mean' )\n",
    "pvdf.head()"
   ]
  },
  {
   "cell_type": "code",
   "execution_count": 58,
   "id": "1626f901-d1a1-4949-946a-df71856a6c62",
   "metadata": {},
   "outputs": [
    {
     "data": {
      "text/plain": [
       "측정일시\n",
       "2020-04-01 00:00:00    44\n",
       "2020-04-01 01:00:00    44\n",
       "2020-04-01 02:00:00    47\n",
       "2020-04-01 03:00:00    56\n",
       "2020-04-01 04:00:00    71\n",
       "Name: 중구, dtype: int64"
      ]
     },
     "execution_count": 58,
     "metadata": {},
     "output_type": "execute_result"
    }
   ],
   "source": [
    "pvdf['중구'].head() # 훨씬 편하다"
   ]
  },
  {
   "cell_type": "code",
   "execution_count": 90,
   "id": "90ceda1b-ce1d-40de-bdc6-c08a132236ad",
   "metadata": {},
   "outputs": [
    {
     "data": {
      "image/png": "[encoded data removed]",
      "text/plain": [
       "<Figure size 1800x360 with 3 Axes>"
      ]
     },
     "metadata": {},
     "output_type": "display_data"
    }
   ],
   "source": [
    "# 두 권역 차이 -> line plot\n",
    "# 두 권역 이상치 확인 -> box plot (각각)\n",
    "\n",
    "f, axs=plt.subplots(1,3, figsize=(25,5))\n",
    "\n",
    "\n",
    "sns.lineplot(x=pvdf.index, y=pvdf['중구'], ax=axs[0])\n",
    "sns.lineplot(x=pvdf.index, y=pvdf['서대문구'], ax=axs[0])\n",
    "\n",
    "sns.boxplot(pvdf['중구'], ax=axs[1])\n",
    "\n",
    "sns.boxplot(pvdf['서대문구'], ax=axs[2]) # 이상치 보이긴 하지만 단순히 drop하면 안 된다. 시계열은 데이터 중간에 끊기면 안 된다.\n",
    "\n",
    "plt.show()\n",
    "\n",
    "# pvdf[['중구']]"
   ]
  },
  {
   "cell_type": "markdown",
   "id": "06b89295-b814-4521-9fd5-3dcedd783040",
   "metadata": {},
   "source": [
    "# 모델 학습&평가"
   ]
  },
  {
   "cell_type": "code",
   "execution_count": 94,
   "id": "17e8a24d-f709-4ee1-af21-9ee2b454c1eb",
   "metadata": {},
   "outputs": [],
   "source": [
    "# 긴 버전 seoul_v01이나 lec17_arima에\n",
    "# ARIMA\n",
    "from statsmodels.graphics.tsaplots import plot_acf, plot_pacf\n",
    "\n",
    "# from statsmodels.tsa.arima.model import ARIMA  # statsmodel version 1.12\n",
    "from statsmodels.tsa.arima_model import ARIMA # statsmodel version 1.10.2\n",
    "\n",
    "# model = ARIMA(pvdf['중구'], order, freq='H')\n",
    "# fit_res=model.fit()\n",
    "# print(fit_res.summary())"
   ]
  },
  {
   "cell_type": "code",
   "execution_count": 95,
   "id": "0faabf4b-00f0-4f79-89d1-0943c7ce4472",
   "metadata": {},
   "outputs": [
    {
     "data": {
      "image/png": "[encoded data removed]",
      "text/plain": [
       "<Figure size 720x288 with 2 Axes>"
      ]
     },
     "metadata": {},
     "output_type": "display_data"
    }
   ],
   "source": [
    "p, axes = plt.subplots(1,2,figsize=(10,4))\n",
    "plot_acf(pvdf['중구'], ax=axes[0])\n",
    "plot_pacf(pvdf['중구'], ax=axes[1])\n",
    "plt.show()"
   ]
  },
  {
   "cell_type": "markdown",
   "id": "7ba155c8-6cac-41dd-b2ea-ec8aa9cf12dd",
   "metadata": {},
   "source": [
    "* AR 모형 - 2차분 ~ 5차분"
   ]
  },
  {
   "cell_type": "code",
   "execution_count": 100,
   "id": "583d3f0e-d52a-483a-bf47-c5a3a373c3ac",
   "metadata": {},
   "outputs": [
    {
     "name": "stdout",
     "output_type": "stream",
     "text": [
      "                             ARIMA Model Results                              \n",
      "==============================================================================\n",
      "Dep. Variable:                  D2.중구   No. Observations:                  716\n",
      "Model:                 ARIMA(2, 2, 0)   Log Likelihood               -2438.212\n",
      "Method:                       css-mle   S.D. of innovations              7.288\n",
      "Date:                Mon, 07 Feb 2022   AIC                           4884.424\n",
      "Time:                        18:14:07   BIC                           4902.719\n",
      "Sample:                    04-01-2020   HQIC                          4891.488\n",
      "                         - 04-30-2020                                         \n",
      "===============================================================================\n",
      "                  coef    std err          z      P>|z|      [0.025      0.975]\n",
      "-------------------------------------------------------------------------------\n",
      "const          -0.0233      0.184     -0.127      0.899      -0.384       0.337\n",
      "ar.L1.D2.중구    -0.3806      0.037    -10.233      0.000      -0.454      -0.308\n",
      "ar.L2.D2.중구    -0.1024      0.037     -2.744      0.006      -0.175      -0.029\n",
      "                                    Roots                                    \n",
      "=============================================================================\n",
      "                  Real          Imaginary           Modulus         Frequency\n",
      "-----------------------------------------------------------------------------\n",
      "AR.1           -1.8591           -2.5124j            3.1255           -0.3514\n",
      "AR.2           -1.8591           +2.5124j            3.1255            0.3514\n",
      "-----------------------------------------------------------------------------\n"
     ]
    }
   ],
   "source": [
    "model = ARIMA(pvdf['중구'].iloc[2:], order=(2,2,0), freq='H')\n",
    "fit_res=model.fit(trned='nc')\n",
    "print(fit_res.summary())"
   ]
  },
  {
   "cell_type": "code",
   "execution_count": null,
   "id": "40d010f9-769b-46ad-b93e-d943bfe6d338",
   "metadata": {},
   "outputs": [],
   "source": []
  },
  {
   "cell_type": "code",
   "execution_count": null,
   "id": "9f2d13cf-e9ec-4d86-8ef2-3086680e7828",
   "metadata": {},
   "outputs": [],
   "source": [
    "# 강사님\n",
    "# train = pvdf['중구'].iloc[:-5] \n",
    "# test  = pvdf['중구'].iloc[-5:]\n",
    "\n",
    "model = ARIMA(pvdf['중구'], order=(2,2,0), freq='H')\n",
    "fit_res = model.fit(trend='nc')\n",
    "# pred = fit_res.forecast(steps=3)  # 4,145.1\n",
    "pred = fit_res.predict(start=2, end=30, typ='levels', dynamic=False)\n",
    "\n",
    "print(pred[:5])\n",
    "print(pvdf['중구'].dropna()[2:7])"
   ]
  },
  {
   "cell_type": "code",
   "execution_count": null,
   "id": "dfdaaba4-2f03-4822-b0e1-f7afacd67003",
   "metadata": {},
   "outputs": [],
   "source": []
  },
  {
   "cell_type": "code",
   "execution_count": null,
   "id": "1ec33c31-e435-4eb7-8d32-a2bf32a97c7a",
   "metadata": {},
   "outputs": [],
   "source": []
  },
  {
   "cell_type": "code",
   "execution_count": null,
   "id": "65113ac4-36ab-4d0a-a336-9fc961e26c8e",
   "metadata": {},
   "outputs": [],
   "source": []
  },
  {
   "cell_type": "code",
   "execution_count": null,
   "id": "40c6d211-6633-4477-81a2-e47ffc519aac",
   "metadata": {},
   "outputs": [],
   "source": []
  },
  {
   "cell_type": "code",
   "execution_count": null,
   "id": "1a7c7037-bb3a-43b3-a1c8-7c7029b1ea0a",
   "metadata": {},
   "outputs": [],
   "source": []
  },
  {
   "cell_type": "code",
   "execution_count": null,
   "id": "5f55a2d4-8173-4795-ac58-a6625aeb60b1",
   "metadata": {},
   "outputs": [],
   "source": []
  }
 ],
 "metadata": {
  "kernelspec": {
   "display_name": "Python 3 (ipykernel)",
   "language": "python",
   "name": "python3"
  },
  "language_info": {
   "codemirror_mode": {
    "name": "ipython",
    "version": 3
   },
   "file_extension": ".py",
   "mimetype": "text/x-python",
   "name": "python",
   "nbconvert_exporter": "python",
   "pygments_lexer": "ipython3",
   "version": "3.8.8"
  }
 },
 "nbformat": 4,
 "nbformat_minor": 5
}
