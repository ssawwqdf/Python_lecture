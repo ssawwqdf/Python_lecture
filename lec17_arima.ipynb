{
 "cells": [
  {
   "cell_type": "code",
   "execution_count": 1,
   "id": "13269120-6ce7-4268-b2a1-7f961f438b47",
   "metadata": {},
   "outputs": [],
   "source": [
    "import pandas as pd\n",
    "import numpy as np\n",
    "\n",
    "import matplotlib.pyplot as plt\n",
    "import seaborn as sns\n",
    "sns.set(rc={'figure.figsize':(18, 5)})"
   ]
  },
  {
   "cell_type": "code",
   "execution_count": null,
   "id": "aa8a7293-c5c9-4dd4-9427-79cf536648f6",
   "metadata": {},
   "outputs": [],
   "source": []
  },
  {
   "cell_type": "code",
   "execution_count": null,
   "id": "97fd16ba-c66c-49d1-884d-b3842266fabf",
   "metadata": {},
   "outputs": [],
   "source": []
  },
  {
   "cell_type": "code",
   "execution_count": 2,
   "id": "36f14c13-bd74-4b50-ac0c-97148d30e00b",
   "metadata": {},
   "outputs": [
    {
     "name": "stderr",
     "output_type": "stream",
     "text": [
      "c:\\ai\\pythonproject\\venv\\lib\\site-packages\\statsmodels\\tools\\_testing.py:19: FutureWarning: pandas.util.testing is deprecated. Use the functions in the public API at pandas.testing instead.\n",
      "  import pandas.util.testing as tm\n"
     ]
    }
   ],
   "source": [
    "# ARIMA\n",
    "from statsmodels.graphics.tsaplots import plot_acf, plot_pacf\n",
    "# from statsmodels.tsa.arima.model import ARIMA \n",
    "from statsmodels.tsa.arima_model import ARIMA # downgrade"
   ]
  },
  {
   "cell_type": "markdown",
   "id": "3a5d4900-8f05-4304-876e-8cd62bb78e15",
   "metadata": {
    "tags": []
   },
   "source": [
    "# Read data & pre-setting"
   ]
  },
  {
   "cell_type": "markdown",
   "id": "3fcd5a0e-dcca-4854-b867-8b07ee44eb62",
   "metadata": {},
   "source": [
    "## Read data"
   ]
  },
  {
   "cell_type": "code",
   "execution_count": 3,
   "id": "4862c0a2-804c-4130-9990-7eeeb8bacfbe",
   "metadata": {},
   "outputs": [],
   "source": [
    "df=pd.read_csv('lec17_bitcoin.txt', sep='\\t')"
   ]
  },
  {
   "cell_type": "code",
   "execution_count": 4,
   "id": "009eedf6-db82-4b2c-95f8-aae84b022f7b",
   "metadata": {},
   "outputs": [
    {
     "data": {
      "text/html": [
       "<div>\n",
       "<style scoped>\n",
       "    .dataframe tbody tr th:only-of-type {\n",
       "        vertical-align: middle;\n",
       "    }\n",
       "\n",
       "    .dataframe tbody tr th {\n",
       "        vertical-align: top;\n",
       "    }\n",
       "\n",
       "    .dataframe thead th {\n",
       "        text-align: right;\n",
       "    }\n",
       "</style>\n",
       "<table border=\"1\" class=\"dataframe\">\n",
       "  <thead>\n",
       "    <tr style=\"text-align: right;\">\n",
       "      <th></th>\n",
       "      <th>Date</th>\n",
       "      <th>Price</th>\n",
       "      <th>Open</th>\n",
       "      <th>High</th>\n",
       "      <th>Low</th>\n",
       "      <th>Vol.</th>\n",
       "      <th>Change</th>\n",
       "    </tr>\n",
       "  </thead>\n",
       "  <tbody>\n",
       "    <tr>\n",
       "      <th>0</th>\n",
       "      <td>31-Mar-19</td>\n",
       "      <td>4,102.30</td>\n",
       "      <td>4,111.80</td>\n",
       "      <td>4,121.90</td>\n",
       "      <td>4,082.20</td>\n",
       "      <td>2.43M</td>\n",
       "      <td>-23.0</td>\n",
       "    </tr>\n",
       "    <tr>\n",
       "      <th>1</th>\n",
       "      <td>30-Mar-19</td>\n",
       "      <td>4,111.80</td>\n",
       "      <td>4,103.70</td>\n",
       "      <td>4,138.10</td>\n",
       "      <td>4,057.10</td>\n",
       "      <td>2.55M</td>\n",
       "      <td>23.0</td>\n",
       "    </tr>\n",
       "    <tr>\n",
       "      <th>2</th>\n",
       "      <td>29-Mar-19</td>\n",
       "      <td>4,102.20</td>\n",
       "      <td>4,025.70</td>\n",
       "      <td>4,123.10</td>\n",
       "      <td>4,022.60</td>\n",
       "      <td>3.30M</td>\n",
       "      <td>190.0</td>\n",
       "    </tr>\n",
       "    <tr>\n",
       "      <th>3</th>\n",
       "      <td>28-Mar-19</td>\n",
       "      <td>4,025.60</td>\n",
       "      <td>4,041.70</td>\n",
       "      <td>4,041.70</td>\n",
       "      <td>4,008.40</td>\n",
       "      <td>2.11M</td>\n",
       "      <td>-40.0</td>\n",
       "    </tr>\n",
       "    <tr>\n",
       "      <th>4</th>\n",
       "      <td>27-Mar-19</td>\n",
       "      <td>4,041.70</td>\n",
       "      <td>3,942.80</td>\n",
       "      <td>4,043.30</td>\n",
       "      <td>3,936.20</td>\n",
       "      <td>2.78M</td>\n",
       "      <td>251.0</td>\n",
       "    </tr>\n",
       "  </tbody>\n",
       "</table>\n",
       "</div>"
      ],
      "text/plain": [
       "        Date     Price      Open      High       Low   Vol.  Change\n",
       "0  31-Mar-19  4,102.30  4,111.80  4,121.90  4,082.20  2.43M   -23.0\n",
       "1  30-Mar-19  4,111.80  4,103.70  4,138.10  4,057.10  2.55M    23.0\n",
       "2  29-Mar-19  4,102.20  4,025.70  4,123.10  4,022.60  3.30M   190.0\n",
       "3  28-Mar-19  4,025.60  4,041.70  4,041.70  4,008.40  2.11M   -40.0\n",
       "4  27-Mar-19  4,041.70  3,942.80  4,043.30  3,936.20  2.78M   251.0"
      ]
     },
     "execution_count": 4,
     "metadata": {},
     "output_type": "execute_result"
    }
   ],
   "source": [
    "df.head()"
   ]
  },
  {
   "cell_type": "code",
   "execution_count": 5,
   "id": "cf13aa18-3a65-4c25-a7df-8e0dde9b85ed",
   "metadata": {},
   "outputs": [
    {
     "name": "stdout",
     "output_type": "stream",
     "text": [
      "<class 'pandas.core.frame.DataFrame'>\n",
      "RangeIndex: 59 entries, 0 to 58\n",
      "Data columns (total 7 columns):\n",
      " #   Column  Non-Null Count  Dtype  \n",
      "---  ------  --------------  -----  \n",
      " 0   Date    59 non-null     object \n",
      " 1   Price   59 non-null     object \n",
      " 2   Open    59 non-null     object \n",
      " 3   High    59 non-null     object \n",
      " 4   Low     59 non-null     object \n",
      " 5   Vol.    59 non-null     object \n",
      " 6   Change  59 non-null     float64\n",
      "dtypes: float64(1), object(6)\n",
      "memory usage: 3.4+ KB\n"
     ]
    }
   ],
   "source": [
    "df.info()"
   ]
  },
  {
   "cell_type": "code",
   "execution_count": 6,
   "id": "90587e69-1b04-4be7-9e6e-c619512da49b",
   "metadata": {},
   "outputs": [
    {
     "data": {
      "text/plain": [
       "(59, 7)"
      ]
     },
     "execution_count": 6,
     "metadata": {},
     "output_type": "execute_result"
    }
   ],
   "source": [
    "df.shape"
   ]
  },
  {
   "cell_type": "markdown",
   "id": "4e5bc8f9-ef65-4232-bcfd-8adef0f3f85f",
   "metadata": {},
   "source": [
    "## lower columns"
   ]
  },
  {
   "cell_type": "code",
   "execution_count": 7,
   "id": "d8cd6deb-803d-4c31-8c3f-42755fd78bc3",
   "metadata": {},
   "outputs": [
    {
     "data": {
      "text/html": [
       "<div>\n",
       "<style scoped>\n",
       "    .dataframe tbody tr th:only-of-type {\n",
       "        vertical-align: middle;\n",
       "    }\n",
       "\n",
       "    .dataframe tbody tr th {\n",
       "        vertical-align: top;\n",
       "    }\n",
       "\n",
       "    .dataframe thead th {\n",
       "        text-align: right;\n",
       "    }\n",
       "</style>\n",
       "<table border=\"1\" class=\"dataframe\">\n",
       "  <thead>\n",
       "    <tr style=\"text-align: right;\">\n",
       "      <th></th>\n",
       "      <th>date</th>\n",
       "      <th>price</th>\n",
       "      <th>open</th>\n",
       "      <th>high</th>\n",
       "      <th>low</th>\n",
       "      <th>vol.</th>\n",
       "      <th>change</th>\n",
       "    </tr>\n",
       "  </thead>\n",
       "  <tbody>\n",
       "    <tr>\n",
       "      <th>0</th>\n",
       "      <td>31-Mar-19</td>\n",
       "      <td>4,102.30</td>\n",
       "      <td>4,111.80</td>\n",
       "      <td>4,121.90</td>\n",
       "      <td>4,082.20</td>\n",
       "      <td>2.43M</td>\n",
       "      <td>-23.0</td>\n",
       "    </tr>\n",
       "  </tbody>\n",
       "</table>\n",
       "</div>"
      ],
      "text/plain": [
       "        date     price      open      high       low   vol.  change\n",
       "0  31-Mar-19  4,102.30  4,111.80  4,121.90  4,082.20  2.43M   -23.0"
      ]
     },
     "execution_count": 7,
     "metadata": {},
     "output_type": "execute_result"
    }
   ],
   "source": [
    "# lower column names\n",
    "df.columns=[col.lower() for col in df.columns]\n",
    "df.head(1)"
   ]
  },
  {
   "cell_type": "markdown",
   "id": "c798e061-1cfc-4cbf-b329-d0e5291edfb9",
   "metadata": {},
   "source": [
    "## transforming dtype\n",
    "* replace에서 regex=True : regular expression 적용할 거냐는 의미"
   ]
  },
  {
   "cell_type": "code",
   "execution_count": 8,
   "id": "717eedda-f15f-4eba-bf47-bc55e41fd7db",
   "metadata": {},
   "outputs": [],
   "source": [
    "# 실패(컬럼이 나눠져서 나온다.)\n",
    "# df['price'].str.extract('([0-9]*)[,]([0-9]*[.][0-9]*)')"
   ]
  },
  {
   "cell_type": "code",
   "execution_count": 9,
   "id": "88f48d26-8fc2-4df4-993c-47d038b47700",
   "metadata": {},
   "outputs": [],
   "source": [
    "# date\n",
    "df['date']=df['date'].astype('datetime64[ns]')"
   ]
  },
  {
   "cell_type": "code",
   "execution_count": 10,
   "id": "9ce88a35-792e-49bb-ad1a-d1c07c39cd05",
   "metadata": {},
   "outputs": [
    {
     "data": {
      "text/html": [
       "<div>\n",
       "<style scoped>\n",
       "    .dataframe tbody tr th:only-of-type {\n",
       "        vertical-align: middle;\n",
       "    }\n",
       "\n",
       "    .dataframe tbody tr th {\n",
       "        vertical-align: top;\n",
       "    }\n",
       "\n",
       "    .dataframe thead th {\n",
       "        text-align: right;\n",
       "    }\n",
       "</style>\n",
       "<table border=\"1\" class=\"dataframe\">\n",
       "  <thead>\n",
       "    <tr style=\"text-align: right;\">\n",
       "      <th></th>\n",
       "      <th>date</th>\n",
       "      <th>price</th>\n",
       "      <th>open</th>\n",
       "      <th>high</th>\n",
       "      <th>low</th>\n",
       "      <th>vol.</th>\n",
       "      <th>change</th>\n",
       "    </tr>\n",
       "  </thead>\n",
       "  <tbody>\n",
       "    <tr>\n",
       "      <th>0</th>\n",
       "      <td>2019-03-31</td>\n",
       "      <td>4102.30</td>\n",
       "      <td>4111.80</td>\n",
       "      <td>4121.90</td>\n",
       "      <td>4082.20</td>\n",
       "      <td>2.43M</td>\n",
       "      <td>-23.0</td>\n",
       "    </tr>\n",
       "  </tbody>\n",
       "</table>\n",
       "</div>"
      ],
      "text/plain": [
       "        date    price     open     high      low   vol.  change\n",
       "0 2019-03-31  4102.30  4111.80  4121.90  4082.20  2.43M   -23.0"
      ]
     },
     "execution_count": 10,
     "metadata": {},
     "output_type": "execute_result"
    }
   ],
   "source": [
    "# , 없애기\n",
    "for col in df.columns:\n",
    "    df[col]=df[col].replace(',','',regex=True)\n",
    "df.head(1)"
   ]
  },
  {
   "cell_type": "code",
   "execution_count": 11,
   "id": "546f91dc-54b7-45d9-bc7b-221ae2245cc9",
   "metadata": {},
   "outputs": [
    {
     "data": {
      "text/plain": [
       "M    35\n",
       "K    24\n",
       "Name: vol_temp, dtype: int64"
      ]
     },
     "execution_count": 11,
     "metadata": {},
     "output_type": "execute_result"
    }
   ],
   "source": [
    "df['vol_temp']=df['vol.'].str.extract('[0-9]*[.][0-9]*([a-zA-Z]*)')\n",
    "df['vol_temp'].value_counts()"
   ]
  },
  {
   "cell_type": "code",
   "execution_count": 12,
   "id": "89c73c62-2258-4bd8-96b4-69df1c5fc031",
   "metadata": {},
   "outputs": [
    {
     "data": {
      "text/plain": [
       "0    2.43\n",
       "1    2.55\n",
       "2    3.30\n",
       "3    2.11\n",
       "4    2.78\n",
       "Name: vol., dtype: object"
      ]
     },
     "execution_count": 12,
     "metadata": {},
     "output_type": "execute_result"
    }
   ],
   "source": [
    "# M, K 없애기 / 정규식 안 썼으면 regex=True 안 해도 없어진다.\n",
    "df['vol.']=df['vol.'].replace('M','',regex=True)\n",
    "df['vol.']=df['vol.'].replace('K','',regex=True)\n",
    "df['vol.'].head()"
   ]
  },
  {
   "cell_type": "code",
   "execution_count": 13,
   "id": "cd21a26a-0f0c-4f30-9621-9ba091308587",
   "metadata": {},
   "outputs": [
    {
     "name": "stdout",
     "output_type": "stream",
     "text": [
      "<class 'pandas.core.frame.DataFrame'>\n",
      "RangeIndex: 59 entries, 0 to 58\n",
      "Data columns (total 8 columns):\n",
      " #   Column    Non-Null Count  Dtype         \n",
      "---  ------    --------------  -----         \n",
      " 0   date      59 non-null     datetime64[ns]\n",
      " 1   price     59 non-null     object        \n",
      " 2   open      59 non-null     object        \n",
      " 3   high      59 non-null     object        \n",
      " 4   low       59 non-null     object        \n",
      " 5   vol.      59 non-null     object        \n",
      " 6   change    59 non-null     float64       \n",
      " 7   vol_temp  59 non-null     object        \n",
      "dtypes: datetime64[ns](1), float64(1), object(6)\n",
      "memory usage: 3.8+ KB\n"
     ]
    }
   ],
   "source": [
    "df.info()"
   ]
  },
  {
   "cell_type": "code",
   "execution_count": 14,
   "id": "a658cd1e-03c9-48ee-8a08-7bb84ee48124",
   "metadata": {},
   "outputs": [
    {
     "data": {
      "text/html": [
       "<div>\n",
       "<style scoped>\n",
       "    .dataframe tbody tr th:only-of-type {\n",
       "        vertical-align: middle;\n",
       "    }\n",
       "\n",
       "    .dataframe tbody tr th {\n",
       "        vertical-align: top;\n",
       "    }\n",
       "\n",
       "    .dataframe thead th {\n",
       "        text-align: right;\n",
       "    }\n",
       "</style>\n",
       "<table border=\"1\" class=\"dataframe\">\n",
       "  <thead>\n",
       "    <tr style=\"text-align: right;\">\n",
       "      <th></th>\n",
       "      <th>date</th>\n",
       "      <th>price</th>\n",
       "      <th>open</th>\n",
       "      <th>high</th>\n",
       "      <th>low</th>\n",
       "      <th>vol.</th>\n",
       "      <th>change</th>\n",
       "      <th>vol_temp</th>\n",
       "    </tr>\n",
       "  </thead>\n",
       "  <tbody>\n",
       "    <tr>\n",
       "      <th>0</th>\n",
       "      <td>2019-03-31</td>\n",
       "      <td>4102.30</td>\n",
       "      <td>4111.80</td>\n",
       "      <td>4121.90</td>\n",
       "      <td>4082.20</td>\n",
       "      <td>2.43</td>\n",
       "      <td>-23.0</td>\n",
       "      <td>M</td>\n",
       "    </tr>\n",
       "    <tr>\n",
       "      <th>1</th>\n",
       "      <td>2019-03-30</td>\n",
       "      <td>4111.80</td>\n",
       "      <td>4103.70</td>\n",
       "      <td>4138.10</td>\n",
       "      <td>4057.10</td>\n",
       "      <td>2.55</td>\n",
       "      <td>23.0</td>\n",
       "      <td>M</td>\n",
       "    </tr>\n",
       "    <tr>\n",
       "      <th>2</th>\n",
       "      <td>2019-03-29</td>\n",
       "      <td>4102.20</td>\n",
       "      <td>4025.70</td>\n",
       "      <td>4123.10</td>\n",
       "      <td>4022.60</td>\n",
       "      <td>3.30</td>\n",
       "      <td>190.0</td>\n",
       "      <td>M</td>\n",
       "    </tr>\n",
       "    <tr>\n",
       "      <th>3</th>\n",
       "      <td>2019-03-28</td>\n",
       "      <td>4025.60</td>\n",
       "      <td>4041.70</td>\n",
       "      <td>4041.70</td>\n",
       "      <td>4008.40</td>\n",
       "      <td>2.11</td>\n",
       "      <td>-40.0</td>\n",
       "      <td>M</td>\n",
       "    </tr>\n",
       "    <tr>\n",
       "      <th>4</th>\n",
       "      <td>2019-03-27</td>\n",
       "      <td>4041.70</td>\n",
       "      <td>3942.80</td>\n",
       "      <td>4043.30</td>\n",
       "      <td>3936.20</td>\n",
       "      <td>2.78</td>\n",
       "      <td>251.0</td>\n",
       "      <td>M</td>\n",
       "    </tr>\n",
       "  </tbody>\n",
       "</table>\n",
       "</div>"
      ],
      "text/plain": [
       "        date    price     open     high      low  vol.  change vol_temp\n",
       "0 2019-03-31  4102.30  4111.80  4121.90  4082.20  2.43   -23.0        M\n",
       "1 2019-03-30  4111.80  4103.70  4138.10  4057.10  2.55    23.0        M\n",
       "2 2019-03-29  4102.20  4025.70  4123.10  4022.60  3.30   190.0        M\n",
       "3 2019-03-28  4025.60  4041.70  4041.70  4008.40  2.11   -40.0        M\n",
       "4 2019-03-27  4041.70  3942.80  4043.30  3936.20  2.78   251.0        M"
      ]
     },
     "execution_count": 14,
     "metadata": {},
     "output_type": "execute_result"
    }
   ],
   "source": [
    "df.head()"
   ]
  },
  {
   "cell_type": "code",
   "execution_count": 15,
   "id": "3974e03c-2642-4ccb-a41a-4a5bb72f9c4e",
   "metadata": {},
   "outputs": [],
   "source": [
    "# import re\n",
    "# for i in df['price'].index:\n",
    "#     print(df.iloc[i,'price'])\n",
    "#     m = re.match('[0-9]+[.][0-9]+', df.iloc[i,'price'])\n",
    "#     print(m)"
   ]
  },
  {
   "cell_type": "code",
   "execution_count": 16,
   "id": "ea9dca46-a4dc-44e3-a2b6-3cbd2f038664",
   "metadata": {},
   "outputs": [],
   "source": [
    "df=df.set_index('date')"
   ]
  },
  {
   "cell_type": "markdown",
   "id": "48913a20-34aa-47c6-a697-3a0346ee45d1",
   "metadata": {},
   "source": [
    "### 강사님 방법\n",
    "https://reakwon.tistory.com/172\n",
    "강사님 코드 참고"
   ]
  },
  {
   "cell_type": "code",
   "execution_count": 17,
   "id": "8115ce0c-3e29-43da-942f-056531f7a4d2",
   "metadata": {},
   "outputs": [],
   "source": [
    "# thousands -> read_csv할 때\n",
    "# 정규표현식 버그 있다.\n",
    "# 한 줄 for문도 있다.\n",
    "# replace 정규표현식 상세한 내용도 참고"
   ]
  },
  {
   "cell_type": "code",
   "execution_count": 18,
   "id": "20103633-ae0e-49fc-a05c-2e5361104b30",
   "metadata": {},
   "outputs": [
    {
     "data": {
      "text/html": [
       "<div>\n",
       "<style scoped>\n",
       "    .dataframe tbody tr th:only-of-type {\n",
       "        vertical-align: middle;\n",
       "    }\n",
       "\n",
       "    .dataframe tbody tr th {\n",
       "        vertical-align: top;\n",
       "    }\n",
       "\n",
       "    .dataframe thead th {\n",
       "        text-align: right;\n",
       "    }\n",
       "</style>\n",
       "<table border=\"1\" class=\"dataframe\">\n",
       "  <thead>\n",
       "    <tr style=\"text-align: right;\">\n",
       "      <th></th>\n",
       "      <th>price</th>\n",
       "      <th>open</th>\n",
       "      <th>high</th>\n",
       "      <th>low</th>\n",
       "      <th>vol.</th>\n",
       "      <th>change</th>\n",
       "      <th>vol_temp</th>\n",
       "    </tr>\n",
       "    <tr>\n",
       "      <th>date</th>\n",
       "      <th></th>\n",
       "      <th></th>\n",
       "      <th></th>\n",
       "      <th></th>\n",
       "      <th></th>\n",
       "      <th></th>\n",
       "      <th></th>\n",
       "    </tr>\n",
       "  </thead>\n",
       "  <tbody>\n",
       "    <tr>\n",
       "      <th>2019-02-01</th>\n",
       "      <td>3467.90</td>\n",
       "      <td>3437.70</td>\n",
       "      <td>3485.70</td>\n",
       "      <td>3415.30</td>\n",
       "      <td>481.58</td>\n",
       "      <td>90.0</td>\n",
       "      <td>K</td>\n",
       "    </tr>\n",
       "    <tr>\n",
       "      <th>2019-02-02</th>\n",
       "      <td>3502.50</td>\n",
       "      <td>3467.90</td>\n",
       "      <td>3514.50</td>\n",
       "      <td>3447.80</td>\n",
       "      <td>443.60</td>\n",
       "      <td>100.0</td>\n",
       "      <td>K</td>\n",
       "    </tr>\n",
       "    <tr>\n",
       "      <th>2019-02-03</th>\n",
       "      <td>3459.10</td>\n",
       "      <td>3502.30</td>\n",
       "      <td>3507.80</td>\n",
       "      <td>3431.30</td>\n",
       "      <td>451.66</td>\n",
       "      <td>-124.0</td>\n",
       "      <td>K</td>\n",
       "    </tr>\n",
       "    <tr>\n",
       "      <th>2019-02-04</th>\n",
       "      <td>3462.80</td>\n",
       "      <td>3459.00</td>\n",
       "      <td>3479.70</td>\n",
       "      <td>3437.10</td>\n",
       "      <td>503.92</td>\n",
       "      <td>11.0</td>\n",
       "      <td>K</td>\n",
       "    </tr>\n",
       "    <tr>\n",
       "      <th>2019-02-05</th>\n",
       "      <td>3468.40</td>\n",
       "      <td>3463.00</td>\n",
       "      <td>3485.90</td>\n",
       "      <td>3450.30</td>\n",
       "      <td>460.95</td>\n",
       "      <td>16.0</td>\n",
       "      <td>K</td>\n",
       "    </tr>\n",
       "  </tbody>\n",
       "</table>\n",
       "</div>"
      ],
      "text/plain": [
       "              price     open     high      low    vol.  change vol_temp\n",
       "date                                                                   \n",
       "2019-02-01  3467.90  3437.70  3485.70  3415.30  481.58    90.0        K\n",
       "2019-02-02  3502.50  3467.90  3514.50  3447.80  443.60   100.0        K\n",
       "2019-02-03  3459.10  3502.30  3507.80  3431.30  451.66  -124.0        K\n",
       "2019-02-04  3462.80  3459.00  3479.70  3437.10  503.92    11.0        K\n",
       "2019-02-05  3468.40  3463.00  3485.90  3450.30  460.95    16.0        K"
      ]
     },
     "execution_count": 18,
     "metadata": {},
     "output_type": "execute_result"
    }
   ],
   "source": [
    "df=df.sort_values(by='date', ascending=True)\n",
    "df.head()"
   ]
  },
  {
   "cell_type": "code",
   "execution_count": 20,
   "id": "46c6ad8c-69b4-42c1-9152-199a3f5c87be",
   "metadata": {},
   "outputs": [],
   "source": [
    "col_list=df.columns[0:6]\n",
    "df[col_list]=df[col_list].astype('float')"
   ]
  },
  {
   "cell_type": "code",
   "execution_count": 21,
   "id": "ecf3ecd0-b982-49a5-82a6-efedfd93a9f0",
   "metadata": {},
   "outputs": [],
   "source": [
    "df.loc[df['vol_temp']=='M', 'vol']=df['vol.']*1000000\n",
    "df.loc[df['vol_temp']=='K', 'vol']=df['vol.']*1000"
   ]
  },
  {
   "cell_type": "code",
   "execution_count": 22,
   "id": "66665bbf-f926-45d7-b764-7ab98f8a9950",
   "metadata": {},
   "outputs": [
    {
     "name": "stdout",
     "output_type": "stream",
     "text": [
      "<class 'pandas.core.frame.DataFrame'>\n",
      "DatetimeIndex: 59 entries, 2019-02-01 to 2019-03-31\n",
      "Data columns (total 8 columns):\n",
      " #   Column    Non-Null Count  Dtype  \n",
      "---  ------    --------------  -----  \n",
      " 0   price     59 non-null     float64\n",
      " 1   open      59 non-null     float64\n",
      " 2   high      59 non-null     float64\n",
      " 3   low       59 non-null     float64\n",
      " 4   vol.      59 non-null     float64\n",
      " 5   change    59 non-null     float64\n",
      " 6   vol_temp  59 non-null     object \n",
      " 7   vol       59 non-null     float64\n",
      "dtypes: float64(7), object(1)\n",
      "memory usage: 6.2+ KB\n"
     ]
    }
   ],
   "source": [
    "df.info()"
   ]
  },
  {
   "cell_type": "code",
   "execution_count": 23,
   "id": "cb1ddee2-b6f4-4b14-969f-506fba95a348",
   "metadata": {},
   "outputs": [
    {
     "data": {
      "image/png": "[encoded data removed]",
      "text/plain": [
       "<Figure size 1296x360 with 1 Axes>"
      ]
     },
     "metadata": {},
     "output_type": "display_data"
    }
   ],
   "source": [
    "# EDA\n",
    "\n",
    "ax=sns.lineplot(x='date', y='price', data=df)\n",
    "plt.xticks(rotation = - 45 )\n",
    "\n",
    "plt.show()"
   ]
  },
  {
   "cell_type": "markdown",
   "id": "3564f9ee-52df-4ce6-a7d6-30e46bd1e665",
   "metadata": {},
   "source": [
    "* 비정상성 데이터 : 시간변화에 따라 평균, 분산이 일정하지 않음"
   ]
  },
  {
   "cell_type": "markdown",
   "id": "dbead6f8-6579-4ddc-85f5-4cba898a22a1",
   "metadata": {},
   "source": [
    "# statsmodels -> R에 있는 통계패키지 일부"
   ]
  },
  {
   "cell_type": "code",
   "execution_count": null,
   "id": "8839e419-b9c3-444c-9e3e-374fecd926f1",
   "metadata": {},
   "outputs": [],
   "source": [
    "# ! pip install statsmodels"
   ]
  },
  {
   "cell_type": "markdown",
   "id": "735d7852-d101-49af-82b8-22af96129a6f",
   "metadata": {},
   "source": [
    "* https://pypi.org/project/statsmodels/\n",
    "* https://www.statsmodels.org/dev/generated/statsmodels.graphics.tsaplots.plot_acf.html\n"
   ]
  },
  {
   "cell_type": "code",
   "execution_count": 24,
   "id": "4110f8fc-bfa5-4f1c-9aff-069f8cf8ae63",
   "metadata": {},
   "outputs": [],
   "source": [
    "from statsmodels.graphics.tsaplots import plot_acf, plot_pacf"
   ]
  },
  {
   "cell_type": "markdown",
   "id": "19ef1509-5025-4d8f-9df4-0870632f244e",
   "metadata": {},
   "source": [
    "* AR : PACF (p) : p=1\n",
    "* MA : ACF (q)  : q=0\n",
    "* ARIMA(p,d,q)\n",
    "\n",
    "* https://otexts.com/fppkr/non-seasonal-arima.html\n"
   ]
  },
  {
   "cell_type": "code",
   "execution_count": 25,
   "id": "60abc0d2-e384-429c-aed7-5d11ab160808",
   "metadata": {},
   "outputs": [
    {
     "data": {
      "image/png": "[encoded data removed]",
      "text/plain": [
       "<Figure size 720x288 with 2 Axes>"
      ]
     },
     "metadata": {},
     "output_type": "display_data"
    }
   ],
   "source": [
    "f, axes=plt.subplots(1,2, figsize=(10,4))\n",
    "plot_acf(df['price'], ax=axes[0])\n",
    "plot_pacf(df['price'], ax=axes[1])\n",
    "plt.show()"
   ]
  },
  {
   "cell_type": "markdown",
   "id": "157c9f65-50d5-4528-a43b-9c3112e5213e",
   "metadata": {},
   "source": [
    "* AR 경향을 보인다. -> 1차분 하면 되겠다.(1 다음부터는 정상성을 보여서)"
   ]
  },
  {
   "cell_type": "markdown",
   "id": "94b1e57d-ca68-4eec-bf90-e2074dc57acb",
   "metadata": {},
   "source": [
    "### 데이터 1차분"
   ]
  },
  {
   "cell_type": "code",
   "execution_count": 26,
   "id": "9224e18b-4413-4c0e-905e-15e9c6e09c11",
   "metadata": {},
   "outputs": [
    {
     "data": {
      "text/html": [
       "<div>\n",
       "<style scoped>\n",
       "    .dataframe tbody tr th:only-of-type {\n",
       "        vertical-align: middle;\n",
       "    }\n",
       "\n",
       "    .dataframe tbody tr th {\n",
       "        vertical-align: top;\n",
       "    }\n",
       "\n",
       "    .dataframe thead th {\n",
       "        text-align: right;\n",
       "    }\n",
       "</style>\n",
       "<table border=\"1\" class=\"dataframe\">\n",
       "  <thead>\n",
       "    <tr style=\"text-align: right;\">\n",
       "      <th></th>\n",
       "      <th>price</th>\n",
       "      <th>open</th>\n",
       "      <th>high</th>\n",
       "      <th>low</th>\n",
       "      <th>vol.</th>\n",
       "      <th>change</th>\n",
       "      <th>vol_temp</th>\n",
       "      <th>vol</th>\n",
       "      <th>price2</th>\n",
       "    </tr>\n",
       "    <tr>\n",
       "      <th>date</th>\n",
       "      <th></th>\n",
       "      <th></th>\n",
       "      <th></th>\n",
       "      <th></th>\n",
       "      <th></th>\n",
       "      <th></th>\n",
       "      <th></th>\n",
       "      <th></th>\n",
       "      <th></th>\n",
       "    </tr>\n",
       "  </thead>\n",
       "  <tbody>\n",
       "    <tr>\n",
       "      <th>2019-02-01</th>\n",
       "      <td>3467.9</td>\n",
       "      <td>3437.7</td>\n",
       "      <td>3485.7</td>\n",
       "      <td>3415.3</td>\n",
       "      <td>481.58</td>\n",
       "      <td>90.0</td>\n",
       "      <td>K</td>\n",
       "      <td>481580.0</td>\n",
       "      <td>NaN</td>\n",
       "    </tr>\n",
       "    <tr>\n",
       "      <th>2019-02-02</th>\n",
       "      <td>3502.5</td>\n",
       "      <td>3467.9</td>\n",
       "      <td>3514.5</td>\n",
       "      <td>3447.8</td>\n",
       "      <td>443.60</td>\n",
       "      <td>100.0</td>\n",
       "      <td>K</td>\n",
       "      <td>443600.0</td>\n",
       "      <td>34.6</td>\n",
       "    </tr>\n",
       "    <tr>\n",
       "      <th>2019-02-03</th>\n",
       "      <td>3459.1</td>\n",
       "      <td>3502.3</td>\n",
       "      <td>3507.8</td>\n",
       "      <td>3431.3</td>\n",
       "      <td>451.66</td>\n",
       "      <td>-124.0</td>\n",
       "      <td>K</td>\n",
       "      <td>451660.0</td>\n",
       "      <td>-43.4</td>\n",
       "    </tr>\n",
       "    <tr>\n",
       "      <th>2019-02-04</th>\n",
       "      <td>3462.8</td>\n",
       "      <td>3459.0</td>\n",
       "      <td>3479.7</td>\n",
       "      <td>3437.1</td>\n",
       "      <td>503.92</td>\n",
       "      <td>11.0</td>\n",
       "      <td>K</td>\n",
       "      <td>503920.0</td>\n",
       "      <td>3.7</td>\n",
       "    </tr>\n",
       "    <tr>\n",
       "      <th>2019-02-05</th>\n",
       "      <td>3468.4</td>\n",
       "      <td>3463.0</td>\n",
       "      <td>3485.9</td>\n",
       "      <td>3450.3</td>\n",
       "      <td>460.95</td>\n",
       "      <td>16.0</td>\n",
       "      <td>K</td>\n",
       "      <td>460950.0</td>\n",
       "      <td>5.6</td>\n",
       "    </tr>\n",
       "  </tbody>\n",
       "</table>\n",
       "</div>"
      ],
      "text/plain": [
       "             price    open    high     low    vol.  change vol_temp       vol  \\\n",
       "date                                                                            \n",
       "2019-02-01  3467.9  3437.7  3485.7  3415.3  481.58    90.0        K  481580.0   \n",
       "2019-02-02  3502.5  3467.9  3514.5  3447.8  443.60   100.0        K  443600.0   \n",
       "2019-02-03  3459.1  3502.3  3507.8  3431.3  451.66  -124.0        K  451660.0   \n",
       "2019-02-04  3462.8  3459.0  3479.7  3437.1  503.92    11.0        K  503920.0   \n",
       "2019-02-05  3468.4  3463.0  3485.9  3450.3  460.95    16.0        K  460950.0   \n",
       "\n",
       "            price2  \n",
       "date                \n",
       "2019-02-01     NaN  \n",
       "2019-02-02    34.6  \n",
       "2019-02-03   -43.4  \n",
       "2019-02-04     3.7  \n",
       "2019-02-05     5.6  "
      ]
     },
     "execution_count": 26,
     "metadata": {},
     "output_type": "execute_result"
    }
   ],
   "source": [
    "df['price2']=df['price'].diff(1)  # 전일 것과 당일 것(하루 차이)  --> 나중에는 rolling 더 많이 씀\n",
    "                                  # / 주차별 차분은 5(토,일 휴장이라)\n",
    "df.head()"
   ]
  },
  {
   "cell_type": "code",
   "execution_count": 27,
   "id": "ce6dee09-b1c2-47ed-a79a-66659d6525ed",
   "metadata": {},
   "outputs": [
    {
     "data": {
      "image/png": "[encoded data removed]",
      "text/plain": [
       "<Figure size 720x288 with 2 Axes>"
      ]
     },
     "metadata": {},
     "output_type": "display_data"
    }
   ],
   "source": [
    "f, axes=plt.subplots(1,2, figsize=(10,4))\n",
    "plot_acf(df.iloc[1:]['price2'], ax=axes[0])      # iloc[1:] : 첫째날은 전날 데이터가 없기 때문  / 차분하려면 이전 기 데이터도 가져와야 함.\n",
    "plot_pacf(df.iloc[1:]['price2'], ax=axes[1])\n",
    "plt.show()\n",
    "\n",
    "# 완만해졌다."
   ]
  },
  {
   "cell_type": "code",
   "execution_count": null,
   "id": "acfadf14-e73d-4aea-9c3b-ab48a5d68d0f",
   "metadata": {},
   "outputs": [],
   "source": []
  },
  {
   "cell_type": "markdown",
   "id": "0f917826-9ea7-4c0d-990f-cfaa566dfd76",
   "metadata": {},
   "source": [
    "<pre>\n",
    "* ARIMA(p,d,q) : ARIMA(1,1,0)\n",
    "* PACF 차트를 통해 1차푼 한 결과 정상성의 데이터를 보였다. == p=1\n",
    "* I : 데이터를 1차분하면 정상성의 데이터를 보였다. == d=1\n",
    "* ACF 차트는 완만한 경사를 보였다. -> MA 성격의 데이터는 아니다. == q=0"
   ]
  },
  {
   "cell_type": "code",
   "execution_count": 28,
   "id": "1db9acc1-ca58-48e6-9656-9f3676d78c7c",
   "metadata": {},
   "outputs": [],
   "source": [
    "from statsmodels.tsa.arima_model import ARIMA"
   ]
  },
  {
   "cell_type": "code",
   "execution_count": 32,
   "id": "61c306ed-4976-431c-8029-5ac24377067c",
   "metadata": {},
   "outputs": [
    {
     "name": "stdout",
     "output_type": "stream",
     "text": [
      "                             ARIMA Model Results                              \n",
      "==============================================================================\n",
      "Dep. Variable:                D.price   No. Observations:                   58\n",
      "Model:                 ARIMA(1, 1, 1)   Log Likelihood                -332.783\n",
      "Method:                       css-mle   S.D. of innovations             73.532\n",
      "Date:                Tue, 08 Feb 2022   AIC                            673.566\n",
      "Time:                        10:20:08   BIC                            681.807\n",
      "Sample:                    02-02-2019   HQIC                           676.776\n",
      "                         - 03-31-2019                                         \n",
      "=================================================================================\n",
      "                    coef    std err          z      P>|z|      [0.025      0.975]\n",
      "---------------------------------------------------------------------------------\n",
      "const             9.9838      1.651      6.048      0.000       6.748      13.219\n",
      "ar.L1.D.price     0.6948      0.099      6.991      0.000       0.500       0.890\n",
      "ma.L1.D.price    -0.9999      0.057    -17.453      0.000      -1.112      -0.888\n",
      "                                    Roots                                    \n",
      "=============================================================================\n",
      "                  Real          Imaginary           Modulus         Frequency\n",
      "-----------------------------------------------------------------------------\n",
      "AR.1            1.4392           +0.0000j            1.4392            0.0000\n",
      "MA.1            1.0001           +0.0000j            1.0001            0.0000\n",
      "-----------------------------------------------------------------------------\n"
     ]
    }
   ],
   "source": [
    "model=ARIMA(df['price'], order=(1,1,1), freq='D')\n",
    "fitres=model.fit()\n",
    "print(fitres.summary()) # 회귀 결과표"
   ]
  },
  {
   "cell_type": "markdown",
   "id": "25f9f892-1aa9-4d7a-ac9a-e77b98347dec",
   "metadata": {},
   "source": [
    "* P>|z| : t-test\n",
    "* t-test < 0.05(유의수준): 유의하다."
   ]
  },
  {
   "cell_type": "code",
   "execution_count": 31,
   "id": "fa2ac5b7-832d-4ab6-be8d-dfc0e7427d17",
   "metadata": {},
   "outputs": [
    {
     "name": "stdout",
     "output_type": "stream",
     "text": [
      "(array([4114.74095697, 4126.43202256, 4137.60205018]), array([73.53182574, 89.54195665, 96.3252786 ]), array([[3970.62122681, 4258.86068714],\n",
      "       [3950.93301242, 4301.93103269],\n",
      "       [3948.80797333, 4326.39612704]]))\n"
     ]
    }
   ],
   "source": [
    "pred=fitres.forecast(steps=3) # steps: n기 후 데이터 예측해봐\n",
    "print(pred) # 예측 (2019-04-01) - (2019-03-31)"
   ]
  },
  {
   "cell_type": "code",
   "execution_count": null,
   "id": "cdd4b5c7-d408-4df0-aa66-d29fd8f7d0f4",
   "metadata": {},
   "outputs": [],
   "source": [
    "# df.iloc[-3:-1]"
   ]
  },
  {
   "cell_type": "code",
   "execution_count": null,
   "id": "9184dd38-680d-4e15-88ae-7e2bb6f743b7",
   "metadata": {},
   "outputs": [],
   "source": [
    "# "
   ]
  },
  {
   "cell_type": "code",
   "execution_count": null,
   "id": "165fa566-74e4-43ca-b652-75c11b200418",
   "metadata": {},
   "outputs": [],
   "source": []
  },
  {
   "cell_type": "code",
   "execution_count": null,
   "id": "15348646-1635-461f-a92a-6e6df3bae134",
   "metadata": {},
   "outputs": [],
   "source": []
  },
  {
   "cell_type": "code",
   "execution_count": null,
   "id": "ffae06b7-59e5-4502-866c-6462fb96f2f9",
   "metadata": {},
   "outputs": [],
   "source": []
  },
  {
   "cell_type": "code",
   "execution_count": null,
   "id": "1ba37a9f-53bd-4824-95f2-472fa4ebf0dd",
   "metadata": {},
   "outputs": [],
   "source": []
  },
  {
   "cell_type": "code",
   "execution_count": null,
   "id": "82d4acbe-de00-472f-bb75-4e88c60dd49a",
   "metadata": {},
   "outputs": [],
   "source": []
  },
  {
   "cell_type": "code",
   "execution_count": null,
   "id": "2dcd5c15-e13e-4a06-877b-4fc33948f28f",
   "metadata": {},
   "outputs": [],
   "source": []
  }
 ],
 "metadata": {
  "kernelspec": {
   "display_name": "Python 3 (ipykernel)",
   "language": "python",
   "name": "python3"
  },
  "language_info": {
   "codemirror_mode": {
    "name": "ipython",
    "version": 3
   },
   "file_extension": ".py",
   "mimetype": "text/x-python",
   "name": "python",
   "nbconvert_exporter": "python",
   "pygments_lexer": "ipython3",
   "version": "3.8.8"
  }
 },
 "nbformat": 4,
 "nbformat_minor": 5
}
