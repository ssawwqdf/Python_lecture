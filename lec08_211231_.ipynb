{
 "cells": [
  {
   "cell_type": "markdown",
   "id": "d60e9112-1c6d-47f2-921f-6328ac8fc734",
   "metadata": {},
   "source": [
    "## "
   ]
  },
  {
   "cell_type": "markdown",
   "id": "69fc2be3-77bd-4c99-839d-10736d86e0a8",
   "metadata": {},
   "source": [
    "# 8장 객체와 클래스"
   ]
  },
  {
   "cell_type": "markdown",
   "id": "a70f06b0-0d89-425f-be5a-d78832192127",
   "metadata": {},
   "source": [
    "## 8.1 클래스 선언과 객체 생성\n",
    "\n",
    "### 객체란?"
   ]
  },
  {
   "cell_type": "markdown",
   "id": "071f5a4e-eb17-405b-acab-0717fc80abd0",
   "metadata": {},
   "source": [
    "### 클래스 선언"
   ]
  },
  {
   "cell_type": "markdown",
   "id": "3dfb4545-821a-4141-a4f3-d61b6d24ab8f",
   "metadata": {},
   "source": [
    "### 객체 생성 및 활용"
   ]
  },
  {
   "cell_type": "markdown",
   "id": "20805691-8d37-4e39-b8ce-4c9422712768",
   "metadata": {},
   "source": [
    "**[8장: 137페이지]**"
   ]
  },
  {
   "cell_type": "code",
   "execution_count": 28,
   "id": "23337009-cfa2-4d85-9270-150d9f7af0f8",
   "metadata": {},
   "outputs": [],
   "source": [
    "class Bicycle(): # 클래스 선언\n",
    "    pass"
   ]
  },
  {
   "cell_type": "markdown",
   "id": "d37424d9-307d-421b-81ee-b2bfe81fca59",
   "metadata": {},
   "source": [
    "**[8장: 138페이지]**"
   ]
  },
  {
   "cell_type": "code",
   "execution_count": 29,
   "id": "821e9d48-57dc-45c8-8616-7c214cee69ba",
   "metadata": {},
   "outputs": [],
   "source": [
    "my_bicycle = Bicycle()"
   ]
  },
  {
   "cell_type": "markdown",
   "id": "7dfec2a1-9801-439b-bbd0-3106415a2da6",
   "metadata": {},
   "source": [
    "**[8장: 138페이지]**"
   ]
  },
  {
   "cell_type": "code",
   "execution_count": 30,
   "id": "49d3394c-9938-411c-8744-f4f9fff1a7a2",
   "metadata": {},
   "outputs": [
    {
     "data": {
      "text/plain": [
       "<__main__.Bicycle at 0x141d79511c0>"
      ]
     },
     "execution_count": 30,
     "metadata": {},
     "output_type": "execute_result"
    }
   ],
   "source": [
    "my_bicycle"
   ]
  },
  {
   "cell_type": "markdown",
   "id": "c4fd4d99-ef31-4b46-b218-863c99fdcf66",
   "metadata": {},
   "source": [
    "**[8장: 138페이지]**"
   ]
  },
  {
   "cell_type": "code",
   "execution_count": 31,
   "id": "558f3389-15f0-406e-a58f-c8919627a0e6",
   "metadata": {},
   "outputs": [],
   "source": [
    "my_bicycle.wheel_size = 26 #이 주소공간에 wheel_size라는 변수 만들고 거기에 26을 집어넣어라\n",
    "my_bicycle.color = 'black' #이 주소공간에 color라는 변수 만들고 거기에 26을 집어넣어라"
   ]
  },
  {
   "cell_type": "markdown",
   "id": "b38256c3-bfc3-4c7a-a1b6-bd0af6755e6f",
   "metadata": {},
   "source": [
    "**[8장: 139페이지]**"
   ]
  },
  {
   "cell_type": "code",
   "execution_count": 32,
   "id": "0137ab12-963e-4ea5-baa7-2292afe6158d",
   "metadata": {},
   "outputs": [
    {
     "name": "stdout",
     "output_type": "stream",
     "text": [
      "바퀴 크기: 26\n",
      "색상: black\n"
     ]
    }
   ],
   "source": [
    "print(\"바퀴 크기:\", my_bicycle.wheel_size)  # 객체의 속성 출력\n",
    "print(\"색상:\", my_bicycle.color)   "
   ]
  },
  {
   "cell_type": "markdown",
   "id": "b7968cf5-91e7-4e3f-a5ad-8450c7e6b7e1",
   "metadata": {},
   "source": [
    "**[8장: 139페이지]**"
   ]
  },
  {
   "cell_type": "code",
   "execution_count": 33,
   "id": "3db6ce82-c30f-4311-88e0-bd4901ddd4e1",
   "metadata": {},
   "outputs": [],
   "source": [
    "class Bicycle():            #() 안 넣어도 됨. 넣으면 메서드랑 클래스랑 헷갈릴 수도....\n",
    "    \n",
    "    def move(self, speed):   # self 있으니 생성자 만들어서 써주삼.\n",
    "        print(\"자전거: 시속 {0}킬로미터로 전진\".format(speed))\n",
    "        \n",
    "    def turn(self, direction):\n",
    "        print(\"자전거: {0}회전\".format(direction))\n",
    "        \n",
    "    def stop(self):\n",
    "        print(\"자전거({0}, {1}): 정지 \".format(self.wheel_size, self.color))  # 생성자 만드는 순간 주소가 들어간다. self.변수명 쓰면 된다."
   ]
  },
  {
   "cell_type": "markdown",
   "id": "ebfa5709-90f2-40db-9bde-7f37b70eb454",
   "metadata": {},
   "source": [
    "**[8장: 140페이지]**"
   ]
  },
  {
   "cell_type": "code",
   "execution_count": 34,
   "id": "0a4d06fd-9e68-4bae-b5b7-c60b64263780",
   "metadata": {},
   "outputs": [
    {
     "name": "stdout",
     "output_type": "stream",
     "text": [
      "자전거: 시속 30킬로미터로 전진\n",
      "자전거: 좌회전\n",
      "자전거(26, black): 정지 \n"
     ]
    }
   ],
   "source": [
    "my_bicycle = Bicycle() # Bicycle 클래스의 인스턴스인 my_bicycle 객체 생성\n",
    "\n",
    "my_bicycle.wheel_size = 26 # 객체의 속성 설정\n",
    "my_bicycle.color = 'black' \n",
    "\n",
    "my_bicycle.move(30)  # 객체의 메서드 호출\n",
    "my_bicycle.turn('좌')\n",
    "my_bicycle.stop()"
   ]
  },
  {
   "cell_type": "markdown",
   "id": "12783736-9908-4623-a27d-737d2ada602a",
   "metadata": {},
   "source": [
    "**[8장: 141페이지]**"
   ]
  },
  {
   "cell_type": "code",
   "execution_count": 35,
   "id": "0fca6701-3028-430e-b267-57c289fd34c7",
   "metadata": {},
   "outputs": [
    {
     "name": "stdout",
     "output_type": "stream",
     "text": [
      "자전거: 시속 20킬로미터로 전진\n",
      "자전거: 좌회전\n",
      "자전거(27, red): 정지 \n"
     ]
    }
   ],
   "source": [
    "bicycle1 = Bicycle() # Bicycle 클래스의 인스턴스인 bicycle1 객체 생성\n",
    "\n",
    "bicycle1.wheel_size = 27 # 객체의 속성 설정 ../// 값 바꿔도 my_bicycle에 있는 값은 영향 안 받는다.\n",
    "bicycle1.color = 'red' \n",
    "\n",
    "bicycle1.move(20)\n",
    "bicycle1.turn('좌')\n",
    "bicycle1.stop()"
   ]
  },
  {
   "cell_type": "code",
   "execution_count": 36,
   "id": "5b6aae4b-fa12-4015-b604-155ca8527658",
   "metadata": {
    "scrolled": true
   },
   "outputs": [
    {
     "name": "stdout",
     "output_type": "stream",
     "text": [
      "자전거: 시속 15킬로미터로 전진\n",
      "자전거: 우회전\n",
      "자전거(24, blue): 정지 \n"
     ]
    }
   ],
   "source": [
    "bicycle2 = Bicycle() # Bicycle 클래스의 인스턴스인 bicycle2 객체 생성\n",
    "\n",
    "bicycle2.wheel_size = 24 # 객체의 속성 설정\n",
    "bicycle2.color = 'blue' \n",
    "\n",
    "bicycle2.move(15)\n",
    "bicycle2.turn('우')\n",
    "bicycle2.stop()"
   ]
  },
  {
   "cell_type": "markdown",
   "id": "1e82a6aa-198b-4a23-91a7-c9ed54776bcc",
   "metadata": {
    "tags": []
   },
   "source": [
    "### 객체 초기화"
   ]
  },
  {
   "cell_type": "markdown",
   "id": "1e95f5ec-2711-4095-8ff5-7c4ab226e344",
   "metadata": {},
   "source": [
    "**[8장: 142페이지]**"
   ]
  },
  {
   "cell_type": "code",
   "execution_count": 37,
   "id": "21fc539a-13c3-463a-a8e4-2f1a98ab0933",
   "metadata": {},
   "outputs": [],
   "source": [
    "class Bicycle():    \n",
    "    \n",
    "    def __init__(self, wheel_size, color):   #--생성자의 역할: 초기화\n",
    "        self.wheel_size = wheel_size             # self.wheel_size: 새롭게 생긴 공간에 이 변수 만들어서 들어온 값 넣어놔.\n",
    "        self.color = color\n",
    "        \n",
    "    def move(self, speed):\n",
    "        print(\"자전거: 시속 {0}킬로미터로 전진\".format(speed))\n",
    "        \n",
    "    def turn(self, direction):\n",
    "        print(\"자전거: {0}회전\".format(direction))\n",
    "        \n",
    "    def stop(self):\n",
    "        print(\"자전거({0}, {1}): 정지 \".format(self.wheel_size, self.color))"
   ]
  },
  {
   "cell_type": "markdown",
   "id": "94057195-cb2e-4c69-8ef8-6ab70e984ab2",
   "metadata": {},
   "source": [
    "**[8장: 142페이지]**"
   ]
  },
  {
   "cell_type": "code",
   "execution_count": 38,
   "id": "df4d6cf6-6067-4510-953b-bcd901e10c44",
   "metadata": {},
   "outputs": [
    {
     "name": "stdout",
     "output_type": "stream",
     "text": [
      "자전거: 시속 30킬로미터로 전진\n",
      "자전거: 좌회전\n",
      "자전거(26, black): 정지 \n"
     ]
    }
   ],
   "source": [
    "my_bicycle = Bicycle(26, 'black') # 객체 생성과 동시에 속성값을 지정.\n",
    "\n",
    "my_bicycle.move(30)  # 객체 메서드 호출\n",
    "my_bicycle.turn('좌')\n",
    "my_bicycle.stop()"
   ]
  },
  {
   "cell_type": "markdown",
   "id": "6c135897-f996-4e79-853c-1f299b0f02ca",
   "metadata": {},
   "source": [
    "## 8.2 클래스를 구성하는 변수와 함수"
   ]
  },
  {
   "cell_type": "markdown",
   "id": "5a795e6b-0034-419f-bce0-335c7d23c210",
   "metadata": {},
   "source": [
    "### 클래스에서 사용하는 변수"
   ]
  },
  {
   "cell_type": "markdown",
   "id": "8598b5b5-5cbb-47d9-9b4a-717f7f388806",
   "metadata": {},
   "source": [
    "**[8장: 143페이지]**"
   ]
  },
  {
   "cell_type": "code",
   "execution_count": 39,
   "id": "dc7d47fb-8231-4118-bdd0-be936a819804",
   "metadata": {},
   "outputs": [],
   "source": [
    "class Car():\n",
    "    instance_count = 0 # 클래스 변수 생성 및 초기화\n",
    "\n",
    "    def __init__(self, size, color):\n",
    "        self.size = size    # 인스턴스 변수 생성 및 초기화\n",
    "        self.color = color  # 인스턴스 변수 생성 및 초기화\n",
    "        Car.instance_count = Car.instance_count + 1 # 클래스 변수 이용!!!             self.~~  vs 클래스이름.~~  구분.\n",
    "        print(\"자동차 객체의 수: {0}\".format(Car.instance_count))\n",
    "        \n",
    "    def move(self):\n",
    "        print(\"자동차({0} & {1})가 움직입니다.\".format(self.size, self.color))"
   ]
  },
  {
   "cell_type": "markdown",
   "id": "5b4dddf3-fae9-4470-a016-4df3cdd6ef49",
   "metadata": {},
   "source": [
    "**[8장: 144페이지]**"
   ]
  },
  {
   "cell_type": "code",
   "execution_count": 40,
   "id": "1d3f725d-c365-425f-ac71-fc61afed8fff",
   "metadata": {},
   "outputs": [
    {
     "name": "stdout",
     "output_type": "stream",
     "text": [
      "자동차 객체의 수: 1\n",
      "자동차 객체의 수: 2\n"
     ]
    }
   ],
   "source": [
    "car1 = Car('small', 'white')\n",
    "car2 = Car('big', 'black')"
   ]
  },
  {
   "cell_type": "markdown",
   "id": "ddaf4aac-77a0-4a1e-81ff-15403c695d65",
   "metadata": {},
   "source": [
    "**[8장: 144페이지]**"
   ]
  },
  {
   "cell_type": "code",
   "execution_count": 41,
   "id": "ee65f87d-7a7b-4602-967d-140e3dba89a2",
   "metadata": {},
   "outputs": [
    {
     "name": "stdout",
     "output_type": "stream",
     "text": [
      "Car 클래스의 총 인스턴스 개수:2\n"
     ]
    }
   ],
   "source": [
    "print(\"Car 클래스의 총 인스턴스 개수:{}\".format(Car.instance_count)) "
   ]
  },
  {
   "cell_type": "markdown",
   "id": "3678de0e-c44c-4e01-9a9c-d550da631947",
   "metadata": {},
   "source": [
    "**[8장: 144페이지]**"
   ]
  },
  {
   "cell_type": "code",
   "execution_count": 42,
   "id": "8f0f5994-0122-46a5-aafc-eef9ea0e1a7c",
   "metadata": {},
   "outputs": [
    {
     "name": "stdout",
     "output_type": "stream",
     "text": [
      "Car 클래스의 총 인스턴스 개수:2\n",
      "Car 클래스의 총 인스턴스 개수:2\n"
     ]
    }
   ],
   "source": [
    "print(\"Car 클래스의 총 인스턴스 개수:{}\".format(car1.instance_count))    #해당 주소에 instance_count 없다 -> 자기 칸에 없으면 밖에 거 쓴다.\n",
    "print(\"Car 클래스의 총 인스턴스 개수:{}\".format(car2.instance_count))"
   ]
  },
  {
   "cell_type": "markdown",
   "id": "c5993fa3-3ca8-4bdc-971c-97426e910925",
   "metadata": {},
   "source": [
    "**[8장: 144페이지]**"
   ]
  },
  {
   "cell_type": "code",
   "execution_count": 43,
   "id": "394229a5-b4df-458f-8588-8bb95f1a20d3",
   "metadata": {},
   "outputs": [
    {
     "name": "stdout",
     "output_type": "stream",
     "text": [
      "자동차(small & white)가 움직입니다.\n",
      "자동차(big & black)가 움직입니다.\n"
     ]
    }
   ],
   "source": [
    "car1.move()\n",
    "car2.move()"
   ]
  },
  {
   "cell_type": "markdown",
   "id": "ec3ab561-331e-49aa-abe4-0ee51a75f738",
   "metadata": {},
   "source": [
    "**[8장: 145페이지]**"
   ]
  },
  {
   "cell_type": "code",
   "execution_count": 44,
   "id": "386c087d-2332-4189-bee3-c0a7e786c9e2",
   "metadata": {},
   "outputs": [],
   "source": [
    "class Car2():\n",
    "    count = 0; # 클래스 변수 생성 및 초기화\n",
    "\n",
    "    def __init__(self, size, num):\n",
    "        self.size = size    # 인스턴스 변수 생성 및 초기화\n",
    "        self.count = num  # 인스턴스 변수 생성 및 초기화\n",
    "        Car2.count = Car2.count + 1 # 클래스 변수 이용\n",
    "        print(\"자동차 객체의 수: Car2.count = {0}\".format(Car2.count))\n",
    "        print(\"인스턴스 변수 초기화: self.count = {0}\".format(self.count))\n",
    "        \n",
    "    def move(self):\n",
    "        print(\"자동차({0} & {1})가 움직입니다.\".format(self.size, self.count))"
   ]
  },
  {
   "cell_type": "markdown",
   "id": "e129f05b-3fec-4f29-9fa4-e34cb684da8f",
   "metadata": {},
   "source": [
    "**[8장: 145페이지]**"
   ]
  },
  {
   "cell_type": "code",
   "execution_count": 45,
   "id": "06ba78e7-d4b7-490e-87f6-66a33018257f",
   "metadata": {
    "scrolled": true,
    "tags": []
   },
   "outputs": [
    {
     "name": "stdout",
     "output_type": "stream",
     "text": [
      "자동차 객체의 수: Car2.count = 1\n",
      "인스턴스 변수 초기화: self.count = 20\n",
      "자동차 객체의 수: Car2.count = 2\n",
      "인스턴스 변수 초기화: self.count = 30\n"
     ]
    }
   ],
   "source": [
    "car1 = Car2(\"big\", 20)\n",
    "car2 = Car2(\"small\", 30)"
   ]
  },
  {
   "cell_type": "markdown",
   "id": "b8e4e972-abd6-4f29-89ed-048e66214826",
   "metadata": {},
   "source": [
    "### 클래스에서 사용하는 함수"
   ]
  },
  {
   "cell_type": "markdown",
   "id": "5a7304d8-399b-4cd8-8c64-174961e01a82",
   "metadata": {},
   "source": [
    "#### 인스턴스 메서드"
   ]
  },
  {
   "cell_type": "markdown",
   "id": "75f841da-ba13-42fc-a846-45d3d558758a",
   "metadata": {},
   "source": [
    "**[8장: 146 ~ 147페이지]**"
   ]
  },
  {
   "cell_type": "code",
   "execution_count": 3,
   "id": "5397f9d6-b5fe-445e-89af-08507f642cfd",
   "metadata": {},
   "outputs": [],
   "source": [
    "# Car 클래스 선언\n",
    "# 주소가 있는 메서드: 인스턴스 메서드\n",
    "class Car():\n",
    "    instance_count = 0 # 클래스 변수 생성 및 초기화\n",
    "    \n",
    "    # 생성자 함수(이자 인스턴스 메서드) -> 초기화 하는 역할.\n",
    "    def __init__(self, size, color):\n",
    "        self.size = size    # 인스턴스 변수 생성 및 초기화\n",
    "        self.color = color  # 인스턴스 변수 생성 및 초기화\n",
    "        Car.instance_count = Car.instance_count + 1 # 클래스 변수 이용\n",
    "        print(\"자동차 객체의 수: {0}\".format(Car.instance_count))  \n",
    "       \n",
    "    # 인스턴스메서드                             // self 없으면 클래스 메서드라고 한다.\n",
    "    def move(self, speed):\n",
    "        self.speed = speed  # 인스턴스 변수 생성    \n",
    "        print(\"자동차({0} & {1})가 \".format(self.size, self.color), end='')\n",
    "        print(\"시속 {0}킬로미터로 전진\".format(self.speed))\n",
    "        \n",
    "    # 인스턴스 메서드\n",
    "    def auto_cruise(self):\n",
    "        print(\"자율 주행 모드\")\n",
    "        self.move(self.speed) # move() 함수의 인자로 인스턴스 변수를 입력"
   ]
  },
  {
   "cell_type": "markdown",
   "id": "22c424bd-86b7-4fc0-9c6e-37f214be0b94",
   "metadata": {},
   "source": [
    "**[8장: 147페이지]**"
   ]
  },
  {
   "cell_type": "code",
   "execution_count": 4,
   "id": "aaed78dd-27ba-47d6-850a-1a089e555d8d",
   "metadata": {},
   "outputs": [
    {
     "name": "stdout",
     "output_type": "stream",
     "text": [
      "자동차 객체의 수: 1\n",
      "자동차 객체의 수: 2\n",
      "자동차(small & red)가 시속 80킬로미터로 전진\n",
      "자동차(big & green)가 시속 100킬로미터로 전진\n",
      "자율 주행 모드\n",
      "자동차(small & red)가 시속 80킬로미터로 전진\n",
      "자율 주행 모드\n",
      "자동차(big & green)가 시속 100킬로미터로 전진\n"
     ]
    }
   ],
   "source": [
    "car1 = Car(\"small\", \"red\") # 객체 생성 (car1)\n",
    "car2 = Car(\"big\", \"green\") # 객체 생성 (car2)\n",
    "\n",
    "car1.move(80) #객체(car1)의 move() 메서드 호출\n",
    "car2.move(100) #객체(car2)의 move() 메서드 호출\n",
    "\n",
    "car1.auto_cruise() #객체(car1)의 auto_cruise() 메서드 호출\n",
    "car2.auto_cruise() #객체(car2)의 auto_cruise() 메서드 호출"
   ]
  },
  {
   "cell_type": "markdown",
   "id": "b7402f84-3bce-4b92-b9f4-bfdec3929205",
   "metadata": {},
   "source": [
    "#### 정적 메서드"
   ]
  },
  {
   "cell_type": "markdown",
   "id": "ed69ce3b-acad-45d0-b7bf-e080c655b02a",
   "metadata": {},
   "source": [
    "**[8장: 148 ~ 149페이지]**"
   ]
  },
  {
   "cell_type": "code",
   "execution_count": 1,
   "id": "470ce5a9-3de4-45d9-9513-bf61fc9059df",
   "metadata": {},
   "outputs": [],
   "source": [
    "# Car 클래스 선언\n",
    "class Car():\n",
    "        \n",
    "    # def __init__(self, size, color): => 앞의 코드 활용\n",
    "    # def move(self, speed): => 앞의 코드 활용\n",
    "    # def auto_cruise(self): => 앞의 코드 활용\n",
    "    \n",
    "    # 정적 메서드: 클래스메서드\n",
    "    @staticmethod # @: 어노테이션. -> 기계파일로 바꿀 때 컴파일러한테 알려주는 역할. 개발자들끼리는 이 method가 어떤 특징을 갖고 있는지 알려주는 역할.\n",
    "                  # @staticmethod == self 없어요 ==클래스로 호출해주세요.  \n",
    "    def check_type(model_code):\n",
    "        # print(model_code)\n",
    "        if(model_code >= 20):\n",
    "            print(\"이 자동차는 전기차입니다.\")\n",
    "        elif(10 <= model_code < 20):\n",
    "            print(\"이 자동차는 가솔린차입니다.\")\n",
    "        else:\n",
    "            print(\"이 자동차는 디젤차입니다.\")\n",
    "            \n",
    "# c1=Car()         # self 아닌데도 호출하면 막을 방법이 없다.\n",
    "# c1.check_type() # 이렇게 하면 주소값이 들어갈 것. -> 주소값은 16진수라 비교 안 되니까 일단 if 절 막아놓고 봐라.\n",
    "#                 # @staticmethod 넣으면 이미 클래스로 호출해달라고 했으니까 오류 난다."
   ]
  },
  {
   "cell_type": "markdown",
   "id": "ddde7a74-e548-4dae-b1ce-bae9b4cd5221",
   "metadata": {},
   "source": [
    "**[8장: 149페이지]**"
   ]
  },
  {
   "cell_type": "code",
   "execution_count": 2,
   "id": "44f35649-13d5-48e1-8be2-159d28cd0b73",
   "metadata": {},
   "outputs": [
    {
     "name": "stdout",
     "output_type": "stream",
     "text": [
      "이 자동차는 전기차입니다.\n",
      "이 자동차는 디젤차입니다.\n"
     ]
    }
   ],
   "source": [
    "Car.check_type(25)\n",
    "Car.check_type(2)"
   ]
  },
  {
   "cell_type": "markdown",
   "id": "5e24e8b3-dead-4b64-985c-738050fe4322",
   "metadata": {},
   "source": [
    "#### 클래스 메서드"
   ]
  },
  {
   "cell_type": "markdown",
   "id": "8abb5646-8c39-4e5d-820f-9acbe7a46da1",
   "metadata": {},
   "source": [
    "**[8장: 150페이지]**"
   ]
  },
  {
   "cell_type": "code",
   "execution_count": null,
   "id": "d8c388fb-6e8d-4e17-b159-6e3b4b708c25",
   "metadata": {},
   "outputs": [],
   "source": [
    "# Car 클래스 선언\n",
    "class Car():\n",
    "    instance_count = 0 # 클래스 변수    \n",
    "  \n",
    "    # 초기화 함수(인스턴스 메서드)\n",
    "    def __init__(self, size, color):\n",
    "        self.size = size    # 인스턴스 변수\n",
    "        self.color = color  # 인스턴스 변수\n",
    "        Car.instance_count = Car.instance_count + 1\n",
    "       \n",
    "    # def move(self, speed): => 앞의 코드 활용\n",
    "    # def auto_cruise(self): => 앞의 코드 활용\n",
    "    # @staticmethod\n",
    "    # def check_type(model_code): => 앞의 코드 활용\n",
    "    \n",
    "    # 클래스 메서드 (인스턴스메서드랑 같은 말이란 건가) == 주소로 호출\n",
    "    @classmethod \n",
    "    def count_instance(self):\n",
    "        print(\"자동차 객체의 개수: {0}\".format(cls.instance_count))\n",
    "        \n",
    "#-------------------------------------------------------번외.\n",
    "    # 클래스 메서드 \n",
    "    @classmethod # 번외: self==cls이지만 cls로 쓰면 어떨 때는 클래스 와도 돼.. 예외 조항.(cls 예약된 언어) 웬만하면 하지마..\n",
    "    def count_instance(cls):\n",
    "        print(\"자동차 객체의 개수: {0}\".format(cls.instance_count))\n",
    "        \n"
   ]
  },
  {
   "cell_type": "markdown",
   "id": "ad46550d-d69b-48ec-b4c8-93b63add40b3",
   "metadata": {},
   "source": [
    "**[8장: 150페이지]**"
   ]
  },
  {
   "cell_type": "code",
   "execution_count": null,
   "id": "636bd1f8-b68b-4e3a-a047-6500de8b26f9",
   "metadata": {},
   "outputs": [],
   "source": [
    "Car.count_instance() # 객체 생성 전에 클래스 메서드 호출\n",
    "\n",
    "car1 = Car(\"small\", \"red\") # 첫 번째 객체 생성\n",
    "Car.count_instance() # 클래스 메서드 호출\n",
    "car1.count_instance()\n",
    "car1.count_instance()\n",
    "\n",
    "car2 = Car(\"big\", \"green\") # 두 번째 객체 생성\n",
    "Car.count_instance() # 클래스 메서드 호출"
   ]
  },
  {
   "cell_type": "markdown",
   "id": "a1480af1-3a7c-42b3-979c-0a6262af3330",
   "metadata": {},
   "source": [
    "## 8.3 객체와 클래스를 사용하는 이유"
   ]
  },
  {
   "cell_type": "markdown",
   "id": "e4502c3d-d825-427c-aa0e-d66dab040732",
   "metadata": {},
   "source": [
    "**[8장: 151페이지]**"
   ]
  },
  {
   "cell_type": "code",
   "execution_count": 53,
   "id": "855d7bd9-7802-4329-bc9f-a996f91c6637",
   "metadata": {},
   "outputs": [],
   "source": [
    "robot_name = 'R1' # 로봇 이름\n",
    "robot_pos = 0 # 로봇의 초기 위치\n",
    "\n",
    "def robot_move():\n",
    "    global robot_pos\n",
    "    robot_pos = robot_pos + 1\n",
    "    print(\"{0} position: {1}\".format(robot_name, robot_pos))"
   ]
  },
  {
   "cell_type": "markdown",
   "id": "b636b618-c799-4072-adfd-30e42a550d55",
   "metadata": {},
   "source": [
    "**[8장: 152페이지]**"
   ]
  },
  {
   "cell_type": "code",
   "execution_count": 54,
   "id": "1d18443c-9260-402d-aaca-90bd8c5721ae",
   "metadata": {},
   "outputs": [
    {
     "name": "stdout",
     "output_type": "stream",
     "text": [
      "R1 position: 1\n"
     ]
    }
   ],
   "source": [
    "robot_move()"
   ]
  },
  {
   "cell_type": "markdown",
   "id": "f60b7d5f-c104-4de6-aba1-1e34195f7eee",
   "metadata": {},
   "source": [
    "**[8장: 152페이지]**"
   ]
  },
  {
   "cell_type": "code",
   "execution_count": 56,
   "id": "8d781bf1-4f5c-4b03-b26a-6227ec3e705f",
   "metadata": {},
   "outputs": [],
   "source": [
    "robot1_name = 'R1' # 로봇 이름\n",
    "robot1_pos = 0 # 로봇의 초기 위치\n",
    "\n",
    "def robot1_move():\n",
    "    global robot1_pos\n",
    "    robot1_pos = robot1_pos + 1\n",
    "    print(\"{0} position: {1}\".format(robot1_name, robot1_pos))\n",
    "\n",
    "    \n",
    "    #-----------------------------------------------------------\n",
    "robot2_name = 'R2' # 로봇 이름\n",
    "robot2_pos = 10 # 로봇의 초기 위치\n",
    "\n",
    "def robot2_move():\n",
    "    global robot2_pos\n",
    "    robot2_pos = robot2_pos + 1\n",
    "    print(\"{0} position: {1}\".format(robot2_name, robot2_pos))\n",
    "    \n",
    "    \n",
    "# --> 각자 할 거면 계속 복붙해서 만들어야되나? 이상하다."
   ]
  },
  {
   "cell_type": "markdown",
   "id": "82a051ae-1893-41fc-bb11-6324f0661835",
   "metadata": {},
   "source": [
    "**[8장: 152페이지]**"
   ]
  },
  {
   "cell_type": "code",
   "execution_count": 57,
   "id": "9cbd0caf-c917-478d-9ddd-a637038e1d33",
   "metadata": {},
   "outputs": [
    {
     "name": "stdout",
     "output_type": "stream",
     "text": [
      "R1 position: 1\n",
      "R2 position: 11\n"
     ]
    }
   ],
   "source": [
    "robot1_move()\n",
    "robot2_move()"
   ]
  },
  {
   "cell_type": "markdown",
   "id": "b77499b4-3a70-46ae-829f-4c5c3157d9a8",
   "metadata": {},
   "source": [
    "**[8장: 153페이지]**"
   ]
  },
  {
   "cell_type": "code",
   "execution_count": 60,
   "id": "bde40c5e-ad8e-4d95-b376-f71155d300b8",
   "metadata": {},
   "outputs": [],
   "source": [
    "# ------------> 클래스로 만들고 생성자 만들어서 쓰면 이런 반복 코딩 안 해도 된다.\n",
    "\n",
    "class Robot():\n",
    "    def __init__(self, name, pos): \n",
    "        self.name = name # 로봇 객체의 이름\n",
    "        self.pos = pos # 로봇 객체의 위치\n",
    "       \n",
    "    def move(self):\n",
    "        self.pos = self.pos + 1\n",
    "        print(\"{0} position: {1}\".format(self.name, self.pos))"
   ]
  },
  {
   "cell_type": "markdown",
   "id": "26425ff6-20cf-4659-a31c-b1662b696498",
   "metadata": {},
   "source": [
    "**[8장: 153페이지]**"
   ]
  },
  {
   "cell_type": "code",
   "execution_count": 61,
   "id": "a990f299-357b-4783-9610-7fa43d737be3",
   "metadata": {},
   "outputs": [],
   "source": [
    "robot1 = Robot('R1', 0)\n",
    "robot2 = Robot('R2', 10)"
   ]
  },
  {
   "cell_type": "markdown",
   "id": "0ae7c002-44a5-4a5c-a7f8-f506855610b2",
   "metadata": {},
   "source": [
    "**[8장: 153페이지]**"
   ]
  },
  {
   "cell_type": "code",
   "execution_count": 62,
   "id": "8b213c1d-843e-4cdc-bee1-9183f73356cb",
   "metadata": {},
   "outputs": [
    {
     "name": "stdout",
     "output_type": "stream",
     "text": [
      "R1 position: 1\n",
      "R2 position: 11\n"
     ]
    }
   ],
   "source": [
    "robot1.move()\n",
    "robot2.move()"
   ]
  },
  {
   "cell_type": "markdown",
   "id": "fdaa09b9-28e9-4f3f-8390-596c2096ef1a",
   "metadata": {},
   "source": [
    "**[8장: 153페이지]**"
   ]
  },
  {
   "cell_type": "code",
   "execution_count": 63,
   "id": "75441f41-0662-4ec2-9886-0c55f64ae222",
   "metadata": {},
   "outputs": [
    {
     "name": "stdout",
     "output_type": "stream",
     "text": [
      "R3 position: 31\n",
      "R4 position: 41\n"
     ]
    }
   ],
   "source": [
    "myRobot3 = Robot('R3', 30)\n",
    "myRobot4 = Robot('R4', 40)\n",
    "\n",
    "myRobot3.move()\n",
    "myRobot4.move()"
   ]
  },
  {
   "cell_type": "markdown",
   "id": "bd1e7b8b-3601-4612-a6af-5cc40d039176",
   "metadata": {},
   "source": [
    "## 8.4 클래스 상속\n",
    "\n",
    "-> 가져와서 내 것화 시킨다.\n",
    "\n",
    "import: 남에 거 잠깐 빌려서 쓰고 다시 갖다준다.  \n",
    "over-riding(상속): 내 것 화 되어서 마음대로 수정할 수 있다. 생성자(init) 빼고 가져온다  \n",
    "class [__class 명__] (ㅇ,ㅇ):  \n",
    "                  누구 거 가져오고 싶은지 쓴다.\n",
    "    -> 상속의 이점: 개발시간 단축, 획일화된 유형, 관리 효율성\n",
    "\n",
    "(싹 다 고칠 거면 상속하지 말고 그냥 새로 써라)  \n",
    "\n",
    "일반적으로 OOP에서는 상속 하나만 가능.(python과 c#은 다중상속 가능. 자바 절대 불가) -> 여러 개 하면 충돌날 가능성 높기 때문. 부모의부모의부모의부모의 클래스에 있으면 발견하기도 어렵.\n",
    "파이썬은 class(ㅇ,ㅇ,ㅇ,ㅇ,ㅇ,ㅇ,ㅇ,ㅇ) 여러 개 가능."
   ]
  },
  {
   "cell_type": "markdown",
   "id": "0ecc9052-c305-4d7a-8c57-08f211920359",
   "metadata": {},
   "source": [
    "**[8장: 155페이지]**"
   ]
  },
  {
   "cell_type": "code",
   "execution_count": 6,
   "id": "7bf34fe2-7633-4b82-9494-c83a399c4c12",
   "metadata": {},
   "outputs": [],
   "source": [
    "class Bicycle():                     #상속할 게 없으니 () 빼도 된다\n",
    "    \n",
    "    def __init__(self, wheel_size, color):\n",
    "        self.wheel_size = wheel_size\n",
    "        self.color = color\n",
    "        \n",
    "    def move(self, speed):\n",
    "        print(\"자전거: 시속 {0}킬로미터로 전진\".format(speed))\n",
    "        \n",
    "    def turn(self, direction):\n",
    "        print(\"자전거: {0}회전\".format(direction))\n",
    "        \n",
    "    def stop(self):\n",
    "        print(\"자전거({0}, {1}): 정지 \".format(self.wheel_size, self.color))"
   ]
  },
  {
   "cell_type": "markdown",
   "id": "517c8a90-f6cf-4b45-97ed-e025a1b251ae",
   "metadata": {},
   "source": [
    "**[8장: 156페이지]**"
   ]
  },
  {
   "cell_type": "code",
   "execution_count": 7,
   "id": "2895d1c2-d4d4-4021-9879-46e360bb1b41",
   "metadata": {},
   "outputs": [
    {
     "name": "stdout",
     "output_type": "stream",
     "text": [
      "자전거: 접기, state = folding\n",
      "자전거: 시속 60킬로미터로 전진\n",
      "자전거(21, bit): 정지 \n"
     ]
    }
   ],
   "source": [
    "class FoldingBicycle(Bicycle):           #Bicycle 상속 받음. 생성자는 안 가져온다.\n",
    "        \n",
    "    def __init__(self, wheel_size, color, state): # FoldingBicycle 초기화\n",
    "        Bicycle.__init__(self, wheel_size, color) # Bicycle의 초기화 재사용\n",
    "        #super().__init__(wheel_size, color) # super()도 사용 가능\n",
    "        self.state = state  # 자식 클래스에서 새로 추가한 변수 \n",
    "    \n",
    "    # move, turn, stop 자동으로 들어온다.(복붙한 느낌이지만 실제로는 부모님 거에 있다.)\n",
    "    #부모님 집 들락날락\n",
    "    \n",
    "    # move에 아주 작은 변형 가하고 싶은 경우. -> 원래 거에서 복붙해와서 수정하기(원본 거는 보존)\n",
    "    \n",
    "    # def move(self, speed):\n",
    "    #     print(\"자전거000000000: 시속 {0}킬로미터로 전진\".format(speed))\n",
    "    \n",
    "    def fold(self):\n",
    "        self.state = 'folding'\n",
    "        print(\"자전거: 접기, state = {0}\".format(self.state))\n",
    "\n",
    "    def unfold(self):\n",
    "        self.state = 'unfolding'\n",
    "        print(\"자전거: 펴기, state = {0}\".format(self.state))\n",
    "        \n",
    "fb=FoldingBicycle(21,'bit','bad')\n",
    "fb.fold()\n",
    "fb.move(60)\n",
    "fb.stop()\n",
    "\n",
    "# -> 다 가능"
   ]
  },
  {
   "cell_type": "markdown",
   "id": "bb06edd3-7846-4755-bf80-f6fcf80eefd4",
   "metadata": {},
   "source": [
    "**[8장: 156페이지]**"
   ]
  },
  {
   "cell_type": "code",
   "execution_count": 69,
   "id": "79c51bf9-add3-46d8-b3a4-fa8bcc55efa6",
   "metadata": {},
   "outputs": [
    {
     "name": "stdout",
     "output_type": "stream",
     "text": [
      "자전거000000000: 시속 20킬로미터로 전진\n",
      "자전거: 접기, state = folding\n",
      "자전거: 펴기, state = unfolding\n"
     ]
    }
   ],
   "source": [
    "folding_bicycle = FoldingBicycle(27, 'white', 'unfolding') # 객체 생성\n",
    "\n",
    "folding_bicycle.move(20) # 부모 클래스의 함수(메서드) 호출\n",
    "folding_bicycle.fold()   # 자식 클래스에서 정의한 함수 호출\n",
    "folding_bicycle.unfold()"
   ]
  }
 ],
 "metadata": {
  "kernelspec": {
   "display_name": "Python 3 (ipykernel)",
   "language": "python",
   "name": "python3"
  },
  "language_info": {
   "codemirror_mode": {
    "name": "ipython",
    "version": 3
   },
   "file_extension": ".py",
   "mimetype": "text/x-python",
   "name": "python",
   "nbconvert_exporter": "python",
   "pygments_lexer": "ipython3",
   "version": "3.8.8"
  }
 },
 "nbformat": 4,
 "nbformat_minor": 5
}
