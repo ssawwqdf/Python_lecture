{
 "cells": [
  {
   "cell_type": "code",
   "execution_count": 1,
   "id": "911cc78d-a0d9-45b3-b4d5-bde8b43c36e9",
   "metadata": {},
   "outputs": [
    {
     "name": "stdout",
     "output_type": "stream",
     "text": [
      "3\n"
     ]
    }
   ],
   "source": [
    "print(1+2)"
   ]
  },
  {
   "cell_type": "markdown",
   "id": "3f9f50ba-266f-4e81-aa85-43fab0123ff9",
   "metadata": {},
   "source": [
    "print (1+2)"
   ]
  },
  {
   "cell_type": "code",
   "execution_count": 2,
   "id": "21c48f4e-863d-4de2-91a3-20518e7a3caa",
   "metadata": {},
   "outputs": [
    {
     "name": "stdout",
     "output_type": "stream",
     "text": [
      "7\n"
     ]
    }
   ],
   "source": [
    "print(3+4)"
   ]
  },
  {
   "cell_type": "code",
   "execution_count": 3,
   "id": "ef0c6a14-f46a-4c4b-9918-93b9ab85f31e",
   "metadata": {},
   "outputs": [
    {
     "name": "stdout",
     "output_type": "stream",
     "text": [
      "13\n"
     ]
    }
   ],
   "source": [
    "print(7+6)"
   ]
  },
  {
   "cell_type": "markdown",
   "id": "e22a4fbb-42e7-4b4a-8652-389342d75b53",
   "metadata": {},
   "source": [
    "# 큰 글씨"
   ]
  },
  {
   "cell_type": "code",
   "execution_count": null,
   "id": "11b8c853-9fdb-4d13-85bd-a76f40f081d5",
   "metadata": {},
   "outputs": [],
   "source": [
    "<font color='red'></font> # 마크다운에서 폰트 변경"
   ]
  },
  {
   "cell_type": "code",
   "execution_count": null,
   "id": "45e74ef2-00cf-4d9f-b2c3-f72eddb72197",
   "metadata": {},
   "outputs": [],
   "source": [
    "<img src=> 어쩌고..."
   ]
  },
  {
   "cell_type": "markdown",
   "id": "384269d6-5c86-4d99-9479-941438e42910",
   "metadata": {},
   "source": [
    "# lec.01. 변수(Variable)\n",
    "* int, float, str, bool(True, False)\n",
    "* \"+ - * / ** // %\"\n",
    "* type()\n",
    "* or and not"
   ]
  },
  {
   "cell_type": "markdown",
   "id": "7c3c7768-6e14-419b-ae2f-07aeb422b5c5",
   "metadata": {},
   "source": [
    "변수마다 타입 존재.\n",
    "지구상에 있는 거의 대부분의 language는 변수 타입을 지정해줘야함.\n",
    "일반 문법\n",
    "int num=10\n",
    "string name = '이혜린'\n",
    "파이썬은 그렇지 않다. 그냥 바로 변수명=값 넣을 수 있다."
   ]
  },
  {
   "cell_type": "code",
   "execution_count": 5,
   "id": "f1d480fc-5494-4650-a8ed-479089d14816",
   "metadata": {},
   "outputs": [
    {
     "name": "stdout",
     "output_type": "stream",
     "text": [
      "이혜린\n"
     ]
    }
   ],
   "source": [
    "num = '이혜린'\n",
    "print(num)"
   ]
  },
  {
   "cell_type": "markdown",
   "id": "5fdf7907-ed17-4b37-8a0b-e4fb1587e5f7",
   "metadata": {},
   "source": [
    "num = 1 다시 하면 최신값으로 변경됨. 앞에서 str값 넣었어도 알 바 없다.\n",
    "파이썬은 공식적으로는 타입은 없지만 연산할 때는 고려한다."
   ]
  },
  {
   "cell_type": "code",
   "execution_count": 37,
   "id": "3c199ec2-91c9-47ad-aa87-9c9f1a3a92fa",
   "metadata": {},
   "outputs": [
    {
     "data": {
      "text/plain": [
       "int"
      ]
     },
     "execution_count": 37,
     "metadata": {},
     "output_type": "execute_result"
    }
   ],
   "source": [
    "type(-3)"
   ]
  },
  {
   "cell_type": "markdown",
   "id": "1747a20a-dad9-466b-b316-b3328d14b5eb",
   "metadata": {},
   "source": [
    "* 숫자+숫자==두 숫자 가산"
   ]
  },
  {
   "cell_type": "code",
   "execution_count": 6,
   "id": "5fedb1d6-4107-4664-908d-4c930a7c20b6",
   "metadata": {},
   "outputs": [
    {
     "name": "stdout",
     "output_type": "stream",
     "text": [
      "3\n"
     ]
    }
   ],
   "source": [
    "num1=1\n",
    "num2=2\n",
    "\n",
    "print(num1+num2)"
   ]
  },
  {
   "cell_type": "markdown",
   "id": "1b6b8e3a-4a9c-47cd-8e91-a001c0d2e275",
   "metadata": {},
   "source": [
    "* 글자+글자 ==두 글자 합친다."
   ]
  },
  {
   "cell_type": "code",
   "execution_count": null,
   "id": "d81dd005-9aca-4978-a807-272fe2a069bc",
   "metadata": {},
   "outputs": [],
   "source": [
    "num1='이혜린'\n",
    "num2='최고'\n",
    "print(num1+num2)"
   ]
  },
  {
   "cell_type": "markdown",
   "id": "dadbd9b8-eb43-4b89-8505-9442719b236b",
   "metadata": {},
   "source": [
    "* 우리는 지금 인터프리터 사용 중: 변수에 굳이 안 넣어도 되고 print 안 해도 출력된다. 단, print 안 하면 여러 줄 입력 시 마지막 것만 나온다."
   ]
  },
  {
   "cell_type": "code",
   "execution_count": 7,
   "id": "1a8502df-254e-4f99-8bc9-a2775c1b4be2",
   "metadata": {},
   "outputs": [
    {
     "name": "stdout",
     "output_type": "stream",
     "text": [
      "4.86\n"
     ]
    }
   ],
   "source": [
    "print(1.74+3.12)"
   ]
  },
  {
   "cell_type": "code",
   "execution_count": 10,
   "id": "63b5c18d-6616-4b19-b353-2ef0363a30e1",
   "metadata": {},
   "outputs": [
    {
     "data": {
      "text/plain": [
       "'가나다+라마'"
      ]
     },
     "execution_count": 10,
     "metadata": {},
     "output_type": "execute_result"
    }
   ],
   "source": [
    "1.73+3.124\n",
    "'가나다+라마'"
   ]
  },
  {
   "cell_type": "code",
   "execution_count": 11,
   "id": "f8c21dee-e087-4337-851f-20da5f3b011b",
   "metadata": {},
   "outputs": [
    {
     "name": "stdout",
     "output_type": "stream",
     "text": [
      "239.58319999999998\n",
      "가나다라마\n"
     ]
    }
   ],
   "source": [
    "print(1.3832+238.2)\n",
    "print('가나다'+'라마')"
   ]
  },
  {
   "cell_type": "code",
   "execution_count": 14,
   "id": "137a42d2-4e54-465f-bcfe-e530640f3d2c",
   "metadata": {},
   "outputs": [
    {
     "data": {
      "text/plain": [
       "8"
      ]
     },
     "execution_count": 14,
     "metadata": {},
     "output_type": "execute_result"
    }
   ],
   "source": [
    "2**3 # **는 제곱"
   ]
  },
  {
   "cell_type": "markdown",
   "id": "a114783c-8c89-4e5d-b860-cdb847b51a4f",
   "metadata": {},
   "source": [
    "%는 나머지, //는 몫을 의미한다."
   ]
  },
  {
   "cell_type": "code",
   "execution_count": 17,
   "id": "a69ce554-1f68-4cc0-acc7-dff6ba3a2b1c",
   "metadata": {},
   "outputs": [
    {
     "data": {
      "text/plain": [
       "(2.6, 2, 3)"
      ]
     },
     "execution_count": 17,
     "metadata": {},
     "output_type": "execute_result"
    }
   ],
   "source": [
    "13/5 , 13//5, 13%5"
   ]
  },
  {
   "cell_type": "code",
   "execution_count": 18,
   "id": "274867f4-388e-495d-a99f-2dc1f02ed5df",
   "metadata": {},
   "outputs": [],
   "source": [
    "#은 주석"
   ]
  },
  {
   "cell_type": "code",
   "execution_count": 19,
   "id": "a9dce93c-a954-4aed-b7fa-6607945ef1b1",
   "metadata": {},
   "outputs": [],
   "source": [
    "# 지수승이 가능하다. e하면 뭐 소수점 개수 맞추는 거라고???"
   ]
  },
  {
   "cell_type": "markdown",
   "id": "98414415-fbb1-4629-a418-2391c6eb9a2a",
   "metadata": {},
   "source": [
    "## 파이썬 논리연산"
   ]
  },
  {
   "cell_type": "markdown",
   "id": "71897246-ba10-4f5b-8933-3097c0119dba",
   "metadata": {},
   "source": [
    "* 논리: True, False"
   ]
  },
  {
   "cell_type": "code",
   "execution_count": 23,
   "id": "92e0ae32-037f-48a3-9ba7-deb7bb106b0b",
   "metadata": {},
   "outputs": [
    {
     "name": "stdout",
     "output_type": "stream",
     "text": [
      "True\n",
      "False\n"
     ]
    }
   ],
   "source": [
    "print(True) # 앞 글자 대문자여야 함.\n",
    "# print(true) # 소문자 쓰면 에러\n",
    "print(False) #파이썬은 대소문자 엄격하다."
   ]
  },
  {
   "cell_type": "code",
   "execution_count": 24,
   "id": "d9b35080-642c-4998-9e97-9b4a7e324af1",
   "metadata": {},
   "outputs": [
    {
     "data": {
      "text/plain": [
       "bool"
      ]
     },
     "execution_count": 24,
     "metadata": {},
     "output_type": "execute_result"
    }
   ],
   "source": [
    "type(True) # bool 타입"
   ]
  },
  {
   "cell_type": "code",
   "execution_count": 25,
   "id": "5a59688a-f308-47ed-93b1-e8bd7e4dfb11",
   "metadata": {},
   "outputs": [
    {
     "name": "stdout",
     "output_type": "stream",
     "text": [
      "True\n"
     ]
    }
   ],
   "source": [
    "# and or not\n",
    "print(True and True)"
   ]
  },
  {
   "cell_type": "code",
   "execution_count": 26,
   "id": "39ac6725-bb09-486c-a995-cea2aba6936c",
   "metadata": {},
   "outputs": [
    {
     "name": "stdout",
     "output_type": "stream",
     "text": [
      "False\n"
     ]
    }
   ],
   "source": [
    "print(False and False)"
   ]
  },
  {
   "cell_type": "code",
   "execution_count": 27,
   "id": "b4ea2f03-9eda-4cf6-b83a-7b093ebfbd07",
   "metadata": {},
   "outputs": [
    {
     "name": "stdout",
     "output_type": "stream",
     "text": [
      "True\n"
     ]
    }
   ],
   "source": [
    "print(True or True)"
   ]
  },
  {
   "cell_type": "code",
   "execution_count": 28,
   "id": "a31c79be-6c60-49d0-93e1-927601bb5042",
   "metadata": {},
   "outputs": [
    {
     "name": "stdout",
     "output_type": "stream",
     "text": [
      "False\n"
     ]
    }
   ],
   "source": [
    "print(False or False)"
   ]
  },
  {
   "cell_type": "code",
   "execution_count": 29,
   "id": "70707e07-734e-4748-81c7-8a295058f1b0",
   "metadata": {},
   "outputs": [
    {
     "name": "stdout",
     "output_type": "stream",
     "text": [
      "True\n"
     ]
    }
   ],
   "source": [
    "print(True or False) #둘 중 하나라도 트루면 트루."
   ]
  },
  {
   "cell_type": "code",
   "execution_count": 30,
   "id": "4b68fe5c-b529-43d2-95c7-355347c1fe7d",
   "metadata": {},
   "outputs": [
    {
     "name": "stdout",
     "output_type": "stream",
     "text": [
      "False\n"
     ]
    }
   ],
   "source": [
    "print(True and False) #둘 다 True여야 True"
   ]
  },
  {
   "cell_type": "code",
   "execution_count": 31,
   "id": "8cd8c0e2-b897-49b6-ba12-754d92534606",
   "metadata": {},
   "outputs": [
    {
     "name": "stdout",
     "output_type": "stream",
     "text": [
      "False\n"
     ]
    }
   ],
   "source": [
    "print(not True)"
   ]
  },
  {
   "cell_type": "code",
   "execution_count": 32,
   "id": "101b71ac-fade-4fe4-bc03-9d2a577ff14e",
   "metadata": {},
   "outputs": [
    {
     "name": "stdout",
     "output_type": "stream",
     "text": [
      "False\n",
      "True\n",
      "False\n",
      "True\n",
      "False\n",
      "True\n"
     ]
    }
   ],
   "source": [
    "print(5 == 3) # 같아요가 ==이다. 주의!\n",
    "print(5 != 3) # 다르다\n",
    "print(5 < 3)\n",
    "print(5 > 3)\n",
    "print(5 <= 3)\n",
    "print(5 >= 3)"
   ]
  },
  {
   "cell_type": "markdown",
   "id": "4cf76b5d-b895-47c9-94f7-d2af145c3459",
   "metadata": {},
   "source": [
    "* ==(같다), =(대입)"
   ]
  },
  {
   "cell_type": "code",
   "execution_count": 35,
   "id": "7e1a5b5d-2750-428c-8e89-3740044eb659",
   "metadata": {},
   "outputs": [
    {
     "name": "stdout",
     "output_type": "stream",
     "text": [
      "3\n"
     ]
    }
   ],
   "source": [
    "num=3 # 3을 num이라는 변쉥 넣어라\n",
    "print(num)"
   ]
  },
  {
   "cell_type": "code",
   "execution_count": 36,
   "id": "75de29fa-4e4e-454e-90aa-8804db3d142a",
   "metadata": {},
   "outputs": [
    {
     "name": "stdout",
     "output_type": "stream",
     "text": [
      "False\n"
     ]
    }
   ],
   "source": [
    "print(((3 > 0) or (-5 > 0)) and ((4 > 8) or ( 3 < 0)))\n",
    "#       (True  or   False)      (False   or  False)\n",
    "#             True          and          False\n",
    "#                          False"
   ]
  },
  {
   "cell_type": "code",
   "execution_count": null,
   "id": "4ecd43fc-484b-4adc-9ba2-2183f368b992",
   "metadata": {},
   "outputs": [],
   "source": [
    "셀 벗어나도 변수 저장됨."
   ]
  },
  {
   "cell_type": "markdown",
   "id": "4bb46272-5b01-47a1-8442-4bc3632162ba",
   "metadata": {},
   "source": [
    "* 역슬래쉬 특수 표현"
   ]
  },
  {
   "cell_type": "code",
   "execution_count": 41,
   "id": "53fc392b-ded3-464a-ae83-2e3ca477caed",
   "metadata": {},
   "outputs": [
    {
     "name": "stdout",
     "output_type": "stream",
     "text": [
      "This is a \"single\" quotation test\n"
     ]
    }
   ],
   "source": [
    "#굳이 \"로 시작했는데 안에도 \" 넣고 싶으면 \" 앞에 \\(역 슬래쉬) 넣기\n",
    "\n",
    "# \\기호: 글자기호\n",
    "string4 = \"This is a \\\"single\\\" quotation test\"\n",
    "print(string4)"
   ]
  },
  {
   "cell_type": "code",
   "execution_count": 38,
   "id": "b0cb94c4-3807-4c20-a6a5-6caf1bcb5328",
   "metadata": {},
   "outputs": [
    {
     "name": "stdout",
     "output_type": "stream",
     "text": [
      "abc\n",
      "abc\n"
     ]
    }
   ],
   "source": [
    "# \\n: 줄바꿈\n",
    "print(\"abc\\nabc\")"
   ]
  },
  {
   "cell_type": "code",
   "execution_count": 40,
   "id": "70dcb37d-3a72-4a7a-b755-34f16f3ae2f8",
   "metadata": {},
   "outputs": [
    {
     "name": "stdout",
     "output_type": "stream",
     "text": [
      "abc\tabc\n"
     ]
    }
   ],
   "source": [
    "# \\t: 탭\n",
    "print(\"abc\\tabc\")"
   ]
  },
  {
   "cell_type": "code",
   "execution_count": null,
   "id": "c46a89b3-de02-4d0c-a709-befa8a815316",
   "metadata": {},
   "outputs": [],
   "source": [
    "long_string1 = '''[삼중 작은따옴표를 사용한 예]\n",
    "파이썬에는 삼중 따옴표로 여러 행의 문자열을 입력할 수 있습니다.\n",
    "큰따옴표(\")와 작은따옴표(')도 입력할 수 있습니다.''' \n",
    "\n",
    "long_string2 = \"\"\"[삼중 큰따옴표를 사용한 예]\n",
    "파이썬에는 삼중 따옴표로 여러 행의 문자열을 입력할 수 있습니다.\n",
    "큰따옴표(\")와 작은따옴표(')도 입력할 수 있습니다.\"\"\" \n",
    "\n",
    "print(long_string1)\n",
    "print(long_string2)"
   ]
  },
  {
   "cell_type": "markdown",
   "id": "1a9e52e6-2662-4183-9db4-f60b8cd7788a",
   "metadata": {},
   "source": [
    "* 문자열"
   ]
  },
  {
   "cell_type": "code",
   "execution_count": 42,
   "id": "bc31e805-cd65-43d3-8b3c-8aed7143c6fb",
   "metadata": {},
   "outputs": [
    {
     "name": "stdout",
     "output_type": "stream",
     "text": [
      "ABCDEF\n"
     ]
    }
   ],
   "source": [
    "# + 합치다\n",
    "print(\"ABC\"+\"DEF\")"
   ]
  },
  {
   "cell_type": "code",
   "execution_count": 47,
   "id": "3e3269f1-0860-4436-943c-9e5ecc419bca",
   "metadata": {},
   "outputs": [
    {
     "name": "stdout",
     "output_type": "stream",
     "text": [
      "ABCABCABC\n"
     ]
    }
   ],
   "source": [
    "# * 반복하라\n",
    "print('ABC' * 3) #세 번 반복하라."
   ]
  },
  {
   "cell_type": "code",
   "execution_count": 43,
   "id": "567bbdc4-03d4-452a-967c-7d746678a525",
   "metadata": {},
   "outputs": [
    {
     "ename": "TypeError",
     "evalue": "can only concatenate str (not \"int\") to str",
     "output_type": "error",
     "traceback": [
      "\u001b[1;31m---------------------------------------------------------------------------\u001b[0m",
      "\u001b[1;31mTypeError\u001b[0m                                 Traceback (most recent call last)",
      "\u001b[1;32m~\\AppData\\Local\\Temp/ipykernel_7196/3277099361.py\u001b[0m in \u001b[0;36m<module>\u001b[1;34m\u001b[0m\n\u001b[1;32m----> 1\u001b[1;33m \u001b[0mprint\u001b[0m\u001b[1;33m(\u001b[0m\u001b[1;34m\"ABC\"\u001b[0m\u001b[1;33m+\u001b[0m\u001b[1;36m1\u001b[0m\u001b[1;33m)\u001b[0m \u001b[1;31m#에러\u001b[0m\u001b[1;33m\u001b[0m\u001b[1;33m\u001b[0m\u001b[0m\n\u001b[0m",
      "\u001b[1;31mTypeError\u001b[0m: can only concatenate str (not \"int\") to str"
     ]
    }
   ],
   "source": [
    "print(\"ABC\"+1) #에러"
   ]
  },
  {
   "cell_type": "code",
   "execution_count": 46,
   "id": "ef0648c8-0bab-497e-907b-b8f91edcda37",
   "metadata": {},
   "outputs": [
    {
     "name": "stdout",
     "output_type": "stream",
     "text": [
      "hihihi\n"
     ]
    }
   ],
   "source": [
    "a='hi'\n",
    "print(a*3)"
   ]
  },
  {
   "cell_type": "markdown",
   "id": "2ffbfa01-f3e0-4b11-80c4-67c02b5fb9f8",
   "metadata": {
    "tags": []
   },
   "source": [
    "### 리스트(List), 튜플Tuple), 딕셔너리(Dictionary), ..... 셋(Set)\n",
    "#### 다 까먹어도 얘들은 까먹지 마라\n",
    "얘네는 값을 여러개 담을 수 있다. 변수 하나에 한 값만을 담을 수 있다면 번거로울 것.\n",
    "\n",
    "리스트: []  \n",
    "튜플: ()  \n",
    "딕셔너리: {}  \n",
    "셋: {} -> 오라클의 distinct처럼 중복값을 제거한다.\n",
    "\n",
    "비단 파이썬만의 문법은 아니고 다른 language에서도 똑같이 통용됨."
   ]
  },
  {
   "cell_type": "code",
   "execution_count": 57,
   "id": "761554c1-7ad3-4f15-9d40-3432b2c370d4",
   "metadata": {},
   "outputs": [],
   "source": [
    "num1=1\n",
    "num2=2\n",
    "num3=3\n",
    "num_list= [1,2,3,3,3]\n",
    "num_tupl= (1,2,3,3,3)\n",
    "num_set= {1,2,3,3,3} # 딕셔너리로 생각하면 정상적인 문법 아니라 에러 나야한다.\n"
   ]
  },
  {
   "cell_type": "code",
   "execution_count": 58,
   "id": "d36b2f22-8067-474d-828d-fb593c78f6f2",
   "metadata": {},
   "outputs": [
    {
     "name": "stdout",
     "output_type": "stream",
     "text": [
      "[1, 2, 3, 3, 3] <class 'list'>\n"
     ]
    }
   ],
   "source": [
    "print(num_list, type(num_list)) #리스트 타입이다."
   ]
  },
  {
   "cell_type": "code",
   "execution_count": 59,
   "id": "faf42099-adea-49fa-88cc-64da2084923a",
   "metadata": {},
   "outputs": [
    {
     "name": "stdout",
     "output_type": "stream",
     "text": [
      "(1, 2, 3, 3, 3) <class 'tuple'>\n"
     ]
    }
   ],
   "source": [
    "print(num_tupl, type(num_tupl)) #튜플 타입이다."
   ]
  },
  {
   "cell_type": "code",
   "execution_count": 60,
   "id": "127d005e-e173-48b4-920e-005ac5608560",
   "metadata": {},
   "outputs": [
    {
     "name": "stdout",
     "output_type": "stream",
     "text": [
      "{1, 2, 3} <class 'set'>\n"
     ]
    }
   ],
   "source": [
    "print(num_set, type(num_set)) #셋 타입이다.#distinct"
   ]
  },
  {
   "cell_type": "code",
   "execution_count": 62,
   "id": "9af4f84a-6203-4d54-a439-c7655eeb820a",
   "metadata": {},
   "outputs": [
    {
     "name": "stdout",
     "output_type": "stream",
     "text": [
      "{'n1': 1, 'n2': 2, 'n3': 3} <class 'dict'>\n"
     ]
    }
   ],
   "source": [
    "# dictionary 문법\n",
    "# num_dict={키:값, 키:값, 키:값, ...}꼴로 나타낸다.\n",
    "num_dict={'n1':1, 'n2':2, 'n3':3}\n",
    "print(num_dict, type(num_dict))\n",
    "\n",
    "# num_dict={'n1':1, 'n2':2, 'n2':3}하면 n2는 마지막에 입력한 3으로 인식."
   ]
  },
  {
   "cell_type": "markdown",
   "id": "e1b8e254-ac3d-4abe-a8ca-df0f0579cd78",
   "metadata": {},
   "source": [
    "인덱스를 이용해 일부만 출력.  \n",
    "<font color='red'>인덱스는 0번째부터 시작(대부분의 랭기지에 적용됨)</font>"
   ]
  },
  {
   "cell_type": "code",
   "execution_count": 69,
   "id": "4eed25c7-d731-40db-a74e-20b7677135ae",
   "metadata": {},
   "outputs": [
    {
     "name": "stdout",
     "output_type": "stream",
     "text": [
      "1\n",
      "4\n",
      "[1, 2]\n"
     ]
    }
   ],
   "source": [
    "num_list= [1,2,3,4,5]\n",
    "#print(num_list) 하면 모든 값 다 나온다.\n",
    "print(num_list[0]) # 변수이름[{숫자}]쓰면 해당 숫자번째(index) 값 출력\n",
    "print(num_list[3]) #0번째부터 시작하니 3 쓰면 4가 나온다."
   ]
  },
  {
   "cell_type": "markdown",
   "id": "1f67a67e-d41f-4cf7-995d-f3eadc9a32b0",
   "metadata": {},
   "source": [
    "**일부만 여러 개 뽑고 싶으면 슬라이싱 이용.**\n",
    "슬라이싱. [s:e]. s: start, e: end. s번째 이상 e번째 **미만**\n",
    "앞은 이상이고 뒤는 미만임에 유의\n",
    "s 안 쓰면 처음부터(0번째부터)\n",
    "-1: 맨 뒷 자리."
   ]
  },
  {
   "cell_type": "code",
   "execution_count": 79,
   "id": "7d246aee-4131-45ce-89f3-de69094711bf",
   "metadata": {},
   "outputs": [
    {
     "name": "stdout",
     "output_type": "stream",
     "text": [
      "[1, 2, 3]\n",
      "4\n",
      "[4, 5]\n",
      "[1, 2, 3, 4]\n",
      "[1, 2, 3, 4, 5]\n",
      "[1, 2, 3, 4]\n"
     ]
    }
   ],
   "source": [
    "print(num_list[0:3]) # 0번째 이상, 3번째 미만이니까 이렇게 해야 1,2,3 나옴.\n",
    "print(num_list[-2]) #뒤에서 두 번째 것만\n",
    "print(num_list[-2:]) #뒤에서 두 개 뽑으려면? 0을 쓰는 건 안 된다.\n",
    "print(num_list[:-1]) #마지막 거 빼고 다\n",
    "print(num_list[:]) # 맨 처음부터 맨 끝까지긴 한데 이러면 굳이 슬라이싱 안 써도 된다.\n",
    "#start부터 end는 늘 왼쪽에서 오른쪽으로 읽어야 함에 유의.\n",
    "#-2번째부터 0번째, -1번째부터 -3번째 이런 건 안 된다.\n",
    "#-와 +부호 섞어쓰는 자체는 상관 없다.\n",
    "print(num_list[0:-1])"
   ]
  },
  {
   "cell_type": "code",
   "execution_count": null,
   "id": "f167fe7e-32dc-4628-9849-0588ad3b30c4",
   "metadata": {},
   "outputs": [],
   "source": []
  },
  {
   "cell_type": "code",
   "execution_count": 84,
   "id": "e1acbc4b-1b6a-4885-9f58-0af9bee23eac",
   "metadata": {},
   "outputs": [
    {
     "name": "stdout",
     "output_type": "stream",
     "text": [
      "['ab', 'c', 'd', 88, True, 0.14] <class 'list'>\n"
     ]
    }
   ],
   "source": [
    "str_list = ['ab','c','d',88, True, 0.14] #파이썬 특징. 눈으로는 type 신경 안 쓴다.\n",
    "print(str_list, type(str_list))"
   ]
  },
  {
   "cell_type": "code",
   "execution_count": 115,
   "id": "bebd96f3-c1d0-4997-97ed-ca19c4f9db38",
   "metadata": {},
   "outputs": [
    {
     "name": "stdout",
     "output_type": "stream",
     "text": [
      "['ab', 'c', 'd', 88, True, 0.14, [1, 2, 3], {1, 2, 3}, (11, 22, 33), {'n1': 50, 'n2': 9, 'n3': 3}] <class 'list'>\n",
      "[1, 2, 3]\n",
      "2\n",
      "22\n",
      "50\n",
      "50\n"
     ]
    }
   ],
   "source": [
    "str_list = ['ab','c','d',88, True, 0.14, [1,2,3], {1,2,3}, (11,22,33), {'n1':50, 'n2':9, 'n3':3}]\n",
    "print(str_list, type(str_list))\n",
    "print(str_list[6]) #덩어리가 통째로 들어간다.\n",
    "print(str_list[6][1]) #덩어리 안에서도 일부만 뺄 수 있다. 붙여서[]쓰면 됨.\n",
    "# print(str_list[7][1]). #에러. 셋은 안 된다.\n",
    "print(str_list[8][1])\n",
    "print(str_list[9]['n1']) #딕셔너리는 다른 애들과 다르게 키값으로 빼야 한다.\n",
    "print(str_list[9][\"n1\"])"
   ]
  },
  {
   "cell_type": "markdown",
   "id": "52ef1d68-1278-4076-8d5a-cef8473df52f",
   "metadata": {},
   "source": [
    "아래 quiz를 이용해 다음을 출력하시오.(강사님이 앞뒤로 \"\"\"넣으랬는데 이러면 출력 안 됨.)\n",
    "400\n",
    "\n",
    "badRequest\n",
    "\n",
    "youtube.googleapis.com"
   ]
  },
  {
   "cell_type": "code",
   "execution_count": 132,
   "id": "405b1076-bdc2-4d80-ae28-37a14acdf84d",
   "metadata": {},
   "outputs": [
    {
     "name": "stdout",
     "output_type": "stream",
     "text": [
      " {\n",
      "  \"error\": {\n",
      "    \"code\": 400,\n",
      "    \"message\": \"API key not valid. Please pass a valid API key.\",\n",
      "    \"errors\": [\n",
      "      {\n",
      "        \"message\": \"API key not valid. Please pass a valid API key.\",\n",
      "        \"domain\": \"global\",\n",
      "        \"reason\": \"badRequest\"\n",
      "      }\n",
      "    ],\n",
      "    \"status\": \"INVALID_ARGUMENT\",\n",
      "    \"details\": [\n",
      "      {\n",
      "        \"@type\": \"type.googleapis.com/google.rpc.ErrorInfo\",\n",
      "        \"reason\": \"API_KEY_INVALID\",\n",
      "        \"domain\": \"googleapis.com\",\n",
      "        \"metadata\": {\n",
      "          \"service\": \"youtube.googleapis.com\"\n",
      "        }\n",
      "      }\n",
      "    ]\n",
      "  }\n",
      "}\n",
      "\n"
     ]
    }
   ],
   "source": [
    "# 유튜브 에러메세지. ->여기에도 dict가 있다. key:value\n",
    "quiz= {\n",
    "  \"error\": {\n",
    "    \"code\": 400,\n",
    "    \"message\": \"API key not valid. Please pass a valid API key.\",\n",
    "    \"errors\": [\n",
    "      {\n",
    "        \"message\": \"API key not valid. Please pass a valid API key.\",\n",
    "        \"domain\": \"global\",\n",
    "        \"reason\": \"badRequest\"\n",
    "      }\n",
    "    ],\n",
    "    \"status\": \"INVALID_ARGUMENT\",\n",
    "    \"details\": [\n",
    "      {\n",
    "        \"@type\": \"type.googleapis.com/google.rpc.ErrorInfo\",\n",
    "        \"reason\": \"API_KEY_INVALID\",\n",
    "        \"domain\": \"googleapis.com\",\n",
    "        \"metadata\": {\n",
    "          \"service\": \"youtube.googleapis.com\"\n",
    "        }\n",
    "      }\n",
    "    ]\n",
    "  }\n",
    "}\n",
    "\n",
    "print(quiz)\n",
    "\n"
   ]
  },
  {
   "cell_type": "code",
   "execution_count": 134,
   "id": "7eff6c8a-e5d0-47cf-af12-c01a15382f1e",
   "metadata": {},
   "outputs": [
    {
     "name": "stdout",
     "output_type": "stream",
     "text": [
      "400\n",
      "badRequest\n",
      "youtube.googleapis.com\n"
     ]
    }
   ],
   "source": [
    "print(quiz[\"error\"][\"code\"])\n",
    "print(quiz[\"error\"][\"errors\"][0][\"reason\"])\n",
    "print(quiz[\"error\"][\"details\"][0][\"metadata\"][\"service\"])"
   ]
  },
  {
   "cell_type": "markdown",
   "id": "4e99e7a5-ce9b-4b1f-9a55-9a29877e384b",
   "metadata": {},
   "source": [
    "99.9%는 이런 형태로 데이터를 준다. -> 원하는 걸 뽑아낼 수 있어야.\n",
    "ex. kakao json api 검색.\n",
    "rest API에서 예제 가져올 수 있다.\n",
    "\n",
    "ex. twitter json api 검색\n",
    "ex. 공공데이터포털 api\n",
    "\n",
    "이 문법 모르면 외부 데이터 가져올 수 없다!!!"
   ]
  }
 ],
 "metadata": {
  "kernelspec": {
   "display_name": "Python 3 (ipykernel)",
   "language": "python",
   "name": "python3"
  },
  "language_info": {
   "codemirror_mode": {
    "name": "ipython",
    "version": 3
   },
   "file_extension": ".py",
   "mimetype": "text/x-python",
   "name": "python",
   "nbconvert_exporter": "python",
   "pygments_lexer": "ipython3",
   "version": "3.8.8"
  }
 },
 "nbformat": 4,
 "nbformat_minor": 5
}
