{
 "cells": [
  {
   "cell_type": "markdown",
   "id": "114fa69b-2a46-46c6-8b54-1ba6c74f7d5c",
   "metadata": {},
   "source": [
    "# lec 12. DataFrame"
   ]
  },
  {
   "cell_type": "markdown",
   "id": "5d9749ad-b87c-4981-86f8-982316e0f605",
   "metadata": {},
   "source": [
    "(노션에 있는 거 가져옴. 강사님 주피터 차모)\n",
    "## - 생성자 = DataFrame(file) 데이터프레임\n",
    "\n",
    "1. 설치\n",
    "2. pandas 데이터(파일/DB) 기본 구조\n",
    "3. X번째(인덱스) 1:4번째(슬라이싱)\n",
    "4. reshape (1,8)--(8,1)\n",
    "5. 결측\n",
    "6. categorical : 사과1 바나나 2\n",
    "7. 그룹\n",
    "8. 시각화,시간...."
   ]
  },
  {
   "cell_type": "code",
   "execution_count": 9,
   "id": "64bf467a-25ac-488c-99cd-5e7e79dd3403",
   "metadata": {},
   "outputs": [
    {
     "name": "stdout",
     "output_type": "stream",
     "text": [
      "<class 'pandas.core.frame.DataFrame'>\n",
      "RangeIndex: 2 entries, 0 to 1\n",
      "Data columns (total 3 columns):\n",
      " #   Column  Non-Null Count  Dtype \n",
      "---  ------  --------------  ----- \n",
      " 0   seq     2 non-null      int64 \n",
      " 1   id      2 non-null      object\n",
      " 2   pw      2 non-null      int64 \n",
      "dtypes: int64(2), object(1)\n",
      "memory usage: 176.0+ bytes\n",
      "None\n"
     ]
    }
   ],
   "source": [
    "# pandas\n",
    "import pandas as pd # 99.9999% pd로 alias 준다.\n",
    "                    # ctrl+pandas클릭하면 __init__열린다.\n",
    "                    # pickle도 가능하게 해준다.(피클처럼 데이터 함부로 못 건들게 진공포장 시켜준다.) / read stata도 있네 하하\n",
    "                    # pandas.py (모듈)\n",
    "\n",
    "# df=pd.DataFrame() # 생성자 만들어줘야됨. DataFrame은 클래스 부모의부모의부모의부모 정도가 넘피\n",
    "                    # __init__.py가  들어가는 영역이 생긴다.\n",
    "# 생성자 변수로 주로 들어가는 애들\n",
    "# data=None,\n",
    "# index: Axes | None = None,\n",
    "# columns: Axes | None = None,\n",
    "# dtype: Dtype | None = None,\n",
    "# ....\n",
    "\n",
    "\n",
    "df=pd.DataFrame( data=[ [1,'kim',111],[2,'lee',222]] ,\n",
    "                 columns=['seq','id','pw']\n",
    "                 # index= [11 22] 인덱스 어떻게 줄 건지 쓰는 것. 데이터 개수만큼 필요.(많으면 다 부여하기 어려워서 사실 그냥 안 쓴다.) 0번째부터 시작.\n",
    "                 # dtype= 안 쓰면 기본타입 들어감.\n",
    "                 )\n",
    "print(df.info()) # 결과: table의 description 이 나온다.\n",
    "                # / type의 object는 str타입. int는 혹시 몰라 제일 큰 64로 잡아준다. / 2 entries: 2 개의 row"
   ]
  },
  {
   "cell_type": "code",
   "execution_count": 10,
   "id": "f435ffca-cd60-4326-a50e-38701cd60dba",
   "metadata": {},
   "outputs": [
    {
     "data": {
      "text/html": [
       "<div>\n",
       "<style scoped>\n",
       "    .dataframe tbody tr th:only-of-type {\n",
       "        vertical-align: middle;\n",
       "    }\n",
       "\n",
       "    .dataframe tbody tr th {\n",
       "        vertical-align: top;\n",
       "    }\n",
       "\n",
       "    .dataframe thead th {\n",
       "        text-align: right;\n",
       "    }\n",
       "</style>\n",
       "<table border=\"1\" class=\"dataframe\">\n",
       "  <thead>\n",
       "    <tr style=\"text-align: right;\">\n",
       "      <th></th>\n",
       "      <th>seq</th>\n",
       "      <th>id</th>\n",
       "      <th>pw</th>\n",
       "    </tr>\n",
       "  </thead>\n",
       "  <tbody>\n",
       "    <tr>\n",
       "      <th>0</th>\n",
       "      <td>1</td>\n",
       "      <td>kim</td>\n",
       "      <td>111</td>\n",
       "    </tr>\n",
       "    <tr>\n",
       "      <th>1</th>\n",
       "      <td>2</td>\n",
       "      <td>lee</td>\n",
       "      <td>222</td>\n",
       "    </tr>\n",
       "  </tbody>\n",
       "</table>\n",
       "</div>"
      ],
      "text/plain": [
       "   seq   id   pw\n",
       "0    1  kim  111\n",
       "1    2  lee  222"
      ]
     },
     "execution_count": 10,
     "metadata": {},
     "output_type": "execute_result"
    }
   ],
   "source": [
    "df.head() # 기본값: 상단 5개 보여줘. / 안에 값 넣으면 그 개수만큼 보여준다."
   ]
  },
  {
   "cell_type": "code",
   "execution_count": 11,
   "id": "ab28a68e-b523-422c-a364-fe5cb37b2fb1",
   "metadata": {},
   "outputs": [],
   "source": [
    "import pandas as pd #pandas.py\n",
    "import numpy as np #numpy.py"
   ]
  },
  {
   "cell_type": "markdown",
   "id": "921eaa6c-7d5a-4e55-9218-1da1348030e3",
   "metadata": {},
   "source": [
    "## 방법 1) python 리스트 [] 에 데이터를 담아서 만들기 -> 구조를 넣었다 뺐다 할 때는 list 가 편하다."
   ]
  },
  {
   "cell_type": "code",
   "execution_count": 12,
   "id": "2b1d2a2f-e56e-4714-b02b-e4f6dd84bbe0",
   "metadata": {},
   "outputs": [
    {
     "name": "stdout",
     "output_type": "stream",
     "text": [
      "<class 'pandas.core.frame.DataFrame'>\n",
      "RangeIndex: 2 entries, 0 to 1\n",
      "Data columns (total 3 columns):\n",
      " #   Column  Non-Null Count  Dtype \n",
      "---  ------  --------------  ----- \n",
      " 0   seq     2 non-null      int64 \n",
      " 1   id      2 non-null      object\n",
      " 2   pw      2 non-null      int64 \n",
      "dtypes: int64(2), object(1)\n",
      "memory usage: 176.0+ bytes\n",
      "None\n"
     ]
    }
   ],
   "source": [
    "\n",
    "data_list=[ [1,'kim',111],\n",
    "            [2,'lee',222]\n",
    "          ]\n",
    "\n",
    "col_list=['seq','id','pw']\n",
    "\n",
    "df=pd.DataFrame( data= data_list,\n",
    "                 columns=col_list) # column 이름 안 주면 0,1,2 이렇게 준다.\n",
    "\n",
    "print(df.info())"
   ]
  },
  {
   "cell_type": "markdown",
   "id": "4a32397f-0c1e-4c8a-9d1f-601e443b7eec",
   "metadata": {},
   "source": [
    "## 방법 2) python np.array(list) 에 데이터를 담아서 만들기"
   ]
  },
  {
   "cell_type": "code",
   "execution_count": null,
   "id": "f7d9bd2b-8989-477a-af0e-4a807c31621f",
   "metadata": {},
   "outputs": [],
   "source": []
  },
  {
   "cell_type": "code",
   "execution_count": 13,
   "id": "9d32d222-973e-4845-a5b9-173a3ba63b5d",
   "metadata": {},
   "outputs": [
    {
     "name": "stdout",
     "output_type": "stream",
     "text": [
      "<class 'pandas.core.frame.DataFrame'>\n",
      "RangeIndex: 2 entries, 0 to 1\n",
      "Data columns (total 3 columns):\n",
      " #   Column  Non-Null Count  Dtype \n",
      "---  ------  --------------  ----- \n",
      " 0   seq     2 non-null      object\n",
      " 1   id      2 non-null      object\n",
      " 2   pw      2 non-null      object\n",
      "dtypes: object(3)\n",
      "memory usage: 176.0+ bytes\n",
      "None\n"
     ]
    }
   ],
   "source": [
    "data_list=[ [1,'kim',111],\n",
    "            [2,'lee',222]\n",
    "          ]\n",
    "data_arr=np.array(data_list)\n",
    "col_list=['seq','id','pw']\n",
    "\n",
    "df=pd.DataFrame( data= data_arr,    # ---------------리스트에서 배열로 변경\n",
    "                 columns=col_list)\n",
    "\n",
    "print(df.info())\n",
    "\n",
    "# --> 들어는간다. 하지만 Dtype이 다 object로 바뀜.\n",
    "# list 는 구조 덩어리를 다뤄서 구조 채로 넣어준다.\n",
    "# array는 단위단위 요소를 다루는 애라 그냥 다 바꿔서 넣는다.\n",
    "# 덩어리를 다룰 때는 list, 안에 있는 개별 값을 다룰 때는 array"
   ]
  },
  {
   "cell_type": "markdown",
   "id": "6359e0b2-c933-42d4-8427-a22b0ed8e012",
   "metadata": {},
   "source": [
    "## 방법 3) python dict{k:v} 에 데이터를 담아서 만들기"
   ]
  },
  {
   "cell_type": "code",
   "execution_count": 14,
   "id": "e0d56f1d-ae32-4760-a179-dc5575643156",
   "metadata": {},
   "outputs": [
    {
     "data": {
      "text/plain": [
       "국어    100\n",
       "영어     95\n",
       "수학     90\n",
       "dtype: int64"
      ]
     },
     "execution_count": 14,
     "metadata": {},
     "output_type": "execute_result"
    }
   ],
   "source": [
    "# cf. series의 경우\n",
    "s5 = pd.Series({'국어': 100, '영어': 95, '수학': 90}) # dict를 넣는 경우 key값이 index가되고 value가 value가 된다.\n",
    "s5"
   ]
  },
  {
   "cell_type": "code",
   "execution_count": 15,
   "id": "d9beba06-6196-44dd-86e0-2b91a9389cab",
   "metadata": {},
   "outputs": [
    {
     "name": "stdout",
     "output_type": "stream",
     "text": [
      "<class 'pandas.core.frame.DataFrame'>\n",
      "RangeIndex: 3 entries, 0 to 2\n",
      "Data columns (total 3 columns):\n",
      " #   Column  Non-Null Count  Dtype\n",
      "---  ------  --------------  -----\n",
      " 0   국어      3 non-null      int64\n",
      " 1   영어      3 non-null      int64\n",
      " 2   수학      3 non-null      int64\n",
      "dtypes: int64(3)\n",
      "memory usage: 200.0 bytes\n",
      "None\n"
     ]
    },
    {
     "data": {
      "text/html": [
       "<div>\n",
       "<style scoped>\n",
       "    .dataframe tbody tr th:only-of-type {\n",
       "        vertical-align: middle;\n",
       "    }\n",
       "\n",
       "    .dataframe tbody tr th {\n",
       "        vertical-align: top;\n",
       "    }\n",
       "\n",
       "    .dataframe thead th {\n",
       "        text-align: right;\n",
       "    }\n",
       "</style>\n",
       "<table border=\"1\" class=\"dataframe\">\n",
       "  <thead>\n",
       "    <tr style=\"text-align: right;\">\n",
       "      <th></th>\n",
       "      <th>국어</th>\n",
       "      <th>영어</th>\n",
       "      <th>수학</th>\n",
       "    </tr>\n",
       "  </thead>\n",
       "  <tbody>\n",
       "    <tr>\n",
       "      <th>0</th>\n",
       "      <td>100</td>\n",
       "      <td>90</td>\n",
       "      <td>80</td>\n",
       "    </tr>\n",
       "    <tr>\n",
       "      <th>1</th>\n",
       "      <td>50</td>\n",
       "      <td>55</td>\n",
       "      <td>57</td>\n",
       "    </tr>\n",
       "    <tr>\n",
       "      <th>2</th>\n",
       "      <td>20</td>\n",
       "      <td>22</td>\n",
       "      <td>27</td>\n",
       "    </tr>\n",
       "  </tbody>\n",
       "</table>\n",
       "</div>"
      ],
      "text/plain": [
       "    국어  영어  수학\n",
       "0  100  90  80\n",
       "1   50  55  57\n",
       "2   20  22  27"
      ]
     },
     "execution_count": 15,
     "metadata": {},
     "output_type": "execute_result"
    }
   ],
   "source": [
    "list_dict=[{'국어': 100, '영어': 90, '수학': 80},\n",
    "       {'국어': 50, '영어': 55, '수학': 57},\n",
    "       {'국어': 20, '영어': 22, '수학': 27}]\n",
    "df=pd.DataFrame(list_dict) # 타입 변환 없이 유지!!\n",
    "print(df.info())\n",
    "df.head()"
   ]
  },
  {
   "cell_type": "code",
   "execution_count": 16,
   "id": "a632d638-468d-4158-9260-039d67c457ee",
   "metadata": {},
   "outputs": [
    {
     "name": "stdout",
     "output_type": "stream",
     "text": [
      "<class 'pandas.core.frame.DataFrame'>\n",
      "RangeIndex: 3 entries, 0 to 2\n",
      "Data columns (total 3 columns):\n",
      " #   Column  Non-Null Count  Dtype\n",
      "---  ------  --------------  -----\n",
      " 0   국어      3 non-null      int64\n",
      " 1   영어      3 non-null      int64\n",
      " 2   수학      3 non-null      int64\n",
      "dtypes: int64(3)\n",
      "memory usage: 200.0 bytes\n",
      "None\n"
     ]
    },
    {
     "data": {
      "text/html": [
       "<div>\n",
       "<style scoped>\n",
       "    .dataframe tbody tr th:only-of-type {\n",
       "        vertical-align: middle;\n",
       "    }\n",
       "\n",
       "    .dataframe tbody tr th {\n",
       "        vertical-align: top;\n",
       "    }\n",
       "\n",
       "    .dataframe thead th {\n",
       "        text-align: right;\n",
       "    }\n",
       "</style>\n",
       "<table border=\"1\" class=\"dataframe\">\n",
       "  <thead>\n",
       "    <tr style=\"text-align: right;\">\n",
       "      <th></th>\n",
       "      <th>국어</th>\n",
       "      <th>영어</th>\n",
       "      <th>수학</th>\n",
       "    </tr>\n",
       "  </thead>\n",
       "  <tbody>\n",
       "    <tr>\n",
       "      <th>0</th>\n",
       "      <td>100</td>\n",
       "      <td>90</td>\n",
       "      <td>80</td>\n",
       "    </tr>\n",
       "    <tr>\n",
       "      <th>1</th>\n",
       "      <td>50</td>\n",
       "      <td>55</td>\n",
       "      <td>57</td>\n",
       "    </tr>\n",
       "    <tr>\n",
       "      <th>2</th>\n",
       "      <td>20</td>\n",
       "      <td>22</td>\n",
       "      <td>27</td>\n",
       "    </tr>\n",
       "  </tbody>\n",
       "</table>\n",
       "</div>"
      ],
      "text/plain": [
       "    국어  영어  수학\n",
       "0  100  90  80\n",
       "1   50  55  57\n",
       "2   20  22  27"
      ]
     },
     "execution_count": 16,
     "metadata": {},
     "output_type": "execute_result"
    }
   ],
   "source": [
    "# 이게 더 편리\n",
    "dicts = {'국어': [100,50,20],\n",
    "              '영어': [90,55,22],\n",
    "              '수학': [ 80, 57,27]}\n",
    "df=pd.DataFrame(dicts) # 중간에 F대소문자 주의\n",
    "print(df.info())\n",
    "df.head()"
   ]
  },
  {
   "cell_type": "code",
   "execution_count": 17,
   "id": "c91ffa31-d1d9-4202-bd17-f882f0f8ab38",
   "metadata": {},
   "outputs": [
    {
     "data": {
      "text/html": [
       "<div>\n",
       "<style scoped>\n",
       "    .dataframe tbody tr th:only-of-type {\n",
       "        vertical-align: middle;\n",
       "    }\n",
       "\n",
       "    .dataframe tbody tr th {\n",
       "        vertical-align: top;\n",
       "    }\n",
       "\n",
       "    .dataframe thead th {\n",
       "        text-align: right;\n",
       "    }\n",
       "</style>\n",
       "<table border=\"1\" class=\"dataframe\">\n",
       "  <thead>\n",
       "    <tr style=\"text-align: right;\">\n",
       "      <th></th>\n",
       "      <th>국어</th>\n",
       "      <th>영어</th>\n",
       "      <th>수학</th>\n",
       "    </tr>\n",
       "  </thead>\n",
       "  <tbody>\n",
       "    <tr>\n",
       "      <th>0</th>\n",
       "      <td>[100, 50, 20]</td>\n",
       "      <td>[90, 55, 22]</td>\n",
       "      <td>[80, 57, 27]</td>\n",
       "    </tr>\n",
       "  </tbody>\n",
       "</table>\n",
       "</div>"
      ],
      "text/plain": [
       "              국어            영어            수학\n",
       "0  [100, 50, 20]  [90, 55, 22]  [80, 57, 27]"
      ]
     },
     "execution_count": 17,
     "metadata": {},
     "output_type": "execute_result"
    }
   ],
   "source": [
    "# 이거 아님에 유의!!!!\n",
    "lists=[{'국어': [100,50,20], '영어': [90,55,22], '수학':[ 80, 57,27]}]\n",
    "pd.DataFrame(lists) ## 변수에 담아줘야됨.\n"
   ]
  },
  {
   "cell_type": "code",
   "execution_count": null,
   "id": "52a61b37-f38e-48a2-9b0e-8d81d352da82",
   "metadata": {},
   "outputs": [],
   "source": []
  },
  {
   "cell_type": "code",
   "execution_count": null,
   "id": "bb8b561c-ccde-4147-9b1a-ee9cfdbd5e68",
   "metadata": {},
   "outputs": [],
   "source": []
  },
  {
   "cell_type": "markdown",
   "id": "4fc7fdc2-a6d7-439a-88f3-adeec4181fb1",
   "metadata": {},
   "source": [
    "## 방법 4) 파일(csv, txt,excel, ...) 읽어오기 (csv가 제일 흔하다)"
   ]
  },
  {
   "cell_type": "markdown",
   "id": "f98b4ea3-2c81-41f9-8ed8-5c618a9025e4",
   "metadata": {},
   "source": [
    "csv: comma seperater valu...es?\n",
    "df=pd.read_csv(파일 주소, sep, ....) # sep 기본값 ',' ,, 어차피 두 번째 변수라 sep= 안 써도 된다.\n",
    "                                    # read_csv 하면 DataFrame으로 준다.\n",
    "                                    ## 주피터 메모리 겁나 먹는다. -> head 조금만 불러와라(안 그러면 주피터 눕는다.)\n",
    "                                    ## 그냥 바로 생성자 치면 원래는 주소 나와야되는데 전체 데이터 다 불러온다. 하지 마라."
   ]
  },
  {
   "cell_type": "code",
   "execution_count": 18,
   "id": "ec9b1bb0-369b-40d0-a9c0-35fb3c43b80d",
   "metadata": {},
   "outputs": [],
   "source": [
    "df = pd.read_csv('./book/data/total_sales_data.csv') #sep=',' 중요한 건 확장자가 아니라 구분자! .csv아니고 .txt로 해도 sep만 제대로 쓰면 무방."
   ]
  },
  {
   "cell_type": "code",
   "execution_count": 19,
   "id": "708df320-6572-40a4-a26a-5876b69a0d08",
   "metadata": {},
   "outputs": [
    {
     "name": "stdout",
     "output_type": "stream",
     "text": [
      "<class 'pandas.core.frame.DataFrame'>\n",
      "RangeIndex: 9 entries, 0 to 8\n",
      "Data columns (total 5 columns):\n",
      " #   Column  Non-Null Count  Dtype \n",
      "---  ------  --------------  ----- \n",
      " 0   매장명     9 non-null      object\n",
      " 1   제품종류    9 non-null      object\n",
      " 2   모델명     9 non-null      object\n",
      " 3   판매      9 non-null      int64 \n",
      " 4   재고      9 non-null      int64 \n",
      "dtypes: int64(2), object(3)\n",
      "memory usage: 488.0+ bytes\n"
     ]
    }
   ],
   "source": [
    "df.info()"
   ]
  },
  {
   "cell_type": "code",
   "execution_count": 20,
   "id": "6080d8e7-74f7-49f6-94d2-dca4fd4de3cc",
   "metadata": {},
   "outputs": [
    {
     "data": {
      "text/html": [
       "<div>\n",
       "<style scoped>\n",
       "    .dataframe tbody tr th:only-of-type {\n",
       "        vertical-align: middle;\n",
       "    }\n",
       "\n",
       "    .dataframe tbody tr th {\n",
       "        vertical-align: top;\n",
       "    }\n",
       "\n",
       "    .dataframe thead th {\n",
       "        text-align: right;\n",
       "    }\n",
       "</style>\n",
       "<table border=\"1\" class=\"dataframe\">\n",
       "  <thead>\n",
       "    <tr style=\"text-align: right;\">\n",
       "      <th></th>\n",
       "      <th>매장명</th>\n",
       "      <th>제품종류</th>\n",
       "      <th>모델명</th>\n",
       "      <th>판매</th>\n",
       "      <th>재고</th>\n",
       "    </tr>\n",
       "  </thead>\n",
       "  <tbody>\n",
       "    <tr>\n",
       "      <th>0</th>\n",
       "      <td>A</td>\n",
       "      <td>스마트폰</td>\n",
       "      <td>S1</td>\n",
       "      <td>1</td>\n",
       "      <td>2</td>\n",
       "    </tr>\n",
       "    <tr>\n",
       "      <th>1</th>\n",
       "      <td>A</td>\n",
       "      <td>스마트폰</td>\n",
       "      <td>S2</td>\n",
       "      <td>2</td>\n",
       "      <td>5</td>\n",
       "    </tr>\n",
       "    <tr>\n",
       "      <th>2</th>\n",
       "      <td>A</td>\n",
       "      <td>TV</td>\n",
       "      <td>V1</td>\n",
       "      <td>3</td>\n",
       "      <td>5</td>\n",
       "    </tr>\n",
       "    <tr>\n",
       "      <th>3</th>\n",
       "      <td>B</td>\n",
       "      <td>스마트폰</td>\n",
       "      <td>S2</td>\n",
       "      <td>4</td>\n",
       "      <td>6</td>\n",
       "    </tr>\n",
       "    <tr>\n",
       "      <th>4</th>\n",
       "      <td>B</td>\n",
       "      <td>스마트폰</td>\n",
       "      <td>S1</td>\n",
       "      <td>5</td>\n",
       "      <td>8</td>\n",
       "    </tr>\n",
       "  </tbody>\n",
       "</table>\n",
       "</div>"
      ],
      "text/plain": [
       "  매장명  제품종류 모델명  판매  재고\n",
       "0   A  스마트폰  S1   1   2\n",
       "1   A  스마트폰  S2   2   5\n",
       "2   A    TV  V1   3   5\n",
       "3   B  스마트폰  S2   4   6\n",
       "4   B  스마트폰  S1   5   8"
      ]
     },
     "execution_count": 20,
     "metadata": {},
     "output_type": "execute_result"
    }
   ],
   "source": [
    "df.head() # 앞에 보여줘"
   ]
  },
  {
   "cell_type": "code",
   "execution_count": 21,
   "id": "d71ef144-8bfe-482a-96e1-e543e9ad08a3",
   "metadata": {},
   "outputs": [
    {
     "data": {
      "text/html": [
       "<div>\n",
       "<style scoped>\n",
       "    .dataframe tbody tr th:only-of-type {\n",
       "        vertical-align: middle;\n",
       "    }\n",
       "\n",
       "    .dataframe tbody tr th {\n",
       "        vertical-align: top;\n",
       "    }\n",
       "\n",
       "    .dataframe thead th {\n",
       "        text-align: right;\n",
       "    }\n",
       "</style>\n",
       "<table border=\"1\" class=\"dataframe\">\n",
       "  <thead>\n",
       "    <tr style=\"text-align: right;\">\n",
       "      <th></th>\n",
       "      <th>매장명</th>\n",
       "      <th>제품종류</th>\n",
       "      <th>모델명</th>\n",
       "      <th>판매</th>\n",
       "      <th>재고</th>\n",
       "    </tr>\n",
       "  </thead>\n",
       "  <tbody>\n",
       "    <tr>\n",
       "      <th>6</th>\n",
       "      <td>C</td>\n",
       "      <td>스마트폰</td>\n",
       "      <td>S2</td>\n",
       "      <td>2</td>\n",
       "      <td>4</td>\n",
       "    </tr>\n",
       "    <tr>\n",
       "      <th>7</th>\n",
       "      <td>C</td>\n",
       "      <td>TV</td>\n",
       "      <td>V1</td>\n",
       "      <td>3</td>\n",
       "      <td>6</td>\n",
       "    </tr>\n",
       "    <tr>\n",
       "      <th>8</th>\n",
       "      <td>C</td>\n",
       "      <td>TV</td>\n",
       "      <td>V2</td>\n",
       "      <td>7</td>\n",
       "      <td>9</td>\n",
       "    </tr>\n",
       "  </tbody>\n",
       "</table>\n",
       "</div>"
      ],
      "text/plain": [
       "  매장명  제품종류 모델명  판매  재고\n",
       "6   C  스마트폰  S2   2   4\n",
       "7   C    TV  V1   3   6\n",
       "8   C    TV  V2   7   9"
      ]
     },
     "execution_count": 21,
     "metadata": {},
     "output_type": "execute_result"
    }
   ],
   "source": [
    "df.tail(3) # 끝부터 보여줘"
   ]
  },
  {
   "cell_type": "code",
   "execution_count": 22,
   "id": "8b3f29b1-146f-4cff-91a8-63d76cb60b55",
   "metadata": {},
   "outputs": [
    {
     "data": {
      "text/html": [
       "<div>\n",
       "<style scoped>\n",
       "    .dataframe tbody tr th:only-of-type {\n",
       "        vertical-align: middle;\n",
       "    }\n",
       "\n",
       "    .dataframe tbody tr th {\n",
       "        vertical-align: top;\n",
       "    }\n",
       "\n",
       "    .dataframe thead th {\n",
       "        text-align: right;\n",
       "    }\n",
       "</style>\n",
       "<table border=\"1\" class=\"dataframe\">\n",
       "  <thead>\n",
       "    <tr style=\"text-align: right;\">\n",
       "      <th></th>\n",
       "      <th>매장명</th>\n",
       "      <th>제품종류</th>\n",
       "      <th>모델명</th>\n",
       "      <th>판매</th>\n",
       "      <th>재고</th>\n",
       "    </tr>\n",
       "  </thead>\n",
       "  <tbody>\n",
       "    <tr>\n",
       "      <th>0</th>\n",
       "      <td>A</td>\n",
       "      <td>스마트폰</td>\n",
       "      <td>S1</td>\n",
       "      <td>1</td>\n",
       "      <td>2</td>\n",
       "    </tr>\n",
       "    <tr>\n",
       "      <th>1</th>\n",
       "      <td>A</td>\n",
       "      <td>스마트폰</td>\n",
       "      <td>S2</td>\n",
       "      <td>2</td>\n",
       "      <td>5</td>\n",
       "    </tr>\n",
       "    <tr>\n",
       "      <th>2</th>\n",
       "      <td>A</td>\n",
       "      <td>TV</td>\n",
       "      <td>V1</td>\n",
       "      <td>3</td>\n",
       "      <td>5</td>\n",
       "    </tr>\n",
       "    <tr>\n",
       "      <th>3</th>\n",
       "      <td>B</td>\n",
       "      <td>스마트폰</td>\n",
       "      <td>S2</td>\n",
       "      <td>4</td>\n",
       "      <td>6</td>\n",
       "    </tr>\n",
       "    <tr>\n",
       "      <th>4</th>\n",
       "      <td>B</td>\n",
       "      <td>스마트폰</td>\n",
       "      <td>S1</td>\n",
       "      <td>5</td>\n",
       "      <td>8</td>\n",
       "    </tr>\n",
       "    <tr>\n",
       "      <th>5</th>\n",
       "      <td>B</td>\n",
       "      <td>TV</td>\n",
       "      <td>V1</td>\n",
       "      <td>6</td>\n",
       "      <td>9</td>\n",
       "    </tr>\n",
       "    <tr>\n",
       "      <th>6</th>\n",
       "      <td>C</td>\n",
       "      <td>스마트폰</td>\n",
       "      <td>S2</td>\n",
       "      <td>2</td>\n",
       "      <td>4</td>\n",
       "    </tr>\n",
       "    <tr>\n",
       "      <th>7</th>\n",
       "      <td>C</td>\n",
       "      <td>TV</td>\n",
       "      <td>V1</td>\n",
       "      <td>3</td>\n",
       "      <td>6</td>\n",
       "    </tr>\n",
       "    <tr>\n",
       "      <th>8</th>\n",
       "      <td>C</td>\n",
       "      <td>TV</td>\n",
       "      <td>V2</td>\n",
       "      <td>7</td>\n",
       "      <td>9</td>\n",
       "    </tr>\n",
       "  </tbody>\n",
       "</table>\n",
       "</div>"
      ],
      "text/plain": [
       "  매장명  제품종류 모델명  판매  재고\n",
       "0   A  스마트폰  S1   1   2\n",
       "1   A  스마트폰  S2   2   5\n",
       "2   A    TV  V1   3   5\n",
       "3   B  스마트폰  S2   4   6\n",
       "4   B  스마트폰  S1   5   8\n",
       "5   B    TV  V1   6   9\n",
       "6   C  스마트폰  S2   2   4\n",
       "7   C    TV  V1   3   6\n",
       "8   C    TV  V2   7   9"
      ]
     },
     "execution_count": 22,
     "metadata": {},
     "output_type": "execute_result"
    }
   ],
   "source": [
    "df"
   ]
  },
  {
   "cell_type": "code",
   "execution_count": 23,
   "id": "b7c72f18-f2b0-429f-84ce-c8fd90690978",
   "metadata": {},
   "outputs": [
    {
     "data": {
      "text/html": [
       "<div>\n",
       "<style scoped>\n",
       "    .dataframe tbody tr th:only-of-type {\n",
       "        vertical-align: middle;\n",
       "    }\n",
       "\n",
       "    .dataframe tbody tr th {\n",
       "        vertical-align: top;\n",
       "    }\n",
       "\n",
       "    .dataframe thead th {\n",
       "        text-align: right;\n",
       "    }\n",
       "</style>\n",
       "<table border=\"1\" class=\"dataframe\">\n",
       "  <thead>\n",
       "    <tr style=\"text-align: right;\">\n",
       "      <th></th>\n",
       "      <th>매장명</th>\n",
       "      <th>제품종류</th>\n",
       "    </tr>\n",
       "  </thead>\n",
       "  <tbody>\n",
       "    <tr>\n",
       "      <th>0</th>\n",
       "      <td>A</td>\n",
       "      <td>스마트폰</td>\n",
       "    </tr>\n",
       "    <tr>\n",
       "      <th>3</th>\n",
       "      <td>B</td>\n",
       "      <td>스마트폰</td>\n",
       "    </tr>\n",
       "  </tbody>\n",
       "</table>\n",
       "</div>"
      ],
      "text/plain": [
       "  매장명  제품종류\n",
       "0   A  스마트폰\n",
       "3   B  스마트폰"
      ]
     },
     "execution_count": 23,
     "metadata": {},
     "output_type": "execute_result"
    }
   ],
   "source": [
    "# iloc: index location(번째 데려와) -> 이름으로도 가능\n",
    "## array 랑 완전 똑같은 건 아니니까 느낌을 이해해라\n",
    "df.iloc[ [0,3] , [0,1] ]"
   ]
  },
  {
   "cell_type": "code",
   "execution_count": 24,
   "id": "dc271495-4287-4e67-a954-1f3569029640",
   "metadata": {},
   "outputs": [
    {
     "name": "stdout",
     "output_type": "stream",
     "text": [
      "[10 80]\n"
     ]
    }
   ],
   "source": [
    "arr = np.array([[10, 25, 35],\n",
    "               [40, 55, 65],\n",
    "               [70, 80, 90]])\n",
    "print( arr [ [0,2] ,[0,1] ]) \n"
   ]
  },
  {
   "cell_type": "code",
   "execution_count": 25,
   "id": "5d15d284-ff8a-4e43-bf84-6f833b76767b",
   "metadata": {},
   "outputs": [
    {
     "data": {
      "text/html": [
       "<div>\n",
       "<style scoped>\n",
       "    .dataframe tbody tr th:only-of-type {\n",
       "        vertical-align: middle;\n",
       "    }\n",
       "\n",
       "    .dataframe tbody tr th {\n",
       "        vertical-align: top;\n",
       "    }\n",
       "\n",
       "    .dataframe thead th {\n",
       "        text-align: right;\n",
       "    }\n",
       "</style>\n",
       "<table border=\"1\" class=\"dataframe\">\n",
       "  <thead>\n",
       "    <tr style=\"text-align: right;\">\n",
       "      <th></th>\n",
       "      <th>재고</th>\n",
       "      <th>판매</th>\n",
       "    </tr>\n",
       "  </thead>\n",
       "  <tbody>\n",
       "    <tr>\n",
       "      <th>0</th>\n",
       "      <td>2</td>\n",
       "      <td>1</td>\n",
       "    </tr>\n",
       "    <tr>\n",
       "      <th>1</th>\n",
       "      <td>5</td>\n",
       "      <td>2</td>\n",
       "    </tr>\n",
       "    <tr>\n",
       "      <th>2</th>\n",
       "      <td>5</td>\n",
       "      <td>3</td>\n",
       "    </tr>\n",
       "    <tr>\n",
       "      <th>3</th>\n",
       "      <td>6</td>\n",
       "      <td>4</td>\n",
       "    </tr>\n",
       "    <tr>\n",
       "      <th>4</th>\n",
       "      <td>8</td>\n",
       "      <td>5</td>\n",
       "    </tr>\n",
       "    <tr>\n",
       "      <th>5</th>\n",
       "      <td>9</td>\n",
       "      <td>6</td>\n",
       "    </tr>\n",
       "    <tr>\n",
       "      <th>6</th>\n",
       "      <td>4</td>\n",
       "      <td>2</td>\n",
       "    </tr>\n",
       "    <tr>\n",
       "      <th>7</th>\n",
       "      <td>6</td>\n",
       "      <td>3</td>\n",
       "    </tr>\n",
       "    <tr>\n",
       "      <th>8</th>\n",
       "      <td>9</td>\n",
       "      <td>7</td>\n",
       "    </tr>\n",
       "  </tbody>\n",
       "</table>\n",
       "</div>"
      ],
      "text/plain": [
       "   재고  판매\n",
       "0   2   1\n",
       "1   5   2\n",
       "2   5   3\n",
       "3   6   4\n",
       "4   8   5\n",
       "5   9   6\n",
       "6   4   2\n",
       "7   6   3\n",
       "8   9   7"
      ]
     },
     "execution_count": 25,
     "metadata": {},
     "output_type": "execute_result"
    }
   ],
   "source": [
    "# res=a[a>3] (array 에서 처럼 이런 문법 사용 가능하다)\n",
    "\n",
    "#데이터프레임 항목을 조건에 따라 출력\n",
    "\n",
    "# df[df.재고==6] 이것도 가능 / ' ' 또는 \" \" 안 달아도 됨.(dataframe 쫓아 가서!느낌이라)\n",
    "df[df['재고']==6] # 복잡해도 이 문법 추천---!! // ' ' 또는 \" \" 달아야 됨.(안 쓰면 변수로 생각)\n",
    "# df['재고']==6 -> True False로 나온다.\n",
    "df[['재고','판매']] # 리스트 이용해서 떼거지로 가져오는 게 가능하기 때문\n",
    "\n",
    "# df. 이런 문법 쓰면 여러 개 가져오기 어려움.(보통 여러개 갖고오니까)\n",
    "# df.[재고, 판매] #-- ERROR!\n",
    "# df[df.재고==6 and df.판매==4] #-- ERROR!\n",
    "\n"
   ]
  },
  {
   "cell_type": "code",
   "execution_count": 26,
   "id": "72805574-3af2-440b-a370-1441ac24927d",
   "metadata": {},
   "outputs": [
    {
     "data": {
      "text/html": [
       "<div>\n",
       "<style scoped>\n",
       "    .dataframe tbody tr th:only-of-type {\n",
       "        vertical-align: middle;\n",
       "    }\n",
       "\n",
       "    .dataframe tbody tr th {\n",
       "        vertical-align: top;\n",
       "    }\n",
       "\n",
       "    .dataframe thead th {\n",
       "        text-align: right;\n",
       "    }\n",
       "</style>\n",
       "<table border=\"1\" class=\"dataframe\">\n",
       "  <thead>\n",
       "    <tr style=\"text-align: right;\">\n",
       "      <th></th>\n",
       "      <th>판매</th>\n",
       "      <th>재고</th>\n",
       "    </tr>\n",
       "  </thead>\n",
       "  <tbody>\n",
       "    <tr>\n",
       "      <th>0</th>\n",
       "      <td>1</td>\n",
       "      <td>2</td>\n",
       "    </tr>\n",
       "    <tr>\n",
       "      <th>1</th>\n",
       "      <td>2</td>\n",
       "      <td>5</td>\n",
       "    </tr>\n",
       "    <tr>\n",
       "      <th>2</th>\n",
       "      <td>3</td>\n",
       "      <td>5</td>\n",
       "    </tr>\n",
       "    <tr>\n",
       "      <th>3</th>\n",
       "      <td>4</td>\n",
       "      <td>6</td>\n",
       "    </tr>\n",
       "    <tr>\n",
       "      <th>4</th>\n",
       "      <td>5</td>\n",
       "      <td>8</td>\n",
       "    </tr>\n",
       "    <tr>\n",
       "      <th>5</th>\n",
       "      <td>6</td>\n",
       "      <td>9</td>\n",
       "    </tr>\n",
       "    <tr>\n",
       "      <th>6</th>\n",
       "      <td>2</td>\n",
       "      <td>4</td>\n",
       "    </tr>\n",
       "    <tr>\n",
       "      <th>7</th>\n",
       "      <td>3</td>\n",
       "      <td>6</td>\n",
       "    </tr>\n",
       "    <tr>\n",
       "      <th>8</th>\n",
       "      <td>7</td>\n",
       "      <td>9</td>\n",
       "    </tr>\n",
       "  </tbody>\n",
       "</table>\n",
       "</div>"
      ],
      "text/plain": [
       "   판매  재고\n",
       "0   1   2\n",
       "1   2   5\n",
       "2   3   5\n",
       "3   4   6\n",
       "4   5   8\n",
       "5   6   9\n",
       "6   2   4\n",
       "7   3   6\n",
       "8   7   9"
      ]
     },
     "execution_count": 26,
     "metadata": {},
     "output_type": "execute_result"
    }
   ],
   "source": [
    "# 컬럼 번째로 하고 싶으면\n",
    "df.iloc[ : , [3,4]]\n",
    "df.iloc[ : , [3,4]].head(2)\n",
    "# 컬럼 이름으로 하고 싶으면\n",
    "df[['판매','재고']]"
   ]
  },
  {
   "cell_type": "markdown",
   "id": "6afc7627-f305-47ef-b00d-322f7a98e2ba",
   "metadata": {
    "nbpresent": {
     "id": "3253a21a-7d3c-4ba9-8b4d-2c7b695abd09"
    },
    "tags": []
   },
   "source": [
    "## 11.2 구조적 데이터 표시와 처리에 강한 pandas"
   ]
  },
  {
   "cell_type": "markdown",
   "id": "5d6ce4cc-98c7-4aff-ae4e-71f7fd2765e2",
   "metadata": {
    "nbpresent": {
     "id": "3053de36-47f9-4381-8f4c-56a0dfeab6ba"
    },
    "tags": []
   },
   "source": [
    "### 구조적 데이터 생성하기"
   ]
  },
  {
   "cell_type": "markdown",
   "id": "22ddcc79-ccf6-426b-a158-08e14eee24c0",
   "metadata": {},
   "source": [
    "#### Series를 활용한 데이터 생성\n",
    "컬럼이 하나  \n",
    "1 row인 array를 reshape 해서 세로로 세우면 시리즈  \n",
    "series가 가로로 여러개 붙어있으면 데이터프레임  \n",
    "-> 데이터는 언제나 리스트나 어레이로 올 것임. 이걸 reshape으로 세로로 세워서 끼워넣어야 하는 경우가 많다.!!!"
   ]
  },
  {
   "cell_type": "markdown",
   "id": "f38a152a-54ba-4454-a728-b2bc498a9b79",
   "metadata": {},
   "source": [
    "**[11장: 237페이지]**"
   ]
  },
  {
   "cell_type": "code",
   "execution_count": 27,
   "id": "b0abdfa9-6a1e-459b-888f-9402d1e968d9",
   "metadata": {
    "nbpresent": {
     "id": "66bfcfea-981d-45e4-9746-66e647572cbe"
    }
   },
   "outputs": [],
   "source": [
    "import pandas as pd"
   ]
  },
  {
   "cell_type": "markdown",
   "id": "a6ce801f-8432-40d4-9593-1c966cc4dcd1",
   "metadata": {
    "nbpresent": {
     "id": "7dd51bf0-751a-4a1f-8c11-8c92454ddfe8"
    }
   },
   "source": [
    "**[11장: 238페이지]**"
   ]
  },
  {
   "cell_type": "code",
   "execution_count": 28,
   "id": "56aa360b-3195-4c60-9cfd-4e2d7489669a",
   "metadata": {},
   "outputs": [
    {
     "name": "stdout",
     "output_type": "stream",
     "text": [
      "[[10]\n",
      " [20]\n",
      " [30]\n",
      " [40]] (4, 1) <class 'numpy.ndarray'>\n",
      "0    10\n",
      "1    20\n",
      "2    30\n",
      "3    40\n",
      "dtype: int64 (4,) <class 'pandas.core.series.Series'>\n"
     ]
    }
   ],
   "source": [
    "# 리스트를 세로로 세우는 방법\n",
    "arr=np.array([10,20,30,40])\n",
    "#arr.shape\n",
    "res=arr.reshape(-1,1) # array\n",
    "print(res, res.shape, type(res))\n",
    "\n",
    "lists=[10,20,30,40]\n",
    "res=pd.Series(lists) # Series 됨.\n",
    "print(res, res.shape, type(res)) # shape (4, )  <- array에서 한 줄도 (4,)였던 거 기억."
   ]
  },
  {
   "cell_type": "code",
   "execution_count": 29,
   "id": "48241e87-4aa2-4a1c-a608-3708161d6d62",
   "metadata": {
    "nbpresent": {
     "id": "1ddc49b0-5c30-4bcd-9504-3b8c6b5dcb5e"
    }
   },
   "outputs": [
    {
     "data": {
      "text/plain": [
       "0    10\n",
       "1    20\n",
       "2    30\n",
       "3    40\n",
       "4    50\n",
       "dtype: int32"
      ]
     },
     "execution_count": 29,
     "metadata": {},
     "output_type": "execute_result"
    }
   ],
   "source": [
    "s1 = pd.Series([10, 20, 30, 40, 50]) #리스트를 세로줄로 세움.\n",
    "s1\n",
    "\n",
    "s2 = pd.Series(np.array([10, 20, 30, 40, 50])) #어레이를 세로줄로 세움.\n",
    "s2"
   ]
  },
  {
   "cell_type": "markdown",
   "id": "5172351c-e6ee-4be8-a1c6-628e315e84a0",
   "metadata": {
    "nbpresent": {
     "id": "04b26713-532e-4ebd-a3e2-16f648d46376"
    }
   },
   "source": [
    "**[11장: 238페이지]**"
   ]
  },
  {
   "cell_type": "code",
   "execution_count": 30,
   "id": "0d84a1aa-95c4-4650-8ae4-52ad456fdf8e",
   "metadata": {
    "nbpresent": {
     "id": "519e2a61-61b0-46c0-855b-19d7d385f4eb"
    }
   },
   "outputs": [
    {
     "name": "stdout",
     "output_type": "stream",
     "text": [
      "RangeIndex(start=0, stop=5, step=1)\n"
     ]
    }
   ],
   "source": [
    "s1.index\n",
    "print(s1.index) # range로 뽑힌다."
   ]
  },
  {
   "cell_type": "markdown",
   "id": "3ac141fb-47af-425e-8037-d670a61fa007",
   "metadata": {},
   "source": [
    "**[11장: 239페이지]**"
   ]
  },
  {
   "cell_type": "code",
   "execution_count": 31,
   "id": "eebed994-14ac-4274-9d3f-b988aedcd66a",
   "metadata": {
    "nbpresent": {
     "id": "6418a920-9525-4608-992b-04e45e00bdb1"
    }
   },
   "outputs": [
    {
     "data": {
      "text/plain": [
       "array([10, 20, 30, 40, 50], dtype=int64)"
      ]
     },
     "execution_count": 31,
     "metadata": {},
     "output_type": "execute_result"
    }
   ],
   "source": [
    "s1.values # 값들 보여줘. (array로 보여준다. -> 값 핸들링하라고)"
   ]
  },
  {
   "cell_type": "markdown",
   "id": "14fed196-16f3-45c1-82f5-78b91c8afd27",
   "metadata": {
    "nbpresent": {
     "id": "017f3b47-bcf8-4afb-a814-b39120867dc1"
    }
   },
   "source": [
    "**[11장: 239페이지]**"
   ]
  },
  {
   "cell_type": "code",
   "execution_count": 32,
   "id": "1c6ac169-6ef0-4095-b084-e7f7ddf2953c",
   "metadata": {
    "nbpresent": {
     "id": "d7fdd4f8-cfe4-4d35-9027-04a8f895bd39"
    }
   },
   "outputs": [
    {
     "data": {
      "text/plain": [
       "0    a\n",
       "1    b\n",
       "2    c\n",
       "3    1\n",
       "4    2\n",
       "5    3\n",
       "dtype: object"
      ]
     },
     "execution_count": 32,
     "metadata": {},
     "output_type": "execute_result"
    }
   ],
   "source": [
    "s2 = pd.Series(['a', 'b', 'c', 1, 2, 3]) ## 이 경우 1,2,3은 dtype object(글자)\n",
    "s2"
   ]
  },
  {
   "cell_type": "markdown",
   "id": "8fdd6991-4f5a-41d1-bbfc-f6cb5171a98e",
   "metadata": {
    "nbpresent": {
     "id": "31680d68-3153-4b2b-8b9d-79df2337e67d"
    }
   },
   "source": [
    "### <font color='red'><b> 처음에는 int 타입인 데이터가 갑자기?? float 타입이 된다???</b></font>\n",
    "* 데이터 안에 NaN이 있다.\n",
    "* 몇 천 만 건 데이터 중에 NaN이 하나라도 있으면 학습 안 한다."
   ]
  },
  {
   "cell_type": "code",
   "execution_count": 33,
   "id": "b06db9dc-3c70-49d8-a771-5597f280381b",
   "metadata": {
    "nbpresent": {
     "id": "f71b60e9-e8e7-4b96-bc1c-a9fe3530798b"
    }
   },
   "outputs": [
    {
     "data": {
      "text/plain": [
       "0     NaN\n",
       "1    10.0\n",
       "2    30.0\n",
       "dtype: float64"
      ]
     },
     "execution_count": 33,
     "metadata": {},
     "output_type": "execute_result"
    }
   ],
   "source": [
    "import numpy as np\n",
    "# None np.nan (NaN은 오라클로 치면 null)\n",
    "s3 = pd.Series([np.nan,10,30]) ## NaN 들어있으면 dtype이 float64가 된다.\n",
    "s3"
   ]
  },
  {
   "cell_type": "code",
   "execution_count": 34,
   "id": "51e84597-2608-40fc-a2a7-d90088193d4e",
   "metadata": {
    "nbpresent": {
     "id": "74f4ebb2-9114-405a-bed9-99bc525a78ad"
    }
   },
   "outputs": [
    {
     "data": {
      "text/plain": [
       "2018-10-07    200.0\n",
       "2018-10-08    195.0\n",
       "2018-10-09      NaN\n",
       "2018-10-10    205.0\n",
       "dtype: float64"
      ]
     },
     "execution_count": 34,
     "metadata": {},
     "output_type": "execute_result"
    }
   ],
   "source": [
    "index_date = ['2018-10-07','2018-10-08','2018-10-09','2018-10-10']\n",
    "s4 = pd.Series([200, 195, np.nan, 205], index = index_date) ### dataframe 만들 때 columns= 썼던 거랑 원리 비슷. dataframe에서도  index= 지정 가능.\n",
    "s4"
   ]
  },
  {
   "cell_type": "code",
   "execution_count": 35,
   "id": "efe98f45-a6cf-4b62-b75d-5c444823ff2e",
   "metadata": {
    "nbpresent": {
     "id": "6a6af860-e19e-42b1-a693-785086548e38"
    }
   },
   "outputs": [
    {
     "data": {
      "text/plain": [
       "국어    100\n",
       "영어     95\n",
       "수학     90\n",
       "dtype: int64"
      ]
     },
     "execution_count": 35,
     "metadata": {},
     "output_type": "execute_result"
    }
   ],
   "source": [
    "## dict로도 Series 만들 수 있다.\n",
    "s5 = pd.Series({'국어': 100, '영어': 95, '수학': 90}) # dict를 넣는 경우 key값이 index가되고 value가 value가 된다.\n",
    "s5"
   ]
  },
  {
   "cell_type": "markdown",
   "id": "e7e0b88b-e881-4c0a-8b2f-21e2c35939eb",
   "metadata": {
    "nbpresent": {
     "id": "e34cc6cc-6420-414b-8514-8f57694090d1"
    }
   },
   "source": [
    "#### 날짜 자동 생성: date_range\n",
    "range  \n",
    "arange  \n",
    "indexrange  \n",
    "daterange ..."
   ]
  },
  {
   "cell_type": "code",
   "execution_count": 36,
   "id": "54f51f95-6dae-4549-94a9-2bf74d91ce79",
   "metadata": {
    "nbpresent": {
     "id": "06d21609-dc59-4651-afde-3c856ea50c4b"
    }
   },
   "outputs": [
    {
     "data": {
      "text/plain": [
       "DatetimeIndex(['2019-01-01', '2019-01-02', '2019-01-03', '2019-01-04',\n",
       "               '2019-01-05', '2019-01-06', '2019-01-07'],\n",
       "              dtype='datetime64[ns]', freq='D')"
      ]
     },
     "execution_count": 36,
     "metadata": {},
     "output_type": "execute_result"
    }
   ],
   "source": [
    "import pandas as pd\n",
    "\n",
    "pd.date_range(start='2019-01-01',end='2019-01-07') # type도 datetype. 기본은 날자 단위. freq='W'는 주 단위, 'Y'는 연 단위."
   ]
  },
  {
   "cell_type": "code",
   "execution_count": 37,
   "id": "a1188c42-d6e9-4a12-8da5-9f7003adcbdf",
   "metadata": {
    "nbpresent": {
     "id": "5a518f1c-dd28-47bb-9b5b-178f04a6948d"
    }
   },
   "outputs": [
    {
     "data": {
      "text/plain": [
       "DatetimeIndex(['2019-01-01', '2019-01-02', '2019-01-03', '2019-01-04',\n",
       "               '2019-01-05', '2019-01-06', '2019-01-07'],\n",
       "              dtype='datetime64[ns]', freq='D')"
      ]
     },
     "execution_count": 37,
     "metadata": {},
     "output_type": "execute_result"
    }
   ],
   "source": [
    "pd.date_range(start='2019/01/01',end='2019.01.07')"
   ]
  },
  {
   "cell_type": "code",
   "execution_count": 38,
   "id": "fabacd41-dd79-4adc-9a65-ee250c5bd85d",
   "metadata": {
    "nbpresent": {
     "id": "f4f35f24-624c-40f7-a8bc-ebbfd24736b0"
    }
   },
   "outputs": [
    {
     "data": {
      "text/plain": [
       "DatetimeIndex(['2019-01-01', '2019-01-02', '2019-01-03', '2019-01-04',\n",
       "               '2019-01-05', '2019-01-06', '2019-01-07'],\n",
       "              dtype='datetime64[ns]', freq='D')"
      ]
     },
     "execution_count": 38,
     "metadata": {},
     "output_type": "execute_result"
    }
   ],
   "source": [
    "pd.date_range(start='01-01-2019',end='01/07/2019')"
   ]
  },
  {
   "cell_type": "code",
   "execution_count": 39,
   "id": "98591922-77ad-42cc-a281-555a1a85d5b1",
   "metadata": {
    "nbpresent": {
     "id": "07ff4a01-812a-4b08-9522-05bd79a74a48"
    }
   },
   "outputs": [
    {
     "data": {
      "text/plain": [
       "DatetimeIndex(['2019-01-01', '2019-01-02', '2019-01-03', '2019-01-04',\n",
       "               '2019-01-05', '2019-01-06', '2019-01-07'],\n",
       "              dtype='datetime64[ns]', freq='D')"
      ]
     },
     "execution_count": 39,
     "metadata": {},
     "output_type": "execute_result"
    }
   ],
   "source": [
    "pd.date_range(start='2019-01-01',end='01.07.2019')"
   ]
  },
  {
   "cell_type": "code",
   "execution_count": 40,
   "id": "459575b6-da4b-4f01-a053-4cdd9c3fda99",
   "metadata": {
    "nbpresent": {
     "id": "b384626e-1dd5-4dff-a9a2-72130a5f0a49"
    }
   },
   "outputs": [
    {
     "data": {
      "text/plain": [
       "DatetimeIndex(['2019-01-01', '2019-01-02', '2019-01-03', '2019-01-04',\n",
       "               '2019-01-05', '2019-01-06', '2019-01-07'],\n",
       "              dtype='datetime64[ns]', freq='D')"
      ]
     },
     "execution_count": 40,
     "metadata": {},
     "output_type": "execute_result"
    }
   ],
   "source": [
    "pd.date_range(start='2019-01-01', periods = 7) ## period: 며칠 후"
   ]
  },
  {
   "cell_type": "code",
   "execution_count": 41,
   "id": "4c1b02b7-0302-4c32-8071-62ecf338d18a",
   "metadata": {
    "nbpresent": {
     "id": "d903a44e-29bb-4898-b0f2-eba740edec3c"
    }
   },
   "outputs": [
    {
     "data": {
      "text/plain": [
       "DatetimeIndex(['2019-01-01', '2019-01-03', '2019-01-05', '2019-01-07'], dtype='datetime64[ns]', freq='2D')"
      ]
     },
     "execution_count": 41,
     "metadata": {},
     "output_type": "execute_result"
    }
   ],
   "source": [
    "pd.date_range(start='2019-01-01', periods = 4, freq = '2D') ## 이틀 간격"
   ]
  },
  {
   "cell_type": "markdown",
   "id": "5e519eaa-0b30-4e9a-8f90-be9346417573",
   "metadata": {
    "nbpresent": {
     "id": "1b7fbe54-966e-4a85-9498-23bce1b6c92a"
    }
   },
   "source": [
    "**[11장: 244페이지]**"
   ]
  },
  {
   "cell_type": "code",
   "execution_count": 42,
   "id": "32aa197d-5366-4859-8deb-3109ba0833b0",
   "metadata": {
    "nbpresent": {
     "id": "fba60d0d-6b69-4f90-8d39-c54b47f51bec"
    }
   },
   "outputs": [
    {
     "data": {
      "text/plain": [
       "DatetimeIndex(['2019-01-06', '2019-01-13', '2019-01-20', '2019-01-27'], dtype='datetime64[ns]', freq='W-SUN')"
      ]
     },
     "execution_count": 42,
     "metadata": {},
     "output_type": "execute_result"
    }
   ],
   "source": [
    "pd.date_range(start='2019-01-01', periods = 4, freq = 'W')"
   ]
  },
  {
   "cell_type": "markdown",
   "id": "d11311a0-0bc0-41a3-a67b-98ad1a4588fd",
   "metadata": {
    "nbpresent": {
     "id": "168498ed-8edd-417e-9156-0cd544cb0677"
    }
   },
   "source": [
    "**[11장: 244페이지]**"
   ]
  },
  {
   "cell_type": "code",
   "execution_count": 43,
   "id": "d5516ed2-318b-430b-ac10-e3dc1251cf10",
   "metadata": {
    "nbpresent": {
     "id": "0b22ef6d-ad78-4da5-b382-bd6024782c6b"
    }
   },
   "outputs": [
    {
     "data": {
      "text/plain": [
       "DatetimeIndex(['2019-01-31', '2019-03-29', '2019-05-31', '2019-07-31',\n",
       "               '2019-09-30', '2019-11-29', '2020-01-31', '2020-03-31',\n",
       "               '2020-05-29', '2020-07-31', '2020-09-30', '2020-11-30'],\n",
       "              dtype='datetime64[ns]', freq='2BM')"
      ]
     },
     "execution_count": 43,
     "metadata": {},
     "output_type": "execute_result"
    }
   ],
   "source": [
    "pd.date_range(start='2019-01-01', periods = 12, freq = '2BM') #2개월 간격. B는 확인 필요할듯/??????"
   ]
  },
  {
   "cell_type": "code",
   "execution_count": 44,
   "id": "5c46bb4b-1068-4a3b-b834-1b486421bca7",
   "metadata": {
    "nbpresent": {
     "id": "d445e468-b2cb-4025-8fd9-202b6efb110a"
    }
   },
   "outputs": [
    {
     "data": {
      "text/plain": [
       "DatetimeIndex(['2019-01-01', '2019-04-01', '2019-07-01', '2019-10-01'], dtype='datetime64[ns]', freq='QS-JAN')"
      ]
     },
     "execution_count": 44,
     "metadata": {},
     "output_type": "execute_result"
    }
   ],
   "source": [
    "pd.date_range(start='2019-01-01', periods = 4, freq = 'QS')"
   ]
  },
  {
   "cell_type": "code",
   "execution_count": 45,
   "id": "b5f2f2b1-691d-4b8b-879d-b8dc999d4123",
   "metadata": {
    "nbpresent": {
     "id": "cb0573e7-b82a-4cc3-b287-b3f20f556602"
    }
   },
   "outputs": [
    {
     "data": {
      "text/plain": [
       "DatetimeIndex(['2019-01-01', '2020-01-01', '2021-01-01'], dtype='datetime64[ns]', freq='AS-JAN')"
      ]
     },
     "execution_count": 45,
     "metadata": {},
     "output_type": "execute_result"
    }
   ],
   "source": [
    "pd.date_range(start='2019-01-01', periods = 3, freq = 'AS')"
   ]
  },
  {
   "cell_type": "code",
   "execution_count": 46,
   "id": "3dc03fe9-0a47-4937-b7fe-1e742a853d5b",
   "metadata": {
    "nbpresent": {
     "id": "29a2b7cf-7c0a-4ce4-b42c-0569c419df7c"
    }
   },
   "outputs": [
    {
     "data": {
      "text/plain": [
       "DatetimeIndex(['2019-01-01 08:00:00', '2019-01-01 09:00:00',\n",
       "               '2019-01-01 10:00:00', '2019-01-01 11:00:00',\n",
       "               '2019-01-01 12:00:00', '2019-01-01 13:00:00',\n",
       "               '2019-01-01 14:00:00', '2019-01-01 15:00:00',\n",
       "               '2019-01-01 16:00:00', '2019-01-01 17:00:00'],\n",
       "              dtype='datetime64[ns]', freq='H')"
      ]
     },
     "execution_count": 46,
     "metadata": {},
     "output_type": "execute_result"
    }
   ],
   "source": [
    "pd.date_range(start = '2019-01-01 08:00', periods = 10, freq='H')"
   ]
  },
  {
   "cell_type": "code",
   "execution_count": 47,
   "id": "54444656-9d1d-4c1b-894d-dc8563843066",
   "metadata": {
    "nbpresent": {
     "id": "a34f347c-3fa5-4963-b01e-db885c857a0b"
    }
   },
   "outputs": [
    {
     "data": {
      "text/plain": [
       "DatetimeIndex(['2019-01-01 09:00:00', '2019-01-01 10:00:00',\n",
       "               '2019-01-01 11:00:00', '2019-01-01 12:00:00',\n",
       "               '2019-01-01 13:00:00', '2019-01-01 14:00:00',\n",
       "               '2019-01-01 15:00:00', '2019-01-01 16:00:00',\n",
       "               '2019-01-02 09:00:00', '2019-01-02 10:00:00'],\n",
       "              dtype='datetime64[ns]', freq='BH')"
      ]
     },
     "execution_count": 47,
     "metadata": {},
     "output_type": "execute_result"
    }
   ],
   "source": [
    "pd.date_range(start = '2019-01-01 08:00', periods = 10, freq='BH')"
   ]
  },
  {
   "cell_type": "code",
   "execution_count": 48,
   "id": "0caa48ca-1a05-4aed-a121-1e352d95a610",
   "metadata": {
    "nbpresent": {
     "id": "73f4bd90-1578-45f6-88ec-4e2cf26239e1"
    }
   },
   "outputs": [
    {
     "data": {
      "text/plain": [
       "DatetimeIndex(['2019-01-01 10:00:00', '2019-01-01 10:30:00',\n",
       "               '2019-01-01 11:00:00', '2019-01-01 11:30:00'],\n",
       "              dtype='datetime64[ns]', freq='30T')"
      ]
     },
     "execution_count": 48,
     "metadata": {},
     "output_type": "execute_result"
    }
   ],
   "source": [
    "pd.date_range(start = '2019-01-01 10:00', periods = 4, freq='30min')"
   ]
  },
  {
   "cell_type": "code",
   "execution_count": 49,
   "id": "dea7528f-1fee-4637-bc1b-0f52e6aa63cd",
   "metadata": {},
   "outputs": [
    {
     "data": {
      "text/plain": [
       "DatetimeIndex(['2019-01-01 10:00:00', '2019-01-01 10:30:00',\n",
       "               '2019-01-01 11:00:00', '2019-01-01 11:30:00'],\n",
       "              dtype='datetime64[ns]', freq='30T')"
      ]
     },
     "execution_count": 49,
     "metadata": {},
     "output_type": "execute_result"
    }
   ],
   "source": [
    "pd.date_range(start = '2019-01-01 10:00', periods = 4, freq='30T')"
   ]
  },
  {
   "cell_type": "code",
   "execution_count": 50,
   "id": "afd9769d-54e8-4e20-a622-503db9e20c33",
   "metadata": {
    "nbpresent": {
     "id": "60b46d21-9ffe-496e-9245-20a5cac07ec9"
    }
   },
   "outputs": [
    {
     "data": {
      "text/plain": [
       "DatetimeIndex(['2019-01-01 10:00:00', '2019-01-01 10:00:10',\n",
       "               '2019-01-01 10:00:20', '2019-01-01 10:00:30'],\n",
       "              dtype='datetime64[ns]', freq='10S')"
      ]
     },
     "execution_count": 50,
     "metadata": {},
     "output_type": "execute_result"
    }
   ],
   "source": [
    "pd.date_range(start = '2019-01-01 10:00:00', periods = 4, freq='10S')"
   ]
  },
  {
   "cell_type": "code",
   "execution_count": 51,
   "id": "f508fda0-d782-419a-a1d5-9902ff08b8fd",
   "metadata": {
    "nbpresent": {
     "id": "89158dfa-2548-4e6e-9d9c-ffea68274878"
    }
   },
   "outputs": [
    {
     "data": {
      "text/plain": [
       "2019-03-01    51\n",
       "2019-03-02    62\n",
       "2019-03-03    55\n",
       "2019-03-04    49\n",
       "2019-03-05    58\n",
       "Freq: D, dtype: int64"
      ]
     },
     "execution_count": 51,
     "metadata": {},
     "output_type": "execute_result"
    }
   ],
   "source": [
    "index_date = pd.date_range(start = '2019-03-01', periods = 5, freq='D')\n",
    "pd.Series([51, 62, 55, 49, 58], index = index_date )"
   ]
  },
  {
   "cell_type": "markdown",
   "id": "46128716-2663-492f-9dd2-b30b52eae7fa",
   "metadata": {},
   "source": [
    "#### 다시 데이터프레임 파트!!!!(위에랑 같이 참고)"
   ]
  },
  {
   "cell_type": "code",
   "execution_count": 52,
   "id": "cadeb397-1c43-4264-ad38-4d9832b023b9",
   "metadata": {},
   "outputs": [
    {
     "data": {
      "text/html": [
       "<div>\n",
       "<style scoped>\n",
       "    .dataframe tbody tr th:only-of-type {\n",
       "        vertical-align: middle;\n",
       "    }\n",
       "\n",
       "    .dataframe tbody tr th {\n",
       "        vertical-align: top;\n",
       "    }\n",
       "\n",
       "    .dataframe thead th {\n",
       "        text-align: right;\n",
       "    }\n",
       "</style>\n",
       "<table border=\"1\" class=\"dataframe\">\n",
       "  <thead>\n",
       "    <tr style=\"text-align: right;\">\n",
       "      <th></th>\n",
       "      <th>0</th>\n",
       "      <th>1</th>\n",
       "      <th>2</th>\n",
       "    </tr>\n",
       "  </thead>\n",
       "  <tbody>\n",
       "    <tr>\n",
       "      <th>0</th>\n",
       "      <td>1</td>\n",
       "      <td>2</td>\n",
       "      <td>3</td>\n",
       "    </tr>\n",
       "    <tr>\n",
       "      <th>1</th>\n",
       "      <td>4</td>\n",
       "      <td>5</td>\n",
       "      <td>6</td>\n",
       "    </tr>\n",
       "    <tr>\n",
       "      <th>2</th>\n",
       "      <td>7</td>\n",
       "      <td>8</td>\n",
       "      <td>9</td>\n",
       "    </tr>\n",
       "  </tbody>\n",
       "</table>\n",
       "</div>"
      ],
      "text/plain": [
       "   0  1  2\n",
       "0  1  2  3\n",
       "1  4  5  6\n",
       "2  7  8  9"
      ]
     },
     "execution_count": 52,
     "metadata": {},
     "output_type": "execute_result"
    }
   ],
   "source": [
    "import pandas as pd\n",
    "\n",
    "pd.DataFrame([[1, 2, 3], [4, 5, 6], [7, 8, 9]]\n",
    "            #, columns = ['a','b','c']\n",
    "            #, index=[10,20,30]) # index 하면 알아보기 어려울 뿐\n",
    "            )"
   ]
  },
  {
   "cell_type": "markdown",
   "id": "068ac538-0492-495f-962c-5789dc8764c8",
   "metadata": {},
   "source": [
    "array로도 가능(근데 list 추천)"
   ]
  },
  {
   "cell_type": "code",
   "execution_count": 53,
   "id": "d209d8d5-43dd-4f15-bf58-40dd1a038228",
   "metadata": {},
   "outputs": [
    {
     "data": {
      "text/html": [
       "<div>\n",
       "<style scoped>\n",
       "    .dataframe tbody tr th:only-of-type {\n",
       "        vertical-align: middle;\n",
       "    }\n",
       "\n",
       "    .dataframe tbody tr th {\n",
       "        vertical-align: top;\n",
       "    }\n",
       "\n",
       "    .dataframe thead th {\n",
       "        text-align: right;\n",
       "    }\n",
       "</style>\n",
       "<table border=\"1\" class=\"dataframe\">\n",
       "  <thead>\n",
       "    <tr style=\"text-align: right;\">\n",
       "      <th></th>\n",
       "      <th>0</th>\n",
       "      <th>1</th>\n",
       "      <th>2</th>\n",
       "    </tr>\n",
       "  </thead>\n",
       "  <tbody>\n",
       "    <tr>\n",
       "      <th>0</th>\n",
       "      <td>10</td>\n",
       "      <td>20</td>\n",
       "      <td>30</td>\n",
       "    </tr>\n",
       "    <tr>\n",
       "      <th>1</th>\n",
       "      <td>40</td>\n",
       "      <td>50</td>\n",
       "      <td>60</td>\n",
       "    </tr>\n",
       "    <tr>\n",
       "      <th>2</th>\n",
       "      <td>70</td>\n",
       "      <td>80</td>\n",
       "      <td>90</td>\n",
       "    </tr>\n",
       "  </tbody>\n",
       "</table>\n",
       "</div>"
      ],
      "text/plain": [
       "    0   1   2\n",
       "0  10  20  30\n",
       "1  40  50  60\n",
       "2  70  80  90"
      ]
     },
     "execution_count": 53,
     "metadata": {},
     "output_type": "execute_result"
    }
   ],
   "source": [
    "import numpy as np\n",
    "import pandas as pd\n",
    "\n",
    "data_list = np.array([[10, 20, 30], [40, 50, 60], [70, 80, 90]])\n",
    "pd.DataFrame(data_list)"
   ]
  },
  {
   "cell_type": "code",
   "execution_count": 54,
   "id": "282607d7-2f5e-4e76-9cdd-a617a0ecaac8",
   "metadata": {},
   "outputs": [
    {
     "data": {
      "text/html": [
       "<div>\n",
       "<style scoped>\n",
       "    .dataframe tbody tr th:only-of-type {\n",
       "        vertical-align: middle;\n",
       "    }\n",
       "\n",
       "    .dataframe tbody tr th {\n",
       "        vertical-align: top;\n",
       "    }\n",
       "\n",
       "    .dataframe thead th {\n",
       "        text-align: right;\n",
       "    }\n",
       "</style>\n",
       "<table border=\"1\" class=\"dataframe\">\n",
       "  <thead>\n",
       "    <tr style=\"text-align: right;\">\n",
       "      <th></th>\n",
       "      <th>A</th>\n",
       "      <th>B</th>\n",
       "      <th>C</th>\n",
       "    </tr>\n",
       "  </thead>\n",
       "  <tbody>\n",
       "    <tr>\n",
       "      <th>2019-09-01</th>\n",
       "      <td>1</td>\n",
       "      <td>2</td>\n",
       "      <td>3</td>\n",
       "    </tr>\n",
       "    <tr>\n",
       "      <th>2019-09-02</th>\n",
       "      <td>4</td>\n",
       "      <td>5</td>\n",
       "      <td>6</td>\n",
       "    </tr>\n",
       "    <tr>\n",
       "      <th>2019-09-03</th>\n",
       "      <td>7</td>\n",
       "      <td>8</td>\n",
       "      <td>9</td>\n",
       "    </tr>\n",
       "    <tr>\n",
       "      <th>2019-09-04</th>\n",
       "      <td>10</td>\n",
       "      <td>11</td>\n",
       "      <td>12</td>\n",
       "    </tr>\n",
       "  </tbody>\n",
       "</table>\n",
       "</div>"
      ],
      "text/plain": [
       "             A   B   C\n",
       "2019-09-01   1   2   3\n",
       "2019-09-02   4   5   6\n",
       "2019-09-03   7   8   9\n",
       "2019-09-04  10  11  12"
      ]
     },
     "execution_count": 54,
     "metadata": {},
     "output_type": "execute_result"
    }
   ],
   "source": [
    "#배운 거 총동원!\n",
    "\n",
    "import numpy as np\n",
    "import pandas as pd\n",
    "\n",
    "data = np.array([[1, 2, 3], [4, 5, 6], [7, 8 ,9], [10, 11, 12]])\n",
    "index_date = pd.date_range('2019-09-01', periods=4)\n",
    "columns_list = ['A', 'B', 'C']\n",
    "pd.DataFrame(data, index=index_date, columns=columns_list)"
   ]
  },
  {
   "cell_type": "code",
   "execution_count": 55,
   "id": "b94c1cda-fee0-4f0e-9548-5b9cbb8a7dcb",
   "metadata": {},
   "outputs": [
    {
     "data": {
      "text/plain": [
       "{'연도': [2015, 2016, 2016, 2017, 2017],\n",
       " '지사': ['한국', '한국', '미국', '한국', '미국'],\n",
       " '고객 수': [200, 250, 450, 300, 500]}"
      ]
     },
     "execution_count": 55,
     "metadata": {},
     "output_type": "execute_result"
    }
   ],
   "source": [
    "table_data = {'연도': [2015, 2016, 2016, 2017, 2017],\n",
    "              '지사': ['한국', '한국', '미국', '한국','미국'],\n",
    "              '고객 수': [200, 250, 450, 300, 500]}\n",
    "table_data"
   ]
  },
  {
   "cell_type": "markdown",
   "id": "dad410fb-44f8-4310-bd7b-d9cbba53602a",
   "metadata": {},
   "source": [
    "**[11장: 249페이지]**"
   ]
  },
  {
   "cell_type": "code",
   "execution_count": 56,
   "id": "500ed09b-cb40-4634-b641-fb29eceac897",
   "metadata": {},
   "outputs": [
    {
     "data": {
      "text/html": [
       "<div>\n",
       "<style scoped>\n",
       "    .dataframe tbody tr th:only-of-type {\n",
       "        vertical-align: middle;\n",
       "    }\n",
       "\n",
       "    .dataframe tbody tr th {\n",
       "        vertical-align: top;\n",
       "    }\n",
       "\n",
       "    .dataframe thead th {\n",
       "        text-align: right;\n",
       "    }\n",
       "</style>\n",
       "<table border=\"1\" class=\"dataframe\">\n",
       "  <thead>\n",
       "    <tr style=\"text-align: right;\">\n",
       "      <th></th>\n",
       "      <th>연도</th>\n",
       "      <th>지사</th>\n",
       "      <th>고객 수</th>\n",
       "    </tr>\n",
       "  </thead>\n",
       "  <tbody>\n",
       "    <tr>\n",
       "      <th>0</th>\n",
       "      <td>2015</td>\n",
       "      <td>한국</td>\n",
       "      <td>200</td>\n",
       "    </tr>\n",
       "    <tr>\n",
       "      <th>1</th>\n",
       "      <td>2016</td>\n",
       "      <td>한국</td>\n",
       "      <td>250</td>\n",
       "    </tr>\n",
       "    <tr>\n",
       "      <th>2</th>\n",
       "      <td>2016</td>\n",
       "      <td>미국</td>\n",
       "      <td>450</td>\n",
       "    </tr>\n",
       "    <tr>\n",
       "      <th>3</th>\n",
       "      <td>2017</td>\n",
       "      <td>한국</td>\n",
       "      <td>300</td>\n",
       "    </tr>\n",
       "    <tr>\n",
       "      <th>4</th>\n",
       "      <td>2017</td>\n",
       "      <td>미국</td>\n",
       "      <td>500</td>\n",
       "    </tr>\n",
       "  </tbody>\n",
       "</table>\n",
       "</div>"
      ],
      "text/plain": [
       "     연도  지사  고객 수\n",
       "0  2015  한국   200\n",
       "1  2016  한국   250\n",
       "2  2016  미국   450\n",
       "3  2017  한국   300\n",
       "4  2017  미국   500"
      ]
     },
     "execution_count": 56,
     "metadata": {},
     "output_type": "execute_result"
    }
   ],
   "source": [
    "pd.DataFrame(table_data)"
   ]
  },
  {
   "cell_type": "code",
   "execution_count": 57,
   "id": "49cda370-e045-49f7-917a-000b773c4f78",
   "metadata": {
    "nbpresent": {
     "id": "f7e8b4a4-6320-40f5-8a00-0c76efbb34c1"
    }
   },
   "outputs": [
    {
     "ename": "ValueError",
     "evalue": "Length mismatch: Expected axis has 5 elements, new values have 3 elements",
     "output_type": "error",
     "traceback": [
      "\u001b[1;31m---------------------------------------------------------------------------\u001b[0m",
      "\u001b[1;31mValueError\u001b[0m                                Traceback (most recent call last)",
      "\u001b[1;32m~\\AppData\\Local\\Temp/ipykernel_20396/3494807096.py\u001b[0m in \u001b[0;36m<module>\u001b[1;34m\u001b[0m\n\u001b[0;32m      2\u001b[0m \u001b[1;31m# df.info()\u001b[0m\u001b[1;33m\u001b[0m\u001b[1;33m\u001b[0m\u001b[1;33m\u001b[0m\u001b[0m\n\u001b[0;32m      3\u001b[0m \u001b[1;33m\u001b[0m\u001b[0m\n\u001b[1;32m----> 4\u001b[1;33m \u001b[0mdf\u001b[0m\u001b[1;33m.\u001b[0m\u001b[0mcolumns\u001b[0m\u001b[1;33m=\u001b[0m\u001b[1;33m[\u001b[0m\u001b[1;34m'kor'\u001b[0m\u001b[1;33m,\u001b[0m\u001b[1;34m'eng'\u001b[0m\u001b[1;33m,\u001b[0m\u001b[1;34m'math'\u001b[0m\u001b[1;33m]\u001b[0m \u001b[1;31m# ------------------컬럼 이름 변경\u001b[0m\u001b[1;33m\u001b[0m\u001b[1;33m\u001b[0m\u001b[0m\n\u001b[0m\u001b[0;32m      5\u001b[0m \u001b[0mdf\u001b[0m\u001b[1;33m.\u001b[0m\u001b[0minfo\u001b[0m\u001b[1;33m(\u001b[0m\u001b[1;33m)\u001b[0m\u001b[1;33m\u001b[0m\u001b[1;33m\u001b[0m\u001b[0m\n",
      "\u001b[1;32mc:\\ai\\pythonproject\\venv\\lib\\site-packages\\pandas\\core\\generic.py\u001b[0m in \u001b[0;36m__setattr__\u001b[1;34m(self, name, value)\u001b[0m\n\u001b[0;32m   5498\u001b[0m         \u001b[1;32mtry\u001b[0m\u001b[1;33m:\u001b[0m\u001b[1;33m\u001b[0m\u001b[1;33m\u001b[0m\u001b[0m\n\u001b[0;32m   5499\u001b[0m             \u001b[0mobject\u001b[0m\u001b[1;33m.\u001b[0m\u001b[0m__getattribute__\u001b[0m\u001b[1;33m(\u001b[0m\u001b[0mself\u001b[0m\u001b[1;33m,\u001b[0m \u001b[0mname\u001b[0m\u001b[1;33m)\u001b[0m\u001b[1;33m\u001b[0m\u001b[1;33m\u001b[0m\u001b[0m\n\u001b[1;32m-> 5500\u001b[1;33m             \u001b[1;32mreturn\u001b[0m \u001b[0mobject\u001b[0m\u001b[1;33m.\u001b[0m\u001b[0m__setattr__\u001b[0m\u001b[1;33m(\u001b[0m\u001b[0mself\u001b[0m\u001b[1;33m,\u001b[0m \u001b[0mname\u001b[0m\u001b[1;33m,\u001b[0m \u001b[0mvalue\u001b[0m\u001b[1;33m)\u001b[0m\u001b[1;33m\u001b[0m\u001b[1;33m\u001b[0m\u001b[0m\n\u001b[0m\u001b[0;32m   5501\u001b[0m         \u001b[1;32mexcept\u001b[0m \u001b[0mAttributeError\u001b[0m\u001b[1;33m:\u001b[0m\u001b[1;33m\u001b[0m\u001b[1;33m\u001b[0m\u001b[0m\n\u001b[0;32m   5502\u001b[0m             \u001b[1;32mpass\u001b[0m\u001b[1;33m\u001b[0m\u001b[1;33m\u001b[0m\u001b[0m\n",
      "\u001b[1;32mc:\\ai\\pythonproject\\venv\\lib\\site-packages\\pandas\\_libs\\properties.pyx\u001b[0m in \u001b[0;36mpandas._libs.properties.AxisProperty.__set__\u001b[1;34m()\u001b[0m\n",
      "\u001b[1;32mc:\\ai\\pythonproject\\venv\\lib\\site-packages\\pandas\\core\\generic.py\u001b[0m in \u001b[0;36m_set_axis\u001b[1;34m(self, axis, labels)\u001b[0m\n\u001b[0;32m    764\u001b[0m     \u001b[1;32mdef\u001b[0m \u001b[0m_set_axis\u001b[0m\u001b[1;33m(\u001b[0m\u001b[0mself\u001b[0m\u001b[1;33m,\u001b[0m \u001b[0maxis\u001b[0m\u001b[1;33m:\u001b[0m \u001b[0mint\u001b[0m\u001b[1;33m,\u001b[0m \u001b[0mlabels\u001b[0m\u001b[1;33m:\u001b[0m \u001b[0mIndex\u001b[0m\u001b[1;33m)\u001b[0m \u001b[1;33m->\u001b[0m \u001b[1;32mNone\u001b[0m\u001b[1;33m:\u001b[0m\u001b[1;33m\u001b[0m\u001b[1;33m\u001b[0m\u001b[0m\n\u001b[0;32m    765\u001b[0m         \u001b[0mlabels\u001b[0m \u001b[1;33m=\u001b[0m \u001b[0mensure_index\u001b[0m\u001b[1;33m(\u001b[0m\u001b[0mlabels\u001b[0m\u001b[1;33m)\u001b[0m\u001b[1;33m\u001b[0m\u001b[1;33m\u001b[0m\u001b[0m\n\u001b[1;32m--> 766\u001b[1;33m         \u001b[0mself\u001b[0m\u001b[1;33m.\u001b[0m\u001b[0m_mgr\u001b[0m\u001b[1;33m.\u001b[0m\u001b[0mset_axis\u001b[0m\u001b[1;33m(\u001b[0m\u001b[0maxis\u001b[0m\u001b[1;33m,\u001b[0m \u001b[0mlabels\u001b[0m\u001b[1;33m)\u001b[0m\u001b[1;33m\u001b[0m\u001b[1;33m\u001b[0m\u001b[0m\n\u001b[0m\u001b[0;32m    767\u001b[0m         \u001b[0mself\u001b[0m\u001b[1;33m.\u001b[0m\u001b[0m_clear_item_cache\u001b[0m\u001b[1;33m(\u001b[0m\u001b[1;33m)\u001b[0m\u001b[1;33m\u001b[0m\u001b[1;33m\u001b[0m\u001b[0m\n\u001b[0;32m    768\u001b[0m \u001b[1;33m\u001b[0m\u001b[0m\n",
      "\u001b[1;32mc:\\ai\\pythonproject\\venv\\lib\\site-packages\\pandas\\core\\internals\\managers.py\u001b[0m in \u001b[0;36mset_axis\u001b[1;34m(self, axis, new_labels)\u001b[0m\n\u001b[0;32m    214\u001b[0m     \u001b[1;32mdef\u001b[0m \u001b[0mset_axis\u001b[0m\u001b[1;33m(\u001b[0m\u001b[0mself\u001b[0m\u001b[1;33m,\u001b[0m \u001b[0maxis\u001b[0m\u001b[1;33m:\u001b[0m \u001b[0mint\u001b[0m\u001b[1;33m,\u001b[0m \u001b[0mnew_labels\u001b[0m\u001b[1;33m:\u001b[0m \u001b[0mIndex\u001b[0m\u001b[1;33m)\u001b[0m \u001b[1;33m->\u001b[0m \u001b[1;32mNone\u001b[0m\u001b[1;33m:\u001b[0m\u001b[1;33m\u001b[0m\u001b[1;33m\u001b[0m\u001b[0m\n\u001b[0;32m    215\u001b[0m         \u001b[1;31m# Caller is responsible for ensuring we have an Index object.\u001b[0m\u001b[1;33m\u001b[0m\u001b[1;33m\u001b[0m\u001b[1;33m\u001b[0m\u001b[0m\n\u001b[1;32m--> 216\u001b[1;33m         \u001b[0mself\u001b[0m\u001b[1;33m.\u001b[0m\u001b[0m_validate_set_axis\u001b[0m\u001b[1;33m(\u001b[0m\u001b[0maxis\u001b[0m\u001b[1;33m,\u001b[0m \u001b[0mnew_labels\u001b[0m\u001b[1;33m)\u001b[0m\u001b[1;33m\u001b[0m\u001b[1;33m\u001b[0m\u001b[0m\n\u001b[0m\u001b[0;32m    217\u001b[0m         \u001b[0mself\u001b[0m\u001b[1;33m.\u001b[0m\u001b[0maxes\u001b[0m\u001b[1;33m[\u001b[0m\u001b[0maxis\u001b[0m\u001b[1;33m]\u001b[0m \u001b[1;33m=\u001b[0m \u001b[0mnew_labels\u001b[0m\u001b[1;33m\u001b[0m\u001b[1;33m\u001b[0m\u001b[0m\n\u001b[0;32m    218\u001b[0m \u001b[1;33m\u001b[0m\u001b[0m\n",
      "\u001b[1;32mc:\\ai\\pythonproject\\venv\\lib\\site-packages\\pandas\\core\\internals\\base.py\u001b[0m in \u001b[0;36m_validate_set_axis\u001b[1;34m(self, axis, new_labels)\u001b[0m\n\u001b[0;32m     55\u001b[0m \u001b[1;33m\u001b[0m\u001b[0m\n\u001b[0;32m     56\u001b[0m         \u001b[1;32melif\u001b[0m \u001b[0mnew_len\u001b[0m \u001b[1;33m!=\u001b[0m \u001b[0mold_len\u001b[0m\u001b[1;33m:\u001b[0m\u001b[1;33m\u001b[0m\u001b[1;33m\u001b[0m\u001b[0m\n\u001b[1;32m---> 57\u001b[1;33m             raise ValueError(\n\u001b[0m\u001b[0;32m     58\u001b[0m                 \u001b[1;34mf\"Length mismatch: Expected axis has {old_len} elements, new \"\u001b[0m\u001b[1;33m\u001b[0m\u001b[1;33m\u001b[0m\u001b[0m\n\u001b[0;32m     59\u001b[0m                 \u001b[1;34mf\"values have {new_len} elements\"\u001b[0m\u001b[1;33m\u001b[0m\u001b[1;33m\u001b[0m\u001b[0m\n",
      "\u001b[1;31mValueError\u001b[0m: Length mismatch: Expected axis has 5 elements, new values have 3 elements"
     ]
    }
   ],
   "source": [
    "# df = pd.DataFrame(table_data, columns=['연도', '지사', '고객 수']) # 이름 바꾸는 거?? 이제는 안 먹는다!!!!\n",
    "# df.info()\n",
    "\n",
    "df.columns=['kor','eng','math'] # ------------------컬럼 이름 변경\n",
    "df.info()"
   ]
  },
  {
   "cell_type": "markdown",
   "id": "acbf3614-5106-4a7c-addb-f022c2cf245c",
   "metadata": {
    "nbpresent": {
     "id": "523df774-1955-4d98-894e-b0d4d7dc259a"
    }
   },
   "source": [
    "**[11장: 251페이지]**"
   ]
  },
  {
   "cell_type": "markdown",
   "id": "6f59f31c-3b73-4b56-bcdb-4ca7e577f7f9",
   "metadata": {},
   "source": [
    "### Series와 DataFrame\n",
    "s.index, s.values  \n",
    "df.index, df.values, df.columns  \n",
    "\n",
    "-> index 빼고는 다 s 붙는다."
   ]
  },
  {
   "cell_type": "code",
   "execution_count": null,
   "id": "ab4f1aa8-4c12-4177-9dd1-6bc1a25fb747",
   "metadata": {
    "nbpresent": {
     "id": "dfdbc505-3c93-471f-8efe-ef7f393351af"
    }
   },
   "outputs": [],
   "source": [
    "df.index"
   ]
  },
  {
   "cell_type": "code",
   "execution_count": null,
   "id": "c914970e-cea7-42da-ac1b-f8cf85b256f1",
   "metadata": {
    "nbpresent": {
     "id": "ef71dc6e-6241-4c9d-9c35-1b3570720607"
    }
   },
   "outputs": [],
   "source": [
    "df.columns"
   ]
  },
  {
   "cell_type": "code",
   "execution_count": null,
   "id": "344c0d1e-b191-4d26-9516-b736a40993af",
   "metadata": {
    "nbpresent": {
     "id": "89700812-7d50-4838-bb93-bdfbdb7c5b90"
    },
    "scrolled": true
   },
   "outputs": [],
   "source": [
    "df.values #dtype이 object인 이유는 array로 넣었기 때문."
   ]
  },
  {
   "cell_type": "markdown",
   "id": "e5f5b3d2-e7fd-4b09-8bd8-9e7e88fc7048",
   "metadata": {
    "nbpresent": {
     "id": "9165b87e-160c-4f61-accb-5af75ff51f50"
    }
   },
   "source": [
    "### 데이터 연산"
   ]
  },
  {
   "cell_type": "code",
   "execution_count": null,
   "id": "65cee7b4-51de-48fa-879e-2e7f80b73993",
   "metadata": {
    "nbpresent": {
     "id": "b09d43cf-d07d-4b1f-9de4-f80b60064d24"
    }
   },
   "outputs": [],
   "source": [
    "s1 = pd.Series([1, 2, 3, 4, 5])\n",
    "s2 = pd.Series([10, 20, 30, 40, 50])\n",
    "s1 + s2 # concat이 아닌 더하기 개념"
   ]
  },
  {
   "cell_type": "code",
   "execution_count": null,
   "id": "b04db192-bae9-47be-b7d8-d66cf189abce",
   "metadata": {
    "nbpresent": {
     "id": "ce2fd30f-ea31-47c8-8509-e9978ff55d90"
    }
   },
   "outputs": [],
   "source": [
    "s2 - s1 # 값에 대한 가감산 가능"
   ]
  },
  {
   "cell_type": "code",
   "execution_count": null,
   "id": "b6898e74-9fb0-457a-9df5-13e010974b25",
   "metadata": {
    "nbpresent": {
     "id": "c12fc9c5-518f-47d0-948d-c5a850738081"
    }
   },
   "outputs": [],
   "source": [
    "s1 * s2"
   ]
  },
  {
   "cell_type": "code",
   "execution_count": null,
   "id": "7e21987d-e32a-4d6a-ba97-5eb9e19728e8",
   "metadata": {
    "nbpresent": {
     "id": "f1b8a023-d45d-4766-bf4c-9837c745b049"
    }
   },
   "outputs": [],
   "source": [
    "s2 / s1"
   ]
  },
  {
   "cell_type": "markdown",
   "id": "d5894015-0332-400e-b05f-238340af3427",
   "metadata": {
    "nbpresent": {
     "id": "833f47d2-576a-43bf-8d85-3f853b9a3be3"
    }
   },
   "source": [
    "**[11장: 252 ~ 253페이지]**"
   ]
  },
  {
   "cell_type": "code",
   "execution_count": null,
   "id": "0c66f578-4d83-4de4-aaa3-870fdc7d996d",
   "metadata": {
    "nbpresent": {
     "id": "11f1de4a-fae8-4320-a8f2-b354c9dce5ab"
    }
   },
   "outputs": [],
   "source": [
    "s3 = pd.Series([1, 2, 3, 4])\n",
    "s4 = pd.Series([10, 20, 30, 40, 50])\n",
    "s3 + s4 # 서로 길이 다르면 초과분만큼 NaN 된다."
   ]
  },
  {
   "cell_type": "code",
   "execution_count": null,
   "id": "0184153e-bae4-4a90-b5cd-9173ec2d9cff",
   "metadata": {
    "nbpresent": {
     "id": "65d55d3d-83d3-4e07-a3ec-721e8b1f3b1f"
    }
   },
   "outputs": [],
   "source": [
    "s4 - s3"
   ]
  },
  {
   "cell_type": "code",
   "execution_count": null,
   "id": "ad3d4cd7-a55e-4c4b-af7f-9aee322bd337",
   "metadata": {
    "nbpresent": {
     "id": "efee25a2-6ed3-4714-a385-bb9efd904fc0"
    }
   },
   "outputs": [],
   "source": [
    "s3 * s4"
   ]
  },
  {
   "cell_type": "code",
   "execution_count": null,
   "id": "782155e0-d922-4167-8606-079ad0f506a4",
   "metadata": {
    "nbpresent": {
     "id": "f3163aac-b6b4-4828-9fdc-0016831ba4c2"
    }
   },
   "outputs": [],
   "source": [
    "s4/s3"
   ]
  },
  {
   "cell_type": "code",
   "execution_count": null,
   "id": "5e8abdba-0bd6-4f23-b6f7-d28d7de35be0",
   "metadata": {},
   "outputs": [],
   "source": [
    "# ====================================여기서부터=================================="
   ]
  },
  {
   "cell_type": "markdown",
   "id": "09e64707-ee2a-415d-b18e-0b321f588445",
   "metadata": {
    "nbpresent": {
     "id": "1fa941d8-24b8-49a4-9c3d-f5b162ef9fca"
    }
   },
   "source": [
    "**[11장: 253 ~ 254페이지]**"
   ]
  },
  {
   "cell_type": "code",
   "execution_count": null,
   "id": "dd007dda-9598-4689-9c6f-f0b4dbfdd3a2",
   "metadata": {
    "nbpresent": {
     "id": "511b791a-d543-4b39-ab49-76606f09a777"
    }
   },
   "outputs": [],
   "source": [
    "table_data1 = {'A': [1, 2, 3, 4, 5],\n",
    "              'B': [10, 20, 30, 40, 50],\n",
    "              'C': [100, 200, 300, 400, 500]}\n",
    "df1 = pd.DataFrame(table_data1)\n",
    "df1"
   ]
  },
  {
   "cell_type": "code",
   "execution_count": null,
   "id": "6dfa23ea-19bf-49ea-81fc-73626d00e4cc",
   "metadata": {
    "nbpresent": {
     "id": "c32528c1-b65c-4d07-ad63-656dd9f6ba38"
    }
   },
   "outputs": [],
   "source": [
    "table_data2 = {'A': [6, 7, 8],\n",
    "              'B': [60, 70, 80],\n",
    "              'C': [600, 700, 800]}\n",
    "df2 = pd.DataFrame(table_data2)\n",
    "df2"
   ]
  },
  {
   "cell_type": "markdown",
   "id": "75011922-acc0-4ae8-8ca4-e06a19fb1d24",
   "metadata": {
    "nbpresent": {
     "id": "7d39c0ed-66cf-461c-9a35-c5dd1cc8d075"
    }
   },
   "source": [
    "**[11장: 254페이지]**"
   ]
  },
  {
   "cell_type": "code",
   "execution_count": null,
   "id": "3749616a-a889-4747-80c4-d42f6643a951",
   "metadata": {
    "nbpresent": {
     "id": "9c7bc1b2-d48d-44f6-a8a3-3915114885d2"
    }
   },
   "outputs": [],
   "source": [
    "df1 + df2 # 값 간의 덧셈이지 세로로 이어주는 게 아니다.\n",
    "            # 결측이 포함돼서 dtype은 저절로 float으로 바뀐다."
   ]
  },
  {
   "cell_type": "markdown",
   "id": "57c3378f-ebe3-47c6-bcae-2a10f9609e8a",
   "metadata": {
    "nbpresent": {
     "id": "25fc0c20-2cce-4bf1-9067-d378139989c2"
    }
   },
   "source": [
    "**[11장: 255페이지]**"
   ]
  },
  {
   "cell_type": "code",
   "execution_count": null,
   "id": "b7c2c0f1-c095-440b-a95b-e0e1a5159368",
   "metadata": {
    "nbpresent": {
     "id": "1893445a-6068-4bfa-afdd-b95cbf4ab4b1"
    }
   },
   "outputs": [],
   "source": [
    "table_data3 = {'봄':  [256.5, 264.3, 215.9, 223.2, 312.8],\n",
    "              '여름': [770.6, 567.5, 599.8, 387.1, 446.2],\n",
    "              '가을': [363.5, 231.2, 293.1, 247.7, 381.6],\n",
    "              '겨울': [139.3, 59.9, 76.9, 109.1, 108.1]}\n",
    "columns_list = ['봄', '여름', '가을', '겨울'] # 없어도 됨.\n",
    "index_list = ['2012', '2013', '2014', '2015', '2016']\n",
    "\n",
    "df3 = pd.DataFrame(table_data3, columns = columns_list, index = index_list)\n",
    "df3"
   ]
  },
  {
   "cell_type": "markdown",
   "id": "da095991-abe5-49e5-ada2-9f3bd4ca5d01",
   "metadata": {
    "nbpresent": {
     "id": "c29a5579-b0a2-4a06-be7f-1db061377fad"
    }
   },
   "source": [
    "**[11장: 256페이지]**"
   ]
  },
  {
   "cell_type": "code",
   "execution_count": null,
   "id": "581ef979-3fc6-48cc-b5d2-f723476d73c8",
   "metadata": {
    "nbpresent": {
     "id": "39e3b2cc-4a74-4028-9d0f-ea409e237cb6"
    }
   },
   "outputs": [],
   "source": [
    "# 오라클로 하면 어떻게 나오는지, 어떻게 해야되는지 생각(강사님 코드 참고)\n",
    "df3.mean() # 각 column 별로 평균"
   ]
  },
  {
   "cell_type": "code",
   "execution_count": null,
   "id": "a467e9ff-ccf3-442c-97cf-a53563cf0c59",
   "metadata": {
    "nbpresent": {
     "id": "cd7cb1fc-aff2-4eb4-b96b-a136745c7758"
    }
   },
   "outputs": [],
   "source": [
    "df3.std()"
   ]
  },
  {
   "cell_type": "markdown",
   "id": "76418d51-0b44-4c39-ad04-309f69b38faa",
   "metadata": {
    "nbpresent": {
     "id": "b2c0caa5-83a1-41de-8ff3-143e37f568d7"
    }
   },
   "source": [
    "**[11장: 256 ~ 257페이지]**"
   ]
  },
  {
   "cell_type": "code",
   "execution_count": null,
   "id": "15a966a6-52dd-403c-bc84-7acef48c3d27",
   "metadata": {
    "nbpresent": {
     "id": "7de047d9-e444-4106-9e95-a6b86a0da0b6"
    }
   },
   "outputs": [],
   "source": [
    "df3.mean(axis=1) # axis : 축. 1이면 세로 별로!(연도별) 0이면 가로 별로!(계절별)"
   ]
  },
  {
   "cell_type": "code",
   "execution_count": null,
   "id": "800c1121-d973-4eaf-a714-9a565713e3c8",
   "metadata": {
    "nbpresent": {
     "id": "096c7f0e-262d-4444-b6c3-0555b747e1dc"
    }
   },
   "outputs": [],
   "source": [
    "df3.std(axis=1)"
   ]
  },
  {
   "cell_type": "markdown",
   "id": "24a10690-749e-497e-b485-cce940d785ed",
   "metadata": {
    "nbpresent": {
     "id": "5bbce344-b8fe-4333-a1fa-c6c9e3cd7886"
    }
   },
   "source": [
    "**[11장: 257페이지]**"
   ]
  },
  {
   "cell_type": "code",
   "execution_count": null,
   "id": "783f7bca-9bcd-402d-943b-c4cd535475c9",
   "metadata": {
    "nbpresent": {
     "id": "417789a3-66a4-4c52-b967-6855a3b6edb6"
    },
    "scrolled": true
   },
   "outputs": [],
   "source": [
    "df3.describe()           # 값 데이터의 구조\n",
    "# 25% 까지의 평균값, 50% 까지의 평균값\n",
    "# 오라클도 describe 존재( 줄여서 desc로 많이 썼다. -> 표의 구조)"
   ]
  },
  {
   "cell_type": "markdown",
   "id": "4e437f1b-19e5-4bb1-940a-01f0d20b93d2",
   "metadata": {
    "nbpresent": {
     "id": "aabebd8c-9653-4790-a1ac-5d6416a6a875"
    }
   },
   "source": [
    "### 데이터를 원하는 대로 선택하기"
   ]
  },
  {
   "cell_type": "markdown",
   "id": "6eb8abb3-04c2-4776-9222-6cd6aa73ac5f",
   "metadata": {
    "nbpresent": {
     "id": "7b8b4fd8-4015-4b2b-bfd3-f0b070122358"
    }
   },
   "source": [
    "**[11장: 258페이지]**"
   ]
  },
  {
   "cell_type": "code",
   "execution_count": null,
   "id": "29aa67b8-cf09-4caa-8a52-b8a3ebd08f64",
   "metadata": {
    "nbpresent": {
     "id": "fa8fe338-046c-48ab-a709-6c5e1d69625d"
    },
    "scrolled": true
   },
   "outputs": [],
   "source": [
    "import pandas as pd\n",
    "import numpy as np\n",
    "\n",
    "KTX_data = {'경부선 KTX': [39060, 39896, 42005, 43621, 41702, 41266, 32427],\n",
    "            '호남선 KTX': [7313, 6967, 6873, 6626, 8675, 10622, 9228],\n",
    "            '경전선 KTX': [3627, 4168, 4088, 4424, 4606, 4984, 5570],\n",
    "            '전라선 KTX': [309, 1771, 1954, 2244, 3146, 3945, 5766],\n",
    "            '동해선 KTX': [np.nan,np.nan, np.nan, np.nan, 2395, 3786, 6667]}\n",
    "col_list = ['경부선 KTX','호남선 KTX','경전선 KTX','전라선 KTX','동해선 KTX']\n",
    "index_list = ['2011', '2012', '2013', '2014', '2015', '2016', '2017']\n",
    "\n",
    "df_KTX = pd.DataFrame(KTX_data, columns = col_list, index = index_list)\n",
    "df_KTX"
   ]
  },
  {
   "cell_type": "code",
   "execution_count": null,
   "id": "2fefcd88-8ed9-4e4b-9777-e7e2bce9f2be",
   "metadata": {
    "nbpresent": {
     "id": "9594cb7f-7599-49b2-b65f-335bbc6d90b0"
    }
   },
   "outputs": [],
   "source": [
    "df_KTX.index"
   ]
  },
  {
   "cell_type": "code",
   "execution_count": null,
   "id": "b8ace638-1d46-43d3-a5fe-a0b653ec2160",
   "metadata": {
    "nbpresent": {
     "id": "cf24c377-9bd2-45b0-8047-b47072a5b706"
    }
   },
   "outputs": [],
   "source": [
    "df_KTX.columns"
   ]
  },
  {
   "cell_type": "code",
   "execution_count": null,
   "id": "54079075-7cf1-4765-a2f2-83cf986e6b3f",
   "metadata": {
    "nbpresent": {
     "id": "639401fd-6ca8-4ae2-b72e-f0c0ff63caf4"
    }
   },
   "outputs": [],
   "source": [
    "df_KTX.values"
   ]
  },
  {
   "cell_type": "code",
   "execution_count": null,
   "id": "935c1328-1405-4fb1-8066-37b39a189988",
   "metadata": {
    "nbpresent": {
     "id": "1fc321cc-0ece-41d5-8edd-d69203c65255"
    }
   },
   "outputs": [],
   "source": [
    "df_KTX.head()"
   ]
  },
  {
   "cell_type": "code",
   "execution_count": null,
   "id": "bd8ab9db-f573-44fd-a6f3-15f6d31d6539",
   "metadata": {
    "nbpresent": {
     "id": "64bc39ab-346c-40e7-b1c9-1929ea0f8c01"
    }
   },
   "outputs": [],
   "source": [
    "df_KTX.tail()"
   ]
  },
  {
   "cell_type": "code",
   "execution_count": null,
   "id": "7724f126-a11b-43c0-9616-8fbd614545ac",
   "metadata": {
    "nbpresent": {
     "id": "6852f07c-87ae-4102-9681-8d126cef3b64"
    }
   },
   "outputs": [],
   "source": [
    "df_KTX.head(3)"
   ]
  },
  {
   "cell_type": "code",
   "execution_count": null,
   "id": "8e734de0-8746-4c07-83e3-a939c66ecbfe",
   "metadata": {
    "nbpresent": {
     "id": "3d06c73d-3987-470b-933a-48f98fd8d538"
    }
   },
   "outputs": [],
   "source": [
    "df_KTX.tail(2)"
   ]
  },
  {
   "cell_type": "code",
   "execution_count": null,
   "id": "ae9876f8-5149-4099-8708-10bc5e701425",
   "metadata": {
    "nbpresent": {
     "id": "ac73781f-1113-47c9-bc0b-ff1c6f328aa2"
    }
   },
   "outputs": [],
   "source": [
    "df_KTX[1:2] #인덱스 기준 줄."
   ]
  },
  {
   "cell_type": "code",
   "execution_count": null,
   "id": "3535febb-56b1-4de8-ad0d-3de3ec82dc72",
   "metadata": {
    "nbpresent": {
     "id": "b9b0414d-d865-4259-b25e-4d75950ffbb6"
    }
   },
   "outputs": [],
   "source": [
    "df_KTX[2:5] # [줄,칸]인데 , 뒤가 없으니 줄 기준만 하고 칸은 다 뽑겠다"
   ]
  },
  {
   "cell_type": "markdown",
   "id": "fc3350cf-d360-4630-82c4-c9c1c7a61d06",
   "metadata": {
    "nbpresent": {
     "id": "d4651dc6-f125-47d0-a46c-8fe06a7bc4be"
    }
   },
   "source": [
    "**[11장: 262페이지]**"
   ]
  },
  {
   "cell_type": "code",
   "execution_count": null,
   "id": "9705ee47-d7a1-4b72-8f63-fc7aba21b777",
   "metadata": {
    "nbpresent": {
     "id": "f3adbfa8-ca7a-4117-9f75-f4a12cfe7c80"
    }
   },
   "outputs": [],
   "source": [
    "df_KTX.loc['2011'] # iloc은 인덱스 location, 그냥 location은 값\n",
    "# 안 붙이면 번째\n"
   ]
  },
  {
   "cell_type": "code",
   "execution_count": null,
   "id": "8a6292ff-0962-4c22-8774-815e77903aeb",
   "metadata": {},
   "outputs": [],
   "source": [
    "\n",
    "###########강사님\n",
    "df=pd.DataFrame( data=[ [1,'kim',111],[2,'lee',222]] ,\n",
    "                 columns=['seq','id','pw'],\n",
    "                 index= ['aa','bb'] # 인덱스 어떻게 줄 건지 쓰는 것. 데이터 개수만큼 필요.(많으면 다 부여하기 어려워서 사실 그냥 안 쓴다.) 0번째부터 시작.\n",
    "                                     # dtype= 안 쓰면 기본타입 들어감.\n",
    "                 )\n",
    "print(df.info()) # 결과: table의 description 이 나온다.\n",
    "                # / type의 object는 str타입. int는 혹시 몰라 제일 큰 64로 잡아준다. / 2 entries: 2 개의 row\n",
    " \n",
    "#df\n",
    "#df.loc['aa'] #-- 김씨\n",
    "#df.iloc[0] #-- 김씨\n",
    "#df[0:1] #--0번째 줄"
   ]
  },
  {
   "cell_type": "markdown",
   "id": "fcf88962-1a7c-416c-80bf-2bb2c8b3028f",
   "metadata": {
    "nbpresent": {
     "id": "4ec02e25-230b-4dc4-b93d-248362bb6668"
    }
   },
   "source": [
    "**[11장: 262페이지]**"
   ]
  },
  {
   "cell_type": "code",
   "execution_count": null,
   "id": "06b36f07-6c9b-4ceb-bbdc-345340a9ce33",
   "metadata": {
    "nbpresent": {
     "id": "d1dbe790-0599-4dd5-a85f-e7d342fbaec1"
    }
   },
   "outputs": [],
   "source": [
    "df_KTX.loc['2013':'2016'] # 값으로 하는 경우 이상미만이 아닌 포함임에 유의"
   ]
  },
  {
   "cell_type": "markdown",
   "id": "cc237787-62bb-4777-ae3e-c2b2984782f2",
   "metadata": {
    "nbpresent": {
     "id": "dcaf4328-bf16-4cec-aa4b-e2b6b4c50dee"
    }
   },
   "source": [
    "**[11장: 263페이지]**"
   ]
  },
  {
   "cell_type": "code",
   "execution_count": null,
   "id": "7e426dff-91ec-49a2-986f-46b61247fb90",
   "metadata": {
    "nbpresent": {
     "id": "83f35fac-f81a-4767-b858-e720844e9efb"
    }
   },
   "outputs": [],
   "source": [
    "df_KTX['경부선 KTX'] # 칸 기준으로! 슬라이싱이랑 헷갈린다 주의"
   ]
  },
  {
   "cell_type": "markdown",
   "id": "e5ab8a69-7597-4b01-9947-316185ed1661",
   "metadata": {},
   "source": [
    "**[11장: 263페이지]**"
   ]
  },
  {
   "cell_type": "code",
   "execution_count": null,
   "id": "174bbb0e-51ad-47d6-9ec7-60b52a62022c",
   "metadata": {},
   "outputs": [],
   "source": [
    "#### **************주의!!!!!! 예외조항\n",
    "\n",
    "df_KTX['경부선 KTX']['2012':'2014'] # 경부선 KTX 꺼내줘. 인덱스는 2012~2014\n",
    "########## 뒷부분 별도. 슬라이싱이랑 다름\n",
    "# 슬라이싱이었으면 [줄,칸]\n",
    "# 값이라 예외조항 밑에 슬라이싱과 구분"
   ]
  },
  {
   "cell_type": "code",
   "execution_count": null,
   "id": "81a1930b-e7c9-49d9-8bb7-001a1c39e403",
   "metadata": {},
   "outputs": [],
   "source": [
    "df_KTX['경부선 KTX'][2:5] # 이게  슬라이싱 iloc 느낌"
   ]
  },
  {
   "cell_type": "code",
   "execution_count": null,
   "id": "7305d862-40c1-4204-bfb0-59132266bc5b",
   "metadata": {
    "nbpresent": {
     "id": "54f2aafb-cf2d-4ca3-aeed-8b8e7640cf45"
    }
   },
   "outputs": [],
   "source": [
    "df_KTX.loc['2016']['호남선 KTX'] "
   ]
  },
  {
   "cell_type": "code",
   "execution_count": null,
   "id": "4a9925b5-1f90-4bab-ab36-2e744a7ea715",
   "metadata": {
    "nbpresent": {
     "id": "e2171d29-60a5-4cb1-b568-af3a9a93f378"
    }
   },
   "outputs": [],
   "source": [
    "df_KTX.loc['2016','호남선 KTX'] ### 비추"
   ]
  },
  {
   "cell_type": "code",
   "execution_count": null,
   "id": "05aaa08b-cd33-4509-95d7-faaebbca7f76",
   "metadata": {},
   "outputs": [],
   "source": [
    "df_KTX['호남선 KTX']['2016'] #값의 개념\n",
    "\n",
    "# df_KTX.loc['호남선 KTX']['2016'] 이건 에러!!!!"
   ]
  },
  {
   "cell_type": "code",
   "execution_count": null,
   "id": "34890920-d0c4-457d-b733-a8ed23de1ed9",
   "metadata": {},
   "outputs": [],
   "source": [
    "df_KTX['호남선 KTX'][5] # iloc의 개념"
   ]
  },
  {
   "cell_type": "code",
   "execution_count": null,
   "id": "9ad17773-eaa7-4e49-964e-6aa9a0f6d933",
   "metadata": {
    "nbpresent": {
     "id": "327137d4-8ac4-48da-b1de-fb95c9f22935"
    }
   },
   "outputs": [],
   "source": [
    "df_KTX['호남선 KTX'].loc['2016'] #### 비추!!!!!!!!!!"
   ]
  },
  {
   "cell_type": "markdown",
   "id": "0962ea06-c083-4e0f-a2f6-c0e1ecc717df",
   "metadata": {
    "nbpresent": {
     "id": "aad3f184-80d5-4588-ad1e-748d2788acba"
    }
   },
   "source": [
    "**[11장: 265페이지]**"
   ]
  },
  {
   "cell_type": "code",
   "execution_count": null,
   "id": "9814df7d-66cb-424a-91e7-59595d9f57b3",
   "metadata": {
    "nbpresent": {
     "id": "ef740481-c78b-42fa-af55-91140ed40b96"
    },
    "scrolled": true
   },
   "outputs": [],
   "source": [
    "df_KTX.T  ## 전위(transpose) / array.transpose와 유사."
   ]
  },
  {
   "cell_type": "markdown",
   "id": "2a4b1e30-c28d-4a2c-b356-95c37361a277",
   "metadata": {},
   "source": [
    "**[11장: 265페이지]**"
   ]
  },
  {
   "cell_type": "markdown",
   "id": "772da61c-fdd5-4fe6-a595-7252b39b88d8",
   "metadata": {},
   "source": [
    "\n",
    "df_KTX ### 비추비추!!! 주피터 메모리 작은데 데이터 많으면 누워버린다\n",
    ".head .tail 써라"
   ]
  },
  {
   "cell_type": "markdown",
   "id": "f9a7ad44-396f-412e-9d30-8c561b49a081",
   "metadata": {},
   "source": [
    "**[11장: 266페이지]**"
   ]
  },
  {
   "cell_type": "code",
   "execution_count": null,
   "id": "f8853247-5a9e-4d2e-9802-e369b7e42f50",
   "metadata": {},
   "outputs": [],
   "source": [
    "#여러 개 가져오려면 묶어라\n",
    "\n",
    "df_KTX[['동해선 KTX', '전라선 KTX', '경전선 KTX', '호남선 KTX', '경부선 KTX']]"
   ]
  },
  {
   "cell_type": "code",
   "execution_count": null,
   "id": "dad1673b-1abe-4423-baeb-f8be6f1dc8c6",
   "metadata": {},
   "outputs": [],
   "source": [
    "#헷갈...\n",
    "df_KTX[['경부선 KTX','호남선 KTX','경전선 KTX']][0:2] # 칸 줄\n",
    "df_KTX[0:2][['경부선 KTX','호남선 KTX','경전선 KTX']] # 줄 칸\n",
    "\n",
    "# array 에서는 아래 됐는데 이건 에러!!!\n",
    "# df_KTX[  0:2 , ['동해선 KTX', '전라선 KTX', '경전선 KTX']  ] \n",
    "\n",
    "# 값으로 슬라이싱 하면 미만 아니다\n",
    "df_KTX.loc('2011':'2012', ['경부선 KTX','호남선 KTX','경전선 KTX']"
   ]
  },
  {
   "cell_type": "code",
   "execution_count": null,
   "id": "6c38dccb-72c3-4514-87ca-aecc17009e37",
   "metadata": {},
   "outputs": [],
   "source": [
    "#### 아래 부분 데이터 불러오기 4. 밑에 넣기"
   ]
  },
  {
   "cell_type": "markdown",
   "id": "157aa322-bf2b-4ddd-a5bd-68cb6461e5a6",
   "metadata": {},
   "source": [
    "# 데이터 핸들링"
   ]
  },
  {
   "cell_type": "code",
   "execution_count": null,
   "id": "ae8ced12-9a4b-4823-bdb0-b587bc588dd7",
   "metadata": {},
   "outputs": [],
   "source": [
    "df=pd.read_csv(\"./lec12_sample.txt\", sep='\\t')\n",
    "df.info"
   ]
  },
  {
   "cell_type": "code",
   "execution_count": null,
   "id": "c0ced495-7bbf-49da-aac4-3bb42ef44332",
   "metadata": {},
   "outputs": [],
   "source": [
    "df.head"
   ]
  },
  {
   "cell_type": "code",
   "execution_count": null,
   "id": "a552555f-8853-4699-9d50-eebbadd96d7c",
   "metadata": {},
   "outputs": [],
   "source": [
    "arr = np.array([ [1,11,111,1111], \n",
    "                [2,22,222,2222], \n",
    "                [3,33,333,3333],\n",
    "                [4,44,444,4444],\n",
    "                [5,55,555,5555]\n",
    "               ])\n",
    "print(arr)"
   ]
  },
  {
   "cell_type": "code",
   "execution_count": null,
   "id": "b31eaff7-bd41-4898-940a-0dd2af58e966",
   "metadata": {},
   "outputs": [],
   "source": [
    "# 데이터프레임과 어레이를 합쳐보자~~\n",
    "df[0] # array와 달리 이런 문법은 없다.\n",
    "df[   ,  ]"
   ]
  },
  {
   "cell_type": "code",
   "execution_count": null,
   "id": "f5a0adcb-4368-4987-a830-038bebee2026",
   "metadata": {},
   "outputs": [],
   "source": [
    "df.shape, arr.shape"
   ]
  },
  {
   "cell_type": "markdown",
   "id": "6de924d2-b5ef-4bb4-acf5-0d2ddfc28057",
   "metadata": {},
   "source": [
    "* 줄만 핸들링\n",
    "* 슬라이싱 : arr[s:e]가능     ///  df[s:e] 가능\n",
    "* 번째 : arr[2] 가능          /// df[2] 에러\n",
    "* [번째] : arr[ [1,2] ] 가능 // df[ [1,2] ] 에러"
   ]
  },
  {
   "cell_type": "code",
   "execution_count": null,
   "id": "283c7a47-43a0-4574-897d-a6d0e0d834d5",
   "metadata": {},
   "outputs": [],
   "source": [
    "# array는 무조건 줄,칸\n",
    "arr [0] "
   ]
  },
  {
   "cell_type": "code",
   "execution_count": null,
   "id": "63e33c00-a115-4a5b-b2a8-4ff0b91dd762",
   "metadata": {},
   "outputs": [],
   "source": [
    "#df [0] #------------Error! 줄 지목 불가"
   ]
  },
  {
   "cell_type": "code",
   "execution_count": null,
   "id": "aac0db21-385a-4f9d-9e47-6f102af02e40",
   "metadata": {},
   "outputs": [],
   "source": [
    "arr[0:3] # 0,1,2번째 줄"
   ]
  },
  {
   "cell_type": "code",
   "execution_count": null,
   "id": "d1dda890-ab4b-4f59-be63-1db96678dcd0",
   "metadata": {},
   "outputs": [],
   "source": [
    "df[0:3] # 0,1,2번째 줄/// 줄 슬라이싱은 가능!\n"
   ]
  },
  {
   "cell_type": "code",
   "execution_count": null,
   "id": "961428af-bfe6-418c-8730-3005812b336f",
   "metadata": {},
   "outputs": [],
   "source": [
    "arr[[0,1,2]]"
   ]
  },
  {
   "cell_type": "code",
   "execution_count": null,
   "id": "97035d76-f95d-4f01-8ac6-66c9c28a2664",
   "metadata": {},
   "outputs": [],
   "source": [
    "# df[[0,1,2]] #------------Error! 줄 떼거지 지목 불가"
   ]
  },
  {
   "cell_type": "markdown",
   "id": "baf66f8c-23ec-48d2-9202-22d08adc0553",
   "metadata": {},
   "source": [
    "--> 데이터프레임에서 줄만 지목하든, 줄 여러 개 지목하든 줄 지목은 불가능하다."
   ]
  },
  {
   "cell_type": "markdown",
   "id": "eb09ffe0-bcfc-4f1a-9c96-e8bda8306f43",
   "metadata": {},
   "source": [
    "* 줄, 칸 핸들링 : arr [ 줄, 칸],  df [ 줄, 칸]  \n",
    "번째 : arr[0,1], df[2,1]\n",
    "\n",
    "* df 의 경우 슬라이싱은 줄만 가능(별도 함수 안 쓰면), 지목은 column만 가능"
   ]
  },
  {
   "cell_type": "code",
   "execution_count": null,
   "id": "049056b2-b463-4727-8b46-45c93172fdc5",
   "metadata": {},
   "outputs": [],
   "source": [
    "arr[0,1] # 0번째 줄 첫번째 칼"
   ]
  },
  {
   "cell_type": "code",
   "execution_count": null,
   "id": "610c21e5-ce77-4847-ac06-ef1bf5411ad1",
   "metadata": {},
   "outputs": [],
   "source": [
    "# df [2,1] #------------Error! 줄 지목 불가"
   ]
  },
  {
   "cell_type": "code",
   "execution_count": null,
   "id": "a9e00543-130a-4be4-9150-03c0994517e7",
   "metadata": {},
   "outputs": [],
   "source": [
    "# df[2:3, 1] #------------Error! 줄 지목 불가\n",
    "# DataFrame에서는 df[ 하면 column을 찾는다(key 어쩌고저쩌고 함.)"
   ]
  },
  {
   "cell_type": "code",
   "execution_count": null,
   "id": "d208ab4b-965b-412b-b9e2-2eec6f4fd217",
   "metadata": {},
   "outputs": [],
   "source": [
    "# df['col0':'col3'] # Error! 첫 꺽쇠 슬라이싱은 줄만 가능\n",
    "# TypeError: cannot do slice indexing on RangeIndex with these indexers [col0] of type str\n"
   ]
  },
  {
   "cell_type": "code",
   "execution_count": null,
   "id": "f46fd2d7-88b4-4e0c-9854-ea4670dd10dd",
   "metadata": {},
   "outputs": [],
   "source": [
    "df['col1'] # colomn으로 가져오는 건 가능\n",
    "\n",
    "df[['col1','col2']] # colomn 떼거지도 가능 ---- 99%!!!"
   ]
  },
  {
   "cell_type": "markdown",
   "id": "3b336c1b-5edd-4829-a6e5-9225bc606077",
   "metadata": {},
   "source": [
    "* loc, iloc ----99.9% 이걸로 제어"
   ]
  },
  {
   "cell_type": "code",
   "execution_count": null,
   "id": "04c4b751-305d-4f37-972b-3702e0760991",
   "metadata": {},
   "outputs": [],
   "source": [
    "# array 의 경우\n",
    "arr[0,0]\n",
    "arr[0:1,0:2]\n",
    "arr[ [0,1,2] , [1,2,3]]"
   ]
  },
  {
   "cell_type": "code",
   "execution_count": null,
   "id": "7c9e174c-2716-4de9-aab5-b8cf46af2e46",
   "metadata": {},
   "outputs": [],
   "source": [
    "# 번째로 지목하고 싶은 경우 iloc\n",
    "df[0:2] # 사실 좀 낯선 문법 까먹어라~"
   ]
  },
  {
   "cell_type": "code",
   "execution_count": null,
   "id": "b217de13-c2b2-4894-918e-c13dfebb0f31",
   "metadata": {},
   "outputs": [],
   "source": [
    "df.iloc[0:2] #----------99% iloc은 index location(번째번째)"
   ]
  },
  {
   "cell_type": "code",
   "execution_count": null,
   "id": "ec6c842b-ec8e-4515-9937-925f97ca70b1",
   "metadata": {},
   "outputs": [],
   "source": [
    "# 잠시 인덱스 이름 바꿔보자\n",
    "df.index=['a0','a1','a2','a3','a4']\n",
    "df.head()"
   ]
  },
  {
   "cell_type": "code",
   "execution_count": null,
   "id": "a0956759-6df7-42f9-a373-1f8e7390d970",
   "metadata": {},
   "outputs": [],
   "source": [
    "# 이 부분은 array랑 같다.\n",
    "# df[0:2]\n",
    "df.iloc[0] ## 이거는 series로 나온다.\n",
    "df.iloc[0:2]\n",
    "df.iloc[[0,1,2]]"
   ]
  },
  {
   "cell_type": "code",
   "execution_count": null,
   "id": "71ea7260-65d2-4f09-a92a-4cfe2e007b61",
   "metadata": {},
   "outputs": [],
   "source": [
    "# loc은 인덱스가 됐든 컬럼이 됐든 key값 가져와라\n",
    "df.loc['a0'] # 대소문자 중요  # 0번재 줄 ------Series\n",
    "df.loc['a0':'a2']             # 0,1번째 줄\n",
    "df.loc[['a0','a1','a2']]      # 0,1번째 줄"
   ]
  },
  {
   "cell_type": "markdown",
   "id": "75c8718c-41cb-4fcc-a6d2-13cf02609f7c",
   "metadata": {},
   "source": [
    "* 1줄 기준 칸(컬럼)제어"
   ]
  },
  {
   "cell_type": "code",
   "execution_count": null,
   "id": "2fe6679a-b4e3-4997-9fae-2888115efcb1",
   "metadata": {},
   "outputs": [],
   "source": [
    "# iloc이면 줄이든 칸이든 다 가능/ 단일지목 지목 슬라이싱\n",
    "df.iloc[1, 1] # iloc으로 첫번째 줄 지정 후 몇 번째 컬럼인지 고름\n",
    "df.iloc[1,1:4]\n",
    "df.iloc[1,[1,2]]\n",
    "df.iloc[:,2]"
   ]
  },
  {
   "cell_type": "code",
   "execution_count": null,
   "id": "7c8b2f2e-be7e-4ed1-a6df-e4332d8ebbc4",
   "metadata": {},
   "outputs": [],
   "source": [
    "# iloc이면 줄이든 칸이든 번째로 지목\n",
    "# 단일지목 지목 슬라이싱 다 가능!!\n",
    "df.iloc[1:3, 1]\n",
    "df.iloc[1,1:3]\n",
    "df.iloc[[1,2,3],[1,2]]"
   ]
  },
  {
   "cell_type": "code",
   "execution_count": null,
   "id": "d5a9b518-bfd6-4831-8b85-fa8ff0c11af4",
   "metadata": {},
   "outputs": [],
   "source": [
    "# loc은 인덱스가 됐든 컬럼이 됐든 key값 가져와라\n",
    "# 단일지목 지목 슬라이싱 다 가능\n",
    "df.loc['a1','col1'] # 대소문자 중요  # 0번재 줄 ------Series\n",
    "df.loc['a1',['col1','col2']]             # 0,1번째 줄\n",
    "df.loc['a1', 'col1':'col3']      # 0,1번째 줄\n",
    "df.loc[['a1','a2'], 'col1':'col3'] "
   ]
  },
  {
   "cell_type": "markdown",
   "id": "93cdcdf4-1deb-4ba2-b61f-857ed9939585",
   "metadata": {},
   "source": [
    "### iloc이면 번째로 가져오고, loc이면 값으로 갖고와야 되는 것만 주의!!  \n",
    "iloc 쓰면 column 많아지면 코드 가독성 떨어진다(루프 돌리는 거면 몰라도) -> loc을 더 많이 씀  \n",
    "슬라이싱 할 때 : iloc은 이상, 미만. loc은 얘네 다 가져와"
   ]
  },
  {
   "cell_type": "markdown",
   "id": "f98570cf-1186-4e56-98aa-71195e78f013",
   "metadata": {},
   "source": [
    "* 아래는 잊으세요....... / 자주 안 쓰는 문법\n",
    "* 책에서 안내하는 데이터프레임 문법 보지 말고 위에서 알려준 loc, iloc 정규문법 써라"
   ]
  },
  {
   "cell_type": "code",
   "execution_count": null,
   "id": "7a43e9ce-cb0a-48fb-ab6b-34f8a90ac1b0",
   "metadata": {},
   "outputs": [],
   "source": [
    "# 둘 다 가능(순서 상관 없다)\n",
    "df[0:2][['col1','col2']] \n",
    "df[['col1','col2']][0:2]\n",
    "# 근데 컬럼은 슬라이싱은 안 됨. 인덱스는 나열은 안 됨."
   ]
  },
  {
   "cell_type": "markdown",
   "id": "695be678-da26-4825-b6b1-3dbcad3cfdc3",
   "metadata": {},
   "source": [
    "### <font color='red'>!!!!df[ ] 쓸 때는 안에 컬럼이나 조건 쓰는 걸로 약속하자!!!!!!!!!!!! </font>"
   ]
  },
  {
   "cell_type": "markdown",
   "id": "551d0fbb-3b0e-4733-8d98-71c7da185e27",
   "metadata": {},
   "source": [
    "내일은 emp dept로 데이터 가져오는 거 하고\n",
    "조건 설정해보자~~"
   ]
  }
 ],
 "metadata": {
  "kernelspec": {
   "display_name": "Python 3 (ipykernel)",
   "language": "python",
   "name": "python3"
  },
  "language_info": {
   "codemirror_mode": {
    "name": "ipython",
    "version": 3
   },
   "file_extension": ".py",
   "mimetype": "text/x-python",
   "name": "python",
   "nbconvert_exporter": "python",
   "pygments_lexer": "ipython3",
   "version": "3.8.8"
  }
 },
 "nbformat": 4,
 "nbformat_minor": 5
}
