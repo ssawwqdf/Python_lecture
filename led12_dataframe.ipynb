{
 "cells": [
  {
   "cell_type": "markdown",
   "id": "114fa69b-2a46-46c6-8b54-1ba6c74f7d5c",
   "metadata": {},
   "source": [
    "# lec 12. DataFrame"
   ]
  },
  {
   "cell_type": "code",
   "execution_count": 8,
   "id": "64bf467a-25ac-488c-99cd-5e7e79dd3403",
   "metadata": {},
   "outputs": [
    {
     "name": "stdout",
     "output_type": "stream",
     "text": [
      "<class 'pandas.core.frame.DataFrame'>\n",
      "RangeIndex: 2 entries, 0 to 1\n",
      "Data columns (total 3 columns):\n",
      " #   Column  Non-Null Count  Dtype \n",
      "---  ------  --------------  ----- \n",
      " 0   seq     2 non-null      int64 \n",
      " 1   id      2 non-null      object\n",
      " 2   pw      2 non-null      int64 \n",
      "dtypes: int64(2), object(1)\n",
      "memory usage: 176.0+ bytes\n",
      "None\n"
     ]
    }
   ],
   "source": [
    "# pandas\n",
    "import pandas as pd # 99.9999% pd로 alias 준다.\n",
    "                    # ctrl+pandas클릭하면 __init__열린다.\n",
    "                    # pickle도 가능하게 해준다.(피클처럼 데이터 함부로 못 건들게 진공포장 시켜준다.) / read stata도 있네 하하\n",
    "                    # pandas.py (모듈)\n",
    "\n",
    "# df=pd.DataFrame() # 생성자 만들어줘야됨. DataFrame은 클래스 부모의부모의부모의부모 정도가 넘피\n",
    "                    # __init__.py가  들어가는 영역이 생긴다.\n",
    "# 생성자 변수로 주로 들어가는 애들\n",
    "# data=None,\n",
    "# index: Axes | None = None,\n",
    "# columns: Axes | None = None,\n",
    "# dtype: Dtype | None = None,\n",
    "# ....\n",
    "\n",
    "\n",
    "df=pd.DataFrame( data=[ [1,'kim',111],[2,'lee',222]] ,\n",
    "                 columns=['seq','id','pw']\n",
    "                 # index= [11 22] 인덱스 어떻게 줄 건지 쓰는 것. 데이터 개수만큼 필요.(많으면 다 부여하기 어려워서 사실 그냥 안 쓴다.) 0번째부터 시작.\n",
    "                 # dtype= 안 쓰면 기본타입 들어감.\n",
    "                 )\n",
    "print(df.info()) # 결과: table의 description 이 나온다.\n",
    "                # / type의 object는 str타입. int는 혹시 몰라 제일 큰 64로 잡아준다. / 2 entries: 2 개의 row"
   ]
  },
  {
   "cell_type": "code",
   "execution_count": 3,
   "id": "f435ffca-cd60-4326-a50e-38701cd60dba",
   "metadata": {},
   "outputs": [
    {
     "data": {
      "text/html": [
       "<div>\n",
       "<style scoped>\n",
       "    .dataframe tbody tr th:only-of-type {\n",
       "        vertical-align: middle;\n",
       "    }\n",
       "\n",
       "    .dataframe tbody tr th {\n",
       "        vertical-align: top;\n",
       "    }\n",
       "\n",
       "    .dataframe thead th {\n",
       "        text-align: right;\n",
       "    }\n",
       "</style>\n",
       "<table border=\"1\" class=\"dataframe\">\n",
       "  <thead>\n",
       "    <tr style=\"text-align: right;\">\n",
       "      <th></th>\n",
       "      <th>seq</th>\n",
       "      <th>id</th>\n",
       "      <th>pw</th>\n",
       "    </tr>\n",
       "  </thead>\n",
       "  <tbody>\n",
       "    <tr>\n",
       "      <th>0</th>\n",
       "      <td>1</td>\n",
       "      <td>kim</td>\n",
       "      <td>111</td>\n",
       "    </tr>\n",
       "    <tr>\n",
       "      <th>1</th>\n",
       "      <td>2</td>\n",
       "      <td>lee</td>\n",
       "      <td>222</td>\n",
       "    </tr>\n",
       "  </tbody>\n",
       "</table>\n",
       "</div>"
      ],
      "text/plain": [
       "   seq   id   pw\n",
       "0    1  kim  111\n",
       "1    2  lee  222"
      ]
     },
     "execution_count": 3,
     "metadata": {},
     "output_type": "execute_result"
    }
   ],
   "source": [
    "df.head() # 기본값: 상단 5개 보여줘. / 안에 값 넣으면 그 개수만큼 보여준다."
   ]
  },
  {
   "cell_type": "code",
   "execution_count": null,
   "id": "ab28a68e-b523-422c-a364-fe5cb37b2fb1",
   "metadata": {},
   "outputs": [],
   "source": [
    "import pandas as pd #pandas.py\n",
    "import numpy as np #numpy.py"
   ]
  },
  {
   "cell_type": "markdown",
   "id": "921eaa6c-7d5a-4e55-9218-1da1348030e3",
   "metadata": {},
   "source": [
    "## 방법 1) python 리스트 [] 에 데이터를 담아서 만들기 -> 구조를 넣었다 뺐다 할 때는 list 가 편하다."
   ]
  },
  {
   "cell_type": "code",
   "execution_count": 10,
   "id": "2b1d2a2f-e56e-4714-b02b-e4f6dd84bbe0",
   "metadata": {},
   "outputs": [
    {
     "name": "stdout",
     "output_type": "stream",
     "text": [
      "<class 'pandas.core.frame.DataFrame'>\n",
      "RangeIndex: 2 entries, 0 to 1\n",
      "Data columns (total 3 columns):\n",
      " #   Column  Non-Null Count  Dtype \n",
      "---  ------  --------------  ----- \n",
      " 0   seq     2 non-null      int64 \n",
      " 1   id      2 non-null      object\n",
      " 2   pw      2 non-null      int64 \n",
      "dtypes: int64(2), object(1)\n",
      "memory usage: 176.0+ bytes\n",
      "None\n"
     ]
    }
   ],
   "source": [
    "\n",
    "data_list=[ [1,'kim',111],\n",
    "            [2,'lee',222]\n",
    "          ]\n",
    "\n",
    "col_list=['seq','id','pw']\n",
    "\n",
    "df=pd.DataFrame( data= data_list,\n",
    "                 columns=col_list)\n",
    "\n",
    "print(df.info())"
   ]
  },
  {
   "cell_type": "markdown",
   "id": "4a32397f-0c1e-4c8a-9d1f-601e443b7eec",
   "metadata": {},
   "source": [
    "## 방법 2) python np.array(list) 에 데이터를 담아서 만들기"
   ]
  },
  {
   "cell_type": "code",
   "execution_count": null,
   "id": "9d32d222-973e-4845-a5b9-173a3ba63b5d",
   "metadata": {},
   "outputs": [],
   "source": [
    "data_list=[ [1,'kim',111],\n",
    "            [2,'lee',222]\n",
    "          ]\n",
    "data_arr=np.array(data_list)\n",
    "col_list=['seq','id','pw']\n",
    "\n",
    "df=pd.DataFrame( data= data_arr,    # ---------------리스트에서 배열로 변경\n",
    "                 columns=col_list)\n",
    "\n",
    "print(df.info())\n",
    "\n",
    "# --> 들어는간다. 하지만 Dtype이 다 object로 바뀜.\n",
    "# list 는 구조 덩어리를 다뤄서 구조 채로 넣어준다.\n",
    "# array는 단위단위 요소를 다루는 애라 그냥 다 바꿔서 넣는다.\n",
    "# 덩어리를 다룰 때는 list, 안에 있는 개별 값을 다룰 때는 array"
   ]
  },
  {
   "cell_type": "markdown",
   "id": "4fc7fdc2-a6d7-439a-88f3-adeec4181fb1",
   "metadata": {},
   "source": [
    "## 방법 3) 파일(csv, txt,excel, ...) 읽어오기 (csv가 제일 흔하다)"
   ]
  },
  {
   "cell_type": "markdown",
   "id": "f98b4ea3-2c81-41f9-8ed8-5c618a9025e4",
   "metadata": {},
   "source": [
    "csv: comma seperater valu...es?\n",
    "df=pd.read_csv(파일 주소, sep, ....) # sep 기본값 ',' ,, 어차피 두 번째 변수라 sep= 안 써도 된다.\n",
    "                                    # read_csv 하면 DataFrame으로 준다.\n",
    "                                    ## 주피터 메모리 겁나 먹는다. -> head 조금만 불러와라(안 그러면 주피터 눕는다.)\n",
    "                                    ## 그냥 바로 생성자 치면 원래는 주소 나와야되는데 전체 데이터 다 불러온다. 하지 마라."
   ]
  },
  {
   "cell_type": "code",
   "execution_count": 21,
   "id": "ec9b1bb0-369b-40d0-a9c0-35fb3c43b80d",
   "metadata": {},
   "outputs": [],
   "source": [
    "df = pd.read_csv('./book/data/total_sales_data.csv') #sep=','"
   ]
  },
  {
   "cell_type": "code",
   "execution_count": 30,
   "id": "708df320-6572-40a4-a26a-5876b69a0d08",
   "metadata": {},
   "outputs": [
    {
     "name": "stdout",
     "output_type": "stream",
     "text": [
      "<class 'pandas.core.frame.DataFrame'>\n",
      "RangeIndex: 9 entries, 0 to 8\n",
      "Data columns (total 5 columns):\n",
      " #   Column  Non-Null Count  Dtype \n",
      "---  ------  --------------  ----- \n",
      " 0   매장명     9 non-null      object\n",
      " 1   제품종류    9 non-null      object\n",
      " 2   모델명     9 non-null      object\n",
      " 3   판매      9 non-null      int64 \n",
      " 4   재고      9 non-null      int64 \n",
      "dtypes: int64(2), object(3)\n",
      "memory usage: 488.0+ bytes\n"
     ]
    }
   ],
   "source": [
    "df.info()"
   ]
  },
  {
   "cell_type": "code",
   "execution_count": 31,
   "id": "6080d8e7-74f7-49f6-94d2-dca4fd4de3cc",
   "metadata": {},
   "outputs": [
    {
     "data": {
      "text/html": [
       "<div>\n",
       "<style scoped>\n",
       "    .dataframe tbody tr th:only-of-type {\n",
       "        vertical-align: middle;\n",
       "    }\n",
       "\n",
       "    .dataframe tbody tr th {\n",
       "        vertical-align: top;\n",
       "    }\n",
       "\n",
       "    .dataframe thead th {\n",
       "        text-align: right;\n",
       "    }\n",
       "</style>\n",
       "<table border=\"1\" class=\"dataframe\">\n",
       "  <thead>\n",
       "    <tr style=\"text-align: right;\">\n",
       "      <th></th>\n",
       "      <th>매장명</th>\n",
       "      <th>제품종류</th>\n",
       "      <th>모델명</th>\n",
       "      <th>판매</th>\n",
       "      <th>재고</th>\n",
       "    </tr>\n",
       "  </thead>\n",
       "  <tbody>\n",
       "    <tr>\n",
       "      <th>0</th>\n",
       "      <td>A</td>\n",
       "      <td>스마트폰</td>\n",
       "      <td>S1</td>\n",
       "      <td>1</td>\n",
       "      <td>2</td>\n",
       "    </tr>\n",
       "    <tr>\n",
       "      <th>1</th>\n",
       "      <td>A</td>\n",
       "      <td>스마트폰</td>\n",
       "      <td>S2</td>\n",
       "      <td>2</td>\n",
       "      <td>5</td>\n",
       "    </tr>\n",
       "    <tr>\n",
       "      <th>2</th>\n",
       "      <td>A</td>\n",
       "      <td>TV</td>\n",
       "      <td>V1</td>\n",
       "      <td>3</td>\n",
       "      <td>5</td>\n",
       "    </tr>\n",
       "    <tr>\n",
       "      <th>3</th>\n",
       "      <td>B</td>\n",
       "      <td>스마트폰</td>\n",
       "      <td>S2</td>\n",
       "      <td>4</td>\n",
       "      <td>6</td>\n",
       "    </tr>\n",
       "    <tr>\n",
       "      <th>4</th>\n",
       "      <td>B</td>\n",
       "      <td>스마트폰</td>\n",
       "      <td>S1</td>\n",
       "      <td>5</td>\n",
       "      <td>8</td>\n",
       "    </tr>\n",
       "  </tbody>\n",
       "</table>\n",
       "</div>"
      ],
      "text/plain": [
       "  매장명  제품종류 모델명  판매  재고\n",
       "0   A  스마트폰  S1   1   2\n",
       "1   A  스마트폰  S2   2   5\n",
       "2   A    TV  V1   3   5\n",
       "3   B  스마트폰  S2   4   6\n",
       "4   B  스마트폰  S1   5   8"
      ]
     },
     "execution_count": 31,
     "metadata": {},
     "output_type": "execute_result"
    }
   ],
   "source": [
    "df.head() # 앞에 보여줘"
   ]
  },
  {
   "cell_type": "code",
   "execution_count": 35,
   "id": "d71ef144-8bfe-482a-96e1-e543e9ad08a3",
   "metadata": {},
   "outputs": [
    {
     "data": {
      "text/html": [
       "<div>\n",
       "<style scoped>\n",
       "    .dataframe tbody tr th:only-of-type {\n",
       "        vertical-align: middle;\n",
       "    }\n",
       "\n",
       "    .dataframe tbody tr th {\n",
       "        vertical-align: top;\n",
       "    }\n",
       "\n",
       "    .dataframe thead th {\n",
       "        text-align: right;\n",
       "    }\n",
       "</style>\n",
       "<table border=\"1\" class=\"dataframe\">\n",
       "  <thead>\n",
       "    <tr style=\"text-align: right;\">\n",
       "      <th></th>\n",
       "      <th>매장명</th>\n",
       "      <th>제품종류</th>\n",
       "      <th>모델명</th>\n",
       "      <th>판매</th>\n",
       "      <th>재고</th>\n",
       "    </tr>\n",
       "  </thead>\n",
       "  <tbody>\n",
       "    <tr>\n",
       "      <th>6</th>\n",
       "      <td>C</td>\n",
       "      <td>스마트폰</td>\n",
       "      <td>S2</td>\n",
       "      <td>2</td>\n",
       "      <td>4</td>\n",
       "    </tr>\n",
       "    <tr>\n",
       "      <th>7</th>\n",
       "      <td>C</td>\n",
       "      <td>TV</td>\n",
       "      <td>V1</td>\n",
       "      <td>3</td>\n",
       "      <td>6</td>\n",
       "    </tr>\n",
       "    <tr>\n",
       "      <th>8</th>\n",
       "      <td>C</td>\n",
       "      <td>TV</td>\n",
       "      <td>V2</td>\n",
       "      <td>7</td>\n",
       "      <td>9</td>\n",
       "    </tr>\n",
       "  </tbody>\n",
       "</table>\n",
       "</div>"
      ],
      "text/plain": [
       "  매장명  제품종류 모델명  판매  재고\n",
       "6   C  스마트폰  S2   2   4\n",
       "7   C    TV  V1   3   6\n",
       "8   C    TV  V2   7   9"
      ]
     },
     "execution_count": 35,
     "metadata": {},
     "output_type": "execute_result"
    }
   ],
   "source": [
    "df.tail(3) # 끝부터 보여줘"
   ]
  },
  {
   "cell_type": "code",
   "execution_count": 44,
   "id": "8b3f29b1-146f-4cff-91a8-63d76cb60b55",
   "metadata": {},
   "outputs": [
    {
     "data": {
      "text/html": [
       "<div>\n",
       "<style scoped>\n",
       "    .dataframe tbody tr th:only-of-type {\n",
       "        vertical-align: middle;\n",
       "    }\n",
       "\n",
       "    .dataframe tbody tr th {\n",
       "        vertical-align: top;\n",
       "    }\n",
       "\n",
       "    .dataframe thead th {\n",
       "        text-align: right;\n",
       "    }\n",
       "</style>\n",
       "<table border=\"1\" class=\"dataframe\">\n",
       "  <thead>\n",
       "    <tr style=\"text-align: right;\">\n",
       "      <th></th>\n",
       "      <th>매장명</th>\n",
       "      <th>제품종류</th>\n",
       "      <th>모델명</th>\n",
       "      <th>판매</th>\n",
       "      <th>재고</th>\n",
       "    </tr>\n",
       "  </thead>\n",
       "  <tbody>\n",
       "    <tr>\n",
       "      <th>0</th>\n",
       "      <td>A</td>\n",
       "      <td>스마트폰</td>\n",
       "      <td>S1</td>\n",
       "      <td>1</td>\n",
       "      <td>2</td>\n",
       "    </tr>\n",
       "    <tr>\n",
       "      <th>1</th>\n",
       "      <td>A</td>\n",
       "      <td>스마트폰</td>\n",
       "      <td>S2</td>\n",
       "      <td>2</td>\n",
       "      <td>5</td>\n",
       "    </tr>\n",
       "    <tr>\n",
       "      <th>2</th>\n",
       "      <td>A</td>\n",
       "      <td>TV</td>\n",
       "      <td>V1</td>\n",
       "      <td>3</td>\n",
       "      <td>5</td>\n",
       "    </tr>\n",
       "    <tr>\n",
       "      <th>3</th>\n",
       "      <td>B</td>\n",
       "      <td>스마트폰</td>\n",
       "      <td>S2</td>\n",
       "      <td>4</td>\n",
       "      <td>6</td>\n",
       "    </tr>\n",
       "    <tr>\n",
       "      <th>4</th>\n",
       "      <td>B</td>\n",
       "      <td>스마트폰</td>\n",
       "      <td>S1</td>\n",
       "      <td>5</td>\n",
       "      <td>8</td>\n",
       "    </tr>\n",
       "    <tr>\n",
       "      <th>5</th>\n",
       "      <td>B</td>\n",
       "      <td>TV</td>\n",
       "      <td>V1</td>\n",
       "      <td>6</td>\n",
       "      <td>9</td>\n",
       "    </tr>\n",
       "    <tr>\n",
       "      <th>6</th>\n",
       "      <td>C</td>\n",
       "      <td>스마트폰</td>\n",
       "      <td>S2</td>\n",
       "      <td>2</td>\n",
       "      <td>4</td>\n",
       "    </tr>\n",
       "    <tr>\n",
       "      <th>7</th>\n",
       "      <td>C</td>\n",
       "      <td>TV</td>\n",
       "      <td>V1</td>\n",
       "      <td>3</td>\n",
       "      <td>6</td>\n",
       "    </tr>\n",
       "    <tr>\n",
       "      <th>8</th>\n",
       "      <td>C</td>\n",
       "      <td>TV</td>\n",
       "      <td>V2</td>\n",
       "      <td>7</td>\n",
       "      <td>9</td>\n",
       "    </tr>\n",
       "  </tbody>\n",
       "</table>\n",
       "</div>"
      ],
      "text/plain": [
       "  매장명  제품종류 모델명  판매  재고\n",
       "0   A  스마트폰  S1   1   2\n",
       "1   A  스마트폰  S2   2   5\n",
       "2   A    TV  V1   3   5\n",
       "3   B  스마트폰  S2   4   6\n",
       "4   B  스마트폰  S1   5   8\n",
       "5   B    TV  V1   6   9\n",
       "6   C  스마트폰  S2   2   4\n",
       "7   C    TV  V1   3   6\n",
       "8   C    TV  V2   7   9"
      ]
     },
     "execution_count": 44,
     "metadata": {},
     "output_type": "execute_result"
    }
   ],
   "source": [
    "df"
   ]
  },
  {
   "cell_type": "code",
   "execution_count": 42,
   "id": "b7c72f18-f2b0-429f-84ce-c8fd90690978",
   "metadata": {},
   "outputs": [
    {
     "data": {
      "text/html": [
       "<div>\n",
       "<style scoped>\n",
       "    .dataframe tbody tr th:only-of-type {\n",
       "        vertical-align: middle;\n",
       "    }\n",
       "\n",
       "    .dataframe tbody tr th {\n",
       "        vertical-align: top;\n",
       "    }\n",
       "\n",
       "    .dataframe thead th {\n",
       "        text-align: right;\n",
       "    }\n",
       "</style>\n",
       "<table border=\"1\" class=\"dataframe\">\n",
       "  <thead>\n",
       "    <tr style=\"text-align: right;\">\n",
       "      <th></th>\n",
       "      <th>매장명</th>\n",
       "      <th>제품종류</th>\n",
       "    </tr>\n",
       "  </thead>\n",
       "  <tbody>\n",
       "    <tr>\n",
       "      <th>0</th>\n",
       "      <td>A</td>\n",
       "      <td>스마트폰</td>\n",
       "    </tr>\n",
       "    <tr>\n",
       "      <th>3</th>\n",
       "      <td>B</td>\n",
       "      <td>스마트폰</td>\n",
       "    </tr>\n",
       "  </tbody>\n",
       "</table>\n",
       "</div>"
      ],
      "text/plain": [
       "  매장명  제품종류\n",
       "0   A  스마트폰\n",
       "3   B  스마트폰"
      ]
     },
     "execution_count": 42,
     "metadata": {},
     "output_type": "execute_result"
    }
   ],
   "source": [
    "# iloc: index location(번째 데려와) -> 이름으로도 가능\n",
    "## array 랑 완전 똑같은 건 아니니까 느낌을 이해해라\n",
    "df.iloc[ [0,3] , [0,1] ]"
   ]
  },
  {
   "cell_type": "code",
   "execution_count": 43,
   "id": "dc271495-4287-4e67-a954-1f3569029640",
   "metadata": {},
   "outputs": [
    {
     "name": "stdout",
     "output_type": "stream",
     "text": [
      "[10 80]\n"
     ]
    }
   ],
   "source": [
    "arr = np.array([[10, 25, 35],\n",
    "               [40, 55, 65],\n",
    "               [70, 80, 90]])\n",
    "print( arr [ [0,2] ,[0,1] ]) \n"
   ]
  },
  {
   "cell_type": "code",
   "execution_count": null,
   "id": "5d15d284-ff8a-4e43-bf84-6f833b76767b",
   "metadata": {},
   "outputs": [],
   "source": []
  },
  {
   "cell_type": "code",
   "execution_count": null,
   "id": "72805574-3af2-440b-a370-1441ac24927d",
   "metadata": {},
   "outputs": [],
   "source": []
  }
 ],
 "metadata": {
  "kernelspec": {
   "display_name": "Python 3 (ipykernel)",
   "language": "python",
   "name": "python3"
  },
  "language_info": {
   "codemirror_mode": {
    "name": "ipython",
    "version": 3
   },
   "file_extension": ".py",
   "mimetype": "text/x-python",
   "name": "python",
   "nbconvert_exporter": "python",
   "pygments_lexer": "ipython3",
   "version": "3.8.8"
  }
 },
 "nbformat": 4,
 "nbformat_minor": 5
}
