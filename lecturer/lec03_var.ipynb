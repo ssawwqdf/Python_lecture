{
 "cells": [
  {
   "cell_type": "markdown",
   "id": "b9ac5285-28d7-4b3b-aaa6-e72b328fe6eb",
   "metadata": {
    "tags": []
   },
   "source": [
    "# lec.01. 변수(Variable)\n",
    "* int, float, str, bool(True, False)\n",
    "* \"+ - * / **  //  % \"\n",
    "* type()\n",
    "* or and not"
   ]
  },
  {
   "cell_type": "markdown",
   "id": "a06ab602-a77b-4d92-9467-9157b5700f41",
   "metadata": {},
   "source": [
    "* 숫자 + 숫자 == 가산(덧셈)"
   ]
  },
  {
   "cell_type": "code",
   "execution_count": 21,
   "id": "eebe5038-d1ec-4212-9d15-12327ef2b392",
   "metadata": {},
   "outputs": [
    {
     "name": "stdout",
     "output_type": "stream",
     "text": [
      "3\n"
     ]
    }
   ],
   "source": [
    "num1 = 1\n",
    "num2 = 2\n",
    "print(num1 + num2)"
   ]
  },
  {
   "cell_type": "markdown",
   "id": "acd5715b-6ca5-4705-99ca-e0390982d96c",
   "metadata": {},
   "source": [
    "* 글자  + 글자  == 두 글자 합친다"
   ]
  },
  {
   "cell_type": "code",
   "execution_count": 23,
   "id": "a0694464",
   "metadata": {},
   "outputs": [
    {
     "name": "stdout",
     "output_type": "stream",
     "text": [
      "가나다라마\n"
     ]
    }
   ],
   "source": [
    "num1 = '가나다'\n",
    "num2 = '라마'\n",
    "print(num1 + num2) "
   ]
  },
  {
   "cell_type": "code",
   "execution_count": 24,
   "id": "6f529a67-7f3a-4f36-ba1a-a8bc7b083168",
   "metadata": {},
   "outputs": [
    {
     "name": "stdout",
     "output_type": "stream",
     "text": [
      "4.86\n"
     ]
    }
   ],
   "source": [
    "num1 = 1.74 \n",
    "num2 = 3.12\n",
    "print(num1 + num2)"
   ]
  },
  {
   "cell_type": "code",
   "execution_count": 25,
   "id": "adf2c62a-5751-4b0a-bc31-7beda837af59",
   "metadata": {},
   "outputs": [
    {
     "name": "stdout",
     "output_type": "stream",
     "text": [
      "4.86\n"
     ]
    }
   ],
   "source": [
    "print(1.74  + 3.12)"
   ]
  },
  {
   "cell_type": "code",
   "execution_count": 32,
   "id": "4742fb52-53c9-4c73-864c-6f64199dc830",
   "metadata": {},
   "outputs": [
    {
     "data": {
      "text/plain": [
       "4.86"
      ]
     },
     "execution_count": 32,
     "metadata": {},
     "output_type": "execute_result"
    }
   ],
   "source": [
    "1.74 + 3.12"
   ]
  },
  {
   "cell_type": "code",
   "execution_count": 29,
   "id": "2206feec-f7b7-4624-9357-4e7d50101825",
   "metadata": {},
   "outputs": [
    {
     "data": {
      "text/plain": [
       "'가나다라마'"
      ]
     },
     "execution_count": 29,
     "metadata": {},
     "output_type": "execute_result"
    }
   ],
   "source": [
    "1.74 + 3.12\n",
    "'가나다'+'라마'"
   ]
  },
  {
   "cell_type": "code",
   "execution_count": 30,
   "id": "4a5ea529-1fe9-4a27-b395-440b6dd47b2c",
   "metadata": {},
   "outputs": [
    {
     "name": "stdout",
     "output_type": "stream",
     "text": [
      "4.86\n",
      "가나다라마\n"
     ]
    }
   ],
   "source": [
    "print(1.74 + 3.12)\n",
    "print('가나다'+'라마')"
   ]
  },
  {
   "cell_type": "code",
   "execution_count": 34,
   "id": "b69d8963-1870-472e-bd75-b367f2987d40",
   "metadata": {},
   "outputs": [
    {
     "data": {
      "text/plain": [
       "float"
      ]
     },
     "execution_count": 34,
     "metadata": {},
     "output_type": "execute_result"
    }
   ],
   "source": [
    "type(0.74)"
   ]
  },
  {
   "cell_type": "code",
   "execution_count": 35,
   "id": "39e9b54c-1efc-4eb4-91c5-23a59d20c81f",
   "metadata": {},
   "outputs": [
    {
     "data": {
      "text/plain": [
       "int"
      ]
     },
     "execution_count": 35,
     "metadata": {},
     "output_type": "execute_result"
    }
   ],
   "source": [
    "type(10)"
   ]
  },
  {
   "cell_type": "code",
   "execution_count": 38,
   "id": "c6ad94f8-5a73-4cd3-b4d6-11ab9cbf4e0f",
   "metadata": {},
   "outputs": [
    {
     "data": {
      "text/plain": [
       "str"
      ]
     },
     "execution_count": 38,
     "metadata": {},
     "output_type": "execute_result"
    }
   ],
   "source": [
    "type('가나다')"
   ]
  },
  {
   "cell_type": "code",
   "execution_count": 39,
   "id": "ed9e265f-10d7-4c3a-b1f7-cf5843a50db3",
   "metadata": {},
   "outputs": [
    {
     "data": {
      "text/plain": [
       "str"
      ]
     },
     "execution_count": 39,
     "metadata": {},
     "output_type": "execute_result"
    }
   ],
   "source": [
    "type(\"가나다\")"
   ]
  },
  {
   "cell_type": "code",
   "execution_count": 40,
   "id": "8ed02159-2a02-4569-91a0-4ad503656c16",
   "metadata": {},
   "outputs": [
    {
     "data": {
      "text/plain": [
       "8"
      ]
     },
     "execution_count": 40,
     "metadata": {},
     "output_type": "execute_result"
    }
   ],
   "source": [
    "2 * 2 * 2"
   ]
  },
  {
   "cell_type": "code",
   "execution_count": 41,
   "id": "06ca7b80-6f9c-42b8-af67-0c47cdcd32ed",
   "metadata": {},
   "outputs": [
    {
     "data": {
      "text/plain": [
       "8"
      ]
     },
     "execution_count": 41,
     "metadata": {},
     "output_type": "execute_result"
    }
   ],
   "source": [
    "2**3"
   ]
  },
  {
   "cell_type": "markdown",
   "id": "bebdcb9d-e764-4de0-aa89-bdb356315cd6",
   "metadata": {},
   "source": [
    "* 나누기    몫    나머지"
   ]
  },
  {
   "cell_type": "code",
   "execution_count": 47,
   "id": "cb04eec4-e271-42e6-b2e1-d0665143ec97",
   "metadata": {},
   "outputs": [
    {
     "data": {
      "text/plain": [
       "(2.6, 2, 3)"
      ]
     },
     "execution_count": 47,
     "metadata": {},
     "output_type": "execute_result"
    }
   ],
   "source": [
    "# 주석 : 나누기 몫 나머지\n",
    "13/5 ,   13//5,   13%5"
   ]
  },
  {
   "cell_type": "markdown",
   "id": "1cdcefa0-bf51-4f99-a942-0428f7989cdd",
   "metadata": {},
   "source": [
    "* (bool)논리 : True, False"
   ]
  },
  {
   "cell_type": "code",
   "execution_count": 50,
   "id": "a7adbe35-7754-4522-8473-67ce9eb302b0",
   "metadata": {},
   "outputs": [
    {
     "name": "stdout",
     "output_type": "stream",
     "text": [
      "True\n",
      "False\n"
     ]
    }
   ],
   "source": [
    "print(True)\n",
    "print(False)"
   ]
  },
  {
   "cell_type": "code",
   "execution_count": 52,
   "id": "6b179845-ceb1-478c-b886-8f5bc611a819",
   "metadata": {},
   "outputs": [
    {
     "data": {
      "text/plain": [
       "bool"
      ]
     },
     "execution_count": 52,
     "metadata": {},
     "output_type": "execute_result"
    }
   ],
   "source": [
    "type(True)"
   ]
  },
  {
   "cell_type": "code",
   "execution_count": 53,
   "id": "ff81edeb-074d-418f-a858-6d1df40be2fd",
   "metadata": {},
   "outputs": [
    {
     "name": "stdout",
     "output_type": "stream",
     "text": [
      "True\n"
     ]
    }
   ],
   "source": [
    "# and or not\n",
    "print(True and True)"
   ]
  },
  {
   "cell_type": "code",
   "execution_count": 54,
   "id": "84dd0688-86c9-4e42-a06c-6a8ef7140194",
   "metadata": {},
   "outputs": [
    {
     "name": "stdout",
     "output_type": "stream",
     "text": [
      "False\n"
     ]
    }
   ],
   "source": [
    "print(False and False)"
   ]
  },
  {
   "cell_type": "code",
   "execution_count": 55,
   "id": "e9da6cac-3995-463d-9314-44b01ff92f79",
   "metadata": {},
   "outputs": [
    {
     "name": "stdout",
     "output_type": "stream",
     "text": [
      "True\n"
     ]
    }
   ],
   "source": [
    "print(True or True)"
   ]
  },
  {
   "cell_type": "code",
   "execution_count": 56,
   "id": "0250e377-4ea0-46ab-a139-d8bd1866361a",
   "metadata": {},
   "outputs": [
    {
     "name": "stdout",
     "output_type": "stream",
     "text": [
      "False\n"
     ]
    }
   ],
   "source": [
    "print(False or False)"
   ]
  },
  {
   "cell_type": "code",
   "execution_count": 57,
   "id": "e5289f3e-b3e9-4638-8f71-3e0531d0141a",
   "metadata": {},
   "outputs": [
    {
     "name": "stdout",
     "output_type": "stream",
     "text": [
      "True\n"
     ]
    }
   ],
   "source": [
    "print(True or False)  #둘 중 하나라도 True이면 True"
   ]
  },
  {
   "cell_type": "code",
   "execution_count": 58,
   "id": "35e41718-3b1f-4c7c-bf0f-28bf106d737e",
   "metadata": {},
   "outputs": [
    {
     "name": "stdout",
     "output_type": "stream",
     "text": [
      "False\n"
     ]
    }
   ],
   "source": [
    "print(not True)"
   ]
  },
  {
   "cell_type": "markdown",
   "id": "be70600e-89ca-4b06-8a25-771f6f382b23",
   "metadata": {},
   "source": [
    "* == (같다)    = (대입)"
   ]
  },
  {
   "cell_type": "code",
   "execution_count": 62,
   "id": "3e0eda3c-ffd3-43bf-8b0b-af5c6c1a89d5",
   "metadata": {},
   "outputs": [
    {
     "name": "stdout",
     "output_type": "stream",
     "text": [
      "False\n",
      "True\n"
     ]
    },
    {
     "data": {
      "text/plain": [
       "(None, None)"
      ]
     },
     "execution_count": 62,
     "metadata": {},
     "output_type": "execute_result"
    }
   ],
   "source": [
    "print(3 == 2)  , print(3 != 2)"
   ]
  },
  {
   "cell_type": "code",
   "execution_count": null,
   "id": "0cccebbd-5305-4b99-aade-b112c7cc5ccf",
   "metadata": {},
   "outputs": [],
   "source": [
    "num = 3      # 3값을 num에 넣어라"
   ]
  },
  {
   "cell_type": "code",
   "execution_count": 63,
   "id": "a3b57e81-539e-40be-ae68-65933fc81dd1",
   "metadata": {},
   "outputs": [
    {
     "name": "stdout",
     "output_type": "stream",
     "text": [
      "False\n"
     ]
    }
   ],
   "source": [
    "print(   ((3 > 0) or (-5 > 0))      and     ((4 > 8) or ( 3 < 0))     )\n",
    "#          True   or    False                  False     False\n",
    "#                  True             and           False"
   ]
  },
  {
   "cell_type": "code",
   "execution_count": null,
   "id": "f4c4b914-8e0d-4624-867d-78b01849d6aa",
   "metadata": {},
   "outputs": [],
   "source": []
  },
  {
   "cell_type": "markdown",
   "id": "cd217ec5-e6b3-404c-be3a-c94d41b88e54",
   "metadata": {},
   "source": [
    "* 역슬러쉬 특수 표현"
   ]
  },
  {
   "cell_type": "code",
   "execution_count": 69,
   "id": "3427a4ab-7aa1-4aa9-a0d3-a830fcc46cd0",
   "metadata": {},
   "outputs": [
    {
     "name": "stdout",
     "output_type": "stream",
     "text": [
      "This is a \"single\" quotation test\n"
     ]
    }
   ],
   "source": [
    "# \\기호    : 글자기호\n",
    "string4 = \"This is a \\\"single\\\" quotation test\"\n",
    "print(string4)"
   ]
  },
  {
   "cell_type": "code",
   "execution_count": 67,
   "id": "0f46e250-e695-41b5-8780-db65eb1fd264",
   "metadata": {},
   "outputs": [
    {
     "name": "stdout",
     "output_type": "stream",
     "text": [
      "abc\n",
      "abc\n"
     ]
    }
   ],
   "source": [
    "# \\n : 줄바꿈\n",
    "print(\"abc\\nabc\")"
   ]
  },
  {
   "cell_type": "code",
   "execution_count": 68,
   "id": "3cdc0f21-0dc8-455d-9274-31442f982b7f",
   "metadata": {},
   "outputs": [
    {
     "name": "stdout",
     "output_type": "stream",
     "text": [
      "abc\tabc\n"
     ]
    }
   ],
   "source": [
    "# \\t : 탭\n",
    "print(\"abc\\tabc\")"
   ]
  },
  {
   "cell_type": "markdown",
   "id": "ecf67301-0ffd-445f-8fea-2a9ad2b81450",
   "metadata": {},
   "source": [
    "* 문자열 "
   ]
  },
  {
   "cell_type": "code",
   "execution_count": 70,
   "id": "038182e8-608e-4f3f-8527-60e552a2a23e",
   "metadata": {},
   "outputs": [
    {
     "name": "stdout",
     "output_type": "stream",
     "text": [
      "ABCDEF\n"
     ]
    }
   ],
   "source": [
    "#  + 합치다\n",
    "print(\"ABC\" + \"DEF\")"
   ]
  },
  {
   "cell_type": "code",
   "execution_count": 72,
   "id": "7e55201c-6bee-4da8-9d18-225af703190f",
   "metadata": {},
   "outputs": [
    {
     "name": "stdout",
     "output_type": "stream",
     "text": [
      "ABCABCABC\n"
     ]
    }
   ],
   "source": [
    "# * 반복하다\n",
    "print('ABC' * 3)"
   ]
  },
  {
   "cell_type": "code",
   "execution_count": 73,
   "id": "146a308c-4aaf-4776-9c22-9cb7ce5c8eaf",
   "metadata": {},
   "outputs": [
    {
     "ename": "TypeError",
     "evalue": "unsupported operand type(s) for -: 'str' and 'int'",
     "output_type": "error",
     "traceback": [
      "\u001b[1;31m---------------------------------------------------------------------------\u001b[0m",
      "\u001b[1;31mTypeError\u001b[0m                                 Traceback (most recent call last)",
      "\u001b[1;32m~\\AppData\\Local\\Temp/ipykernel_10604/2432741626.py\u001b[0m in \u001b[0;36m<module>\u001b[1;34m\u001b[0m\n\u001b[1;32m----> 1\u001b[1;33m \u001b[0mprint\u001b[0m\u001b[1;33m(\u001b[0m\u001b[1;34m\"ABC\"\u001b[0m \u001b[1;33m-\u001b[0m \u001b[1;36m1\u001b[0m\u001b[1;33m)\u001b[0m  \u001b[1;31m# 에러\u001b[0m\u001b[1;33m\u001b[0m\u001b[1;33m\u001b[0m\u001b[0m\n\u001b[0m",
      "\u001b[1;31mTypeError\u001b[0m: unsupported operand type(s) for -: 'str' and 'int'"
     ]
    }
   ],
   "source": [
    "print(\"ABC\" - 1)  # 에러"
   ]
  },
  {
   "cell_type": "markdown",
   "id": "8b55e3e4-620d-4578-83be-f9f10f9f9969",
   "metadata": {},
   "source": [
    "### 리스트(List), 튜플(Tuple), 딕셔너리(Dictionary),  ..... 셋(Set)\n",
    "    []            ()           {}                           {}"
   ]
  },
  {
   "cell_type": "code",
   "execution_count": 86,
   "id": "a1d1126d-fecd-4cec-b857-253d05e05a9f",
   "metadata": {},
   "outputs": [],
   "source": [
    "num1 = 1 \n",
    "num2 = 2 \n",
    "num3 = 3\n",
    "num_list = [1,2,2,3,3]\n",
    "num_tupl = (1,2,2,3,3)\n",
    "num_set  = {1,2,2,3,3}  #distinct"
   ]
  },
  {
   "cell_type": "code",
   "execution_count": 87,
   "id": "006199ab-e3e8-469c-93ce-6ce6e4dcbf13",
   "metadata": {},
   "outputs": [
    {
     "name": "stdout",
     "output_type": "stream",
     "text": [
      "[1, 2, 2, 3, 3] <class 'list'>\n"
     ]
    }
   ],
   "source": [
    "print(num_list,  type(num_list))"
   ]
  },
  {
   "cell_type": "code",
   "execution_count": 88,
   "id": "737a500f-1c26-4105-b82f-ba2f1a8b530c",
   "metadata": {},
   "outputs": [
    {
     "name": "stdout",
     "output_type": "stream",
     "text": [
      "(1, 2, 2, 3, 3) <class 'tuple'>\n"
     ]
    }
   ],
   "source": [
    "print(num_tupl,  type(num_tupl))"
   ]
  },
  {
   "cell_type": "code",
   "execution_count": 89,
   "id": "6651469b-fc7f-46dc-b7cc-4704ed3a8a81",
   "metadata": {},
   "outputs": [
    {
     "name": "stdout",
     "output_type": "stream",
     "text": [
      "{1, 2, 3} <class 'set'>\n"
     ]
    }
   ],
   "source": [
    "print(num_set,  type(num_set))"
   ]
  },
  {
   "cell_type": "code",
   "execution_count": 123,
   "id": "05e8a002-4a67-4f53-ac77-132c2c2c8eb5",
   "metadata": {},
   "outputs": [
    {
     "name": "stdout",
     "output_type": "stream",
     "text": [
      "{'n1': 1, 'n2': 2, 'n3': 3} <class 'dict'>\n",
      "3\n"
     ]
    }
   ],
   "source": [
    "num_dict = {'n1':1 , 'n2':2 , 'n3':3 }\n",
    "print(num_dict,  type(num_dict))\n",
    "print(num_dict['n3'])"
   ]
  },
  {
   "cell_type": "markdown",
   "id": "8a1ae0eb-def3-4d6e-b34e-ca9e495dcaf0",
   "metadata": {},
   "source": [
    "<font color='red'>* 숫자번째(index) 는 0번째 부터 시작</font>"
   ]
  },
  {
   "cell_type": "code",
   "execution_count": 106,
   "id": "65425914-3110-41c6-a2e6-84c73629bc99",
   "metadata": {},
   "outputs": [
    {
     "name": "stdout",
     "output_type": "stream",
     "text": [
      "[1, 2, 3, 4, 5]\n",
      "[1, 2, 3, 4, 5]\n",
      "1\n",
      "4\n",
      "1\n",
      "[1, 2, 3]\n",
      "[1, 2, 3, 4]\n"
     ]
    }
   ],
   "source": [
    "num_list = [1,2,3,4,5]\n",
    "print(num_list)\n",
    "print(num_list[:])\n",
    "\n",
    "print(num_list[0])  # 변수이름[숫자] : 숫자번째(index) 값만 출력\n",
    "print(num_list[3])\n",
    "print(num_list[-5])\n",
    "\n",
    "print(num_list[0:3])  #슬라이싱 [s:e]   0<= ? <3    0,1,2번째   --> 123\n",
    "print(num_list[:-1])  #슬라이싱 [s:e]   0<= ? <끝   0,1,2,3번째 --> 1234\n"
   ]
  },
  {
   "cell_type": "code",
   "execution_count": null,
   "id": "5dc3713c-03df-4483-91a4-ba5b5451e668",
   "metadata": {},
   "outputs": [],
   "source": []
  },
  {
   "cell_type": "code",
   "execution_count": 112,
   "id": "a574f56e-a0df-4807-9818-f679972f8f7b",
   "metadata": {},
   "outputs": [
    {
     "name": "stdout",
     "output_type": "stream",
     "text": [
      "['ab', 'c', 'd', 77, True, 0.14] <class 'list'>\n"
     ]
    }
   ],
   "source": [
    "str_list = ['ab','c','d',77, True, 0.14]\n",
    "print(str_list,  type(str_list))"
   ]
  },
  {
   "cell_type": "code",
   "execution_count": 121,
   "id": "2c8fb507-3261-4f89-8b71-466f64326626",
   "metadata": {},
   "outputs": [
    {
     "name": "stdout",
     "output_type": "stream",
     "text": [
      "['ab', 'c', 'd', 77, True, 0.14, (1, 2, 3), [11, 22, 33], {'k1': 100, 'k2': 200}] <class 'list'>\n",
      "(1, 2, 3)\n",
      "2\n",
      "11\n",
      "100\n"
     ]
    }
   ],
   "source": [
    "str_list = [ 'ab'   ,\n",
    "             'c'    ,\n",
    "             'd'    ,\n",
    "             77     , \n",
    "             True   , \n",
    "             0.14   , \n",
    "             (1,2,3),\n",
    "             [11,22,33],\n",
    "             {'k1':100, 'k2':200}\n",
    "           ]\n",
    "print(str_list,  type(str_list))\n",
    "print(str_list[6])\n",
    "print(str_list[6][1])\n",
    "print(str_list[7][0])\n",
    "print(str_list[8]['k1'])"
   ]
  },
  {
   "cell_type": "code",
   "execution_count": null,
   "id": "5e182486-c263-4ac7-9fde-abe4d5cbe8d9",
   "metadata": {},
   "outputs": [],
   "source": []
  },
  {
   "cell_type": "code",
   "execution_count": 132,
   "id": "7c1a79d6-9c13-459b-8099-e8ffcb872040",
   "metadata": {},
   "outputs": [
    {
     "data": {
      "text/plain": [
       "[{'@type': 'type.googleapis.com/google.rpc.ErrorInfo',\n",
       "  'reason': 'API_KEY_INVALID',\n",
       "  'domain': 'googleapis.com',\n",
       "  'metadata': {'service': 'youtube.googleapis.com'}}]"
      ]
     },
     "execution_count": 132,
     "metadata": {},
     "output_type": "execute_result"
    }
   ],
   "source": [
    "\n"
   ]
  },
  {
   "cell_type": "code",
   "execution_count": 133,
   "id": "bb295edf-e0f9-483b-808a-2e04eb5dacdf",
   "metadata": {},
   "outputs": [],
   "source": [
    "quiz =  {\n",
    "  \"error\": \n",
    "      #----------------------------\n",
    "      { \n",
    "        \"code\": 400,\n",
    "        \"message\": \"API key not valid. Please pass a valid API key.\",\n",
    "        \"errors\": [\n",
    "                      {\n",
    "                        \"message\": \"API key not valid. Please pass a valid API key.\",\n",
    "                        \"domain\": \"global\",\n",
    "                        \"reason\": \"badRequest\"\n",
    "                      }\n",
    "                 ],\n",
    "        \"status\": \"INVALID_ARGUMENT\",\n",
    "        \"details\": [\n",
    "                      {\n",
    "                        \"@type\": \"type.googleapis.com/google.rpc.ErrorInfo\",\n",
    "                        \"reason\": \"API_KEY_INVALID\",\n",
    "                        \"domain\": \"googleapis.com\",\n",
    "                        \"metadata\": {\n",
    "                                      \"service\": \"youtube.googleapis.com\"\n",
    "                                    }\n",
    "                      }\n",
    "                    ]\n",
    "  }  #----------------------------\n",
    "}\n",
    "# print(quiz)"
   ]
  },
  {
   "cell_type": "code",
   "execution_count": 137,
   "id": "78272fb2-5dbf-4a27-97c8-303b94f3ae01",
   "metadata": {},
   "outputs": [
    {
     "name": "stdout",
     "output_type": "stream",
     "text": [
      "400\n",
      "badRequest\n",
      "youtube.googleapis.com\n"
     ]
    }
   ],
   "source": [
    "print(  quiz[\"error\"]['code']      )\n",
    "print(  quiz[\"error\"]['errors'][0]['reason']      )\n",
    "print(  quiz[\"error\"][\"details\"][0]['metadata']['service']     )"
   ]
  },
  {
   "cell_type": "code",
   "execution_count": null,
   "id": "5c1e63db-9377-4fe1-95f7-8de8175b8f72",
   "metadata": {},
   "outputs": [],
   "source": []
  }
 ],
 "metadata": {
  "kernelspec": {
   "display_name": "Python 3 (ipykernel)",
   "language": "python",
   "name": "python3"
  },
  "language_info": {
   "codemirror_mode": {
    "name": "ipython",
    "version": 3
   },
   "file_extension": ".py",
   "mimetype": "text/x-python",
   "name": "python",
   "nbconvert_exporter": "python",
   "pygments_lexer": "ipython3",
   "version": "3.8.8"
  }
 },
 "nbformat": 4,
 "nbformat_minor": 5
}
