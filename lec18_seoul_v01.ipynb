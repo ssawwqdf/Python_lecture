{
 "cells": [
  {
   "cell_type": "code",
   "execution_count": 2,
   "id": "6e084ce6-c153-4c09-af4b-e8e0d4d95179",
   "metadata": {},
   "outputs": [],
   "source": [
    "import pandas as pd\n",
    "import numpy as np\n",
    "\n",
    "import matplotlib.pyplot as plt\n",
    "import seaborn as sns\n",
    "\n",
    "plt.rc('font', family='Gothic') # For Windows. PLOT에서 한글 처리 -> 플롯 만드는 창에 넣어야 됨.\n",
    "\n",
    "plt.rcParams['font.family']= 'Malgun Gothic'\n",
    "plt.rcParams['axes.unicode_minus'] = False # - 기호 안 깨지게\n",
    "plt.rcParams['font.size'] = 15\n",
    "\n",
    "import datetime as dt"
   ]
  },
  {
   "cell_type": "code",
   "execution_count": 3,
   "id": "2fa86210-b883-4dcb-91b0-ee1522f0f986",
   "metadata": {},
   "outputs": [
    {
     "name": "stderr",
     "output_type": "stream",
     "text": [
      "c:\\ai\\pythonproject\\venv\\lib\\site-packages\\statsmodels\\tools\\_testing.py:19: FutureWarning: pandas.util.testing is deprecated. Use the functions in the public API at pandas.testing instead.\n",
      "  import pandas.util.testing as tm\n"
     ]
    }
   ],
   "source": [
    "# ARIMA\n",
    "from statsmodels.graphics.tsaplots import plot_acf, plot_pacf\n",
    "\n",
    "# from statsmodels.tsa.arima.model import ARIMA  # statsmodel version 1.12\n",
    "from statsmodels.tsa.arima_model import ARIMA # statsmodel version 1.10.2\n",
    "# https://www.statsmodels.org/v0.10.2/generated/statsmodels.tsa.arima_model.ARIMAResults.forecast.html?highlight=arima%20forecast#statsmodels.tsa.arima_model.ARIMAResults.forecast"
   ]
  },
  {
   "cell_type": "code",
   "execution_count": 4,
   "id": "121d124c-470b-436c-af54-ab1149fc0944",
   "metadata": {},
   "outputs": [
    {
     "name": "stdout",
     "output_type": "stream",
     "text": [
      "Requirement already satisfied: pandas-profiling in c:\\ai\\pythonproject\\venv\\lib\\site-packages (3.1.0)\n",
      "Requirement already satisfied: matplotlib>=3.2.0 in c:\\ai\\pythonproject\\venv\\lib\\site-packages (from pandas-profiling) (3.5.1)\n",
      "Requirement already satisfied: tqdm>=4.48.2 in c:\\ai\\pythonproject\\venv\\lib\\site-packages (from pandas-profiling) (4.62.3)\n",
      "Requirement already satisfied: requests>=2.24.0 in c:\\ai\\pythonproject\\venv\\lib\\site-packages (from pandas-profiling) (2.26.0)\n",
      "Requirement already satisfied: seaborn>=0.10.1 in c:\\ai\\pythonproject\\venv\\lib\\site-packages (from pandas-profiling) (0.11.2)\n",
      "Requirement already satisfied: pandas!=1.0.0,!=1.0.1,!=1.0.2,!=1.1.0,>=0.25.3 in c:\\ai\\pythonproject\\venv\\lib\\site-packages (from pandas-profiling) (1.3.5)\n",
      "Requirement already satisfied: tangled-up-in-unicode==0.1.0 in c:\\ai\\pythonproject\\venv\\lib\\site-packages (from pandas-profiling) (0.1.0)\n",
      "Requirement already satisfied: visions[type_image_path]==0.7.4 in c:\\ai\\pythonproject\\venv\\lib\\site-packages (from pandas-profiling) (0.7.4)\n",
      "Requirement already satisfied: jinja2>=2.11.1 in c:\\ai\\pythonproject\\venv\\lib\\site-packages (from pandas-profiling) (3.0.3)\n",
      "Requirement already satisfied: numpy>=1.16.0 in c:\\ai\\pythonproject\\venv\\lib\\site-packages (from pandas-profiling) (1.22.0)\n",
      "Requirement already satisfied: htmlmin>=0.1.12 in c:\\ai\\pythonproject\\venv\\lib\\site-packages (from pandas-profiling) (0.1.12)\n",
      "Requirement already satisfied: missingno>=0.4.2 in c:\\ai\\pythonproject\\venv\\lib\\site-packages (from pandas-profiling) (0.5.0)\n",
      "Requirement already satisfied: PyYAML>=5.0.0 in c:\\ai\\pythonproject\\venv\\lib\\site-packages (from pandas-profiling) (6.0)\n",
      "Requirement already satisfied: scipy>=1.4.1 in c:\\ai\\pythonproject\\venv\\lib\\site-packages (from pandas-profiling) (1.7.3)\n",
      "Requirement already satisfied: multimethod>=1.4 in c:\\ai\\pythonproject\\venv\\lib\\site-packages (from pandas-profiling) (1.7)\n",
      "Requirement already satisfied: pydantic>=1.8.1 in c:\\ai\\pythonproject\\venv\\lib\\site-packages (from pandas-profiling) (1.9.0)\n",
      "Requirement already satisfied: joblib~=1.0.1 in c:\\ai\\pythonproject\\venv\\lib\\site-packages (from pandas-profiling) (1.0.1)\n",
      "Requirement already satisfied: markupsafe~=2.0.1 in c:\\ai\\pythonproject\\venv\\lib\\site-packages (from pandas-profiling) (2.0.1)\n",
      "Requirement already satisfied: phik>=0.11.1 in c:\\ai\\pythonproject\\venv\\lib\\site-packages (from pandas-profiling) (0.12.0)\n",
      "Requirement already satisfied: attrs>=19.3.0 in c:\\ai\\pythonproject\\venv\\lib\\site-packages (from visions[type_image_path]==0.7.4->pandas-profiling) (21.2.0)\n",
      "Requirement already satisfied: networkx>=2.4 in c:\\ai\\pythonproject\\venv\\lib\\site-packages (from visions[type_image_path]==0.7.4->pandas-profiling) (2.6.3)\n",
      "Requirement already satisfied: imagehash in c:\\ai\\pythonproject\\venv\\lib\\site-packages (from visions[type_image_path]==0.7.4->pandas-profiling) (4.2.1)\n",
      "Requirement already satisfied: Pillow in c:\\ai\\pythonproject\\venv\\lib\\site-packages (from visions[type_image_path]==0.7.4->pandas-profiling) (9.0.0)\n",
      "Requirement already satisfied: pyparsing>=2.2.1 in c:\\ai\\pythonproject\\venv\\lib\\site-packages (from matplotlib>=3.2.0->pandas-profiling) (3.0.6)\n",
      "Requirement already satisfied: kiwisolver>=1.0.1 in c:\\ai\\pythonproject\\venv\\lib\\site-packages (from matplotlib>=3.2.0->pandas-profiling) (1.3.2)\n",
      "Requirement already satisfied: cycler>=0.10 in c:\\ai\\pythonproject\\venv\\lib\\site-packages (from matplotlib>=3.2.0->pandas-profiling) (0.11.0)\n",
      "Requirement already satisfied: fonttools>=4.22.0 in c:\\ai\\pythonproject\\venv\\lib\\site-packages (from matplotlib>=3.2.0->pandas-profiling) (4.28.5)\n",
      "Requirement already satisfied: packaging>=20.0 in c:\\ai\\pythonproject\\venv\\lib\\site-packages (from matplotlib>=3.2.0->pandas-profiling) (21.3)\n",
      "Requirement already satisfied: python-dateutil>=2.7 in c:\\ai\\pythonproject\\venv\\lib\\site-packages (from matplotlib>=3.2.0->pandas-profiling) (2.8.2)\n",
      "Requirement already satisfied: pytz>=2017.3 in c:\\ai\\pythonproject\\venv\\lib\\site-packages (from pandas!=1.0.0,!=1.0.1,!=1.0.2,!=1.1.0,>=0.25.3->pandas-profiling) (2021.3)\n",
      "Requirement already satisfied: typing-extensions>=3.7.4.3 in c:\\ai\\pythonproject\\venv\\lib\\site-packages (from pydantic>=1.8.1->pandas-profiling) (4.0.1)\n",
      "Requirement already satisfied: six>=1.5 in c:\\ai\\pythonproject\\venv\\lib\\site-packages (from python-dateutil>=2.7->matplotlib>=3.2.0->pandas-profiling) (1.16.0)\n",
      "Requirement already satisfied: urllib3<1.27,>=1.21.1 in c:\\ai\\pythonproject\\venv\\lib\\site-packages (from requests>=2.24.0->pandas-profiling) (1.26.7)\n",
      "Requirement already satisfied: charset-normalizer~=2.0.0 in c:\\ai\\pythonproject\\venv\\lib\\site-packages (from requests>=2.24.0->pandas-profiling) (2.0.9)\n",
      "Requirement already satisfied: idna<4,>=2.5 in c:\\ai\\pythonproject\\venv\\lib\\site-packages (from requests>=2.24.0->pandas-profiling) (3.3)\n",
      "Requirement already satisfied: certifi>=2017.4.17 in c:\\ai\\pythonproject\\venv\\lib\\site-packages (from requests>=2.24.0->pandas-profiling) (2021.10.8)\n",
      "Requirement already satisfied: colorama in c:\\ai\\pythonproject\\venv\\lib\\site-packages (from tqdm>=4.48.2->pandas-profiling) (0.4.4)\n",
      "Requirement already satisfied: PyWavelets in c:\\ai\\pythonproject\\venv\\lib\\site-packages (from imagehash->visions[type_image_path]==0.7.4->pandas-profiling) (1.2.0)\n"
     ]
    },
    {
     "name": "stderr",
     "output_type": "stream",
     "text": [
      "WARNING: You are using pip version 21.1.2; however, version 22.0.3 is available.\n",
      "You should consider upgrading via the 'C:\\AI\\pythonProject\\venv\\Scripts\\python.exe -m pip install --upgrade pip' command.\n"
     ]
    }
   ],
   "source": [
    "!pip install -U pandas-profiling"
   ]
  },
  {
   "cell_type": "code",
   "execution_count": 5,
   "id": "85bde738-9a07-43c3-ae86-58db3006f3f5",
   "metadata": {},
   "outputs": [],
   "source": [
    "from pandas_profiling import ProfileReport"
   ]
  },
  {
   "cell_type": "code",
   "execution_count": 6,
   "id": "01e095f2-1943-45c7-a977-0a0c2d08b7ab",
   "metadata": {},
   "outputs": [],
   "source": [
    "# 버전 낮추고 한 번 plot 해봐라"
   ]
  },
  {
   "cell_type": "code",
   "execution_count": 7,
   "id": "c1019d78-cb87-4b74-af84-f3d65a433774",
   "metadata": {},
   "outputs": [],
   "source": [
    "# 측정소:중구 데이터:미세먼지 1시간 (하루 치)\n",
    "# 맨 마지막 거 빼고 학습 -> 맨 마지막 거 예측\n",
    "# ARIMA로 예측\n",
    "# stats ver : 낮추기 -> plot"
   ]
  },
  {
   "cell_type": "code",
   "execution_count": 8,
   "id": "9cdeafe7-6ce2-47c0-9591-b5da342b1448",
   "metadata": {},
   "outputs": [
    {
     "ename": "FileNotFoundError",
     "evalue": "[Errno 2] No such file or directory: './dataset/daily_seoul_air_cond_2020.04.csv'",
     "output_type": "error",
     "traceback": [
      "\u001b[1;31m---------------------------------------------------------------------------\u001b[0m",
      "\u001b[1;31mFileNotFoundError\u001b[0m                         Traceback (most recent call last)",
      "\u001b[1;32m~\\AppData\\Local\\Temp/ipykernel_5808/1656623559.py\u001b[0m in \u001b[0;36m<module>\u001b[1;34m\u001b[0m\n\u001b[0;32m      2\u001b[0m \u001b[1;33m\u001b[0m\u001b[0m\n\u001b[0;32m      3\u001b[0m \u001b[1;31m#my_parser = lambda x: dt.datetime.strptime(x, \"%Y%m%d%H%M\") # 없어도됨\u001b[0m\u001b[1;33m\u001b[0m\u001b[1;33m\u001b[0m\u001b[1;33m\u001b[0m\u001b[0m\n\u001b[1;32m----> 4\u001b[1;33m df = pd.read_csv('./dataset/daily_seoul_air_cond_2020.04.csv',\n\u001b[0m\u001b[0;32m      5\u001b[0m                   \u001b[0mparse_dates\u001b[0m \u001b[1;33m=\u001b[0m \u001b[1;33m[\u001b[0m\u001b[1;34m'측정일시'\u001b[0m\u001b[1;33m]\u001b[0m\u001b[1;33m,\u001b[0m\u001b[1;33m\u001b[0m\u001b[1;33m\u001b[0m\u001b[0m\n\u001b[0;32m      6\u001b[0m \u001b[1;31m#                  date_parser = my_parser\u001b[0m\u001b[1;33m\u001b[0m\u001b[1;33m\u001b[0m\u001b[1;33m\u001b[0m\u001b[0m\n",
      "\u001b[1;32mc:\\ai\\pythonproject\\venv\\lib\\site-packages\\pandas\\util\\_decorators.py\u001b[0m in \u001b[0;36mwrapper\u001b[1;34m(*args, **kwargs)\u001b[0m\n\u001b[0;32m    309\u001b[0m                     \u001b[0mstacklevel\u001b[0m\u001b[1;33m=\u001b[0m\u001b[0mstacklevel\u001b[0m\u001b[1;33m,\u001b[0m\u001b[1;33m\u001b[0m\u001b[1;33m\u001b[0m\u001b[0m\n\u001b[0;32m    310\u001b[0m                 )\n\u001b[1;32m--> 311\u001b[1;33m             \u001b[1;32mreturn\u001b[0m \u001b[0mfunc\u001b[0m\u001b[1;33m(\u001b[0m\u001b[1;33m*\u001b[0m\u001b[0margs\u001b[0m\u001b[1;33m,\u001b[0m \u001b[1;33m**\u001b[0m\u001b[0mkwargs\u001b[0m\u001b[1;33m)\u001b[0m\u001b[1;33m\u001b[0m\u001b[1;33m\u001b[0m\u001b[0m\n\u001b[0m\u001b[0;32m    312\u001b[0m \u001b[1;33m\u001b[0m\u001b[0m\n\u001b[0;32m    313\u001b[0m         \u001b[1;32mreturn\u001b[0m \u001b[0mwrapper\u001b[0m\u001b[1;33m\u001b[0m\u001b[1;33m\u001b[0m\u001b[0m\n",
      "\u001b[1;32mc:\\ai\\pythonproject\\venv\\lib\\site-packages\\pandas\\io\\parsers\\readers.py\u001b[0m in \u001b[0;36mread_csv\u001b[1;34m(filepath_or_buffer, sep, delimiter, header, names, index_col, usecols, squeeze, prefix, mangle_dupe_cols, dtype, engine, converters, true_values, false_values, skipinitialspace, skiprows, skipfooter, nrows, na_values, keep_default_na, na_filter, verbose, skip_blank_lines, parse_dates, infer_datetime_format, keep_date_col, date_parser, dayfirst, cache_dates, iterator, chunksize, compression, thousands, decimal, lineterminator, quotechar, quoting, doublequote, escapechar, comment, encoding, encoding_errors, dialect, error_bad_lines, warn_bad_lines, on_bad_lines, delim_whitespace, low_memory, memory_map, float_precision, storage_options)\u001b[0m\n\u001b[0;32m    584\u001b[0m     \u001b[0mkwds\u001b[0m\u001b[1;33m.\u001b[0m\u001b[0mupdate\u001b[0m\u001b[1;33m(\u001b[0m\u001b[0mkwds_defaults\u001b[0m\u001b[1;33m)\u001b[0m\u001b[1;33m\u001b[0m\u001b[1;33m\u001b[0m\u001b[0m\n\u001b[0;32m    585\u001b[0m \u001b[1;33m\u001b[0m\u001b[0m\n\u001b[1;32m--> 586\u001b[1;33m     \u001b[1;32mreturn\u001b[0m \u001b[0m_read\u001b[0m\u001b[1;33m(\u001b[0m\u001b[0mfilepath_or_buffer\u001b[0m\u001b[1;33m,\u001b[0m \u001b[0mkwds\u001b[0m\u001b[1;33m)\u001b[0m\u001b[1;33m\u001b[0m\u001b[1;33m\u001b[0m\u001b[0m\n\u001b[0m\u001b[0;32m    587\u001b[0m \u001b[1;33m\u001b[0m\u001b[0m\n\u001b[0;32m    588\u001b[0m \u001b[1;33m\u001b[0m\u001b[0m\n",
      "\u001b[1;32mc:\\ai\\pythonproject\\venv\\lib\\site-packages\\pandas\\io\\parsers\\readers.py\u001b[0m in \u001b[0;36m_read\u001b[1;34m(filepath_or_buffer, kwds)\u001b[0m\n\u001b[0;32m    480\u001b[0m \u001b[1;33m\u001b[0m\u001b[0m\n\u001b[0;32m    481\u001b[0m     \u001b[1;31m# Create the parser.\u001b[0m\u001b[1;33m\u001b[0m\u001b[1;33m\u001b[0m\u001b[1;33m\u001b[0m\u001b[0m\n\u001b[1;32m--> 482\u001b[1;33m     \u001b[0mparser\u001b[0m \u001b[1;33m=\u001b[0m \u001b[0mTextFileReader\u001b[0m\u001b[1;33m(\u001b[0m\u001b[0mfilepath_or_buffer\u001b[0m\u001b[1;33m,\u001b[0m \u001b[1;33m**\u001b[0m\u001b[0mkwds\u001b[0m\u001b[1;33m)\u001b[0m\u001b[1;33m\u001b[0m\u001b[1;33m\u001b[0m\u001b[0m\n\u001b[0m\u001b[0;32m    483\u001b[0m \u001b[1;33m\u001b[0m\u001b[0m\n\u001b[0;32m    484\u001b[0m     \u001b[1;32mif\u001b[0m \u001b[0mchunksize\u001b[0m \u001b[1;32mor\u001b[0m \u001b[0miterator\u001b[0m\u001b[1;33m:\u001b[0m\u001b[1;33m\u001b[0m\u001b[1;33m\u001b[0m\u001b[0m\n",
      "\u001b[1;32mc:\\ai\\pythonproject\\venv\\lib\\site-packages\\pandas\\io\\parsers\\readers.py\u001b[0m in \u001b[0;36m__init__\u001b[1;34m(self, f, engine, **kwds)\u001b[0m\n\u001b[0;32m    809\u001b[0m             \u001b[0mself\u001b[0m\u001b[1;33m.\u001b[0m\u001b[0moptions\u001b[0m\u001b[1;33m[\u001b[0m\u001b[1;34m\"has_index_names\"\u001b[0m\u001b[1;33m]\u001b[0m \u001b[1;33m=\u001b[0m \u001b[0mkwds\u001b[0m\u001b[1;33m[\u001b[0m\u001b[1;34m\"has_index_names\"\u001b[0m\u001b[1;33m]\u001b[0m\u001b[1;33m\u001b[0m\u001b[1;33m\u001b[0m\u001b[0m\n\u001b[0;32m    810\u001b[0m \u001b[1;33m\u001b[0m\u001b[0m\n\u001b[1;32m--> 811\u001b[1;33m         \u001b[0mself\u001b[0m\u001b[1;33m.\u001b[0m\u001b[0m_engine\u001b[0m \u001b[1;33m=\u001b[0m \u001b[0mself\u001b[0m\u001b[1;33m.\u001b[0m\u001b[0m_make_engine\u001b[0m\u001b[1;33m(\u001b[0m\u001b[0mself\u001b[0m\u001b[1;33m.\u001b[0m\u001b[0mengine\u001b[0m\u001b[1;33m)\u001b[0m\u001b[1;33m\u001b[0m\u001b[1;33m\u001b[0m\u001b[0m\n\u001b[0m\u001b[0;32m    812\u001b[0m \u001b[1;33m\u001b[0m\u001b[0m\n\u001b[0;32m    813\u001b[0m     \u001b[1;32mdef\u001b[0m \u001b[0mclose\u001b[0m\u001b[1;33m(\u001b[0m\u001b[0mself\u001b[0m\u001b[1;33m)\u001b[0m\u001b[1;33m:\u001b[0m\u001b[1;33m\u001b[0m\u001b[1;33m\u001b[0m\u001b[0m\n",
      "\u001b[1;32mc:\\ai\\pythonproject\\venv\\lib\\site-packages\\pandas\\io\\parsers\\readers.py\u001b[0m in \u001b[0;36m_make_engine\u001b[1;34m(self, engine)\u001b[0m\n\u001b[0;32m   1038\u001b[0m             )\n\u001b[0;32m   1039\u001b[0m         \u001b[1;31m# error: Too many arguments for \"ParserBase\"\u001b[0m\u001b[1;33m\u001b[0m\u001b[1;33m\u001b[0m\u001b[1;33m\u001b[0m\u001b[0m\n\u001b[1;32m-> 1040\u001b[1;33m         \u001b[1;32mreturn\u001b[0m \u001b[0mmapping\u001b[0m\u001b[1;33m[\u001b[0m\u001b[0mengine\u001b[0m\u001b[1;33m]\u001b[0m\u001b[1;33m(\u001b[0m\u001b[0mself\u001b[0m\u001b[1;33m.\u001b[0m\u001b[0mf\u001b[0m\u001b[1;33m,\u001b[0m \u001b[1;33m**\u001b[0m\u001b[0mself\u001b[0m\u001b[1;33m.\u001b[0m\u001b[0moptions\u001b[0m\u001b[1;33m)\u001b[0m  \u001b[1;31m# type: ignore[call-arg]\u001b[0m\u001b[1;33m\u001b[0m\u001b[1;33m\u001b[0m\u001b[0m\n\u001b[0m\u001b[0;32m   1041\u001b[0m \u001b[1;33m\u001b[0m\u001b[0m\n\u001b[0;32m   1042\u001b[0m     \u001b[1;32mdef\u001b[0m \u001b[0m_failover_to_python\u001b[0m\u001b[1;33m(\u001b[0m\u001b[0mself\u001b[0m\u001b[1;33m)\u001b[0m\u001b[1;33m:\u001b[0m\u001b[1;33m\u001b[0m\u001b[1;33m\u001b[0m\u001b[0m\n",
      "\u001b[1;32mc:\\ai\\pythonproject\\venv\\lib\\site-packages\\pandas\\io\\parsers\\c_parser_wrapper.py\u001b[0m in \u001b[0;36m__init__\u001b[1;34m(self, src, **kwds)\u001b[0m\n\u001b[0;32m     49\u001b[0m \u001b[1;33m\u001b[0m\u001b[0m\n\u001b[0;32m     50\u001b[0m         \u001b[1;31m# open handles\u001b[0m\u001b[1;33m\u001b[0m\u001b[1;33m\u001b[0m\u001b[1;33m\u001b[0m\u001b[0m\n\u001b[1;32m---> 51\u001b[1;33m         \u001b[0mself\u001b[0m\u001b[1;33m.\u001b[0m\u001b[0m_open_handles\u001b[0m\u001b[1;33m(\u001b[0m\u001b[0msrc\u001b[0m\u001b[1;33m,\u001b[0m \u001b[0mkwds\u001b[0m\u001b[1;33m)\u001b[0m\u001b[1;33m\u001b[0m\u001b[1;33m\u001b[0m\u001b[0m\n\u001b[0m\u001b[0;32m     52\u001b[0m         \u001b[1;32massert\u001b[0m \u001b[0mself\u001b[0m\u001b[1;33m.\u001b[0m\u001b[0mhandles\u001b[0m \u001b[1;32mis\u001b[0m \u001b[1;32mnot\u001b[0m \u001b[1;32mNone\u001b[0m\u001b[1;33m\u001b[0m\u001b[1;33m\u001b[0m\u001b[0m\n\u001b[0;32m     53\u001b[0m \u001b[1;33m\u001b[0m\u001b[0m\n",
      "\u001b[1;32mc:\\ai\\pythonproject\\venv\\lib\\site-packages\\pandas\\io\\parsers\\base_parser.py\u001b[0m in \u001b[0;36m_open_handles\u001b[1;34m(self, src, kwds)\u001b[0m\n\u001b[0;32m    220\u001b[0m         \u001b[0mLet\u001b[0m \u001b[0mthe\u001b[0m \u001b[0mreaders\u001b[0m \u001b[0mopen\u001b[0m \u001b[0mIOHandles\u001b[0m \u001b[0mafter\u001b[0m \u001b[0mthey\u001b[0m \u001b[0mare\u001b[0m \u001b[0mdone\u001b[0m \u001b[1;32mwith\u001b[0m \u001b[0mtheir\u001b[0m \u001b[0mpotential\u001b[0m \u001b[0mraises\u001b[0m\u001b[1;33m.\u001b[0m\u001b[1;33m\u001b[0m\u001b[1;33m\u001b[0m\u001b[0m\n\u001b[0;32m    221\u001b[0m         \"\"\"\n\u001b[1;32m--> 222\u001b[1;33m         self.handles = get_handle(\n\u001b[0m\u001b[0;32m    223\u001b[0m             \u001b[0msrc\u001b[0m\u001b[1;33m,\u001b[0m\u001b[1;33m\u001b[0m\u001b[1;33m\u001b[0m\u001b[0m\n\u001b[0;32m    224\u001b[0m             \u001b[1;34m\"r\"\u001b[0m\u001b[1;33m,\u001b[0m\u001b[1;33m\u001b[0m\u001b[1;33m\u001b[0m\u001b[0m\n",
      "\u001b[1;32mc:\\ai\\pythonproject\\venv\\lib\\site-packages\\pandas\\io\\common.py\u001b[0m in \u001b[0;36mget_handle\u001b[1;34m(path_or_buf, mode, encoding, compression, memory_map, is_text, errors, storage_options)\u001b[0m\n\u001b[0;32m    700\u001b[0m         \u001b[1;32mif\u001b[0m \u001b[0mioargs\u001b[0m\u001b[1;33m.\u001b[0m\u001b[0mencoding\u001b[0m \u001b[1;32mand\u001b[0m \u001b[1;34m\"b\"\u001b[0m \u001b[1;32mnot\u001b[0m \u001b[1;32min\u001b[0m \u001b[0mioargs\u001b[0m\u001b[1;33m.\u001b[0m\u001b[0mmode\u001b[0m\u001b[1;33m:\u001b[0m\u001b[1;33m\u001b[0m\u001b[1;33m\u001b[0m\u001b[0m\n\u001b[0;32m    701\u001b[0m             \u001b[1;31m# Encoding\u001b[0m\u001b[1;33m\u001b[0m\u001b[1;33m\u001b[0m\u001b[1;33m\u001b[0m\u001b[0m\n\u001b[1;32m--> 702\u001b[1;33m             handle = open(\n\u001b[0m\u001b[0;32m    703\u001b[0m                 \u001b[0mhandle\u001b[0m\u001b[1;33m,\u001b[0m\u001b[1;33m\u001b[0m\u001b[1;33m\u001b[0m\u001b[0m\n\u001b[0;32m    704\u001b[0m                 \u001b[0mioargs\u001b[0m\u001b[1;33m.\u001b[0m\u001b[0mmode\u001b[0m\u001b[1;33m,\u001b[0m\u001b[1;33m\u001b[0m\u001b[1;33m\u001b[0m\u001b[0m\n",
      "\u001b[1;31mFileNotFoundError\u001b[0m: [Errno 2] No such file or directory: './dataset/daily_seoul_air_cond_2020.04.csv'"
     ]
    }
   ],
   "source": [
    "df=pd.read_csv(\"./lec18_daily_seoul_air_cond_2020.04.csv\")\n",
    "\n",
    "#my_parser = lambda x: dt.datetime.strptime(x, \"%Y%m%d%H%M\") # 없어도됨\n",
    "df = pd.read_csv('./dataset/daily_seoul_air_cond_2020.04.csv',\n",
    "                  parse_dates = ['측정일시'],  \n",
    "#                  date_parser = my_parser\n",
    "                ) \n",
    "df.head()"
   ]
  },
  {
   "cell_type": "code",
   "execution_count": null,
   "id": "8ead8d22-6019-48ca-8ed1-5e24ec81aa4c",
   "metadata": {},
   "outputs": [],
   "source": [
    "df.head()"
   ]
  },
  {
   "cell_type": "code",
   "execution_count": null,
   "id": "82711872-0e0a-4752-b3c2-40a78e488dce",
   "metadata": {},
   "outputs": [],
   "source": [
    "df.info()"
   ]
  },
  {
   "cell_type": "code",
   "execution_count": null,
   "id": "a6f4cc32-2e03-4e18-b585-d998b69dd64a",
   "metadata": {},
   "outputs": [],
   "source": [
    "df.shape"
   ]
  },
  {
   "cell_type": "code",
   "execution_count": null,
   "id": "54cf917e-6615-44e0-a465-e8196c41e19e",
   "metadata": {},
   "outputs": [],
   "source": [
    "df=df[df['측정소명']=='중구'][['측정일시', '측정소명', '미세먼지 1시간(㎍/㎥)']]\n",
    "# df=df[df['측정소명']=='중구'][['측정일시', '측정소명', '미세먼지1시간(㎍/㎥)']]"
   ]
  },
  {
   "cell_type": "code",
   "execution_count": null,
   "id": "37d74af3-ddb5-440a-8f40-f502f54bdb75",
   "metadata": {},
   "outputs": [],
   "source": [
    "df.head()"
   ]
  },
  {
   "cell_type": "code",
   "execution_count": null,
   "id": "09f693f3-7d9e-4ba6-8158-820b626967dc",
   "metadata": {},
   "outputs": [],
   "source": [
    "df=df.sort_values(by=\"측정일시\", ascending=True)"
   ]
  },
  {
   "cell_type": "code",
   "execution_count": null,
   "id": "13c4b8e5-7101-4b09-b044-9989511dcc78",
   "metadata": {},
   "outputs": [],
   "source": [
    "df.index=range(df.shape[0])"
   ]
  },
  {
   "cell_type": "code",
   "execution_count": null,
   "id": "a7628409-c607-4f0f-b58f-a25d6857b196",
   "metadata": {},
   "outputs": [],
   "source": [
    "df=df.rename(columns={'미세먼지 1시간(㎍/㎥)':'미세먼지'})"
   ]
  },
  {
   "cell_type": "code",
   "execution_count": null,
   "id": "7aad950b-c6a5-4a22-91ab-1f1420d2780c",
   "metadata": {},
   "outputs": [],
   "source": [
    "df.head()"
   ]
  },
  {
   "cell_type": "markdown",
   "id": "c61a2b80-021d-42ae-8768-edf4213808c2",
   "metadata": {},
   "source": [
    "# ARIMA"
   ]
  },
  {
   "cell_type": "code",
   "execution_count": null,
   "id": "ab406f05-0f07-4d6a-b155-5fe7c2ecef28",
   "metadata": {},
   "outputs": [],
   "source": [
    "plt.figure(figsize = (10,4))\n",
    "ax = sns.lineplot(x='측정일시',y='미세먼지',data=df)\n",
    "plt.xticks(rotation = - 45 )\n",
    "# ax.set_xticklabels(ax.get_xticklabels(),rotation = 30)\n",
    "plt.show()"
   ]
  },
  {
   "cell_type": "code",
   "execution_count": null,
   "id": "f953d4b9-3265-496a-87ca-2931d2a72ed4",
   "metadata": {},
   "outputs": [],
   "source": [
    "p, axes = plt.subplots(1,2,figsize=(10,4))\n",
    "plot_acf(df['미세먼지'], ax=axes[0])\n",
    "plot_pacf(df['미세먼지'], ax=axes[1])\n",
    "plt.show()"
   ]
  },
  {
   "cell_type": "markdown",
   "id": "495cd7da-fba9-440d-a746-3c7e447bf480",
   "metadata": {},
   "source": [
    "# AR ,MA?"
   ]
  },
  {
   "cell_type": "markdown",
   "id": "5448fbc9-8903-416b-b2ac-b4898676b17e",
   "metadata": {},
   "source": [
    "## diff = 5"
   ]
  },
  {
   "cell_type": "code",
   "execution_count": null,
   "id": "b53ef2ee-1cf5-4d66-ba91-514495dfc935",
   "metadata": {},
   "outputs": [],
   "source": [
    "df['미세먼지_diff']=df['미세먼지'].diff(5)"
   ]
  },
  {
   "cell_type": "code",
   "execution_count": null,
   "id": "de8404f7-41be-4748-97f0-df7b24dc12b5",
   "metadata": {},
   "outputs": [],
   "source": [
    "plt.figure(figsize = (10,4))\n",
    "ax = sns.lineplot(x=df['측정일시'],y=df['미세먼지_diff'].dropna())\n",
    "plt.xticks(rotation = - 45 )\n",
    "# ax.set_xticklabels(ax.get_xticklabels(),rotation = 30)\n",
    "plt.show()"
   ]
  },
  {
   "cell_type": "code",
   "execution_count": null,
   "id": "67527464-3e56-4aab-a2b9-533fc6dc0538",
   "metadata": {},
   "outputs": [],
   "source": [
    "p, axes = plt.subplots(1,2,figsize=(10,4))\n",
    "plot_acf(df.loc[5:]['미세먼지_diff'], ax=axes[0])\n",
    "plot_pacf(df.loc[5:]['미세먼지_diff'], ax=axes[1])\n",
    "plt.show()"
   ]
  },
  {
   "cell_type": "code",
   "execution_count": null,
   "id": "6d8ce631-16bb-49c3-a7d3-5eaf379b8736",
   "metadata": {},
   "outputs": [],
   "source": [
    "from statsmodels.tsa.arima_model import ARIMA\n",
    "\n",
    "model = ARIMA(df['미세먼지'].iloc[:-1], order=(1,1,2))\n",
    "fit_res = model.fit(trend='nc')\n",
    "print(fit_res.summary())"
   ]
  },
  {
   "cell_type": "code",
   "execution_count": null,
   "id": "4ad73eec-d79d-46b2-9d00-337808be9238",
   "metadata": {},
   "outputs": [],
   "source": [
    "fit_res.plot_predict()"
   ]
  },
  {
   "cell_type": "code",
   "execution_count": null,
   "id": "0e28a2f5-c8a1-4593-a9fd-d6eb520dc03e",
   "metadata": {
    "tags": []
   },
   "outputs": [],
   "source": [
    "pred = fit_res.forecast(steps=3)[0]  # [-2.8579221]\n",
    "print(pred)\n",
    "미세먼지실제값=df['미세먼지'].iloc[-1]\n",
    "미세먼지예측=pred\n",
    "print(f\"미세먼지예측: {미세먼지예측} 실제값: {미세먼지실제값}\")"
   ]
  },
  {
   "cell_type": "code",
   "execution_count": 27,
   "id": "35c7c015-b6a1-4499-aac5-d4bac7b78f55",
   "metadata": {},
   "outputs": [
    {
     "name": "stdout",
     "output_type": "stream",
     "text": [
      "2020-04-01 01:00:00    24.000000\n",
      "2020-04-01 02:00:00    24.000000\n",
      "2020-04-01 03:00:00    26.405361\n",
      "2020-04-01 04:00:00    35.919666\n",
      "2020-04-01 05:00:00    47.967324\n",
      "Freq: H, dtype: float64\n",
      "측정일시\n",
      "2020-04-01 01:00:00    24\n",
      "2020-04-01 02:00:00    26\n",
      "2020-04-01 03:00:00    34\n",
      "2020-04-01 04:00:00    45\n",
      "2020-04-01 05:00:00    43\n",
      "Name: 중구, dtype: int64\n"
     ]
    }
   ],
   "source": [
    "# 강사님\n",
    "# train = pvdf['중구'].iloc[:-5] \n",
    "# test  = pvdf['중구'].iloc[-5:]\n",
    "\n",
    "model = ARIMA(pvdf, order=(1,1,2), freq='H')\n",
    "fit_res = model.fit(trend='nc')\n",
    "# pred = fit_res.forecast(steps=3)  # 4,145.1\n",
    "pred = fit_res.predict(start=1, end=30, typ='levels', dynamic=False)\n",
    "\n",
    "print(pred[:5])\n",
    "print(pvdf.dropna()[1:6])"
   ]
  },
  {
   "cell_type": "code",
   "execution_count": null,
   "id": "50fa0e94-2441-4ce4-bc4a-e80e6c140c49",
   "metadata": {},
   "outputs": [],
   "source": []
  },
  {
   "cell_type": "code",
   "execution_count": null,
   "id": "f50dddc9-68fe-4354-a9e6-0842e0bcb2cf",
   "metadata": {},
   "outputs": [],
   "source": []
  },
  {
   "cell_type": "code",
   "execution_count": null,
   "id": "b2d53a9a-cd54-407b-bbde-d36176aff238",
   "metadata": {},
   "outputs": [],
   "source": []
  }
 ],
 "metadata": {
  "kernelspec": {
   "display_name": "Python 3 (ipykernel)",
   "language": "python",
   "name": "python3"
  },
  "language_info": {
   "codemirror_mode": {
    "name": "ipython",
    "version": 3
   },
   "file_extension": ".py",
   "mimetype": "text/x-python",
   "name": "python",
   "nbconvert_exporter": "python",
   "pygments_lexer": "ipython3",
   "version": "3.8.8"
  }
 },
 "nbformat": 4,
 "nbformat_minor": 5
}
