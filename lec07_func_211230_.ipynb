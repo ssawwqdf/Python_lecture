{
 "cells": [
  {
   "cell_type": "markdown",
   "id": "81f20baa-2bcc-4b9e-a1a4-49d9b270926f",
   "metadata": {},
   "source": [
    "# CH 07. 함수\n",
    "\n",
    "왜 함수를 쓰는가?\n",
    "\n",
    "사람1 : 결제.py  \n",
    "사람2 : 화물영입.py  \n",
    "사람3 : 상품구매.py  \n",
    "\n",
    "-> 셋 다 실명인증기능이 필요하다고 가정.  \n",
    "만약 세 py에 따로따로 기능 들어있다면? 코드가 서로 다를 수도 있고 인증 방법 변경 시 셋 다 야근해야함.  \n",
    "만약 한 명이 실명인증 기능을 따로 만들어두고 그걸 가지고 쓸 수 있다면 편할 것.  \n",
    "\n",
    "공통 함수.    \n",
    "ex. 파이썬의 print함수도 그렇다고 볼 수 있다.  \n",
    "-> 대신 함수 만든 사람이 지정한 문법에 맞춰서 해야함.  \n",
    "\n",
    "파이썬에서는 function이라고 하는 대신 def라고 쓴다.  \n",
    "\n",
    "def {함수 이름} (  { 파라미터(매개변수, 인자, argument) }  ) :  \n",
    "    함수가 할 일  \n",
    "\n",
    "ex. 덧셈 함수를 만든다면  \n",
    "def add (n1, n2):  \n",
    "    res=n1+n2  \n",
    "    print(res)  \n",
    "\n",
    "\n",
    "-> 쓰는 사람은 add(1,3) 이런 식으로 쓴다. 이러면 위에서 만든 함수를 \"호출\"한다. 이러면 4가 프린트 됨. 근데 이러면 콘솔창에서만 나타나니 호출한 놈에 add(1,3)의 결과값을 주려고 한다고 하자. \n",
    "\n",
    "ex. 덧셈 함수를 만든다면  \n",
    "def add (n1, n2):  \n",
    "    res=n1+n2  \n",
    "    return res  \n",
    "이렇게 하면 add(1,3)이 4가 됨.  \n",
    "반드시 반환할 필요는 없다.  "
   ]
  },
  {
   "cell_type": "markdown",
   "id": "1953f2dd-bd09-4acc-a43b-9ae72031188c",
   "metadata": {},
   "source": [
    "*   # 함수에 대한 설명\n",
    "    def 함수이름 (파라미터(=매개변수,인자)) :\n",
    "        기능.....\n",
    "    \n",
    "* 함수이름, 파라미터, 리턴값을 알아야 남의 함수를 쓸수 있다.\n",
    "* 함수 이름 잘못 쓰면 파이썬 거랑 겹칠 수있다."
   ]
  },
  {
   "cell_type": "markdown",
   "id": "00ff4bc7-0335-42ee-b262-053c01818583",
   "metadata": {},
   "source": [
    "* 리턴이 없는 경우"
   ]
  },
  {
   "cell_type": "code",
   "execution_count": 4,
   "id": "ea88c52c-aeb4-410d-8b9e-ebcef400638c",
   "metadata": {},
   "outputs": [],
   "source": [
    "#만들자\n",
    "\n",
    "# add 함수는 두 개의 수를 입력받아 합을 출력한다.\n",
    "def adds(num1, num2):    #---- 선언부\n",
    "    res=num1 + num2      #---- 바디\n",
    "    print(res)\n"
   ]
  },
  {
   "cell_type": "code",
   "execution_count": 2,
   "id": "47371bb7-0949-424e-a3cb-edb7d1b38953",
   "metadata": {},
   "outputs": [
    {
     "name": "stdout",
     "output_type": "stream",
     "text": [
      "7\n"
     ]
    }
   ],
   "source": [
    "# 남의 함수를 호출하자.\n",
    "adds(3,4)\n",
    "# add(3,5)*6 이런 건 못 한다."
   ]
  },
  {
   "cell_type": "markdown",
   "id": "06b7a8ef-7dd2-4449-9f6a-d9bc33cb7192",
   "metadata": {},
   "source": [
    "* 리턴이 있는 경우"
   ]
  },
  {
   "cell_type": "code",
   "execution_count": 13,
   "id": "27912089-4225-46a9-8538-1598a9c78f6e",
   "metadata": {},
   "outputs": [],
   "source": [
    "# add 함수는 두 개의 수를 입력받아 합을 출력한다.\n",
    "def adds(num1, num2):    #---- 선언부\n",
    "    res=num1 + num2      #---- 바디\n",
    "    return res           #---- 리턴\n",
    "\n",
    "\n",
    "# 함수에 대한 설명 필요 -> 설명이 담긴 걸 DOC이라고 한다."
   ]
  },
  {
   "cell_type": "code",
   "execution_count": 15,
   "id": "3c2d1e57-ebb2-4098-bd22-238cc2ce49be",
   "metadata": {},
   "outputs": [
    {
     "name": "stdout",
     "output_type": "stream",
     "text": [
      "7\n",
      "70\n"
     ]
    }
   ],
   "source": [
    "print(adds(3,4))\n",
    "print(adds(5,2)*10) # 이것도 가능\n",
    "\n",
    "# 보통은 return값이 있으면 변수에 담는다."
   ]
  },
  {
   "cell_type": "markdown",
   "id": "ddcc302b-fc4d-426a-a897-f65394533c0a",
   "metadata": {
    "tags": []
   },
   "source": [
    "## 7.2 변수의 유효 범위\n",
    "지역 vs 전역\n",
    "-> 내 거 있음 내 거 쓴다. 내 거 없으면 밖에 거 쓴다.(like 화장실 휴지)"
   ]
  },
  {
   "cell_type": "markdown",
   "id": "2e467f69-23d6-4164-bc97-846d86138c13",
   "metadata": {},
   "source": [
    "**[7장: 122페이지]**"
   ]
  },
  {
   "cell_type": "code",
   "execution_count": 21,
   "id": "04dcbebf-d3e6-4c5b-88b1-c9db186bbd61",
   "metadata": {},
   "outputs": [],
   "source": [
    "a = 5 # 전역 변수\n",
    "\n",
    "def func1():\n",
    "    a = 1 # 지역 변수. func1()에서만 사용\n",
    "    print(\"[func1] 지역 변수 a =\", a)\n",
    "\n",
    "def func2():\n",
    "    a = 2 # 지역 변수. func2()에서만 사용\n",
    "    print(\"[func2] 지역 변수 a =\", a)  \n",
    "    \n",
    "def func3():\n",
    "    #?????없네??\n",
    "    print(\"[func3] 전역 변수 a =\", a)   \n",
    "    \n",
    "def func4():\n",
    "    global a  # 함수 내에서 전역 변수 변경 위해 선언\n",
    "              #다같이 쓰는 a 가져와\n",
    "    a = 4      # 전역 변수의 값 변경\n",
    "    print(\"[func4] 전역 변수 a =\",a)\n",
    "    \n"
   ]
  },
  {
   "cell_type": "markdown",
   "id": "451e95b0-3939-41c2-81cf-57fb598d65fe",
   "metadata": {},
   "source": [
    "**[7장: 122페이지]**"
   ]
  },
  {
   "cell_type": "code",
   "execution_count": 18,
   "id": "e4315d1f-0ff8-4070-9055-084c14311a6c",
   "metadata": {},
   "outputs": [
    {
     "name": "stdout",
     "output_type": "stream",
     "text": [
      "[func1] 지역 변수 a = 1\n",
      "[func2] 지역 변수 a = 2\n",
      "전역 변수 a = 5\n"
     ]
    }
   ],
   "source": [
    "func1() #함수 func1() 호출\n",
    "func2() #함수 func2() 호출\n",
    "print(\"전역 변수 a =\", a) # 전역 변수 출력 "
   ]
  },
  {
   "cell_type": "markdown",
   "id": "a38f58c6-8b97-4baa-88cf-b592d9318556",
   "metadata": {},
   "source": [
    "**[7장: 123페이지]**"
   ]
  },
  {
   "cell_type": "code",
   "execution_count": 22,
   "id": "662d4277-cb2d-4afa-be0c-7e279d8fa5bc",
   "metadata": {
    "tags": []
   },
   "outputs": [
    {
     "name": "stdout",
     "output_type": "stream",
     "text": [
      "[func3] 전역 변수 a = 5\n",
      "[func4] 전역 변수 a = 4\n",
      "[func3] 전역 변수 a = 4\n"
     ]
    }
   ],
   "source": [
    "func3() #함수 func3() 호출\n",
    "func4() #함수 func4() 호출\n",
    "func3() #함수 func3() 호출\n",
    "\n",
    "#이 셀을 다시 실행하면 a=4 a=4 a=4가 된다"
   ]
  },
  {
   "cell_type": "markdown",
   "id": "3340fcfe-8a9a-48b6-b203-4c9f03e4ccb3",
   "metadata": {},
   "source": [
    "## 7.4 유용한 내장 함수\n",
    "람다는 어려워서 내장함수부터."
   ]
  },
  {
   "cell_type": "markdown",
   "id": "3ebf25c6-b223-4fe0-be5e-c84d5c32edfb",
   "metadata": {},
   "source": [
    "### 형 변환 함수"
   ]
  },
  {
   "cell_type": "markdown",
   "id": "07567e7e-1056-40d0-980e-9833468e1ebf",
   "metadata": {},
   "source": [
    "#### 정수형으로 변환"
   ]
  },
  {
   "cell_type": "markdown",
   "id": "c2624bcd-3aa7-45e9-879a-5d41baed1e37",
   "metadata": {},
   "source": [
    "**[7장: 125페이지]**"
   ]
  },
  {
   "cell_type": "code",
   "execution_count": null,
   "id": "6893e335-a0f8-4b73-8f59-5ff835fe6882",
   "metadata": {},
   "outputs": [],
   "source": [
    "[int(0.123), int(3.5123456), int(-1.312367)]"
   ]
  },
  {
   "cell_type": "markdown",
   "id": "5ee480fd-4f24-4319-b0da-b24bb4c316a4",
   "metadata": {},
   "source": [
    "**[7장: 125페이지]**"
   ]
  },
  {
   "cell_type": "code",
   "execution_count": null,
   "id": "d789a43d-9fe8-41ff-8823-288a1273d4bf",
   "metadata": {},
   "outputs": [],
   "source": [
    "[int('1234'), int('5678'), int('-9012')]"
   ]
  },
  {
   "cell_type": "markdown",
   "id": "feb226b3-fd56-4544-8057-fd9a293e2a2d",
   "metadata": {},
   "source": [
    "#### 실수형으로 변환"
   ]
  },
  {
   "cell_type": "markdown",
   "id": "e6007ee1-0fec-4067-98a3-ed0bafd6eac6",
   "metadata": {},
   "source": [
    "**[7장: 125페이지]**"
   ]
  },
  {
   "cell_type": "code",
   "execution_count": null,
   "id": "b1c3fc43-f9e9-4877-87c8-e77936ac22d1",
   "metadata": {},
   "outputs": [],
   "source": [
    "[float(0), float(123), float(-567)]"
   ]
  },
  {
   "cell_type": "markdown",
   "id": "4de35535-a514-4f37-8620-d9dc1aa3a6cb",
   "metadata": {},
   "source": [
    "**[7장: 126페이지]**"
   ]
  },
  {
   "cell_type": "code",
   "execution_count": null,
   "id": "248336fc-7bdf-47f1-a1e3-6b5d75f5c099",
   "metadata": {},
   "outputs": [],
   "source": [
    "[float('10'), float('0.123'), float('-567.89')]"
   ]
  },
  {
   "cell_type": "markdown",
   "id": "fd0589b3-1eb5-401c-ac29-874e29ce52d3",
   "metadata": {},
   "source": [
    "#### 문자형으로 변환"
   ]
  },
  {
   "cell_type": "markdown",
   "id": "861e0a2f-8d56-44b8-884e-133f251aac83",
   "metadata": {},
   "source": [
    "**[7장: 126페이지]**"
   ]
  },
  {
   "cell_type": "code",
   "execution_count": null,
   "id": "9c3b68f5-1348-4431-99e1-319042bad16d",
   "metadata": {},
   "outputs": [],
   "source": [
    "[str(123), str(459678), str(-987)]"
   ]
  },
  {
   "cell_type": "markdown",
   "id": "ded9519d-59da-4c22-a6a1-cacd2af38d1b",
   "metadata": {},
   "source": [
    "**[7장: 126페이지]**"
   ]
  },
  {
   "cell_type": "code",
   "execution_count": null,
   "id": "53880736-d5e3-4176-88e5-4878639ec4cf",
   "metadata": {},
   "outputs": [],
   "source": [
    "[str(0.123), str(345.678), str(-5.987)]"
   ]
  },
  {
   "cell_type": "markdown",
   "id": "701b9508-6976-4825-8c95-ec25a4e22933",
   "metadata": {},
   "source": [
    "#### 리스트, 튜플, 세트형으로 변환"
   ]
  },
  {
   "cell_type": "markdown",
   "id": "9d90fd90-edbe-4e84-bf8b-6e9f87a43ea9",
   "metadata": {},
   "source": [
    "**[7장: 127페이지]**"
   ]
  },
  {
   "cell_type": "code",
   "execution_count": null,
   "id": "b189984d-b80c-4fe9-bed3-f417dccd5d28",
   "metadata": {},
   "outputs": [],
   "source": [
    "list_data = ['abc', 1, 2, 'def']\n",
    "tuple_data = ('abc', 1, 2, 'def')\n",
    "set_data = {'abc', 1, 2, 'def'}"
   ]
  },
  {
   "cell_type": "markdown",
   "id": "af9d3120-2b78-4126-a37f-e4767e5160f6",
   "metadata": {},
   "source": [
    "**[7장: 127페이지]**"
   ]
  },
  {
   "cell_type": "code",
   "execution_count": null,
   "id": "dd747568-223b-43ec-9414-3f288ac3227c",
   "metadata": {},
   "outputs": [],
   "source": [
    "[type(list_data), type(tuple_data), type(set_data)]"
   ]
  },
  {
   "cell_type": "markdown",
   "id": "97a9d92d-82c7-4483-b1e9-a86b3b47757a",
   "metadata": {},
   "source": [
    "**[7장: 127페이지]**"
   ]
  },
  {
   "cell_type": "code",
   "execution_count": null,
   "id": "47901f2c-e81a-4381-970f-850efafad6de",
   "metadata": {},
   "outputs": [],
   "source": [
    "print(\"리스트로 변환: \", list(tuple_data), list(set_data))"
   ]
  },
  {
   "cell_type": "markdown",
   "id": "744d1300-cb1c-4457-b0fb-f55f9f4617d1",
   "metadata": {},
   "source": [
    "**[7장: 127페이지]**"
   ]
  },
  {
   "cell_type": "code",
   "execution_count": null,
   "id": "b38519f2-b5f9-458d-a511-5ce5f8b0eda3",
   "metadata": {
    "scrolled": true
   },
   "outputs": [],
   "source": [
    "print(\"튜플로 변환:\", tuple(list_data), tuple(set_data))"
   ]
  },
  {
   "cell_type": "markdown",
   "id": "9751919c-1afe-4f1c-b029-a7500ce4d141",
   "metadata": {},
   "source": [
    "**[7장: 127페이지]**"
   ]
  },
  {
   "cell_type": "code",
   "execution_count": null,
   "id": "c8fd493a-a558-4bc2-b5e9-8bbf2499710a",
   "metadata": {},
   "outputs": [],
   "source": [
    "print(\"세트로 변환:\", set(list_data), set(tuple_data))"
   ]
  },
  {
   "cell_type": "markdown",
   "id": "b06c11e0-030c-476a-9423-2605a243da36",
   "metadata": {},
   "source": [
    "### bool 함수"
   ]
  },
  {
   "cell_type": "markdown",
   "id": "db83fa44-18de-42cb-b1f2-0f13d39e02e0",
   "metadata": {},
   "source": [
    "#### 숫자를 인자로 bool 함수 호출\n",
    "- 기본적으로는 0이 False, 1이 True.\n",
    "- 다른 숫자 쓰는 경우 0만 False 나머지 True"
   ]
  },
  {
   "cell_type": "markdown",
   "id": "2a0873e4-586e-4a8b-8997-37a2c1c563bd",
   "metadata": {},
   "source": [
    "**[7장: 128페이지]**"
   ]
  },
  {
   "cell_type": "code",
   "execution_count": 1,
   "id": "d4633ad2-87f9-4247-b503-663892aa00fe",
   "metadata": {},
   "outputs": [
    {
     "data": {
      "text/plain": [
       "False"
      ]
     },
     "execution_count": 1,
     "metadata": {},
     "output_type": "execute_result"
    }
   ],
   "source": [
    "bool(0) # 인자: 숫자 0"
   ]
  },
  {
   "cell_type": "markdown",
   "id": "7e4be0c6-f293-4fb9-bd23-39835c8ba970",
   "metadata": {},
   "source": [
    "**[7장: 128페이지]**"
   ]
  },
  {
   "cell_type": "code",
   "execution_count": 2,
   "id": "eafc0be3-05ae-4022-84bb-3453347f6e65",
   "metadata": {},
   "outputs": [
    {
     "data": {
      "text/plain": [
       "True"
      ]
     },
     "execution_count": 2,
     "metadata": {},
     "output_type": "execute_result"
    }
   ],
   "source": [
    "bool(1) # 인자: 양의 정수"
   ]
  },
  {
   "cell_type": "code",
   "execution_count": 3,
   "id": "47367c04-d9d8-4c9a-b742-3e87dd0d3c39",
   "metadata": {},
   "outputs": [
    {
     "data": {
      "text/plain": [
       "True"
      ]
     },
     "execution_count": 3,
     "metadata": {},
     "output_type": "execute_result"
    }
   ],
   "source": [
    "bool(-10) # 인자: 음의 정수"
   ]
  },
  {
   "cell_type": "code",
   "execution_count": 4,
   "id": "a944d504-a724-476c-9a62-ded6f98ade6e",
   "metadata": {},
   "outputs": [
    {
     "data": {
      "text/plain": [
       "True"
      ]
     },
     "execution_count": 4,
     "metadata": {},
     "output_type": "execute_result"
    }
   ],
   "source": [
    "bool(5.12) # 인자: 양의 실수"
   ]
  },
  {
   "cell_type": "code",
   "execution_count": 5,
   "id": "4475bbad-4bf0-4802-95d8-664a9dbd613c",
   "metadata": {},
   "outputs": [
    {
     "data": {
      "text/plain": [
       "True"
      ]
     },
     "execution_count": 5,
     "metadata": {},
     "output_type": "execute_result"
    }
   ],
   "source": [
    "bool(-3.26) # 인자: 음의 실수"
   ]
  },
  {
   "cell_type": "markdown",
   "id": "52777ed4-e8ed-4c77-8709-e7619eb894ab",
   "metadata": {},
   "source": [
    "#### 문자열을 인자로 bool 함수 호출\n",
    "아무것도 없으면 False"
   ]
  },
  {
   "cell_type": "markdown",
   "id": "4e701763-7e86-4a8e-b8fe-aff303b480a5",
   "metadata": {},
   "source": [
    "**[7장: 128 ~ 129페이지]**"
   ]
  },
  {
   "cell_type": "code",
   "execution_count": null,
   "id": "883cb5f4-aa4b-4da6-978a-ff1e35ff57fa",
   "metadata": {},
   "outputs": [],
   "source": [
    "bool('a') # 인자: 문자열 'a'"
   ]
  },
  {
   "cell_type": "code",
   "execution_count": null,
   "id": "76955327-7287-42ed-8967-c95934d66e74",
   "metadata": {},
   "outputs": [],
   "source": [
    "bool(' ') # 인자: 빈 문자열(공백)"
   ]
  },
  {
   "cell_type": "code",
   "execution_count": null,
   "id": "45e6327b-0d2f-48f9-944a-bbb77e04040a",
   "metadata": {},
   "outputs": [],
   "source": [
    "bool('') # 인자: 문자열 없음"
   ]
  },
  {
   "cell_type": "code",
   "execution_count": null,
   "id": "2c545b96-ec79-4ee9-8ca9-db048079442b",
   "metadata": {},
   "outputs": [],
   "source": [
    "bool(None) #인자: None"
   ]
  },
  {
   "cell_type": "markdown",
   "id": "48d51125-45c7-4be4-83fb-74459351195e",
   "metadata": {},
   "source": [
    "#### 리스트, 튜플, 세트를 인자로 bool 함수 호출"
   ]
  },
  {
   "cell_type": "markdown",
   "id": "b8c3ab42-07a2-4eb7-85ca-93e8d6ef103b",
   "metadata": {},
   "source": [
    "**[7장: 129페이지]**"
   ]
  },
  {
   "cell_type": "code",
   "execution_count": null,
   "id": "22b01b84-2349-4cc2-9366-eb5df092515d",
   "metadata": {},
   "outputs": [],
   "source": [
    "myFriends = []\n",
    "bool(myFriends) # 인자: 항목이 없는 빈 리스트 "
   ]
  },
  {
   "cell_type": "markdown",
   "id": "eab52594-e0bc-420a-9770-11cd033a648d",
   "metadata": {},
   "source": [
    "**[7장: 129페이지]**"
   ]
  },
  {
   "cell_type": "code",
   "execution_count": null,
   "id": "e32239ab-3e9a-416e-8a18-a318ccf65dcf",
   "metadata": {},
   "outputs": [],
   "source": [
    "myFriends = ['James', 'Robert', 'Lisa', 'Mary']\n",
    "bool(myFriends) # 인자: 항목이 있는 리스트 "
   ]
  },
  {
   "cell_type": "markdown",
   "id": "5671cc75-71dd-43d9-8d99-00207bd92142",
   "metadata": {},
   "source": [
    "**[7장: 129 ~ 130페이지]**"
   ]
  },
  {
   "cell_type": "code",
   "execution_count": null,
   "id": "098ebcc4-7dc5-4e89-9b64-48df10da6799",
   "metadata": {},
   "outputs": [],
   "source": [
    "myNum = ()\n",
    "bool(myNum) # 인자: 항목이 없는 빈 튜플 "
   ]
  },
  {
   "cell_type": "code",
   "execution_count": null,
   "id": "11d51bd6-c681-4167-bb0b-12c8034f6b93",
   "metadata": {},
   "outputs": [],
   "source": [
    "myNum = (1,2,3)\n",
    "bool(myNum) # 인자: 항목이 있는 튜플 "
   ]
  },
  {
   "cell_type": "markdown",
   "id": "d59fbfd9-fee2-4ae2-8e87-20351e729301",
   "metadata": {},
   "source": [
    "**[7장: 130페이지]**"
   ]
  },
  {
   "cell_type": "code",
   "execution_count": null,
   "id": "3d741469-8036-4b02-bc8d-a487963dc664",
   "metadata": {},
   "outputs": [],
   "source": [
    "mySetA = {}\n",
    "bool(mySetA) # 인자: 항목이 없는 빈 세트 "
   ]
  },
  {
   "cell_type": "code",
   "execution_count": null,
   "id": "274ce4e2-f559-4193-a6a4-6c7361fe72cf",
   "metadata": {},
   "outputs": [],
   "source": [
    "mySetA = {10,20,30}\n",
    "bool(mySetA) # 인자: 항목이 있는 세트 "
   ]
  },
  {
   "cell_type": "markdown",
   "id": "1356e948-cdb2-4796-9ad1-8a6de62009f2",
   "metadata": {},
   "source": [
    "#### bool 함수의 활용"
   ]
  },
  {
   "cell_type": "markdown",
   "id": "f06d90fe-6ca4-4138-b2b6-842970bc64b6",
   "metadata": {},
   "source": [
    "**[7장: 130페이지]**"
   ]
  },
  {
   "cell_type": "code",
   "execution_count": null,
   "id": "5b5d3f9a-15ea-44a3-8cbf-eaba9f514f6a",
   "metadata": {},
   "outputs": [],
   "source": [
    "def print_name(name):\n",
    "    if bool(name):                      #뭐라도 있으면 True\n",
    "        print(\"입력된 이름:\", name)\n",
    "    else:\n",
    "        print(\"입력된 이름이 없습니다.\")    "
   ]
  },
  {
   "cell_type": "markdown",
   "id": "74cc406a-6b7b-4988-b81e-a75ea9a471e5",
   "metadata": {},
   "source": [
    "**[7장: 130페이지]**"
   ]
  },
  {
   "cell_type": "code",
   "execution_count": null,
   "id": "2e9adbdb-8b33-4ab5-8b83-b355ab40adc2",
   "metadata": {},
   "outputs": [],
   "source": [
    "print_name(\"James\")"
   ]
  },
  {
   "cell_type": "code",
   "execution_count": null,
   "id": "f5c63006-5ea2-4b46-9395-eaa0ce535f16",
   "metadata": {
    "tags": []
   },
   "outputs": [],
   "source": [
    "print_name(\"\")"
   ]
  },
  {
   "cell_type": "markdown",
   "id": "7e1ec45d-962d-449f-a510-c48680cd1db6",
   "metadata": {
    "tags": []
   },
   "source": [
    "### 최솟값과 최댓값을 구하는 함수"
   ]
  },
  {
   "cell_type": "markdown",
   "id": "34882898-97ee-4e20-bdf1-18b39fbaa762",
   "metadata": {},
   "source": [
    "**[7장: 131페이지]**"
   ]
  },
  {
   "cell_type": "code",
   "execution_count": null,
   "id": "3c6db7e8-ca66-45c5-a987-7191c88a9204",
   "metadata": {},
   "outputs": [],
   "source": [
    "myNum = [10, 5, 12, 0, 3.5, 99.5, 42]\n",
    "[min(myNum), max(myNum)]     #doc 보면 iterable을 넣어달라고 함. 반복할 수 있는 것.(리스트 튜플 등)"
   ]
  },
  {
   "cell_type": "markdown",
   "id": "9673af3e-f4a8-4ba5-8d2c-7b638b6c6562",
   "metadata": {},
   "source": [
    "**[7장: 131페이지]**"
   ]
  },
  {
   "cell_type": "code",
   "execution_count": null,
   "id": "155e150b-d262-4583-b877-f4e11a4f47ef",
   "metadata": {},
   "outputs": [],
   "source": [
    "#string도 min max가 가능하다.\n",
    "myStr = 'zxyabc'\n",
    "[min(myStr), max(myStr)]"
   ]
  },
  {
   "cell_type": "markdown",
   "id": "c873ea37-a271-4cec-8a2e-4192f98e8f58",
   "metadata": {},
   "source": [
    "**[7장: 131페이지]**"
   ]
  },
  {
   "cell_type": "code",
   "execution_count": null,
   "id": "8146058b-c3dd-4ac2-95f7-c8830403f4b5",
   "metadata": {},
   "outputs": [],
   "source": [
    "myNum = (10, 5, 12, 0, 3.5, 99.5, 42)\n",
    "[min(myNum), max(myNum)]"
   ]
  },
  {
   "cell_type": "code",
   "execution_count": 23,
   "id": "4fb8e0a0-68d8-427f-bea1-ed14784d0f5f",
   "metadata": {},
   "outputs": [
    {
     "data": {
      "text/plain": [
       "['Abc', 'efg']"
      ]
     },
     "execution_count": 23,
     "metadata": {},
     "output_type": "execute_result"
    }
   ],
   "source": [
    "myNum = {\"Abc\", \"abc\", \"bcd\", \"efg\", \"EABD\"}\n",
    "[min(myNum), max(myNum)]\n",
    "\n",
    "# 소문자 대문자 섞으면 대문자가 더 작은 걸로 나온다."
   ]
  },
  {
   "cell_type": "markdown",
   "id": "2d264714-f222-4114-8d0c-2ffabaee336c",
   "metadata": {},
   "source": [
    "### 절댓값과 전체 합을 구하는 함수"
   ]
  },
  {
   "cell_type": "markdown",
   "id": "41b8bdf6-5579-4676-9d75-5ae35b4f4ab1",
   "metadata": {},
   "source": [
    "**[7장: 132페이지]**"
   ]
  },
  {
   "cell_type": "code",
   "execution_count": null,
   "id": "98333125-fb63-436f-8904-a840ed04e68c",
   "metadata": {},
   "outputs": [],
   "source": [
    "[abs(10), abs(-10)]"
   ]
  },
  {
   "cell_type": "code",
   "execution_count": null,
   "id": "c4c87def-2f38-48a6-bfc1-dcbd2587d05b",
   "metadata": {},
   "outputs": [],
   "source": [
    "[abs(2.45), abs(-2.45)]"
   ]
  },
  {
   "cell_type": "markdown",
   "id": "10b5dccb-3d77-41aa-a5c6-87efc7bc5756",
   "metadata": {},
   "source": [
    "**[7장: 132페이지]**"
   ]
  },
  {
   "cell_type": "code",
   "execution_count": null,
   "id": "0cf65ff8-4eaf-4685-96c6-8ddfb0d190cb",
   "metadata": {},
   "outputs": [],
   "source": [
    "sumList = [1, 2, 3, 4, 5, 6, 7, 8, 9, 10]\n",
    "sum(sumList)"
   ]
  },
  {
   "cell_type": "markdown",
   "id": "5e8516a3-1e97-4de2-83ac-e67b6038e7ac",
   "metadata": {},
   "source": [
    "### 항목의 개수를 구하는 함수"
   ]
  },
  {
   "cell_type": "markdown",
   "id": "d202f598-70dd-48bb-96bc-d17e98d0e820",
   "metadata": {},
   "source": [
    "**[7장: 132 ~ 133페이지]**"
   ]
  },
  {
   "cell_type": "code",
   "execution_count": 24,
   "id": "9eb0895d-b0c9-4549-aaa6-d392f9841f32",
   "metadata": {},
   "outputs": [
    {
     "data": {
      "text/plain": [
       "5"
      ]
     },
     "execution_count": 24,
     "metadata": {},
     "output_type": "execute_result"
    }
   ],
   "source": [
    "len(\"ab cd\") # 문자열 공백도 글자다."
   ]
  },
  {
   "cell_type": "code",
   "execution_count": 25,
   "id": "02e86780-d12e-406e-9612-c7c6608eb922",
   "metadata": {},
   "outputs": [
    {
     "data": {
      "text/plain": [
       "8"
      ]
     },
     "execution_count": 25,
     "metadata": {},
     "output_type": "execute_result"
    }
   ],
   "source": [
    "len([1, 2, 3, 4, 5, 6, 7, 8]) # 리스트"
   ]
  },
  {
   "cell_type": "code",
   "execution_count": 26,
   "id": "5219fd6d-acf5-4c44-837b-9fcb2c79d754",
   "metadata": {},
   "outputs": [
    {
     "data": {
      "text/plain": [
       "5"
      ]
     },
     "execution_count": 26,
     "metadata": {},
     "output_type": "execute_result"
    }
   ],
   "source": [
    "len((1, 2, 3, 4, 5)) # 튜플"
   ]
  },
  {
   "cell_type": "code",
   "execution_count": 27,
   "id": "dbfaf352-424c-49ad-a21b-9a5d81fd993e",
   "metadata": {},
   "outputs": [
    {
     "data": {
      "text/plain": [
       "4"
      ]
     },
     "execution_count": 27,
     "metadata": {},
     "output_type": "execute_result"
    }
   ],
   "source": [
    "len({'a', 'b', 'c', 'd'}) # 세트"
   ]
  },
  {
   "cell_type": "code",
   "execution_count": 28,
   "id": "1aa3c077-112a-46b0-8a57-fb18258ecc55",
   "metadata": {},
   "outputs": [
    {
     "data": {
      "text/plain": [
       "3"
      ]
     },
     "execution_count": 28,
     "metadata": {},
     "output_type": "execute_result"
    }
   ],
   "source": [
    "len({1:\"Thomas\", 2:\"Edward\", 3:\"Henry\"}) # 딕셔너리"
   ]
  },
  {
   "cell_type": "markdown",
   "id": "446d2125-2c05-4699-944d-b64f1e2158a1",
   "metadata": {},
   "source": [
    "### 내장 함수의 활용"
   ]
  },
  {
   "cell_type": "markdown",
   "id": "0beabc64-9832-4e64-bdbe-ff2d131cb37b",
   "metadata": {},
   "source": [
    "**[7장: 133페이지]**"
   ]
  },
  {
   "cell_type": "code",
   "execution_count": null,
   "id": "5c22fa07-446c-4b93-9e62-2de71f965a7a",
   "metadata": {},
   "outputs": [],
   "source": [
    "# 이렇게 하면 너무 길다.\n",
    "scores = [90, 80, 95, 85] # 과목별 시험 점수\n",
    "\n",
    "score_sum = 0                     # 총점 계산을 위한 초깃값 설정\n",
    "subject_num = 0                   # 과목수 계산을 위한 초깃값 설정\n",
    "for score in scores:\n",
    "    score_sum = score_sum + score # 과목별 점수 모두 더하기\n",
    "    subject_num = subject_num + 1 # 과목수 계산\n",
    "    \n",
    "average = score_sum / subject_num # 평균(총점 / 과목수) 구하기\n",
    "\n",
    "print(\"총점:{0}, 평균:{1}\".format(score_sum,average))"
   ]
  },
  {
   "cell_type": "markdown",
   "id": "aff725ea-a829-46d6-820d-47036638825c",
   "metadata": {},
   "source": [
    "**[7장: 134페이지]**"
   ]
  },
  {
   "cell_type": "code",
   "execution_count": 4,
   "id": "7b662d6c-deb9-4b71-92b4-789d5666be09",
   "metadata": {},
   "outputs": [
    {
     "name": "stdout",
     "output_type": "stream",
     "text": [
      "총점:350, 평균:87.5\n",
      "총점: 350 평균: 87.5\n"
     ]
    }
   ],
   "source": [
    "# 이렇게 하면 간단하게 가능.\n",
    "# 내장함수 기능 많이 알 수록 코드가 간결하다.\n",
    "\n",
    "scores = [90, 80, 95, 85] # 과목별 시험 점수\n",
    "\n",
    "print(\"총점:{0}, 평균:{1}\".format(sum(scores), sum(scores)/len(scores)))\n",
    "\n",
    "print(f\"총점: {sum(scores)} 평균: {sum(scores)/len(scores)}\")"
   ]
  },
  {
   "cell_type": "markdown",
   "id": "f99b6cb3-7183-4803-8a27-25b1c88b761d",
   "metadata": {},
   "source": [
    "**[7장: 134페이지]**"
   ]
  },
  {
   "cell_type": "code",
   "execution_count": null,
   "id": "ff44892c-cece-41e6-828b-a2b054969b16",
   "metadata": {},
   "outputs": [],
   "source": [
    "print(\"최하 점수:{0}, 최고 점수:{1}\".format(min(scores), max(scores)))"
   ]
  },
  {
   "cell_type": "code",
   "execution_count": null,
   "id": "c19f221b-83a9-433e-81a9-005e6b108e75",
   "metadata": {},
   "outputs": [],
   "source": [
    "# 파이썬은 버전마다 계속 달라진다."
   ]
  },
  {
   "cell_type": "markdown",
   "id": "c3042074-4727-4aad-9754-c6d7d53785c3",
   "metadata": {},
   "source": [
    "### 미션\n",
    "* 함수 5 개로 전화번호부 만들기\n",
    "* 입력 my_insert, 파라미터 이름, 전화번호 -> 입력 받아 리스트에 저장한 후 저장되었습니다. 출력\n",
    "* 조회 my_select , 파라미터 없음. 리스트에 저장된 모든 목록 출력\n",
    "* 검색 my_search , 파라미터 이름 -> 전화번호 출력\n",
    "* 삭제 my_delete, 파라미터 이름 -> 리스트에 저장된 해당 사람 정보 삭제\n",
    "* 수정 my_update , 파라미터 이름, 전화번호 -> 리스트에 저장된 이름, 전화번호 수정\n",
    "\n",
    "힌트 리스트 전역변수여야 한다.~~"
   ]
  },
  {
   "cell_type": "code",
   "execution_count": 63,
   "id": "df01c049-520a-4f47-9e25-8d9cb1882b67",
   "metadata": {},
   "outputs": [
    {
     "name": "stdout",
     "output_type": "stream",
     "text": [
      "[['혜린', '010-0000-0000'], ['말숙', '010-1234-5678']]\n"
     ]
    },
    {
     "ename": "TypeError",
     "evalue": "list indices must be integers or slices, not list",
     "output_type": "error",
     "traceback": [
      "\u001b[1;31m---------------------------------------------------------------------------\u001b[0m",
      "\u001b[1;31mTypeError\u001b[0m                                 Traceback (most recent call last)",
      "\u001b[1;32m~\\AppData\\Local\\Temp/ipykernel_13872/583228380.py\u001b[0m in \u001b[0;36m<module>\u001b[1;34m\u001b[0m\n\u001b[0;32m     20\u001b[0m             \u001b[0mprint\u001b[0m\u001b[1;33m(\u001b[0m\u001b[0mdirec\u001b[0m\u001b[1;33m[\u001b[0m\u001b[0mi\u001b[0m\u001b[1;33m]\u001b[0m\u001b[1;33m[\u001b[0m\u001b[1;36m1\u001b[0m\u001b[1;33m]\u001b[0m\u001b[1;33m)\u001b[0m\u001b[1;33m\u001b[0m\u001b[1;33m\u001b[0m\u001b[0m\n\u001b[0;32m     21\u001b[0m \u001b[1;33m\u001b[0m\u001b[0m\n\u001b[1;32m---> 22\u001b[1;33m \u001b[0mmy_search\u001b[0m\u001b[1;33m(\u001b[0m\u001b[1;34m'혜린'\u001b[0m\u001b[1;33m)\u001b[0m\u001b[1;33m\u001b[0m\u001b[1;33m\u001b[0m\u001b[0m\n\u001b[0m",
      "\u001b[1;32m~\\AppData\\Local\\Temp/ipykernel_13872/583228380.py\u001b[0m in \u001b[0;36mmy_search\u001b[1;34m(name)\u001b[0m\n\u001b[0;32m     17\u001b[0m \u001b[1;32mdef\u001b[0m \u001b[0mmy_search\u001b[0m\u001b[1;33m(\u001b[0m\u001b[0mname\u001b[0m\u001b[1;33m)\u001b[0m \u001b[1;33m:\u001b[0m\u001b[1;33m\u001b[0m\u001b[1;33m\u001b[0m\u001b[0m\n\u001b[0;32m     18\u001b[0m     \u001b[1;32mfor\u001b[0m \u001b[0mi\u001b[0m \u001b[1;32min\u001b[0m \u001b[0mdirec\u001b[0m\u001b[1;33m:\u001b[0m\u001b[1;33m\u001b[0m\u001b[1;33m\u001b[0m\u001b[0m\n\u001b[1;32m---> 19\u001b[1;33m         \u001b[1;32mif\u001b[0m \u001b[0mname\u001b[0m\u001b[1;33m==\u001b[0m\u001b[0mdirec\u001b[0m\u001b[1;33m[\u001b[0m\u001b[0mi\u001b[0m\u001b[1;33m]\u001b[0m\u001b[1;33m[\u001b[0m\u001b[1;36m0\u001b[0m\u001b[1;33m]\u001b[0m\u001b[1;33m:\u001b[0m\u001b[1;33m\u001b[0m\u001b[1;33m\u001b[0m\u001b[0m\n\u001b[0m\u001b[0;32m     20\u001b[0m             \u001b[0mprint\u001b[0m\u001b[1;33m(\u001b[0m\u001b[0mdirec\u001b[0m\u001b[1;33m[\u001b[0m\u001b[0mi\u001b[0m\u001b[1;33m]\u001b[0m\u001b[1;33m[\u001b[0m\u001b[1;36m1\u001b[0m\u001b[1;33m]\u001b[0m\u001b[1;33m)\u001b[0m\u001b[1;33m\u001b[0m\u001b[1;33m\u001b[0m\u001b[0m\n\u001b[0;32m     21\u001b[0m \u001b[1;33m\u001b[0m\u001b[0m\n",
      "\u001b[1;31mTypeError\u001b[0m: list indices must be integers or slices, not list"
     ]
    }
   ],
   "source": [
    "\n",
    "direc=[]\n",
    "def my_insert(name, tel):\n",
    "    global direc\n",
    "    direc_i=[]\n",
    "    direc_i.append(name)\n",
    "    direc_i.append(tel)\n",
    "    direc.append(direc_i)\n",
    "\n",
    "my_insert('혜린', '010-0000-0000')\n",
    "my_insert('말숙', '010-1234-5678')\n",
    "\n",
    "def my_select():\n",
    "    print(direc)\n",
    "\n",
    "my_select()\n",
    "\n",
    "def my_search(name) :\n",
    "    for i in direc:\n",
    "        if name==direc[i][0]:\n",
    "            print(direc[i][1])\n",
    "\n",
    "my_search('혜린')\n"
   ]
  },
  {
   "cell_type": "code",
   "execution_count": 76,
   "id": "b8614b16-5883-4f79-8242-c0ef7be15e9a",
   "metadata": {},
   "outputs": [
    {
     "name": "stdout",
     "output_type": "stream",
     "text": [
      "저장되었습니다\n",
      "저장되었습니다\n",
      "저장되었습니다\n",
      "저장되었습니다\n",
      "저장되었습니다\n",
      "저장되었습니다\n",
      "저장되었습니다\n",
      "저장되었습니다\n",
      "저장되었습니다\n",
      "저장되었습니다\n",
      "저장되었습니다\n",
      "저장되었습니다\n",
      "저장되었습니다\n",
      "저장되었습니다\n",
      "[{'name': '혜린', 'tel': '010-0000-0000'}, {'name': '말숙', 'tel': '010-1234-5678'}, {'name': '말자', 'tel': '010-1111-5678'}, {'name': '웃자', 'tel': '010-2222-5678'}, {'name': '피자', 'tel': '010-3333-5678'}, {'name': '먹자', 'tel': '010-4444-5678'}, {'name': '숙자', 'tel': '010-5555-5678'}, {'name': '순자', 'tel': '010-6666-5678'}, {'name': '영자', 'tel': '010-7777-5678'}, {'name': '구기자', 'tel': '010-8888-5678'}, {'name': '돌쇠', 'tel': '010-9999-5678'}, {'name': '돌석', 'tel': '010-1234-1111'}, {'name': '향단', 'tel': '010-1234-2222'}, {'name': '몽룡', 'tel': '010-1234-3333'}]\n",
      "010-1234-2222\n"
     ]
    }
   ],
   "source": [
    "\n",
    "direc=[]\n",
    "def my_insert(name, tel):\n",
    "    global direc\n",
    "    direc_i={\"name\":name, \"tel\": tel}\n",
    "    # direc_i.append(name)\n",
    "    # direc_i.append(tel)\n",
    "    direc.append(direc_i)\n",
    "    print(\"저장되었습니다\")\n",
    "\n",
    "my_insert('혜린', '010-0000-0000')\n",
    "my_insert('말숙', '010-1234-5678')\n",
    "my_insert('말자', '010-1111-5678')\n",
    "my_insert('웃자', '010-2222-5678')\n",
    "my_insert('피자', '010-3333-5678')\n",
    "my_insert('먹자', '010-4444-5678')\n",
    "my_insert('숙자', '010-5555-5678')\n",
    "my_insert('순자', '010-6666-5678')\n",
    "my_insert('영자', '010-7777-5678')\n",
    "my_insert('구기자', '010-8888-5678')\n",
    "my_insert('돌쇠', '010-9999-5678')\n",
    "my_insert('돌석', '010-1234-1111')\n",
    "my_insert('향단', '010-1234-2222')\n",
    "my_insert('몽룡', '010-1234-3333')\n",
    "\n",
    "    \n",
    "def my_select():\n",
    "    print(direc)\n",
    "\n",
    "my_select()\n",
    "\n",
    "\n",
    "def my_search(name) :\n",
    "    for i in range(0,len(direc)):\n",
    "        if direc[i][\"name\"]==name:\n",
    "            print (direc[i][\"tel\"])\n",
    "\n",
    "my_search('향단')\n",
    "\n",
    "def my_delete(name) :"
   ]
  },
  {
   "cell_type": "code",
   "execution_count": null,
   "id": "2cb18d27-6f25-46e4-9ecc-670e29e4a587",
   "metadata": {},
   "outputs": [],
   "source": [
    "\n",
    "\n"
   ]
  },
  {
   "cell_type": "code",
   "execution_count": 7,
   "id": "5c1fbdb7-a671-4761-9a0e-cecad3134216",
   "metadata": {},
   "outputs": [],
   "source": [
    "## 강사님 풀이\n",
    "\n",
    "info_list=[]\n",
    "\n",
    "def my_insert(name, tel) :\n",
    "    global info_list\n",
    "    dd = {\"name\":name,\"tel\":tel}\n",
    "    info_list.append(dd)\n",
    "    print(\"저장되었습니다\")\n",
    "    \n",
    "## 복붙하기\n",
    "def my_select() :\n",
    "    print(f\"이름 \\t 전화번호\")\n",
    "    for one_dict in info_list:\n",
    "         print(f\"{one_dict['name']}\\t {one_dict['tel']}\")\n",
    "    \n",
    "def my_search(name) :\n",
    "    for one_dict in info_list: #리스트만큼 돌면서 리스트 안에 있는 dict 꺼낸다\n",
    "        if one_dict[\"name\"]==name : #그 꺼내진 딕트에서 판단.\n",
    "            print(one_dict[\"tel\"])\n",
    "    \n",
    "    \n",
    "def my_delete(name) : \n",
    "    for rcont, one_dict in enumerate(info_list): #몇 번짼지 판단\n",
    "        if one_dict[\"name\"]==name : \n",
    "            del info_list[rcnt]\n",
    "    \n",
    "def my_update(name, tel) :\n",
    "    for one_dict in info_list: #리스트만큼 돌면서 리스트 안에 있는 dict 꺼낸다\n",
    "        if one_dict[\"name\"]==name : #그 꺼내진 딕트에서 판단.\n",
    "            one_dict[\"tel\"]==tel"
   ]
  },
  {
   "cell_type": "code",
   "execution_count": 8,
   "id": "0e735dfb-acca-418f-82e0-bdcb1200a82d",
   "metadata": {},
   "outputs": [
    {
     "name": "stdout",
     "output_type": "stream",
     "text": [
      "저장되었습니다\n",
      "저장되었습니다\n",
      "저장되었습니다\n",
      "저장되었습니다\n",
      "저장되었습니다\n",
      "저장되었습니다\n",
      "저장되었습니다\n",
      "저장되었습니다\n",
      "저장되었습니다\n",
      "저장되었습니다\n",
      "저장되었습니다\n",
      "저장되었습니다\n",
      "저장되었습니다\n",
      "저장되었습니다\n"
     ]
    }
   ],
   "source": [
    "## 호출\n",
    "\n",
    "my_insert('혜린', '010-0000-0000')\n",
    "my_insert('말숙', '010-1234-5678')\n",
    "my_insert('말자', '010-1111-5678')\n",
    "my_insert('웃자', '010-2222-5678')\n",
    "my_insert('피자', '010-3333-5678')\n",
    "my_insert('먹자', '010-4444-5678')\n",
    "my_insert('숙자', '010-5555-5678')\n",
    "my_insert('순자', '010-6666-5678')\n",
    "my_insert('영자', '010-7777-5678')\n",
    "my_insert('구기자', '010-8888-5678')\n",
    "my_insert('돌쇠', '010-9999-5678')\n",
    "my_insert('돌석', '010-1234-1111')\n",
    "my_insert('향단', '010-1234-2222')\n",
    "my_insert('몽룡', '010-1234-3333')\n",
    "\n"
   ]
  },
  {
   "cell_type": "code",
   "execution_count": 3,
   "id": "025c7875-000d-47da-8252-4fdc6c888578",
   "metadata": {},
   "outputs": [],
   "source": [
    "##ㄱㅁㅅ 코드\n",
    "\n",
    "my_addr = []\n",
    "\n",
    "def my_insert(name, tel):\n",
    "    my_addr.append({'name': name, 'tel' : tel})\n",
    "    print('저장성공!')\n",
    "\n",
    "def my_select():\n",
    "    print('-------------select -----------')\n",
    "    for i in my_addr:         #i에 dict 넣음.\n",
    "        print(i['name'], i['tel'])\n",
    "    print('-----------select end--------------')\n",
    "\n",
    "def my_search(name):\n",
    "    res = {}\n",
    "    print('-------------Search -----------')\n",
    "    for i in my_addr:\n",
    "        if i['name'] == name:\n",
    "            print(i['tel'])\n",
    "            res = i\n",
    "    print('-----------search end--------------')\n",
    "    return res   #이 dict에 전화번호부가 담겨올 것\n",
    "\n",
    "def my_delete(name):\n",
    "    print('----------delete---------')\n",
    "    del_user = my_search(name)     #찾아서 담음\n",
    "    my_addr.remove(del_user)\n",
    "    print('-----------delete end-------')\n",
    "\n",
    "def my_update(name, tel):\n",
    "    print('-----update------------')\n",
    "    for i in my_addr:\n",
    "        if i[\"name\"] == name:\n",
    "            i[\"tel\"] = tel \n",
    "    print('-----update end-----------')\n",
    "    \n",
    "\n"
   ]
  },
  {
   "cell_type": "code",
   "execution_count": 5,
   "id": "72a3baa1-167a-44e7-9063-e80f1b1e3633",
   "metadata": {},
   "outputs": [
    {
     "name": "stdout",
     "output_type": "stream",
     "text": [
      "저장성공!\n",
      "저장성공!\n",
      "저장성공!\n",
      "-------------select -----------\n",
      "aaa 111\n",
      "bbb 222\n",
      "ccc 333\n",
      "aaa 111\n",
      "bbb 222\n",
      "ccc 333\n",
      "-----------select end--------------\n"
     ]
    }
   ],
   "source": [
    "#----------------------- 호출 ---------------------------\n",
    "my_insert(\"aaa\", \"111\")\n",
    "my_insert(\"bbb\", \"222\")\n",
    "my_insert(\"ccc\", \"333\")\n",
    "my_select()"
   ]
  },
  {
   "cell_type": "code",
   "execution_count": 88,
   "id": "4a6b1753-17ba-4fba-b500-9e140b0d3029",
   "metadata": {},
   "outputs": [
    {
     "name": "stdout",
     "output_type": "stream",
     "text": [
      "111\n",
      "333\n"
     ]
    }
   ],
   "source": [
    "#----------------------- 호출 ---------------------------\n",
    "my_search('aaa')\n",
    "my_search('ccc')"
   ]
  },
  {
   "cell_type": "code",
   "execution_count": 89,
   "id": "4861cbe8-dc6d-4262-a88e-9ed5a6f5539f",
   "metadata": {},
   "outputs": [
    {
     "name": "stdout",
     "output_type": "stream",
     "text": [
      "[{'name': 'aaa', 'tel': '111'}, {'name': 'bbb', 'tel': '222'}]\n",
      "이름 \t  전화번호\n",
      "aaa\t 111\n",
      "bbb\t 222\n"
     ]
    }
   ],
   "source": [
    "#----------------------- 호출 ---------------------------\n",
    "my_delete('ccc')\n",
    "print(info_list)\n",
    "my_select()"
   ]
  },
  {
   "cell_type": "code",
   "execution_count": 91,
   "id": "12c26c24-4d56-47d9-ad09-dbdd797a8d47",
   "metadata": {},
   "outputs": [
    {
     "name": "stdout",
     "output_type": "stream",
     "text": [
      "이름 \t  전화번호\n",
      "aaa\t 111\n",
      "bbb\t 888\n"
     ]
    }
   ],
   "source": [
    "#----------------------- 호출 ---------------------------\n",
    "my_update('bbb', '888')\n",
    "#print(info_list)\n",
    "my_select()"
   ]
  },
  {
   "cell_type": "code",
   "execution_count": 81,
   "id": "5ed05541-771d-4cae-a04f-7386e4ceab08",
   "metadata": {},
   "outputs": [
    {
     "name": "stdin",
     "output_type": "stream",
     "text": [
      "원하는 메뉴를 선택하세요 1.추가 2.출력 3.검색 4.삭제 5.수정 6.종료\n",
      " 1\n",
      "이름을 입력해주세요. \n",
      " 이혜린\n",
      "전화번호를 입력해주세요.\n",
      " 010-5093-7842\n"
     ]
    },
    {
     "name": "stdout",
     "output_type": "stream",
     "text": [
      "저장되었습니다.\n"
     ]
    },
    {
     "name": "stdin",
     "output_type": "stream",
     "text": [
      "원하는 메뉴를 선택하세요 1.추가 2.출력 3.검색 4.삭제 5.수정 6.종료\n",
      " 1\n",
      "이름을 입력해주세요. \n",
      " 김말자\n",
      "전화번호를 입력해주세요.\n",
      " 010-0000-0000\n"
     ]
    },
    {
     "name": "stdout",
     "output_type": "stream",
     "text": [
      "저장되었습니다.\n"
     ]
    },
    {
     "name": "stdin",
     "output_type": "stream",
     "text": [
      "원하는 메뉴를 선택하세요 1.추가 2.출력 3.검색 4.삭제 5.수정 6.종료\n",
      " 2\n"
     ]
    },
    {
     "name": "stdout",
     "output_type": "stream",
     "text": [
      "이혜린 010-5093-7842\n",
      "김말자 010-0000-0000\n"
     ]
    },
    {
     "name": "stdin",
     "output_type": "stream",
     "text": [
      "원하는 메뉴를 선택하세요 1.추가 2.출력 3.검색 4.삭제 5.수정 6.종료\n",
      " 6\n"
     ]
    }
   ],
   "source": [
    "## ㅊㅅㅎ\n",
    "name_list =[]\n",
    "pn_list=[]\n",
    "\n",
    "\n",
    "def my_insert(x,x2):\n",
    "    if (bool(x) ==True) and (bool(x2) ==True):\n",
    "        name_list.append(x)\n",
    "        pn_list.append(x2)\n",
    "        print(\"저장되었습니다.\")\n",
    "        global name\n",
    "        name =\"\"\n",
    "        global pnum\n",
    "        pnum =\"\"\n",
    "    else:\n",
    "        print(\"입력하지 않았습니다.\")\n",
    "\n",
    "\n",
    "def my_select():\n",
    "    for i in range(len(name_list)): #리스트만 줘도 돈다. in name_list\n",
    "                                    #근데 이러면 i에 뽑힌 값이 담김.\n",
    "        print(name_list[i],pn_list[i])\n",
    "\n",
    "##번째로 돌고 싶을 때\n",
    "## for i in name_list == for i in ['aa','bb','cc']\n",
    "\n",
    "# def my_select():\n",
    "#     for i, nm in enumerate(['aa','bb','cc'])\n",
    "#        print(i,nm) # 첫번째 변수에 번째 감기고 두번째 변수에 해당 값이 담김\n",
    "        \n",
    "        \n",
    "#----***** {list}.index({value}) 해당 value가 있는 게 몇 번째인지 출력\n",
    "def my_search(x):\n",
    "    print(pn_list[name_list.index(x)]) \n",
    "\n",
    "def my_delete(n):\n",
    "    ad = name_list.index(n)\n",
    "    del pn_list[ad]\n",
    "    del name_list[ad]\n",
    "    global name  #바깥에 있는 name 변경할 때 쓰는 것 없는데 global 안 쓰고 바꾸면 뭐 바꾸지?함\n",
    "                #그냥 바깥 거 출력하려면 global 안 써도 됨.\n",
    "    name =\"\"\n",
    "    global pnum\n",
    "    pnum =\"\"\n",
    "    \n",
    "def my_update(n,tel):\n",
    "    name_ad = name_list.index(n)\n",
    "    tel_ad = pn_list.index(tel)\n",
    "    name2 = input(\"수정된 이름을 입력해주세요. \\n\")\n",
    "    pnum2 = input(\"수정된 전화번호을 입력해주세요. \\n\")\n",
    "    pn_list[name_ad] = pnum2\n",
    "    name_list[tel_ad] = name2\n",
    "\n",
    "while True:\n",
    "    start = int(input(\"원하는 메뉴를 선택하세요 1.추가 2.출력 3.검색 4.삭제 5.수정 6.종료\\n\"))\n",
    "    if start == 1:\n",
    "        name = input(\"이름을 입력해주세요. \\n\")\n",
    "        pnum = input(\"전화번호를 입력해주세요.\\n\")\n",
    "        my_insert(name,pnum)\n",
    "    elif start ==2:\n",
    "        my_select()\n",
    "    elif start ==3:\n",
    "        name = input(\"검색하려는 이름을 입력해주세요. \\n\")\n",
    "        my_search(name)\n",
    "    elif start ==4:\n",
    "        name = input(\"삭제하려는 이름을 입력해주세요. \\n\")\n",
    "        my_delete(name)\n",
    "    elif start ==5:\n",
    "        name = input(\"수정하고 싶은 사람의 이름을 입력해주세요. \\n\")\n",
    "        pnum = input(\"수정하고 싶은 사람의 전화번호를 입력해주세요.\\n\")\n",
    "        my_update(name,pnum)\n",
    "    elif start ==6:\n",
    "        break\n",
    "    else:\n",
    "        print(\"잘못된 명령입니다.\")"
   ]
  },
  {
   "cell_type": "code",
   "execution_count": null,
   "id": "4f0ecd8a-1f1d-40d2-91e8-d2335e0b0c16",
   "metadata": {},
   "outputs": [],
   "source": []
  },
  {
   "cell_type": "code",
   "execution_count": 1,
   "id": "a34dc73c-a036-4204-bf36-dfbef60279ec",
   "metadata": {},
   "outputs": [
    {
     "data": {
      "text/plain": [
       "1"
      ]
     },
     "execution_count": 1,
     "metadata": {},
     "output_type": "execute_result"
    }
   ],
   "source": [
    "#** index\n",
    "\n",
    "a=['aa', 'bb','cc']\n",
    "a.index('bb')"
   ]
  },
  {
   "cell_type": "markdown",
   "id": "bc80f784-2493-4032-ab27-2ec7a88044f8",
   "metadata": {},
   "source": [
    "# 8장 객체와 클래스"
   ]
  },
  {
   "cell_type": "markdown",
   "id": "9764264c-d3df-4623-b976-01dfc9907774",
   "metadata": {},
   "source": [
    "def ~~\n",
    "def~ ~~\n",
    "\n",
    "이걸 다 감싸는 게 class\n",
    "-> class 안에 def 넣어보자\n",
    "내가 만들 수도 있고 다른 사람이 만든 걸 갖다 쓸 수도(import) 있다.\n",
    "\n",
    ".py .py 이게 클래스?"
   ]
  },
  {
   "cell_type": "markdown",
   "id": "a1b022a5-14fb-4f8c-911a-653c07798c58",
   "metadata": {},
   "source": [
    "# 10장 모듈"
   ]
  },
  {
   "cell_type": "markdown",
   "id": "240dff80-a2ff-4ffc-8537-59cfda339503",
   "metadata": {},
   "source": [
    "-> 객체 모듈 클래스 진짜 중요하다!! 주말 이용해 반드시 복습\n",
    "\n",
    ".py 파일\n"
   ]
  },
  {
   "cell_type": "markdown",
   "id": "9db2d022-fba7-4e43-907e-a1dfc55d30ef",
   "metadata": {},
   "source": [
    "## 8.1 클래스 선언과 객체 생성\n",
    "\n",
    "객체는 만들고 클래스는 선언하는구나\n",
    "클래스 메서드 -> 사실 매서드라는 건 자바에서 쓰는 말이고 파이썬에서는 함수라고 한다.\n",
    "C++, C#, Java, .Net -> OOP(object oriented programming: 객체지향언어)\n",
    "얘네는 클래스 선언부터 진짜 시작\n",
    "\n",
    "### 객체란?\n",
    "객체: 존재하는 모든 것. 프로그래밍으로 표현 가능(불분명하고 주관적인 건 프로그래밍 불가)\n",
    "속성 ... 변수(값)\n",
    "행위 ... 함수(기능) .... 다른 언어에서 메서드라고 한다.\n",
    "을 프로그램에 녹여낼 수 있는 것.\n",
    "\n",
    "객체지향프로그램의 특징\n",
    "1. 상속: 내가 코딩 열심히 해두면 남들이 갖다 쓸 수 있음.(조립 가능)\n",
    "2. 추상화\n",
    "3. 다형성\n",
    "4. 캡슐\n",
    "\n",
    "-> 사실 파이썬은 된다고는 하지만 막상 구동은 제대로 안 됨. 상속 정도만 가능. 그래서 oop라고 보긴 어렵.\n",
    "\n",
    "파이썬 2점대는 거의 C에 가깝. OOP라 보기는 어렵. 2랑 3이랑 거의 완전 다르다\n",
    "-> 클래스부터는 파이참"
   ]
  },
  {
   "cell_type": "markdown",
   "id": "59c3fd77-9660-4f5d-b088-04e190b17aa3",
   "metadata": {},
   "source": [
    "### 클래스 선언"
   ]
  },
  {
   "cell_type": "markdown",
   "id": "ef305595-c389-432c-ba34-0866979e2ca0",
   "metadata": {},
   "source": [
    "### 객체 생성 및 활용"
   ]
  }
 ],
 "metadata": {
  "kernelspec": {
   "display_name": "Python 3 (ipykernel)",
   "language": "python",
   "name": "python3"
  },
  "language_info": {
   "codemirror_mode": {
    "name": "ipython",
    "version": 3
   },
   "file_extension": ".py",
   "mimetype": "text/x-python",
   "name": "python",
   "nbconvert_exporter": "python",
   "pygments_lexer": "ipython3",
   "version": "3.8.8"
  }
 },
 "nbformat": 4,
 "nbformat_minor": 5
}
