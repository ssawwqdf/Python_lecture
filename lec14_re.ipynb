{
 "cells": [
  {
   "cell_type": "markdown",
   "id": "39d6fd02-74d2-4f12-9607-1548d99663b6",
   "metadata": {},
   "source": [
    "# ch14. 정규 표현식(regular expression)\n",
    "-> 무슨 랭기지를 쓰든 전세계 공통 문법!!"
   ]
  },
  {
   "cell_type": "markdown",
   "id": "e89c4b99-51d2-48b1-b3d7-fdff362e6ab0",
   "metadata": {
    "tags": []
   },
   "source": [
    "> <font size=4>**메타문자(메타패턴)**"
   ]
  },
  {
   "cell_type": "markdown",
   "id": "3764d3d9-4924-43dd-bbf2-9aaf553555dc",
   "metadata": {},
   "source": [
    "|메타문자| |사용예|설명|\n",
    "|------|---|---|---|\n",
    "|[ ]|문자 클래스|[abc]|a, b, c 중 한 개의 문자와 매치                              &nbsp;|\n",
    "|[s-e]| |[0-2]<br>[a-c]<br>[a-zA-Z]<br>[0-9]|0,1,2<br>a,b,c<br>알파벳모두<br>숫자|\n",
    "|^|반대|[^0-9]|숫자가 아닌 문자와 매치|\n",
    "|<font color=red size=4><b>?|0또는1글자<br>(있어도 되고 없어도 되고)|ab?c|?앞에 문자 b를 0 또는 1번 반복<br>O abc<br>O ac<br>X abbc|\n",
    "|<font color=red size=4><b>.|1글자|a.b<br>a[.]b|a + 모든문자 + b<br>a + Dot(.)문자 + b|\n",
    "|<font color=red size=4><b>*|반복 0~|ca*t| *앞에 문자 a를 0~ 반복<br>O ct<br>O cat<br>O caaat|\n",
    "|<font color=red size=4><b>+|반복 1~|ca+t| +앞에 문자 a를 1~ 반복<br>X ct<br>O cat<br>O caaat|  \n",
    "|{s,e}|반복 s~e|{3,5}<br>{3, }<br>{ ,5}<br>{1, }<br>{0, }<br>ca{2}t<br> <br> <br>ca{2,4}t<br> <br> <br> <br>|3이상 ~ 5이하 반복<br>3~ 이상 반복<br>~5 이하 반복<br>+<br>*<br>{2}앞에 문자a를 2번반복<br>X cat<br>O caat<br>{2}앞에 문자a를 2 ~ 4번반복<br>X cat<br>O caat<br>O caaaat|"
   ]
  },
  {
   "cell_type": "markdown",
   "id": "920e8d46-0624-4cb2-ad36-2a9fa515e3a9",
   "metadata": {},
   "source": [
    "<pre> \n",
    "f\"____________\" 가 있는 상태에서 써야 하는 애들\n",
    "- ^…$    \tStarts and ends\n",
    "- (…)   \tCapture Group\n",
    "- (a(bc))\tCapture Sub-group\n",
    "- (.*)   \tCapture all\n",
    "- (abc|def)\tMatches abc or def"
   ]
  },
  {
   "cell_type": "markdown",
   "id": "c033ec3c-e094-4ad2-b214-906b872241d5",
   "metadata": {},
   "source": [
    "> <font size=4> **자주 사용하는 문자 클래스** </font>  \n",
    "소문자: 맞는 것, 대문자: 아닌 것"
   ]
  },
  {
   "cell_type": "markdown",
   "id": "7b7c37f6-b8b7-4f10-8200-e1f8bf71c223",
   "metadata": {
    "tags": []
   },
   "source": [
    "|종류|문자클래스|설명|유사표현|\n",
    "|------|---|---|---|\n",
    "|숫자|<font color=red size=3><b>\\d|숫자와 매치|[0-9]|\n",
    "||<font color=red size=3><b>\\D|숫자가 아닌 것과 매치|[^0-9]|\n",
    "|숫자+문자|<font color=red size=3><b>\\w|문자+숫자(alphanumeric)와 매치|[a-zA-Z0-9]|\n",
    "||<font color=red size=3><b>\\W|문자+숫자(alphanumeric)가 아닌 문자와 매치|[^a-zA-Z0-9]|\n",
    "|특수문자|<font color=red size=3><b>\\s|whitespace 문자와 매치|[ \\t\\n\\r\\f\\v]|\n",
    "||<font color=red size=3><b>\\S|whitespace 문자가 아닌 것과 매치|[^ \\t\\n\\r\\f\\v]|"
   ]
  },
  {
   "cell_type": "code",
   "execution_count": null,
   "id": "f45ca53d-f816-4127-9ee0-19cf531ee7ed",
   "metadata": {},
   "outputs": [],
   "source": []
  },
  {
   "cell_type": "markdown",
   "id": "0c72b41a-3967-4766-ae63-8bc2517467e8",
   "metadata": {},
   "source": [
    "> <font size=4> **import re 정규식을 이용한 문자열 검색(파이썬 내장함수 re)**"
   ]
  },
  {
   "cell_type": "markdown",
   "id": "610477dd-bc21-4275-bd83-296ccd301cac",
   "metadata": {},
   "source": [
    "|종류|설명|\n",
    "|------|---|\n",
    "|<font color=red size=3><b>match()|문자열의 처음부터 정규식과 매치되는지 검사|\n",
    "|<font color=red size=3><b>search()|문자열 전체에서 정규식과 매치되는지 검사|\n",
    "|<font color=red size=3><b>findall()|정규식과 매치되는 모든 문자열(substring)을 리스트로 반환|\n",
    "|<font color=red size=3><b>finditer()|정규식과 매치되는 모든 문자열(substring)을 반복 가능한 객체로 반환|"
   ]
  },
  {
   "cell_type": "code",
   "execution_count": null,
   "id": "f3354891-a0d6-49bd-9f11-90944f4b57ce",
   "metadata": {},
   "outputs": [],
   "source": [
    "[abc]\n",
    "\n",
    "abcdeabcedab -> 리스트로 돌려줘 여기 abc 있는 것\n"
   ]
  },
  {
   "cell_type": "markdown",
   "id": "66c002ea-f431-4f21-acbd-7ae5fd782ab3",
   "metadata": {},
   "source": [
    "--- "
   ]
  },
  {
   "cell_type": "code",
   "execution_count": 1,
   "id": "db12d625-f958-4763-b9cc-bb38ef2c59b1",
   "metadata": {},
   "outputs": [],
   "source": [
    "import re"
   ]
  },
  {
   "cell_type": "markdown",
   "id": "32058d1e-d1ec-48e2-bf6d-3bbd7813cb82",
   "metadata": {},
   "source": [
    "* <b>re.함수('패턴', '검색대상문자열')"
   ]
  },
  {
   "cell_type": "code",
   "execution_count": 8,
   "id": "8b826655-b4c8-4fae-80aa-5984c45cd5ab",
   "metadata": {},
   "outputs": [
    {
     "data": {
      "text/plain": [
       "<re.Match object; span=(0, 6), match='python'>"
      ]
     },
     "execution_count": 8,
     "metadata": {},
     "output_type": "execute_result"
    }
   ],
   "source": [
    "m = re.match('[a-z]+', \"python\")\n",
    "m\n",
    "# span=(0, 6): 범위 커서를 글자 앞부터 0으로 두고 찾아온다.(커서 위치를 기준으로 생각해야 됨.)"
   ]
  },
  {
   "cell_type": "code",
   "execution_count": 9,
   "id": "628f6afc-e6cc-47c7-a515-2c07d4e630e0",
   "metadata": {},
   "outputs": [],
   "source": [
    "m = re.match('[a-z]+', \"10python\") # match라 못 찾음\n",
    "m\n"
   ]
  },
  {
   "cell_type": "code",
   "execution_count": 10,
   "id": "9e9b846a-e4f8-4c49-95cf-2be6204ed016",
   "metadata": {},
   "outputs": [
    {
     "data": {
      "text/plain": [
       "<re.Match object; span=(2, 8), match='python'>"
      ]
     },
     "execution_count": 10,
     "metadata": {},
     "output_type": "execute_result"
    }
   ],
   "source": [
    "m = re.search('[a-z]+', \"10python\") # search라 찾을 수 있다.\n",
    "m\n"
   ]
  },
  {
   "cell_type": "markdown",
   "id": "418c020e-4f91-495d-be58-0c9ea7391622",
   "metadata": {},
   "source": [
    "--- "
   ]
  },
  {
   "cell_type": "markdown",
   "id": "3109c51c-e89e-414f-a592-371980c6e32b",
   "metadata": {},
   "source": [
    "* <b>패턴 '[a-z]+'를 매번 쓰기 귀찮다 -> compile로 넣어라"
   ]
  },
  {
   "cell_type": "code",
   "execution_count": 3,
   "id": "ac2e4c59-9599-45a6-968e-1c61ffc0666d",
   "metadata": {},
   "outputs": [
    {
     "name": "stdout",
     "output_type": "stream",
     "text": [
      "<re.Match object; span=(0, 6), match='python'>\n",
      "<re.Match object; span=(2, 8), match='python'>\n"
     ]
    }
   ],
   "source": [
    "p = re.compile('[a-z]+') # p에 '[a-z]+' 패턴 넣어주삼\n",
    "    # m = re.search('[a-z]+', \"python\")\n",
    "\n",
    "m = p.search(                 \"python\") # p 패턴에 대해 함수 적용.\n",
    "print(m)\n",
    "\n",
    "m = p.search(\"3 python\")\n",
    "print(m)"
   ]
  },
  {
   "cell_type": "markdown",
   "id": "0b677ef5-bb61-4440-acc6-52c092166897",
   "metadata": {},
   "source": [
    "---"
   ]
  },
  {
   "cell_type": "markdown",
   "id": "6a5e35fc-4912-4866-8e6f-91220abe5e41",
   "metadata": {},
   "source": [
    "* <b>match()\n",
    "  - 컴파일된 패턴 '[a-z]+'를 가지고 match() 메서드 수행"
   ]
  },
  {
   "cell_type": "code",
   "execution_count": 4,
   "id": "b5da1930-8229-495f-8c1f-01a547af1d36",
   "metadata": {},
   "outputs": [
    {
     "name": "stdout",
     "output_type": "stream",
     "text": [
      "None\n",
      "<re.Match object; span=(0, 6), match='python'> python\n",
      "None\n"
     ]
    }
   ],
   "source": [
    "m = re.match('ab*', \"python\")\n",
    "print(m)\n",
    "\n",
    "m = re.match('[a-z]+', \"python\")\n",
    "print(m, m.group())                 # re함수쓴것.group() 하면 매칭된 글자 빼온다\n",
    "\n",
    "m = re.match('[a-z]+', \"3 python\")\n",
    "print(m)"
   ]
  },
  {
   "cell_type": "markdown",
   "id": "00adf6b2-ee46-4e18-9727-28dccf6b27a0",
   "metadata": {},
   "source": [
    "* <b>search()\n",
    "  - 컴파일된 패턴 객체 '[a-z]+'를 가지고 search() 메서드 수행"
   ]
  },
  {
   "cell_type": "code",
   "execution_count": 5,
   "id": "e1fa0779-3267-452d-a6db-db1209db811b",
   "metadata": {},
   "outputs": [
    {
     "name": "stdout",
     "output_type": "stream",
     "text": [
      "<re.Match object; span=(2, 8), match='python'>\n"
     ]
    }
   ],
   "source": [
    "p = re.compile('[a-z]+')\n",
    "m = p.search(\"3 python\")\n",
    "print(m)"
   ]
  },
  {
   "cell_type": "markdown",
   "id": "2f1241ef-65b5-46a2-9a5b-fb76cfcc2fba",
   "metadata": {},
   "source": [
    "* <b>findall()\n",
    "  - 컴파일된 패턴 객체 '[a-z]+'를 가지고 findall() 메서드 수행 - <font color=red>정규식과 매치되는 리스트 반환"
   ]
  },
  {
   "cell_type": "code",
   "execution_count": 14,
   "id": "5da990f1-af95-4c06-a21b-e06528a6249e",
   "metadata": {},
   "outputs": [
    {
     "name": "stdout",
     "output_type": "stream",
     "text": [
      "['life', 'is', 'too', 'short']\n",
      "['li', 'f', 'e', 'is', 'too', 'short']\n"
     ]
    }
   ],
   "source": [
    "p = re.compile('[a-z]+')\n",
    "m = p.findall(\"3 life is 100 too short 100\")\n",
    "print(m)\n",
    "m = p.findall(\"3 li1f1e 1is 100 too short 100\")\n",
    "print(m)"
   ]
  },
  {
   "cell_type": "markdown",
   "id": "cbfbeb6c-16f8-4996-9821-c328d035182b",
   "metadata": {},
   "source": [
    "* <b>finditer()\n",
    "  - 컴파일된 패턴 객체 '[a-z]+'를 가지고 finditer() 메서드 수행 - <font color=red>정규식과 매치되는 iterator 객체 반환"
   ]
  },
  {
   "cell_type": "code",
   "execution_count": 7,
   "id": "f31a6a0e-e1dd-4581-96fa-17f94d29ae9d",
   "metadata": {},
   "outputs": [
    {
     "name": "stdout",
     "output_type": "stream",
     "text": [
      "<callable_iterator object at 0x0000014368DF6E20>\n",
      "<re.Match object; span=(0, 1), match='a'> \t a\n",
      "<re.Match object; span=(2, 3), match='b'> \t b\n",
      "<re.Match object; span=(4, 7), match='cde'> \t cde\n"
     ]
    }
   ],
   "source": [
    "m = p.finditer(\"a b cde 100\")\n",
    "print(m) # 객체 주소를 준다.\n",
    "for match_obj in m:                 # 이거 이용해서 내가 루프 돌려야 나온다.\n",
    "    print(match_obj, '\\t', match_obj.group())"
   ]
  },
  {
   "cell_type": "code",
   "execution_count": null,
   "id": "2d354895-f059-46c7-93a4-6ca8ec7ab835",
   "metadata": {},
   "outputs": [],
   "source": []
  },
  {
   "cell_type": "markdown",
   "id": "35d3cdc7-e824-4cc0-8ef4-4e2f816e19f5",
   "metadata": {},
   "source": [
    "> <font size=4> **re.compile( ___ , 옵션)**"
   ]
  },
  {
   "cell_type": "markdown",
   "id": "f64b1ea3-253a-491c-b795-5114661629ef",
   "metadata": {},
   "source": [
    "## Quiz\n",
    "* ref : https://regexone.com/"
   ]
  },
  {
   "cell_type": "markdown",
   "id": "35f207a6-bca0-4e08-a94c-d4ce2e5ba863",
   "metadata": {},
   "source": [
    "<pre>\n",
    "정규식 a[.]{3,}b과 매치되는 문자열?\n",
    "\n",
    "acccb\n",
    "a....b\n",
    "aaab\n",
    "a.cccb"
   ]
  },
  {
   "cell_type": "markdown",
   "id": "734ab1b9-5df9-475c-89df-210826bd7d34",
   "metadata": {},
   "source": [
    "<pre>\n",
    "다음은 무엇을 표현하기 위한 정규식인가?\n",
    "\".*[@].*[.].*$\"\n",
    "\n",
    "r\"(\\w+)\\s+\\d+[-]\\d+[-]\\d+\""
   ]
  },
  {
   "cell_type": "code",
   "execution_count": 57,
   "id": "cae72e67-ff5e-4187-91a4-6a91606c1b94",
   "metadata": {},
   "outputs": [
    {
     "name": "stdout",
     "output_type": "stream",
     "text": [
      "<re.Match object; span=(0, 17), match='kim1214@naver.com'> kim1214@naver.com\n",
      "<re.Match object; span=(0, 17), match='kim1214@naver.com'> kim1214@naver.com\n",
      "<re.Match object; span=(0, 19), match='kim1214@naver.co.kr'> kim1214@naver.co.kr\n",
      "<re.Match object; span=(0, 24), match='kim1231@naver.co.cccc.kr'> kim1231@naver.co.cccc.kr\n"
     ]
    }
   ],
   "source": [
    "# \\w*[@]\\w*[.]\\w*\n",
    "# 띄어쓰기 함부로 하지 마라!!!!\n",
    "# \\w 쓰려면 앞에 f 써줘라!!!\n",
    "# 이메일 주려면 *가 아니라 +써야지!!!!!\n",
    "\n",
    "p=re.compile(\"\\w*[@]\\w*[.]\\w*\")\n",
    "m=p.match(\"kim1214@naver.com\")\n",
    "print(m, m.group())\n",
    "\n",
    "p=re.compile(f\"\\w+[@]\\w+[.]\\w+\") # 이게 좀더 정확하다 # f 붙여주는 게 안전하다.\n",
    "m=p.match(\"kim1214@naver.com\")\n",
    "print(m, m.group())\n",
    "\n",
    "\n",
    "# p=re.compile(\"[a-zA-Z0-9]*[@][a-zA-Z0-9]*[.][a-zA-Z0-9]*\")\n",
    "# m=p.match(\"kim1214@naver.com\")\n",
    "# print(m, m.group())\n",
    "\n",
    "# 우승우님 코드\n",
    "# .[a-z]*\n",
    "# [a-z]+ \n",
    "# 둘이 같은 의미로 쓰일 수 있다!!! .으로 앞에 무슨 글자든 오게 한 다음에 하기\n",
    "\n",
    "# 김문식님 코드\n",
    "# ^를 아니다로 넣으려면 []안에 쓰고 ^로 시작한다로 쓰려면 [] 바깥에\n",
    "# 이렇게 하면 co.kr 도 가능하다!!!\n",
    "p=re.compile('^[\\w]+[@].+[.]*.*[.][a-zA-Z]+$')\n",
    "m=p.match(\"kim1214@naver.co.kr\")\n",
    "print(m, m.group())\n",
    "m=p.match(\"kim1231@naver.co.cccc.kr\")\n",
    "print(m,m.group())\n",
    "\n"
   ]
  },
  {
   "cell_type": "code",
   "execution_count": 38,
   "id": "a5b320fa-74d4-41df-8d26-d8e12c8e2585",
   "metadata": {},
   "outputs": [
    {
     "name": "stdout",
     "output_type": "stream",
     "text": [
      "<re.Match object; span=(0, 17), match='김개똥\\t010-5093-7842'> 김개똥\t010-5093-7842\n"
     ]
    }
   ],
   "source": [
    "p=re.compile(\"(\\w+)\\s+\\d+[-]\\d+[-]\\d+\")\n",
    "m=p.search(\"김개똥\\t010-5093-7842\")\n",
    "print(m, m.group())"
   ]
  },
  {
   "cell_type": "code",
   "execution_count": 60,
   "id": "a27e750a-5e79-438f-9289-1742dfdd37ab",
   "metadata": {},
   "outputs": [
    {
     "name": "stdout",
     "output_type": "stream",
     "text": [
      "<re.Match object; span=(0, 7), match='abc.txt'> \n",
      " None \n",
      " <re.Match object; span=(0, 8), match='a100.txt'>\n",
      "------------------------------------------------------------\n",
      "<re.Match object; span=(0, 7), match='abc.txt'> \n",
      " None \n",
      " <re.Match object; span=(0, 8), match='a100.txt'>\n",
      "------------------------------------------------------------\n"
     ]
    },
    {
     "data": {
      "text/plain": [
       "['abc.txt', 'a100.txt']"
      ]
     },
     "execution_count": 60,
     "metadata": {},
     "output_type": "execute_result"
    }
   ],
   "source": [
    "# abc.txt aa.jpg  a100.txt 있을 때 확장자 txt인 것만 찾기\n",
    "\n",
    "p=re.compile(f\"\\w+[.]txt\")\n",
    "m1=p.search(\"abc.txt\")\n",
    "m2=p.search(\"aa.jpg\")\n",
    "m3=p.search(\"a100.txt\")\n",
    "\n",
    "print(m1,'\\n', m2,'\\n', m3)\n",
    "print('--'*30)\n",
    "#-------------------------------------\n",
    "p=re.compile(\".+[.]txt\")\n",
    "m1=p.search(\"abc.txt\")\n",
    "m2=p.search(\"aa.jpg\")\n",
    "m3=p.search(\"a100.txt\")\n",
    "\n",
    "print(m1,'\\n', m2,'\\n', m3)\n",
    "print('--'*30)\n",
    "\n",
    "#-------------------------------------\n",
    "# 강사님 디버깅\n",
    "# 따로 search 안 하고 한 번에 하는 경우\n",
    "# .은 공백도 글자로 치고 \\w는 공백은 글자로 안 쳐서 결과 차이 난다.\n",
    "re.findall(\".+[.]txt\", \"abc.txt aa.jpg  a100.txt\") ### 가운데 aa.jpg까지 같이 나옴\n",
    "re.findall(\"\\w+[.]txt\", \"abc.txt aa.jpg  a100.txt\")"
   ]
  },
  {
   "cell_type": "code",
   "execution_count": 76,
   "id": "eb535b97-2a00-4bfc-97c5-70283d743195",
   "metadata": {},
   "outputs": [
    {
     "data": {
      "text/plain": [
       "['홍길동', '아무개']"
      ]
     },
     "execution_count": 76,
     "metadata": {},
     "output_type": "execute_result"
    }
   ],
   "source": [
    "# James 홍길동 아무개 --> 홍길동 아무개\n",
    "# 한국인 찾기\n",
    "re.findall(\"[가-힣]+\", \"James 홍길동 아무개\")\n",
    "re.findall(\"[^a-zA-Z ]+\", \"James 홍길동 아무개\") #이렇게 하면 영어 안 쓰는 외국인 다 나오겠다"
   ]
  },
  {
   "cell_type": "code",
   "execution_count": null,
   "id": "4bbd7eac-9186-4677-a46b-e388a2d5cc16",
   "metadata": {},
   "outputs": [],
   "source": [
    "# train['Name'] -> Series 출력됨.\n",
    "# Series 채로 글자 추출하기 : pandas.Series.str.extract \n",
    "# pandas.Series.str.extract \n",
    "# re.IGNORECASE : 대소문자 무시할까? 기본값 기억 안 난다\n",
    "# return : Series\n",
    "# Titanic으로 !!!\n",
    "train['Name_title']=train['Name'].str.extract()"
   ]
  },
  {
   "cell_type": "code",
   "execution_count": null,
   "id": "afd02d1a-af9f-4121-adc6-131eeb64146b",
   "metadata": {},
   "outputs": [],
   "source": []
  }
 ],
 "metadata": {
  "kernelspec": {
   "display_name": "Python 3 (ipykernel)",
   "language": "python",
   "name": "python3"
  },
  "language_info": {
   "codemirror_mode": {
    "name": "ipython",
    "version": 3
   },
   "file_extension": ".py",
   "mimetype": "text/x-python",
   "name": "python",
   "nbconvert_exporter": "python",
   "pygments_lexer": "ipython3",
   "version": "3.8.8"
  }
 },
 "nbformat": 4,
 "nbformat_minor": 5
}
