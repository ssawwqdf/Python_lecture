{
 "cells": [
  {
   "cell_type": "code",
   "execution_count": 6,
   "id": "1292b1f4-0eac-477d-bdbe-320aa5ca25d5",
   "metadata": {},
   "outputs": [
    {
     "name": "stdout",
     "output_type": "stream",
     "text": [
      "bb\n"
     ]
    }
   ],
   "source": [
    "#bb 출력\n",
    "quiz =  {\n",
    "  \"error\": \n",
    "      #----------------------------\n",
    "      { \n",
    "        \"code\": 400,\n",
    "        \"message\": \"API key not valid. Please pass a valid API key.\",\n",
    "        \"errors\": [\n",
    "                      {\n",
    "                        \"message\": \"11.\",\n",
    "                        \"domain\": \"22\",\n",
    "                        \"reason\": \"33\"\n",
    "                      },\n",
    "\t\t      {\n",
    "                        \"message\": \"aa\",\n",
    "                        \"domain\": \"bb\",\n",
    "                        \"reason\": \"cc\"\n",
    "                      }\n",
    "                 ]\n",
    "        }\n",
    "      }\n",
    "\n",
    "print(quiz[\"error\"][\"errors\"][1]['domain'])"
   ]
  },
  {
   "cell_type": "markdown",
   "id": "6e7ed57f-edff-42a2-afb1-fa2de72e93c0",
   "metadata": {},
   "source": [
    "리스트 합치기"
   ]
  },
  {
   "cell_type": "code",
   "execution_count": null,
   "id": "c43a2f26-c00c-4193-a67f-8f3b260bb809",
   "metadata": {},
   "outputs": [],
   "source": [
    "list_con1= [1,2,3,4]\n",
    "list_con2 = [5,6,7,8]\n",
    "list_con = list_con1 + list_con2 # 리스트 연결\n",
    "\n",
    "print(list_con)"
   ]
  },
  {
   "cell_type": "code",
   "execution_count": null,
   "id": "274d50f6-c329-4eee-9023-1a7285079bff",
   "metadata": {},
   "outputs": [],
   "source": [
    "list_con1= [1,2,3,4]\n",
    "list_con = list_con1 * 3 # 리스트 반복\n",
    "\n",
    "print(list_con)"
   ]
  },
  {
   "cell_type": "code",
   "execution_count": 9,
   "id": "1c7baff1-532e-461f-b8f2-fb0cf3eeffbf",
   "metadata": {},
   "outputs": [
    {
     "name": "stdout",
     "output_type": "stream",
     "text": [
      "[0, 1, 2, 3, 4, 5, 6, 7, 8, 9]\n",
      "[0, 1, 2]\n",
      "[4, 5, 6, 7]\n",
      "[0, 1, 2]\n",
      "[7, 8, 9]\n",
      "[1, 3]\n"
     ]
    }
   ],
   "source": [
    "list_data = [0, 1, 2, 3, 4, 5, 6, 7, 8, 9]\n",
    "print(list_data)\n",
    "print(list_data[0:3])\n",
    "print(list_data[4:8])\n",
    "print(list_data[:3])\n",
    "print(list_data[7:])\n",
    "print(list_data[::2]) # 2개씩 건너뛰어달라"
   ]
  },
  {
   "cell_type": "code",
   "execution_count": null,
   "id": "0d1299f9-0871-4736-a365-461de945b64a",
   "metadata": {},
   "outputs": [],
   "source": [
    "print(list_data)\n",
    "del list_data[6] # 지우기\n",
    "print(list_data)"
   ]
  },
  {
   "cell_type": "code",
   "execution_count": null,
   "id": "e40913ef-b039-4460-90ed-68627a59a1eb",
   "metadata": {},
   "outputs": [],
   "source": [
    "list_data1 = [1, 2, 3, 4, 5]\n",
    "print(5 in list_data1)\n",
    "print(6 in list_data1) # in 있나요?"
   ]
  },
  {
   "cell_type": "code",
   "execution_count": 10,
   "id": "f992b371-e72d-4b48-a318-2e5d6a2d16ed",
   "metadata": {},
   "outputs": [
    {
     "name": "stdout",
     "output_type": "stream",
     "text": [
      "['James', 'Robert', 'Lisa', 'Mary']\n",
      "['James', 'Robert', 'Lisa', 'Mary', 'Thomas']\n"
     ]
    },
    {
     "ename": "IndexError",
     "evalue": "list assignment index out of range",
     "output_type": "error",
     "traceback": [
      "\u001b[1;31m---------------------------------------------------------------------------\u001b[0m",
      "\u001b[1;31mIndexError\u001b[0m                                Traceback (most recent call last)",
      "\u001b[1;32m~\\AppData\\Local\\Temp/ipykernel_2652/335342798.py\u001b[0m in \u001b[0;36m<module>\u001b[1;34m\u001b[0m\n\u001b[0;32m      3\u001b[0m \u001b[0mmyFriends\u001b[0m\u001b[1;33m.\u001b[0m\u001b[0mappend\u001b[0m\u001b[1;33m(\u001b[0m\u001b[1;34m'Thomas'\u001b[0m\u001b[1;33m)\u001b[0m \u001b[1;31m# append 가능\u001b[0m\u001b[1;33m\u001b[0m\u001b[1;33m\u001b[0m\u001b[0m\n\u001b[0;32m      4\u001b[0m \u001b[0mprint\u001b[0m\u001b[1;33m(\u001b[0m\u001b[0mmyFriends\u001b[0m\u001b[1;33m)\u001b[0m\u001b[1;33m\u001b[0m\u001b[1;33m\u001b[0m\u001b[0m\n\u001b[1;32m----> 5\u001b[1;33m \u001b[0mmyFriends\u001b[0m\u001b[1;33m[\u001b[0m\u001b[1;36m5\u001b[0m\u001b[1;33m]\u001b[0m\u001b[1;33m=\u001b[0m\u001b[1;33m(\u001b[0m\u001b[1;34m'Cherry'\u001b[0m\u001b[1;33m)\u001b[0m \u001b[1;31m# ERROR. 없는 번째는 지목 못 한다.\u001b[0m\u001b[1;33m\u001b[0m\u001b[1;33m\u001b[0m\u001b[0m\n\u001b[0m",
      "\u001b[1;31mIndexError\u001b[0m: list assignment index out of range"
     ]
    }
   ],
   "source": [
    "myFriends = ['James', 'Robert', 'Lisa', 'Mary']\n",
    "print(myFriends)\n",
    "myFriends.append('Thomas') # append 가능\n",
    "print(myFriends)\n",
    "# 대입연산으로도 가능할까? -> 새로운 자리에 붙여넣는 건 안 된다.\n",
    "# list assignment index out of range\n",
    "myFriends[5]=('Cherry') # ERROR. 없는 번째는 지목 못 한다."
   ]
  },
  {
   "cell_type": "code",
   "execution_count": 15,
   "id": "b31fab44-b9ef-49bf-a049-57452fb2d538",
   "metadata": {},
   "outputs": [
    {
     "name": "stdout",
     "output_type": "stream",
     "text": [
      "['James', 'Robert', 'Lisa', 'Mary']\n",
      "['James', 'Robert', 'Lisa', 'Mary']\n",
      "['James', 'Paul', 'Lisa', 'Mary']\n"
     ]
    }
   ],
   "source": [
    "# insert를 이용해 중간에 끼워넣기.\n",
    "myFriends = ['James', 'Robert', 'Lisa', 'Mary']\n",
    "print(myFriends)\n",
    "myFriends.insert(1,'Paul')\n",
    "# 강사님: 이게 더 편하다. myfriends[1]='Paul' \n",
    "print(myFriends)"
   ]
  },
  {
   "cell_type": "markdown",
   "id": "a122dcbc-9f08-466b-bb40-e9d2d3b6bff7",
   "metadata": {},
   "source": [
    "**질문: 근데 insert랑 강사님이 알려준 거랑은 결과가 다르지 않나**"
   ]
  },
  {
   "cell_type": "code",
   "execution_count": null,
   "id": "2de54131-5d5b-4b8d-8805-301edbe9fd1f",
   "metadata": {},
   "outputs": [],
   "source": [
    "myFriends = ['James', 'Robert', 'Lisa', 'Mary']\n",
    "print(myFriends)\n",
    "myFriends.extend(['Laura', 'Betty'])\n",
    "print(myFriends)\n",
    "\n",
    "myFriends + ['Laura', 'Betty'] #강사님: 이렇게 해도 된다."
   ]
  },
  {
   "cell_type": "markdown",
   "id": "1ebc2110-0d47-4a07-b4cc-4d4559bbd5cc",
   "metadata": {},
   "source": [
    "**질문: 근데 이렇게 하면 myFriends에 반영 안 되지 않나.**"
   ]
  },
  {
   "cell_type": "markdown",
   "id": "2b60b18a-5de5-4f1d-9d60-04de45966c67",
   "metadata": {},
   "source": [
    "### 튜플 만들기\n",
    "튜플: 리스트의 상수. 한 번 세팅하면 값 변경 불가"
   ]
  },
  {
   "cell_type": "code",
   "execution_count": 19,
   "id": "96a7695c-fd3e-48e4-b1f5-8db95b5d0942",
   "metadata": {},
   "outputs": [],
   "source": [
    "tuple1=(1,2,3,4)\n",
    "# tuple1[1]=5 Error!!\n",
    "# del tuple[1] ERROR!!"
   ]
  },
  {
   "cell_type": "markdown",
   "id": "8bc63f35-a2a9-4d00-9eea-84b5743ebd03",
   "metadata": {},
   "source": [
    "### 세트"
   ]
  },
  {
   "cell_type": "code",
   "execution_count": null,
   "id": "a4335912-64e5-49e2-942d-575e59649a65",
   "metadata": {},
   "outputs": [],
   "source": [
    "A = {1, 2, 3, 4, 5}         # Set A\n",
    "B = {4, 5, 6, 7, 8, 9, 10}  # Set B\n",
    "A.intersection(B)  # 집합 A에 대한 집합 B의 교집합(A∩B)"
   ]
  },
  {
   "cell_type": "code",
   "execution_count": null,
   "id": "709a27a1-83f0-4e7d-af6d-35b9b2d28605",
   "metadata": {},
   "outputs": [],
   "source": [
    "A.union(B) # 집합 A에 대한 집합 B의 합집합(A∪B)"
   ]
  },
  {
   "cell_type": "code",
   "execution_count": null,
   "id": "7097002e-f08d-455b-9ff5-58311792200a",
   "metadata": {},
   "outputs": [],
   "source": [
    "A.difference(B) # 집합 A에 대한 집합 B의 차집합(A-B)"
   ]
  },
  {
   "cell_type": "code",
   "execution_count": null,
   "id": "8ecbe85f-c0ab-4a10-8330-e18a7acff31b",
   "metadata": {
    "scrolled": true
   },
   "outputs": [],
   "source": [
    "A = {1, 2, 3, 4, 5}         # Set A\n",
    "B = {4, 5, 6, 7, 8, 9, 10}  # Set B\n",
    "A & B  # 집합 A에 대한 집합 B의 교집합(A∩B)"
   ]
  },
  {
   "cell_type": "code",
   "execution_count": null,
   "id": "91f9fab5-586c-4215-a6b8-addaa347f97f",
   "metadata": {},
   "outputs": [],
   "source": [
    "A | B  # 집합 A에 대한 집합 B의 합집합(A∪B)"
   ]
  },
  {
   "cell_type": "code",
   "execution_count": null,
   "id": "6d88533b-6173-455f-a444-afdab6256f6e",
   "metadata": {},
   "outputs": [],
   "source": [
    "A - B  # 집합 A에 대한 집합 B의 차집합(A-B)"
   ]
  },
  {
   "cell_type": "markdown",
   "id": "26d8d33f-9d67-43e1-82f2-3abe6c135045",
   "metadata": {},
   "source": [
    "### 캐스팅"
   ]
  },
  {
   "cell_type": "code",
   "execution_count": null,
   "id": "0b862d0f-9881-4dce-8da1-406f18ec6b30",
   "metadata": {},
   "outputs": [],
   "source": [
    "a = [1,2,3,4,5]"
   ]
  },
  {
   "cell_type": "code",
   "execution_count": null,
   "id": "78667e7a-6241-46e0-8f38-c7cc4e252298",
   "metadata": {},
   "outputs": [],
   "source": [
    "type(a)"
   ]
  },
  {
   "cell_type": "code",
   "execution_count": null,
   "id": "db359db4-e06e-400b-a76c-2e3db0ae7496",
   "metadata": {},
   "outputs": [],
   "source": [
    "b = tuple(a)\n",
    "b"
   ]
  },
  {
   "cell_type": "code",
   "execution_count": null,
   "id": "3e306c6e-cfbb-4d47-9e41-2c652c01957a",
   "metadata": {},
   "outputs": [],
   "source": [
    "type(b)"
   ]
  },
  {
   "cell_type": "code",
   "execution_count": null,
   "id": "5b94185e-278c-4067-a61e-434fcd70aefe",
   "metadata": {},
   "outputs": [],
   "source": [
    "c = set(a)\n",
    "c"
   ]
  },
  {
   "cell_type": "code",
   "execution_count": null,
   "id": "5a66157e-ea04-4328-b475-b79c649d5178",
   "metadata": {},
   "outputs": [],
   "source": [
    "type(c)"
   ]
  },
  {
   "cell_type": "code",
   "execution_count": null,
   "id": "b31e69a0-6603-4110-b027-f4ee6217b1a5",
   "metadata": {},
   "outputs": [],
   "source": [
    "list(b)"
   ]
  },
  {
   "cell_type": "code",
   "execution_count": null,
   "id": "70d5b6e7-b530-45ef-afcc-89d3630b88ba",
   "metadata": {},
   "outputs": [],
   "source": [
    "list(c)"
   ]
  },
  {
   "cell_type": "code",
   "execution_count": 21,
   "id": "84ff3bcb-216a-4029-9657-c80785e389a0",
   "metadata": {},
   "outputs": [
    {
     "data": {
      "text/plain": [
       "2"
      ]
     },
     "execution_count": 21,
     "metadata": {},
     "output_type": "execute_result"
    }
   ],
   "source": [
    "int(\"1\")+1 #int로 형변환"
   ]
  },
  {
   "cell_type": "code",
   "execution_count": 23,
   "id": "2ab5b25a-9b99-4be7-8d6d-597709c4f54d",
   "metadata": {},
   "outputs": [
    {
     "data": {
      "text/plain": [
       "'1번'"
      ]
     },
     "execution_count": 23,
     "metadata": {},
     "output_type": "execute_result"
    }
   ],
   "source": [
    "str(1)+\"번\" # str로 형변환"
   ]
  },
  {
   "cell_type": "code",
   "execution_count": null,
   "id": "909c31dc-3da2-4772-9aa3-5f6b34b83e46",
   "metadata": {},
   "outputs": [],
   "source": []
  },
  {
   "cell_type": "code",
   "execution_count": null,
   "id": "0ca1d2ad-6f33-4dad-bdbe-226b8a9ef01f",
   "metadata": {},
   "outputs": [],
   "source": [
    "country_capital = {\"영국\":\"런던\", \"프랑스\":\"파리\", \"스위스\": \"베른\", \"호주\":\"멜버른\", \"덴마크\": \"코펜하겐\"}\n",
    "country_capital"
   ]
  },
  {
   "cell_type": "code",
   "execution_count": null,
   "id": "d33e6689-8cf7-49dc-b123-8aed62ae1eea",
   "metadata": {},
   "outputs": [],
   "source": [
    "country_capital[\"독일\"]= \"베를린\" #변수명[추가하려는 키]=\"값\"\n",
    "country_capital"
   ]
  },
  {
   "cell_type": "code",
   "execution_count": null,
   "id": "8b2594bb-ba04-4f77-865a-72258ffce830",
   "metadata": {},
   "outputs": [],
   "source": [
    "del country_capital[\"덴마크\"]\n",
    "country_capital"
   ]
  },
  {
   "cell_type": "code",
   "execution_count": 25,
   "id": "ec077ee8-c267-4a5d-aa06-c4cbb45615e6",
   "metadata": {
    "tags": []
   },
   "outputs": [],
   "source": [
    "fruit_code = {\"사과\":101, \"배\":102, \"딸기\":103, \"포도\":104, \"바나나\":105}"
   ]
  },
  {
   "cell_type": "code",
   "execution_count": 26,
   "id": "a84c8f9a-b32a-48a5-869b-28e9b62df435",
   "metadata": {
    "scrolled": true
   },
   "outputs": [
    {
     "name": "stdout",
     "output_type": "stream",
     "text": [
      "dict_keys(['사과', '배', '딸기', '포도', '바나나'])\n"
     ]
    }
   ],
   "source": [
    "print(fruit_code.keys())"
   ]
  },
  {
   "cell_type": "code",
   "execution_count": 28,
   "id": "cf66c6e8-8a7f-44e0-a07a-52f007ec9a3f",
   "metadata": {},
   "outputs": [
    {
     "name": "stdout",
     "output_type": "stream",
     "text": [
      "dict_values([101, 102, 103, 104, 105])\n"
     ]
    }
   ],
   "source": [
    "print(fruit_code.values())"
   ]
  },
  {
   "cell_type": "code",
   "execution_count": 29,
   "id": "20f8d820-3c17-453a-8251-b8f8f3ccb221",
   "metadata": {},
   "outputs": [
    {
     "name": "stdout",
     "output_type": "stream",
     "text": [
      "dict_items([('사과', 101), ('배', 102), ('딸기', 103), ('포도', 104), ('바나나', 105)])\n"
     ]
    }
   ],
   "source": [
    "print(fruit_code.items())"
   ]
  },
  {
   "cell_type": "code",
   "execution_count": 31,
   "id": "690a39fb-da51-4f67-82f9-e144587a006e",
   "metadata": {},
   "outputs": [
    {
     "data": {
      "text/plain": [
       "['사과', '배', '딸기', '포도', '바나나']"
      ]
     },
     "execution_count": 31,
     "metadata": {},
     "output_type": "execute_result"
    }
   ],
   "source": [
    "list(fruit_code.keys())"
   ]
  },
  {
   "cell_type": "code",
   "execution_count": 32,
   "id": "0b6703a8-03e9-4a53-86fe-695028ff47b5",
   "metadata": {},
   "outputs": [
    {
     "data": {
      "text/plain": [
       "[101, 102, 103, 104, 105]"
      ]
     },
     "execution_count": 32,
     "metadata": {},
     "output_type": "execute_result"
    }
   ],
   "source": [
    "list(fruit_code.values())"
   ]
  },
  {
   "cell_type": "code",
   "execution_count": 33,
   "id": "d0ce9dc4-a458-4f4c-9f67-5f0a3ae2b12e",
   "metadata": {
    "tags": []
   },
   "outputs": [
    {
     "data": {
      "text/plain": [
       "[('사과', 101), ('배', 102), ('딸기', 103), ('포도', 104), ('바나나', 105)]"
      ]
     },
     "execution_count": 33,
     "metadata": {},
     "output_type": "execute_result"
    }
   ],
   "source": [
    "list(fruit_code.items())"
   ]
  },
  {
   "cell_type": "markdown",
   "id": "33932699-920e-4a97-b371-23cd21f22fa2",
   "metadata": {},
   "source": [
    "# 5장 제어문"
   ]
  },
  {
   "cell_type": "code",
   "execution_count": 34,
   "id": "5548cf6a-13c4-46e9-9ce8-0518e830074e",
   "metadata": {},
   "outputs": [
    {
     "name": "stdout",
     "output_type": "stream",
     "text": [
      "Pass\n"
     ]
    }
   ],
   "source": [
    "x=95\n",
    "if x>=90:\n",
    "     print(\"Pass\") ## 들여쓰기 안 하면 에러 난다.\n",
    "                    ## 다른 프로그래밍 언어는 {} 이런 블럭 존재.\n",
    "                    ##파이썬은 블럭이 없다. 들여쓰기로 구분..\n",
    "# if 조건[AND ...] : \n",
    "#    실행해라"
   ]
  },
  {
   "cell_type": "code",
   "execution_count": 35,
   "id": "45bab205-b13e-4842-af87-f02e02f5baeb",
   "metadata": {},
   "outputs": [
    {
     "name": "stdout",
     "output_type": "stream",
     "text": [
      "Fail\n"
     ]
    }
   ],
   "source": [
    "x = 75\n",
    "if x >= 90:\n",
    "    print(\"Pass\")\n",
    "else:\n",
    "    print(\"Fail\")"
   ]
  },
  {
   "cell_type": "code",
   "execution_count": 36,
   "id": "4cfd6a07-6cf7-4f1d-aaa5-91dac7961b23",
   "metadata": {},
   "outputs": [
    {
     "name": "stdout",
     "output_type": "stream",
     "text": [
      "Good\n"
     ]
    }
   ],
   "source": [
    "x = 85\n",
    "if x >= 90:\n",
    "    print(\"Very good\")\n",
    "elif  (x >= 80) and (x < 90): #다른언어는 esle if쓴다.\n",
    "    print(\"Good\")\n",
    "else:\n",
    "    print(\"Bad\")"
   ]
  },
  {
   "cell_type": "code",
   "execution_count": 37,
   "id": "6fc11954-6646-466a-88f2-4ca4f788e379",
   "metadata": {},
   "outputs": [
    {
     "name": "stdout",
     "output_type": "stream",
     "text": [
      "Good\n"
     ]
    }
   ],
   "source": [
    "x = 85\n",
    "if x >= 90:\n",
    "    print(\"Very Good\")\n",
    "elif  80 <= x < 90:     # 다른 랭기지는 이거 하면 에러난다.\n",
    "                        # 통용되는 위의 문법 써라.\n",
    "    print(\"Good\")\n",
    "else:\n",
    "    print(\"Bad\")   #여러 조건을 다 만족하면 위에 것만."
   ]
  },
  {
   "cell_type": "code",
   "execution_count": null,
   "id": "34cf6efa-7404-4f9e-beaf-c8899fdb3adb",
   "metadata": {},
   "outputs": [],
   "source": [
    "x = 100\n",
    "if x >= 90:\n",
    "    if x==100 :\n",
    "        print(\"Perfect\")\n",
    "    else:\n",
    "        print(\"Very Good\")\n",
    "elif (x >= 80) and (x < 90):\n",
    "    print(\"Good\")\n",
    "else:\n",
    "    print(\"Bad\")"
   ]
  },
  {
   "cell_type": "markdown",
   "id": "7ebdac83-00ef-4769-bfa5-90ada3546b86",
   "metadata": {},
   "source": [
    "#### 문제\n",
    "score = 85\n",
    "90~100 A\n",
    "80~90 B\n",
    "       C"
   ]
  },
  {
   "cell_type": "code",
   "execution_count": 46,
   "id": "46f95e01-c542-4da8-98a7-b662a030facb",
   "metadata": {},
   "outputs": [
    {
     "name": "stdout",
     "output_type": "stream",
     "text": [
      "A0\n"
     ]
    }
   ],
   "source": [
    "score = 95\n",
    "if (score >=90) and (score<=100) :\n",
    "    if (score >=97) :\n",
    "        print(\"A+\")\n",
    "    elif (score >=94) and (score <=96) :\n",
    "        print(\"A0\")\n",
    "    elif (score <=93):                    #else 써도 되겠다\n",
    "        print(\"A-\")\n",
    "elif (score >=80) and (score<=90) :\n",
    "    print(\"B\")\n",
    "else :\n",
    "    print(\"C\")"
   ]
  },
  {
   "cell_type": "markdown",
   "id": "5fee4aff-e883-4069-9c40-483d2d5d06f6",
   "metadata": {},
   "source": [
    "### 반복문\n",
    "세상에 있는 랭기지에 존재하는 반복문들\n",
    "* for\n",
    "* while\n",
    "* do while -> 파이썬에는 없다."
   ]
  },
  {
   "cell_type": "markdown",
   "id": "779043f2-d9f9-41f6-a3a3-01c7eabb7c57",
   "metadata": {},
   "source": [
    "for문: 특정한 범위를 지정할 수 있을 때.(몇 번 해주세요.)\n",
    "while문: 범위 알 수 없을 때(나올 때까지 해주세요)"
   ]
  },
  {
   "cell_type": "code",
   "execution_count": 53,
   "id": "8b289c46-36b1-4f35-aaea-97624f99d6e4",
   "metadata": {},
   "outputs": [
    {
     "name": "stdout",
     "output_type": "stream",
     "text": [
      "1\n",
      "2\n",
      "3\n",
      "4\n",
      "5\n"
     ]
    }
   ],
   "source": [
    "# 5 in [1,2,3,4,5,] # 파이썬은 뒤에 ,해놓고 더 안 줘도 에러 안 낸다.\n",
    "#      이것들\n",
    "#  중에\n",
    "#이거\n",
    "\n",
    "# in 이걸 앞부터 순차적으로 하는 게 for\n",
    "for n in [1,2,3,4,5]:\n",
    "    print(n)"
   ]
  },
  {
   "cell_type": "code",
   "execution_count": 66,
   "id": "7a85949a-7574-44f8-b127-4ba4fef5fb8e",
   "metadata": {},
   "outputs": [
    {
     "name": "stdout",
     "output_type": "stream",
     "text": [
      "range(1, 6)\n",
      "5\n",
      "[1, 2, 3, 4, 5]\n",
      "[0, 1, 2, 3, 4, 5, 6, 7, 8, 9]\n",
      "[0, 1, 2, 3, 4, 5, 6, 7, 8, 9]\n",
      "[0, 1, 2, 3, 4, 5, 6, 7, 8, 9]\n"
     ]
    }
   ],
   "source": [
    "# range(starting, ending, increment). 단 s는 이상 e은 미만(이하 아님!)\n",
    "# increment 안 적으면 한 개 씩 증가.\n",
    "print(range(1,6,1)) #이렇게 하면 출력 좀 이상하게 나옴.\n",
    "print(len(range(1,6,1))) # len 길이 출력.\n",
    "print(list(range(1, 6, 1))) #list로 변환\n",
    "\n",
    "print(list(range(0, 10, 1)))\n",
    "print(list(range(0, 10))) # 증가분 안 쓰면 1씩 증가.\n",
    "print(list(range(10)))   # 스타트 안 주면 0"
   ]
  },
  {
   "cell_type": "code",
   "execution_count": 63,
   "id": "c6bc9560-2b3f-469e-8ef5-69b6b96ac746",
   "metadata": {},
   "outputs": [
    {
     "name": "stdout",
     "output_type": "stream",
     "text": [
      "1\n",
      "2\n",
      "3\n",
      "4\n",
      "5\n",
      "6\n",
      "21\n"
     ]
    }
   ],
   "source": [
    "a=0\n",
    "sum=0\n",
    "for n in range(1,7,1):\n",
    "    a= a+1\n",
    "    sum=sum+n\n",
    "    print(a)           #print를 탭 넣고 치면 같이 loop.\n",
    "                        # 탭 없이 치면 최종 결과만 print.\n",
    "print(sum)              # 1부터 6까지 합은 21."
   ]
  },
  {
   "cell_type": "code",
   "execution_count": 2,
   "id": "19c64060-40d3-4156-9a5f-9ea96f9794cf",
   "metadata": {},
   "outputs": [
    {
     "name": "stdout",
     "output_type": "stream",
     "text": [
      "James\n",
      "Robert\n",
      "Lisa\n",
      "Mary\n"
     ]
    }
   ],
   "source": [
    "myFriends = ['James', 'Robert', 'Lisa', 'Mary']  # 리스트를 변수에 할당\n",
    "for myFriend in myFriends:\n",
    "    print(myFriend)"
   ]
  },
  {
   "cell_type": "markdown",
   "id": "267b0e50-2c16-4be8-8e6c-34792c677ebd",
   "metadata": {
    "tags": []
   },
   "source": [
    "### 중첩 for 문"
   ]
  },
  {
   "cell_type": "code",
   "execution_count": 3,
   "id": "f29d9151-a2d4-4cf9-a5cf-3a214e781174",
   "metadata": {
    "tags": []
   },
   "outputs": [
    {
     "name": "stdout",
     "output_type": "stream",
     "text": [
      "x y\n",
      "x1 y1\n",
      "x1 y2\n",
      "x2 y1\n",
      "x2 y2\n"
     ]
    }
   ],
   "source": [
    "# 시침 분침처럼 생각하면 이해가 용이할듯(내생각)\n",
    "x_list = ['x1', 'x2']\n",
    "y_list = ['y1', 'y2']\n",
    "\n",
    "print(\"x y\")\n",
    "for x in x_list:\n",
    "    for y in y_list:\n",
    "        print(x,y)"
   ]
  },
  {
   "cell_type": "markdown",
   "id": "17c665dc-88de-4380-8c0c-d33e16e76aae",
   "metadata": {},
   "source": [
    "구구단을 외자 구구단을 외자"
   ]
  },
  {
   "cell_type": "code",
   "execution_count": 89,
   "id": "26636553-1ec3-47f2-b62f-997cfb52bb97",
   "metadata": {},
   "outputs": [
    {
     "name": "stdout",
     "output_type": "stream",
     "text": [
      "2 * 1 = 2\t2 * 2 = 4\t2 * 3 = 6\t2 * 4 = 8\t2 * 5 = 10\t2 * 6 = 12\t2 * 7 = 14\t2 * 8 = 16\t2 * 9 = 18\t\n",
      "3 * 1 = 3\t3 * 2 = 6\t3 * 3 = 9\t3 * 4 = 12\t3 * 5 = 15\t3 * 6 = 18\t3 * 7 = 21\t3 * 8 = 24\t3 * 9 = 27\t\n",
      "4 * 1 = 4\t4 * 2 = 8\t4 * 3 = 12\t4 * 4 = 16\t4 * 5 = 20\t4 * 6 = 24\t4 * 7 = 28\t4 * 8 = 32\t4 * 9 = 36\t\n",
      "5 * 1 = 5\t5 * 2 = 10\t5 * 3 = 15\t5 * 4 = 20\t5 * 5 = 25\t5 * 6 = 30\t5 * 7 = 35\t5 * 8 = 40\t5 * 9 = 45\t\n",
      "6 * 1 = 6\t6 * 2 = 12\t6 * 3 = 18\t6 * 4 = 24\t6 * 5 = 30\t6 * 6 = 36\t6 * 7 = 42\t6 * 8 = 48\t6 * 9 = 54\t\n",
      "7 * 1 = 7\t7 * 2 = 14\t7 * 3 = 21\t7 * 4 = 28\t7 * 5 = 35\t7 * 6 = 42\t7 * 7 = 49\t7 * 8 = 56\t7 * 9 = 63\t\n",
      "8 * 1 = 8\t8 * 2 = 16\t8 * 3 = 24\t8 * 4 = 32\t8 * 5 = 40\t8 * 6 = 48\t8 * 7 = 56\t8 * 8 = 64\t8 * 9 = 72\t\n",
      "9 * 1 = 9\t9 * 2 = 18\t9 * 3 = 27\t9 * 4 = 36\t9 * 5 = 45\t9 * 6 = 54\t9 * 7 = 63\t9 * 8 = 72\t9 * 9 = 81\t\n"
     ]
    }
   ],
   "source": [
    "# x=2\n",
    "# y=1\n",
    "# for x in range(2,10):\n",
    "#     for y in range(1,10):\n",
    "#         print(x,\"*\",y,\"=\",x*y)\n",
    "#         y+1\n",
    "#     x+1\n",
    "    \n",
    "    # print 그냥 치면 기본값으로 ,end=\"\\n\" 이렇게 들어가있다.\n",
    "    # 엔터 대신 띄어지게 하고 싶으면 ,end=\"\\t\" 쓰면 된다.\n",
    "    # end=\",\" 하면 ,로 연결됨\n",
    "\n",
    "x=2 #사실 값 어느거든 상관 없다. range에 먹힐 거라.\n",
    "y=1 #얘도 초기값 어떻게 설정하든 상관 없다.\n",
    "for x in range(2,10):\n",
    "    for y in range(1,10):\n",
    "        print(x,\"*\",y,\"=\",x*y,end=\"\\t\") #탭\n",
    "        y+1\n",
    "    print(\"\") #단마다 줄바꿈\n",
    "    x+1"
   ]
  },
  {
   "cell_type": "code",
   "execution_count": null,
   "id": "ef9c18a6-5297-4fe5-ba46-5dbcb4a31969",
   "metadata": {},
   "outputs": [],
   "source": [
    "names = ['James', 'Robert', 'Lisa', 'Mary'] \n",
    "scores = [95, 96, 97, 94]"
   ]
  },
  {
   "cell_type": "code",
   "execution_count": null,
   "id": "367d555c-6d59-4906-b2bb-eda79c65534e",
   "metadata": {},
   "outputs": [],
   "source": [
    "for k in range(len(names)):\n",
    "    print(names[k], scores[k])"
   ]
  },
  {
   "cell_type": "markdown",
   "id": "7f14784a-22f7-4acc-9874-55dfb2cb38ad",
   "metadata": {},
   "source": [
    "### for+list"
   ]
  },
  {
   "cell_type": "code",
   "execution_count": 97,
   "id": "65491e7f-c3fe-4c4b-968d-01ef1037f7c4",
   "metadata": {},
   "outputs": [
    {
     "name": "stdout",
     "output_type": "stream",
     "text": [
      "1\n",
      "2\n",
      "3\n",
      "4\n",
      "5\n"
     ]
    }
   ],
   "source": [
    "num_list=[1,2,3,4,5]\n",
    "for n in num_list:\n",
    "    print(n)\n",
    "    "
   ]
  },
  {
   "cell_type": "code",
   "execution_count": 99,
   "id": "d0c14411-bf53-447a-a65d-74cdc2a8b0e6",
   "metadata": {},
   "outputs": [
    {
     "name": "stdout",
     "output_type": "stream",
     "text": [
      "a\n",
      "b\n",
      "c\n",
      "d\n",
      "e\n"
     ]
    }
   ],
   "source": [
    "num_list=[\"a\",\"b\",\"c\",\"d\",\"e\"]\n",
    "for n in num_list:         # 리스트 항목으로 돌고 몇 번째인지 안 나온다.\n",
    "    print(n) "
   ]
  },
  {
   "cell_type": "code",
   "execution_count": 100,
   "id": "dda7b4d7-4768-4e7f-af1c-c53b938cfc8c",
   "metadata": {},
   "outputs": [
    {
     "name": "stdout",
     "output_type": "stream",
     "text": [
      "0 a a\n",
      "1 b b\n",
      "2 c c\n",
      "3 d d\n",
      "4 e e\n"
     ]
    }
   ],
   "source": [
    "# 몇 번째인지 알고 싶다면 (1): enumerate 이용\n",
    "num_list=[\"a\",\"b\",\"c\",\"d\",\"e\"]\n",
    "for i, n in enumerate(num_list):           #enumerate. 리스트 돌 때마다 몇 번째인지 카운팅\n",
    "    print(i, n, num_list[i]) "
   ]
  },
  {
   "cell_type": "code",
   "execution_count": 101,
   "id": "43524f2c-8d35-46c7-b5f8-aa9d5e6efd40",
   "metadata": {},
   "outputs": [
    {
     "name": "stdout",
     "output_type": "stream",
     "text": [
      "0 a\n",
      "1 b\n",
      "2 c\n",
      "3 d\n"
     ]
    }
   ],
   "source": [
    "# 몇 번째인지 알고 싶다면 (2): range 이용\n",
    "num_list=[\"a\",\"b\",\"c\",\"d\",\"e\"]\n",
    "for i in range(0,4):     # 0 1 2 3번째요\n",
    "    print(i, num_list[i])"
   ]
  },
  {
   "cell_type": "code",
   "execution_count": null,
   "id": "d0b31774-d103-4184-8df0-96dfd1f8be09",
   "metadata": {},
   "outputs": [],
   "source": []
  },
  {
   "cell_type": "code",
   "execution_count": null,
   "id": "4b513f4f-515f-4a40-99a3-8f7f5cfd2fd1",
   "metadata": {},
   "outputs": [],
   "source": []
  },
  {
   "cell_type": "code",
   "execution_count": null,
   "id": "73443ee2-524c-4fef-acab-73557f0161f4",
   "metadata": {},
   "outputs": [],
   "source": []
  },
  {
   "cell_type": "code",
   "execution_count": null,
   "id": "0067da85-8c1a-48d4-b750-2c6e793f367f",
   "metadata": {},
   "outputs": [],
   "source": []
  },
  {
   "cell_type": "code",
   "execution_count": null,
   "id": "fec4ef0f-5794-4f9d-baef-0b235290e8f6",
   "metadata": {},
   "outputs": [],
   "source": []
  },
  {
   "cell_type": "code",
   "execution_count": null,
   "id": "030e6a8e-aa83-4e39-b794-3203ff8f4a0e",
   "metadata": {},
   "outputs": [],
   "source": []
  },
  {
   "cell_type": "code",
   "execution_count": null,
   "id": "74433f6b-8bde-4d3d-b313-3dbb516a66b3",
   "metadata": {},
   "outputs": [],
   "source": []
  },
  {
   "cell_type": "code",
   "execution_count": null,
   "id": "322c16cc-11f0-4cf0-909a-532f92afaaf0",
   "metadata": {},
   "outputs": [],
   "source": []
  },
  {
   "cell_type": "code",
   "execution_count": null,
   "id": "903eb9f7-5195-440c-832d-c41406080d8e",
   "metadata": {},
   "outputs": [],
   "source": []
  },
  {
   "cell_type": "code",
   "execution_count": null,
   "id": "309491aa-49da-46d4-8f56-93b403f05b8b",
   "metadata": {},
   "outputs": [],
   "source": []
  },
  {
   "cell_type": "code",
   "execution_count": null,
   "id": "78fc03bd-a114-4faf-9a75-051dec0f19c4",
   "metadata": {},
   "outputs": [],
   "source": []
  },
  {
   "cell_type": "code",
   "execution_count": null,
   "id": "ff1fa28b-b092-4764-92ac-5b8c31286101",
   "metadata": {},
   "outputs": [],
   "source": []
  },
  {
   "cell_type": "code",
   "execution_count": null,
   "id": "e40c31ee-feb7-4c5b-a255-18dd944bfa99",
   "metadata": {},
   "outputs": [],
   "source": []
  },
  {
   "cell_type": "code",
   "execution_count": null,
   "id": "a462cc5f-6b92-44d7-ab72-a56c027fab6b",
   "metadata": {},
   "outputs": [],
   "source": []
  },
  {
   "cell_type": "code",
   "execution_count": null,
   "id": "16a533c6-373f-4a24-b2a8-5c6f02fc3115",
   "metadata": {},
   "outputs": [],
   "source": []
  },
  {
   "cell_type": "code",
   "execution_count": null,
   "id": "16a1d354-1ab2-4ed9-b0e6-a937eb91f73b",
   "metadata": {},
   "outputs": [],
   "source": []
  }
 ],
 "metadata": {
  "kernelspec": {
   "display_name": "Python 3 (ipykernel)",
   "language": "python",
   "name": "python3"
  },
  "language_info": {
   "codemirror_mode": {
    "name": "ipython",
    "version": 3
   },
   "file_extension": ".py",
   "mimetype": "text/x-python",
   "name": "python",
   "nbconvert_exporter": "python",
   "pygments_lexer": "ipython3",
   "version": "3.8.8"
  }
 },
 "nbformat": 4,
 "nbformat_minor": 5
}
