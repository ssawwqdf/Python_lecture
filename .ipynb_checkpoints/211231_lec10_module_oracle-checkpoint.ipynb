{
 "cells": [
  {
   "cell_type": "markdown",
   "id": "d87b0124-6f2d-44c4-b342-bd7363d68317",
   "metadata": {},
   "source": [
    "# 10장 모듈"
   ]
  },
  {
   "cell_type": "code",
   "execution_count": null,
   "id": "d64fe27e-5451-4ae4-8aaa-0065b79359f5",
   "metadata": {},
   "outputs": [],
   "source": [
    "pip\n"
   ]
  }
 ],
 "metadata": {
  "kernelspec": {
   "display_name": "Python 3 (ipykernel)",
   "language": "python",
   "name": "python3"
  },
  "language_info": {
   "codemirror_mode": {
    "name": "ipython",
    "version": 3
   },
   "file_extension": ".py",
   "mimetype": "text/x-python",
   "name": "python",
   "nbconvert_exporter": "python",
   "pygments_lexer": "ipython3",
   "version": "3.8.8"
  }
 },
 "nbformat": 4,
 "nbformat_minor": 5
}
