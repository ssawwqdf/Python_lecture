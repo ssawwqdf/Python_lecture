{
 "cells": [
  {
   "cell_type": "code",
   "execution_count": null,
   "id": "649fd027-c9b8-44d1-8a95-8af0bc1703a3",
   "metadata": {},
   "outputs": [],
   "source": [
    "# zip!\n",
    "for names, score in zip(names, scores):\n",
    "    print(name, score)"
   ]
  },
  {
   "cell_type": "markdown",
   "id": "cb4a4043-37ee-42f3-bc5b-5ad48846eb5e",
   "metadata": {
    "tags": []
   },
   "source": [
    "## 5.3 조건에 따라 반복하는 while 문\n",
    "while문 쓸 때는 조건문을 잘 설정하는 게 중요!\n",
    "잘못하면 램 고갈될 때까지 무한루프에 빠진다."
   ]
  },
  {
   "cell_type": "markdown",
   "id": "0cc9e570-ea8a-4e55-aeb1-49cc9a676895",
   "metadata": {
    "tags": []
   },
   "source": [
    "### while 문의 구조"
   ]
  },
  {
   "cell_type": "code",
   "execution_count": 4,
   "id": "3d46834c-ef84-48ba-bc8a-08ef0975dc11",
   "metadata": {},
   "outputs": [
    {
     "name": "stdout",
     "output_type": "stream",
     "text": [
      "i sum\n",
      "1 1\n",
      "2 3\n",
      "3 6\n",
      "4 10\n",
      "5 15\n",
      "6 21\n"
     ]
    }
   ],
   "source": [
    "i = 0     # 초기화\n",
    "sum = 0   # 초기화\n",
    "\n",
    "print(\"i sum\")\n",
    "while (sum < 20):  # 조건 검사\n",
    "    i = i + 1      # i를 1씩 증가.\n",
    "    sum = sum + i  # 이전의 sum과 현재 i를 더해서 sum을 갱신.\n",
    "                    # 얘를 빼면 무한루프에 빠진다. ->얼른 창 닫아라\n",
    "    print(i, sum)  # i와 sum을 출력"
   ]
  },
  {
   "cell_type": "markdown",
   "id": "b3af9e83-2cc1-4841-b5a1-9269bd3b06ce",
   "metadata": {},
   "source": [
    "### 구구단을 외자 while문으로 외자"
   ]
  },
  {
   "cell_type": "code",
   "execution_count": 3,
   "id": "d3808552-7952-4459-b91c-01a541a305b0",
   "metadata": {},
   "outputs": [
    {
     "name": "stdout",
     "output_type": "stream",
     "text": [
      "2 * 1 = 2\t2 * 2 = 4\t2 * 3 = 6\t2 * 4 = 8\t2 * 5 = 10\t2 * 6 = 12\t2 * 7 = 14\t2 * 8 = 16\t2 * 9 = 18\t\n",
      "3 * 1 = 3\t3 * 2 = 6\t3 * 3 = 9\t3 * 4 = 12\t3 * 5 = 15\t3 * 6 = 18\t3 * 7 = 21\t3 * 8 = 24\t3 * 9 = 27\t\n",
      "4 * 1 = 4\t4 * 2 = 8\t4 * 3 = 12\t4 * 4 = 16\t4 * 5 = 20\t4 * 6 = 24\t4 * 7 = 28\t4 * 8 = 32\t4 * 9 = 36\t\n",
      "5 * 1 = 5\t5 * 2 = 10\t5 * 3 = 15\t5 * 4 = 20\t5 * 5 = 25\t5 * 6 = 30\t5 * 7 = 35\t5 * 8 = 40\t5 * 9 = 45\t\n",
      "6 * 1 = 6\t6 * 2 = 12\t6 * 3 = 18\t6 * 4 = 24\t6 * 5 = 30\t6 * 6 = 36\t6 * 7 = 42\t6 * 8 = 48\t6 * 9 = 54\t\n",
      "7 * 1 = 7\t7 * 2 = 14\t7 * 3 = 21\t7 * 4 = 28\t7 * 5 = 35\t7 * 6 = 42\t7 * 7 = 49\t7 * 8 = 56\t7 * 9 = 63\t\n",
      "8 * 1 = 8\t8 * 2 = 16\t8 * 3 = 24\t8 * 4 = 32\t8 * 5 = 40\t8 * 6 = 48\t8 * 7 = 56\t8 * 8 = 64\t8 * 9 = 72\t\n",
      "9 * 1 = 9\t9 * 2 = 18\t9 * 3 = 27\t9 * 4 = 36\t9 * 5 = 45\t9 * 6 = 54\t9 * 7 = 63\t9 * 8 = 72\t9 * 9 = 81\t\n"
     ]
    }
   ],
   "source": [
    "x=2\n",
    "y=1\n",
    "while(x<10) :\n",
    "    y=1\n",
    "    while(y<10):\n",
    "        print(x,\"*\",y,\"=\",x*y,end=\"\\t\") #탭\n",
    "        y=y+1\n",
    "    print(\"\") #단마다 줄바꿈\n",
    "    x=x+1"
   ]
  },
  {
   "cell_type": "markdown",
   "id": "68e0b215-6746-469c-a3f7-94e84fd8d229",
   "metadata": {},
   "source": [
    "## 5.4 반복문을 제어하는 break와 continue\n",
    "->비추. 특히 메모리 관리하는 사람한테.\n",
    "돌 상황인데 굳이 멈추고 멈출 상황인데 굳이 지속해야됨."
   ]
  },
  {
   "cell_type": "markdown",
   "id": "73beef71-5b3c-4c4d-8db1-ff9d23abf6e9",
   "metadata": {},
   "source": [
    "### 반복문을 빠져나오는 break"
   ]
  },
  {
   "cell_type": "markdown",
   "id": "77bb21b8-f7cd-470a-b68e-cbea79b95dd3",
   "metadata": {},
   "source": [
    "**[5장: 89페이지]**"
   ]
  },
  {
   "cell_type": "code",
   "execution_count": 4,
   "id": "5949b601-8ea0-425c-ae1e-ba06773baa1d",
   "metadata": {},
   "outputs": [
    {
     "name": "stdout",
     "output_type": "stream",
     "text": [
      "1\n",
      "2\n",
      "3\n"
     ]
    }
   ],
   "source": [
    "k=0\n",
    "while True: \n",
    "    k = k + 1  # k는 1씩 증가\n",
    "    \n",
    "    if(k > 3): # k가 3보다 크면 \n",
    "        break  # break로 while 문을 빠져나옴\n",
    "        \n",
    "    print(k)   # k 출력"
   ]
  },
  {
   "cell_type": "markdown",
   "id": "4b64973e-4570-42a4-b398-8fc5d2422251",
   "metadata": {},
   "source": [
    "**[5장: 89페이지]**"
   ]
  },
  {
   "cell_type": "code",
   "execution_count": null,
   "id": "01cbdd81-06c4-4868-bdd5-4c9c71419b09",
   "metadata": {},
   "outputs": [],
   "source": [
    "for k in range(10):  \n",
    "    if(k > 2):   # k 가 2보다 크면 \n",
    "        break    # break로 for 문을 빠져나옴 \n",
    "        \n",
    "    print(k)     # k 출력        "
   ]
  },
  {
   "cell_type": "markdown",
   "id": "c13c0f05-ba70-4c3f-acc2-1b821b88edaf",
   "metadata": {},
   "source": [
    "### 다음 반복을 실행하는 continue"
   ]
  },
  {
   "cell_type": "markdown",
   "id": "ca766de1-efa0-409c-b6b7-b4f4bc5cc5c2",
   "metadata": {},
   "source": [
    "**[5장: 90페이지]**"
   ]
  },
  {
   "cell_type": "code",
   "execution_count": 5,
   "id": "e9036aa4-7357-42b0-96b2-23d13025fabd",
   "metadata": {
    "scrolled": true
   },
   "outputs": [
    {
     "name": "stdout",
     "output_type": "stream",
     "text": [
      "0\n",
      "1\n",
      "3\n",
      "4\n"
     ]
    }
   ],
   "source": [
    "# continue하는 순간 위로 다시 튕겨 올라감.(2 print 안 함)\n",
    "for k in range(5):\n",
    "    if(k == 2):\n",
    "        continue\n",
    "        \n",
    "    print(k)"
   ]
  },
  {
   "cell_type": "markdown",
   "id": "97d7515d-e392-4e61-b39d-a2a958a9bd1b",
   "metadata": {},
   "source": [
    "**[5장: 91페이지]**"
   ]
  },
  {
   "cell_type": "code",
   "execution_count": null,
   "id": "635df584-70f8-4602-942b-d7cacbd19f19",
   "metadata": {},
   "outputs": [],
   "source": [
    "k = 0\n",
    "while True:\n",
    "    k = k + 1\n",
    "    \n",
    "    if(k == 2):\n",
    "        print(\"continue next\")\n",
    "        continue\n",
    "    if(k > 4):\n",
    "        break\n",
    "        \n",
    "    print(k)"
   ]
  },
  {
   "cell_type": "markdown",
   "id": "6114f36f-90d2-4201-be8a-8880e07a8b5f",
   "metadata": {},
   "source": [
    "## 5.5 간단하게 반복하는 한 줄 for 문\n",
    "-> 자신 없으면 그냥 for문 써라. 전기수에서도 못 하는 사람이 반.  \n",
    "-> 하지만 많이 쓴다."
   ]
  },
  {
   "cell_type": "markdown",
   "id": "4fbe0dc6-e4c3-4c57-b575-bd1ad0ce5aa7",
   "metadata": {},
   "source": [
    "### 리스트 컴프리헨션의 기본 구조"
   ]
  },
  {
   "cell_type": "markdown",
   "id": "a832afd7-12f1-425a-bfaf-a07d26dd3134",
   "metadata": {},
   "source": [
    "**[5장: 92페이지]**"
   ]
  },
  {
   "cell_type": "code",
   "execution_count": null,
   "id": "a55901a1-1050-4838-ab0b-9421bce404cc",
   "metadata": {},
   "outputs": [],
   "source": [
    "numbers = [1,2,3,4,5]\n",
    "square = []\n",
    "\n",
    "for i in numbers:\n",
    "    square.append(i**2)\n",
    "    \n",
    "print(square)"
   ]
  },
  {
   "cell_type": "markdown",
   "id": "c5abb57c-d63f-474d-a160-5fc36c73d943",
   "metadata": {},
   "source": [
    "**[5장: 92페이지]**"
   ]
  },
  {
   "cell_type": "code",
   "execution_count": null,
   "id": "dd60b875-98ba-402d-8da4-cd3a3e9a93a3",
   "metadata": {},
   "outputs": [],
   "source": [
    "numbers = [1,2,3,4,5]\n",
    "square = [i**2 for i in numbers]\n",
    "print(square)"
   ]
  },
  {
   "cell_type": "markdown",
   "id": "dc8d7cf4-6137-480d-849f-9ad1d4289714",
   "metadata": {},
   "source": [
    "### 조건문을 포함한 리스트 컴프리헨션"
   ]
  },
  {
   "cell_type": "markdown",
   "id": "a1a3e832-4c9b-463f-b83e-0a288ab867d3",
   "metadata": {},
   "source": [
    "**[5장: 93페이지]**"
   ]
  },
  {
   "cell_type": "code",
   "execution_count": null,
   "id": "7e12dac0-4975-438d-bbaa-447e3abcfcd6",
   "metadata": {},
   "outputs": [],
   "source": [
    "numbers = [1,2,3,4,5]\n",
    "square = []\n",
    "\n",
    "for i in numbers:\n",
    "    if i >= 3:\n",
    "        square.append(i**2)\n",
    "    \n",
    "print(square)"
   ]
  },
  {
   "cell_type": "markdown",
   "id": "c211b074-7553-4770-88af-edafa0348537",
   "metadata": {},
   "source": [
    "**[5장: 93페이지]**"
   ]
  },
  {
   "cell_type": "code",
   "execution_count": null,
   "id": "b049c006-7df3-4ec4-953e-47f611af7152",
   "metadata": {},
   "outputs": [],
   "source": [
    "numbers = [1,2,3,4,5]\n",
    "square = [i**2 for i in numbers if i>=3]\n",
    "\n",
    "print(square)"
   ]
  },
  {
   "cell_type": "code",
   "execution_count": 23,
   "id": "e9120403-7508-4b05-b24b-01870b2d8661",
   "metadata": {},
   "outputs": [
    {
     "name": "stdout",
     "output_type": "stream",
     "text": [
      "[1, 2, 3, 4, 5]\n",
      "[1, 2, 3, 4, 5]\n"
     ]
    }
   ],
   "source": [
    "### for 한 줄 표현\n",
    "\n",
    "numbers=[1,2,3,4,5]\n",
    "print(numbers)\n",
    "one=[i for i in numbers]\n",
    "print(one)"
   ]
  },
  {
   "cell_type": "code",
   "execution_count": 56,
   "id": "021de839-5c6b-4922-bbb0-73b6ed87e54b",
   "metadata": {},
   "outputs": [
    {
     "name": "stdout",
     "output_type": "stream",
     "text": [
      "[1, 3, 5]\n",
      "['1 홀수', '3 홀수', '5 홀수']\n"
     ]
    }
   ],
   "source": [
    "### for + if 한줄표현\n",
    "\n",
    "#도전 -> 실패\n",
    "numbers=[1,2,3,4,5]\n",
    "hol=[i for i in numbers if i%2==1]\n",
    "print(hol)\n",
    "# hol=[i for i in numbers if numbers%%2=1] 실수한 부분 확인\n",
    "\n",
    "# 실패\n",
    "# holhol=[(i,h) for (i,h) in zip(numbers,\"홀수\") if i%2==1]\n",
    "# print(holhol)\n",
    "\n",
    "# 답\n",
    "print( [str(i)+\" 홀수\"for i  in numbers if i%2==1] )"
   ]
  },
  {
   "cell_type": "markdown",
   "id": "72046ea4-a2bc-45f1-bb11-e3db19f35cc0",
   "metadata": {},
   "source": [
    "### if, else 있을 때 한 줄 코딩"
   ]
  },
  {
   "cell_type": "code",
   "execution_count": 63,
   "id": "6c27eb2b-d60e-4243-a8ca-a5976a841315",
   "metadata": {},
   "outputs": [
    {
     "name": "stdout",
     "output_type": "stream",
     "text": [
      "홀수\n"
     ]
    }
   ],
   "source": [
    "numbers=[1,2,3,4,5]\n",
    "\n",
    "print(\"홀수\" if (i%2) == 1 else \"짝수\")\n"
   ]
  },
  {
   "cell_type": "code",
   "execution_count": 107,
   "id": "7bd2ecd2-128c-47cd-825f-2954a59e7ae1",
   "metadata": {},
   "outputs": [
    {
     "ename": "SyntaxError",
     "evalue": "invalid syntax (Temp/ipykernel_15716/1457948589.py, line 11)",
     "output_type": "error",
     "traceback": [
      "\u001b[1;36m  File \u001b[1;32m\"C:\\Users\\LHL\\AppData\\Local\\Temp/ipykernel_15716/1457948589.py\"\u001b[1;36m, line \u001b[1;32m11\u001b[0m\n\u001b[1;33m    print( [\"홀수\" if (i%2) ==1 for i in numbers] )\u001b[0m\n\u001b[1;37m                              ^\u001b[0m\n\u001b[1;31mSyntaxError\u001b[0m\u001b[1;31m:\u001b[0m invalid syntax\n"
     ]
    }
   ],
   "source": [
    "numbers=[1,2,3,4,5]\n",
    "\n",
    "# 왜 아래처럼 하면 1만 하고 멈출까?\n",
    "# print( [(i,h) for (i,h) in zip(numbers,[\"홀수\" if i%2==1 else \"짝수\"])])\n",
    "\n",
    "# 강사님\n",
    "# else가 있으면 for문 앞으로 if절 전체를 뺀다.\n",
    "print( [\"홀수\" if (i%2) ==1 else \"짝수\" for i in numbers] )\n",
    "\n",
    "# else 없이 for문 앞으로 빼면 에러--------------\n",
    "# print( [\"홀수\" if (i%2) ==1 for i in numbers] ) --error"
   ]
  },
  {
   "cell_type": "code",
   "execution_count": 136,
   "id": "fdff6f9a-d174-4776-a8aa-49b81fda1519",
   "metadata": {},
   "outputs": [
    {
     "name": "stdout",
     "output_type": "stream",
     "text": [
      "1\n",
      "2\n",
      "짝\n",
      "4\n",
      "5\n",
      "짝\n",
      "7\n",
      "8\n",
      "짝\n",
      "[1, 2, '박수', 4, 5, '박수', 7, 8, '박수']\n",
      "[1, 2, '박수', 4, 5, '박수', 7, 8, '박수']\n",
      "[1, 2, '박수', 4, 5, '박수', 7, 8, '박수']\n"
     ]
    }
   ],
   "source": [
    "#for문에서 elif는 없다.\n",
    "\n",
    "numbers = [1, 2, 3, 4, 5, 6, 7, 8, 9]\n",
    "for i in numbers:\n",
    "        if (i%3) ==0:\n",
    "            print(\"짝\")\n",
    "        else:\n",
    "            print(i)\n",
    "            \n",
    "print( [i if i%3==1 or i%3==2 else \"박수\" for i in numbers])\n",
    "\n",
    "print( [\"박수\" if i%3==0 else i for i in numbers])\n",
    "\n",
    "print( [i if (i%3==1) else (i if i%3==2 else \"박수\") for i in numbers])\n"
   ]
  },
  {
   "cell_type": "markdown",
   "id": "21ed8476-804f-4396-9341-cec447193325",
   "metadata": {},
   "source": [
    "# 6장 입력과 출력"
   ]
  },
  {
   "cell_type": "markdown",
   "id": "308f9704-3aa4-4f31-b532-2bbe8a0d62f1",
   "metadata": {
    "tags": []
   },
   "source": [
    "jupyter에서 직접 input 불러오기보다는 외부에서 입력하게 하는 게 일반적.  \n",
    "따라서 input보다는 output에 집중하겠다."
   ]
  },
  {
   "cell_type": "code",
   "execution_count": 137,
   "id": "2c80871e-677e-4189-a990-19fb5ce5c080",
   "metadata": {},
   "outputs": [
    {
     "name": "stdout",
     "output_type": "stream",
     "text": [
      "Hello Python!!\n",
      "Hello Python!!\n"
     ]
    }
   ],
   "source": [
    "print(\"Hello Python!!\")\n",
    "\n",
    "#보통은 이렇게 하드코딩하기보다는 아래처럼 한다.\n",
    "ss=\"Hello Python!!\"\n",
    "print(ss)"
   ]
  },
  {
   "cell_type": "markdown",
   "id": "65e0f13f-f63f-4250-9cab-75a7cbe2d0c7",
   "metadata": {},
   "source": [
    "**[6장: 96페이지]**"
   ]
  },
  {
   "cell_type": "code",
   "execution_count": null,
   "id": "991a702d-9e81-4e89-a8a2-775a65308889",
   "metadata": {
    "scrolled": true
   },
   "outputs": [],
   "source": [
    "print(\"Best\", \"python\", \"book\")"
   ]
  },
  {
   "cell_type": "markdown",
   "id": "744d1c76-7247-42dd-a06a-93e48ec9ccad",
   "metadata": {},
   "source": [
    "**[6장: 96페이지]**"
   ]
  },
  {
   "cell_type": "code",
   "execution_count": 138,
   "id": "d703911f-b1ce-448d-8d28-c6f539f9090f",
   "metadata": {},
   "outputs": [
    {
     "name": "stdout",
     "output_type": "stream",
     "text": [
      "Best-:*:-python-:*:-book\n"
     ]
    }
   ],
   "source": [
    "print(\"Best\", \"python\", \"book\", sep = \"-:*:-\")\n",
    "#sep: 한 프린트 내에서의 분리\n",
    "#emd: 해당 프린트문 끝나고 붙이는 것.\n",
    "#sep=\"\"이면 그냥 붙여쓰는듯."
   ]
  },
  {
   "cell_type": "markdown",
   "id": "bf0f7bcb-617c-4236-90bf-5fa7ecfb9479",
   "metadata": {},
   "source": [
    "**[6장: 96페이지]**"
   ]
  },
  {
   "cell_type": "code",
   "execution_count": 139,
   "id": "39f68244-2d19-4d5f-a6f7-73582ce56053",
   "metadata": {},
   "outputs": [
    {
     "name": "stdout",
     "output_type": "stream",
     "text": [
      "abcdefg\n",
      "abcd efg\n"
     ]
    }
   ],
   "source": [
    "print(\"abcd\" + \"efg\") #합치기. 띄어쓰기 없음.\n",
    "print(\"abcd\",\"efg\") # 나열. 사이에 띄어쓰기 존재."
   ]
  },
  {
   "cell_type": "markdown",
   "id": "2d974efa-1e91-4ecb-a2f6-f359e5422098",
   "metadata": {},
   "source": [
    "**[6장: 96페이지]**"
   ]
  },
  {
   "cell_type": "code",
   "execution_count": null,
   "id": "4b6af37a-590e-4ba3-99b8-0426a10b7ccc",
   "metadata": {
    "tags": []
   },
   "outputs": [],
   "source": [
    "print(\"Best\", \"python\", \"book\" + \":\", \"This book\")"
   ]
  },
  {
   "cell_type": "code",
   "execution_count": null,
   "id": "ab9ea587-d4dd-4091-9fe4-d2a2516ed154",
   "metadata": {},
   "outputs": [],
   "source": [
    "x = 10\n",
    "print(x)"
   ]
  },
  {
   "cell_type": "markdown",
   "id": "f80a7cdc-de19-4b9f-9a2b-059787965cbe",
   "metadata": {},
   "source": [
    "**[6장: 97페이지]**"
   ]
  },
  {
   "cell_type": "code",
   "execution_count": null,
   "id": "61435ecb-ff00-4f62-a673-cbc3d2c2ea42",
   "metadata": {},
   "outputs": [],
   "source": [
    "name = \"James\"\n",
    "ID_num = 789\n",
    "print(\"Name:\", name + \",\", \"ID Number:\", ID_num )"
   ]
  },
  {
   "cell_type": "markdown",
   "id": "b4a546ae-0732-4aa0-9b86-ae9c83d5594a",
   "metadata": {},
   "source": [
    "**[6장: 97페이지]**"
   ]
  },
  {
   "cell_type": "code",
   "execution_count": 140,
   "id": "f396dad5-a97b-42cd-a3c9-6e545cb2f945",
   "metadata": {},
   "outputs": [
    {
     "name": "stdout",
     "output_type": "stream",
     "text": [
      "James is my friend.\n",
      "He is Korean.\n"
     ]
    }
   ],
   "source": [
    "print(\"James is my friend.\\nHe is Korean.\")"
   ]
  },
  {
   "cell_type": "markdown",
   "id": "d029610e-f576-411d-ba8f-91c51b8035e7",
   "metadata": {},
   "source": [
    "**[6장: 97페이지]**"
   ]
  },
  {
   "cell_type": "code",
   "execution_count": 141,
   "id": "63735d35-1503-4150-a8fd-df6d400de592",
   "metadata": {
    "scrolled": true
   },
   "outputs": [
    {
     "name": "stdout",
     "output_type": "stream",
     "text": [
      "James is my friend.\n",
      "\n",
      "He is Korean.\n"
     ]
    }
   ],
   "source": [
    "print(\"James is my friend.\\n\\nHe is Korean.\")"
   ]
  },
  {
   "cell_type": "markdown",
   "id": "91e88d08-2b85-4971-9dbd-1ec02b139abd",
   "metadata": {},
   "source": [
    "**[6장: 97페이지]**"
   ]
  },
  {
   "cell_type": "code",
   "execution_count": 142,
   "id": "8c1d2fcc-f184-4e28-bfab-b6c2a8738481",
   "metadata": {},
   "outputs": [
    {
     "name": "stdout",
     "output_type": "stream",
     "text": [
      "Welcome to \n",
      "python!\n"
     ]
    }
   ],
   "source": [
    "print(\"Welcome to \")\n",
    "print(\"python!\")"
   ]
  },
  {
   "cell_type": "markdown",
   "id": "e329f8e0-8f37-4f61-b628-c3b64e1e9692",
   "metadata": {},
   "source": [
    "**[6장: 98페이지]**"
   ]
  },
  {
   "cell_type": "code",
   "execution_count": 143,
   "id": "2d3db45e-59a8-48da-a6bf-1077ea7c2217",
   "metadata": {},
   "outputs": [
    {
     "name": "stdout",
     "output_type": "stream",
     "text": [
      "Welcome to python!\n"
     ]
    }
   ],
   "source": [
    "print(\"Welcome to \", end=\"\")\n",
    "print(\"python!\")\n",
    "#end=\"\"쓰면 붙여서 쓴다."
   ]
  },
  {
   "cell_type": "markdown",
   "id": "3e15a36c-3dc3-4274-8b3d-fb89ac4325bf",
   "metadata": {},
   "source": [
    "### 형식 지정 출력"
   ]
  },
  {
   "cell_type": "markdown",
   "id": "331e39e8-66f4-45da-abd2-f86bf554117d",
   "metadata": {},
   "source": [
    "#### 나머지 연산자(%)를 이용한 형식 및 위치 지정"
   ]
  },
  {
   "cell_type": "markdown",
   "id": "2e5f314c-3d39-4b8d-b017-bdcd7d36f1bb",
   "metadata": {},
   "source": [
    "**[6장: 99페이지]**"
   ]
  },
  {
   "cell_type": "code",
   "execution_count": null,
   "id": "a9b9760a-b397-418c-b333-328e5074614a",
   "metadata": {},
   "outputs": [],
   "source": [
    "name = \"광재\"\n",
    "print(\"%s는 나의 친구입니다.\" % name)\n",
    "\n",
    "#s: string, f: float, d: digit"
   ]
  },
  {
   "cell_type": "markdown",
   "id": "4b1861be-4dca-4515-b7eb-12c671846d10",
   "metadata": {},
   "source": [
    "**[6장: 99페이지]**"
   ]
  },
  {
   "cell_type": "code",
   "execution_count": 145,
   "id": "95972df4-9214-40b3-9d3e-4829a34989b2",
   "metadata": {
    "scrolled": true
   },
   "outputs": [
    {
     "name": "stdout",
     "output_type": "stream",
     "text": [
      "반지름: 3, 원주율: 3.141593\n"
     ]
    }
   ],
   "source": [
    "r = 3  # 변수 r에 정수 데이터 할당\n",
    "PI = 3.14159265358979 # 변수 PI에 실수 데이터 할당\n",
    "print(\"반지름: %d, 원주율: %f\" % (r, PI)) # 지정된 위치에 데이터 출력"
   ]
  },
  {
   "cell_type": "markdown",
   "id": "057c4419-155b-40e0-a1d3-f07d92b126ec",
   "metadata": {},
   "source": [
    "* normal"
   ]
  },
  {
   "cell_type": "code",
   "execution_count": 148,
   "id": "ef857a32-6bc3-4eb5-9cbd-653ebcef7885",
   "metadata": {},
   "outputs": [
    {
     "name": "stdout",
     "output_type": "stream",
     "text": [
      "a10b999\n",
      "a--10--b--999\n"
     ]
    }
   ],
   "source": [
    "num=999\n",
    "print(\"a\",10,\"b\",num, sep=\"\")\n",
    "print(\"a\",10,\"b\",num, sep=\"--\")"
   ]
  },
  {
   "cell_type": "code",
   "execution_count": 150,
   "id": "e9b2ad45-2be2-4e4a-960d-4e7d5d605367",
   "metadata": {},
   "outputs": [
    {
     "name": "stdout",
     "output_type": "stream",
     "text": [
      "a10b999\ta--10--b--999\n",
      "a--10--b--999\n"
     ]
    }
   ],
   "source": [
    "num=999\n",
    "print(\"a\",10,\"b\",num, sep=\"\", end=\"\\t\")\n",
    "print(\"a\",10,\"b\",num, sep=\"--\", end=\"\\n\")\n",
    "print(\"a\",10,\"b\",num, sep=\"--\")"
   ]
  },
  {
   "cell_type": "markdown",
   "id": "8edcbdc4-a60a-4689-93d3-626dfe33bf09",
   "metadata": {},
   "source": [
    "* %기호 이용.\n",
    "* %s: 글자, %d:숫자, %f: 실수\n",
    "### print( \"....%d....%f....\" %(변수1, 변수2)   )\n",
    "-> 여러개 쓸 때 변수 나타내는 % 뒤에 괄호 꼭 붙여주기."
   ]
  },
  {
   "cell_type": "code",
   "execution_count": 155,
   "id": "04ab4876-9222-45d7-8023-779d07293935",
   "metadata": {},
   "outputs": [
    {
     "name": "stdout",
     "output_type": "stream",
     "text": [
      "홍길동 님은 100이며 이는 전국 0.700000 등급입니다.\n"
     ]
    }
   ],
   "source": [
    "name=\"홍길동\"\n",
    "score=100\n",
    "rate=0.7\n",
    "\n",
    "print( \"%s 님은 %d이며 이는 전국 %f 등급입니다.\" %(name,score,rate))\n",
    "# \"\"랑 %사이에 , 안 들어감. 유의"
   ]
  },
  {
   "cell_type": "markdown",
   "id": "b2165621-de9a-4010-a3d4-b13479405b69",
   "metadata": {},
   "source": [
    "#### 형식 지정 문자열에서 출력 위치 지정\n",
    "근데 사실 엄청 중요한 건 아니다\n",
    "다시보기 그래도"
   ]
  },
  {
   "cell_type": "markdown",
   "id": "e6345679-61eb-4d60-bff1-fea8d96b0e2e",
   "metadata": {},
   "source": [
    "**[6장: 100페이지]**"
   ]
  },
  {
   "cell_type": "code",
   "execution_count": 156,
   "id": "4d02bf65-06fa-4d53-a91d-4a0ac366c05b",
   "metadata": {},
   "outputs": [
    {
     "name": "stdout",
     "output_type": "stream",
     "text": [
      "Animal: cat\n",
      "Animal: cat,dog,fox\n"
     ]
    }
   ],
   "source": [
    "animal_0 = \"cat\"\n",
    "animal_1 = \"dog\"\n",
    "animal_2 = \"fox\"\n",
    "\n",
    "print(\"Animal: {0}\".format(animal_0))\n",
    "print(\"Animal: {0},{1},{2}\".format(animal_0, animal_1, animal_2))"
   ]
  },
  {
   "cell_type": "markdown",
   "id": "ff727fa8-5401-4eb9-9c9a-5277a0ef2499",
   "metadata": {},
   "source": [
    "**[6장: 100페이지]**"
   ]
  },
  {
   "cell_type": "code",
   "execution_count": 157,
   "id": "5155b44a-01e2-442d-8362-6f78c6b302e6",
   "metadata": {},
   "outputs": [
    {
     "name": "stdout",
     "output_type": "stream",
     "text": [
      "Animal: dog,fox,cat\n"
     ]
    }
   ],
   "source": [
    "print(\"Animal: {1},{2},{0}\".format(animal_0, animal_1, animal_2))"
   ]
  },
  {
   "cell_type": "markdown",
   "id": "c4f255ec-b506-4c66-a57f-0fae654cb5d6",
   "metadata": {},
   "source": [
    "**[6장: 100페이지]**"
   ]
  },
  {
   "cell_type": "code",
   "execution_count": null,
   "id": "1d44e89f-bd6f-4842-807a-f6ea9970bf80",
   "metadata": {},
   "outputs": [],
   "source": [
    "print(\"Animal: {0},{2}\".format(animal_0, animal_1, animal_2))"
   ]
  },
  {
   "cell_type": "markdown",
   "id": "ac67d7c8-c3f6-4a41-90de-e6cfa450acb5",
   "metadata": {},
   "source": [
    "**[6장: 101페이지]**"
   ]
  },
  {
   "cell_type": "code",
   "execution_count": null,
   "id": "f0e788cd-5afe-4698-889a-e272562faeba",
   "metadata": {},
   "outputs": [],
   "source": [
    "print(\"Animal: {}, {}, {}\".format(animal_0, animal_1, animal_2))"
   ]
  },
  {
   "cell_type": "markdown",
   "id": "da0094c3-0a7f-477d-97cb-ce62cc6bca99",
   "metadata": {},
   "source": [
    "**[6장: 101페이지]**"
   ]
  },
  {
   "cell_type": "code",
   "execution_count": null,
   "id": "e16a20fd-028a-45a5-a88c-2f933dabeaea",
   "metadata": {},
   "outputs": [],
   "source": [
    "name = \"Tomas\"\n",
    "age = 10\n",
    "a = 0.1234567890123456789\n",
    "fmt_string = \"String: {0}. Integer Number: {1}. Floating Number: {2}\"\n",
    "print(fmt_string.format(name, age, a))"
   ]
  },
  {
   "cell_type": "markdown",
   "id": "aad6fd56-57fa-4907-bceb-a796b29463a5",
   "metadata": {},
   "source": [
    "#### 형식 지정 문자열에서 숫자 출력 형식 지정"
   ]
  },
  {
   "cell_type": "markdown",
   "id": "d8526f25-cb8c-4659-a2bd-78b7e4b63518",
   "metadata": {},
   "source": [
    "**[6장: 101페이지]**"
   ]
  },
  {
   "cell_type": "code",
   "execution_count": 160,
   "id": "92798461-bbe1-46b4-975a-42014233e4e5",
   "metadata": {},
   "outputs": [
    {
     "name": "stdout",
     "output_type": "stream",
     "text": [
      "0.12, 0.12346\n"
     ]
    }
   ],
   "source": [
    "num = 0.1234567890123456789\n",
    "print(\"{0:.2f}, {0:.5f}\".format(a)) # 0번째 두 번 찍어라.\n",
    "# .2f: 소수점 둘째 자리까지, .5f: 소수점 다섯째 자리까지\n"
   ]
  },
  {
   "cell_type": "code",
   "execution_count": 159,
   "id": "9dbf0806-5400-4f84-9487-d40cafe16102",
   "metadata": {},
   "outputs": [
    {
     "name": "stdout",
     "output_type": "stream",
     "text": [
      "0.12, 0.12346\n"
     ]
    }
   ],
   "source": [
    "num = 123.1234567890123456789\n",
    "print(f\"{num:.2f}, {num:.5f}\") # format 신규문법\n",
    "print(f\""
   ]
  },
  {
   "cell_type": "code",
   "execution_count": 170,
   "id": "e82d6432-006a-4129-86bc-e957ca838ef8",
   "metadata": {},
   "outputs": [
    {
     "name": "stdout",
     "output_type": "stream",
     "text": [
      "홍길동님은 100점입니다\n",
      "홍길동님은 100점입니다.\n",
      "100님은 홍길동점입니다.\n",
      "홍길동님은 홍길동점입니다.\n",
      "홍길동님은100.00점입니다\n",
      "홍길동님     은100.00점입니다\n"
     ]
    }
   ],
   "source": [
    "# console에 출력되는 print문은 개발자가 보려고 쓰는 거지 다른 사람 보여주려고 쓰는 게 아니다.\n",
    "# 다 알 필요는 없고 주로 쓰는 것만 써라.\n",
    "\n",
    "name=\"홍길동\"\n",
    "score=100\n",
    "print(\"%s님은 %d점입니다\"%(name, score)) # 추천\n",
    "print(\"{}님은 {}점입니다.\".format(name, score))\n",
    "print(\"{1}님은 {0}점입니다.\".format(name,score)) ##비추비추비추. 굳이 반대로?\n",
    "print(\"{0}님은 {0}점입니다.\".format(name)) ## {} 개수와 변수개수가 같을 필요는 없다.\n",
    "# print(\"{0}님은 {1}점입니다.\".format(name)) ##하지만 {0}, {1} 이렇게 다르면 변수개수랑 같아야됨.\n",
    "\n",
    "print(f\"{name}님은{score:.2f}점입니다\") #제일 강추!!! 제일심플. :.2f는 소수점 두 개로 맞추라는 의미\n",
    "print(f\"{name}님     은{score:.2f}점입니다\") #띄어쓰기도 맘대로 편하게 넣을 수 있다."
   ]
  },
  {
   "cell_type": "markdown",
   "id": "a182a799-722b-49cc-aafe-646dbe4a0f84",
   "metadata": {
    "tags": []
   },
   "source": [
    "## 6.1 키보드 입력\n",
    "콘솔창에 근데 이런 짓 하지 마라. 걍 있으니까 보여주는 거 "
   ]
  },
  {
   "cell_type": "markdown",
   "id": "79a46073-7b85-41d9-88ed-8fb236c3a08b",
   "metadata": {},
   "source": [
    "**[6장: 103페이지]**"
   ]
  },
  {
   "cell_type": "code",
   "execution_count": 171,
   "id": "50c48d16-d406-4cf4-93e9-e2382e0d1ef6",
   "metadata": {},
   "outputs": [
    {
     "name": "stdin",
     "output_type": "stream",
     "text": [
      "당신의 이름은?  린\n"
     ]
    },
    {
     "name": "stdout",
     "output_type": "stream",
     "text": [
      "당신은 린이군요.\n"
     ]
    }
   ],
   "source": [
    "yourName = input(\"당신의 이름은? \")\n",
    "print(\"당신은 {}이군요.\".format(yourName))"
   ]
  },
  {
   "cell_type": "markdown",
   "id": "9f797115-b021-4fa1-91ad-ae22b18638c0",
   "metadata": {},
   "source": [
    "**[6장: 103페이지]**"
   ]
  },
  {
   "cell_type": "code",
   "execution_count": null,
   "id": "29c2eff1-b1c0-454e-b797-560d0f56f629",
   "metadata": {},
   "outputs": [],
   "source": [
    "num = input(\"숫자를 입력하세요: \")\n",
    "print(\"당신이 입력한 숫자는 {}입니다.\".format(num))"
   ]
  },
  {
   "cell_type": "markdown",
   "id": "53db3ee3-a94d-4bff-bcb7-805e27aed2a9",
   "metadata": {},
   "source": [
    "**[6장: 103페이지]**"
   ]
  },
  {
   "cell_type": "markdown",
   "id": "81bcbacb-5753-4a4e-b59f-913f568e604e",
   "metadata": {},
   "source": [
    "# ch 6 에 필기했음 아래부터 다시\n",
    "print 별로 안 중요. 굳이 하면 format 이정도  \n",
    "키보드 연습도\n",
    "하지만 file 읽고 쓰기는 엄청 중요!!!!!!!!!!!!"
   ]
  },
  {
   "cell_type": "markdown",
   "id": "2f33db7c-b46b-455c-998d-234671d132dd",
   "metadata": {},
   "source": [
    "## 6.3 파일 읽고 쓰기\n",
    "데이터 불러오는 방법\n",
    "- 외부에서 읽기\n",
    "- 데이터 프레임 (데이터 베이스에서 온다.)\n",
    "- 파일 읽기\n",
    "    - 어떤 디렉토리에 있는 목록 불러올 수 있어야 함"
   ]
  },
  {
   "cell_type": "markdown",
   "id": "fea04889-7212-4999-9a26-dde4c4442ad8",
   "metadata": {},
   "source": [
    "### 파일 열기\n"
   ]
  },
  {
   "cell_type": "markdown",
   "id": "115f29de-cd6c-4bb1-b6eb-25c1692bc019",
   "metadata": {},
   "source": [
    "### 파일 쓰기"
   ]
  },
  {
   "cell_type": "code",
   "execution_count": 1,
   "id": "bc8817dc-9ee5-4c8c-a06a-dd18c9694d53",
   "metadata": {},
   "outputs": [
    {
     "name": "stdout",
     "output_type": "stream",
     "text": [
      "C:\\AI\n"
     ]
    }
   ],
   "source": [
    "cd C:\\myPyCode  #우리한텐 없으니 따라하기 ㄴㄴ"
   ]
  },
  {
   "cell_type": "code",
   "execution_count": null,
   "id": "a9104d7b-e108-4b79-a2a0-34e2c5a29bf9",
   "metadata": {},
   "outputs": [],
   "source": [
    "# 우리한텐 없으니 따라 ㄴㄴ\n",
    "f = open('myFile.txt', 'w')           # (1)'myFile.txt' 파일 쓰기 모드로 열기/ 읽기모드는 'r'\n",
    "# f = open('C:\\AI\\'myFile.txt', 'w') cd 안 쓰고 이렇게 열어도 된다. \\n 이런 거 있음 에러날 수도 있다.\n",
    "# cf. 특수기호 그대로 인식하게 하려면 \\를 앞에 붙여준다.\n",
    "# f = open('C:\\\\AI\\\\'myFile.txt', 'w') -> 이렇게 하면 에러 안 난다.\n",
    "f.write('This is my first file.')     # (2) 연 파일에 문자열 쓰기\n",
    "f.close()                             # (3) 파일 닫기"
   ]
  },
  {
   "cell_type": "code",
   "execution_count": null,
   "id": "cb1a5aae-82e3-4db7-9559-8d848177dc11",
   "metadata": {},
   "outputs": [],
   "source": [
    "!type myFile.txt # 이건 파이썬 콘솔에서나 가능한 문법.(개발자들이 확인하는 용)\n",
    "                 # 보통은 아래처럼 open하고 read."
   ]
  },
  {
   "cell_type": "markdown",
   "id": "bf7ed74f-130c-4d92-afc6-456dd9f9942b",
   "metadata": {},
   "source": [
    "### 파일 읽기 -> 이 방법 추천\n",
    "**close 하는 습관 들이자!!!!!**"
   ]
  },
  {
   "cell_type": "code",
   "execution_count": null,
   "id": "75801488-daae-40ad-93e7-dbea87a54e54",
   "metadata": {},
   "outputs": [],
   "source": [
    "f = open('myFile.txt', 'r') # (1)'myFile.txt' 파일 읽기 모드로 열기\n",
    "file_text = f.read()        # (2) 파일 내용 읽은 후에 변수에 저장\n",
    "f.close()                   # (3) 파일 닫기\n",
    "                            # 지금은 interpreter라 안 닫아도 상관 없는데 프로그램으로 만들면 문제될 수 있다.\n",
    "print(file_text)            # 변수에 저장된 내용 출력          \n",
    "\n",
    "#close 안 하면\n",
    "#여러 사람이 연 상태. 맨 처음 사람이 읽느라 stream 하느라 뒫 사람들은 stream이 안 된다.\n"
   ]
  },
  {
   "cell_type": "markdown",
   "id": "1c307d57-1753-46d6-be4d-2f5714b2f04a",
   "metadata": {},
   "source": [
    "for문 이용해서 loop읽기로 바꿔라 ->사실 비추.(몇 줄인지 몰라)\n",
    "특이형태: readline 몇 줄 읽어라."
   ]
  },
  {
   "cell_type": "code",
   "execution_count": 181,
   "id": "4c7b1da3-7505-45fa-8a60-33b687f75a2e",
   "metadata": {},
   "outputs": [
    {
     "name": "stdout",
     "output_type": "stream",
     "text": [
      "1\n",
      "2\n",
      "1\n",
      "2\n",
      "1\n",
      "2\n",
      "\n",
      "1\n",
      "2\n",
      "\n"
     ]
    }
   ],
   "source": [
    "f = open('c:\\\\AI\\\\two_times_table.txt','r')   # 파일을 읽기 모드로 열기\n",
    "for i in range(0,2):\n",
    "    i=f.readline()              # 한 줄씩 문자열을 읽기\n",
    "    print(i, end=\"\")           #end=\"\" 안 하면 readline에 있는 줄바꿈+print 줄바꿈 때문에 두 줄 엔터됨.\n",
    "f.close()                         # 파일 닫기\n",
    "\n",
    "#####강사님\n",
    "f = open('c:\\\\AI\\\\two_times_table.txt','r')   # 파일을 읽기 모드로 열기\n",
    "for i in range(0,2):              #i는 그냥 루프 돌리려고 쓰는 거라 암거나 써도 됨.\n",
    "    line=f.readline()              # 한 줄씩 문자열을 읽기\n",
    "    print(line, end=\"\")\n",
    "f.close()                         # 파일 닫기\n",
    "\n",
    "\n",
    "#####강사님 2 -> 위에 건 읽었을 뿐 담지는 않았다.\n",
    "temp = \"\"\n",
    "f = open('c:\\\\AI\\\\two_times_table.txt','r')   # 파일을 읽기 모드로 열기\n",
    "for i in range(0,2):              #i는 그냥 루프 돌리려고 쓰는 거라 암거나 써도 됨.\n",
    "    line1=f.readline()              # 한 줄씩 문자열을 읽기\n",
    "    temp=temp + line1\n",
    "f.close()                         # 파일 닫기\n",
    "print(temp)\n",
    "\n",
    "#####강사님 3\n",
    "line_list=[]\n",
    "f = open('c:\\\\AI\\\\two_times_table.txt','r')   # 파일을 읽기 모드로 열기\n",
    "for i in range(0,2):              #i는 그냥 루프 돌리려고 쓰는 거라 암거나 써도 됨.\n",
    "    line1=f.readline()              # 한 줄씩 문자열을 읽기\n",
    "    line_list.append(line1)      #굳이 +하려면 line_list=line_list+[line1]?\n",
    "f.close()                         # 파일 닫기\n",
    "print(temp)"
   ]
  },
  {
   "cell_type": "markdown",
   "id": "e82a40a2-78bf-4be3-bbd9-f9a47ac9606f",
   "metadata": {},
   "source": [
    "while문 이용해서 loop읽기로 바꾸자"
   ]
  },
  {
   "cell_type": "code",
   "execution_count": null,
   "id": "2f66591a-41e3-4c95-a732-c3f995bab9e6",
   "metadata": {},
   "outputs": [],
   "source": [
    "#이것도 비추.(지저분)\n",
    "\n",
    "f = open(\"two_times_table.txt\")  # 파일을 읽기 모드로 열기\n",
    "line = f.readline()              # 문자열 한 줄 읽기\n",
    "while line:                     # line이 공백인지 검사해서 반복 여부 결정\n",
    "    print(line, end = \"\")        # 문자열 한 줄 출력(줄 바꿈 안 함)\n",
    "    line = f.readline()          # 문자열 한 줄 읽기\n",
    "f.close() # 파일 닫기"
   ]
  },
  {
   "cell_type": "code",
   "execution_count": 21,
   "id": "dfe232c0-c0e1-4e9a-a907-4851fefc807c",
   "metadata": {},
   "outputs": [
    {
     "name": "stdout",
     "output_type": "stream",
     "text": [
      "2 1\n",
      "2 2\n",
      "2 3\n",
      "2 4\n",
      "2 5\n",
      "0 "
     ]
    }
   ],
   "source": [
    "# 더이상 읽을 라인이 없을 때까지 무한루프\n",
    "\n",
    "f = open('c:\\\\AI\\\\two_times_table.txt','r')   # 파일을 읽기 모드로 열기\n",
    "while True:\n",
    "    line=f.readline()              # 한 줄씩 문자열을 읽기\n",
    "    print(len(line), line, end=\"\")           #end=\"\" 안 하면 readline에 있는 줄바꿈+print 줄바꿈 때문에 두 줄 엔터됨.\n",
    "    if len(line) <= 0:        #무한루프 안 걸리게 확실히 하고 싶으면.\n",
    "    # if line==False:          #이렇게 해도 된댔는데 이러면 무한루프 걸림.\n",
    "         break                # 이 부분 없으면 눈에 안 보여도 무한루프 걸림.\n",
    "f.close()                         # 파일 닫기\n"
   ]
  },
  {
   "cell_type": "markdown",
   "id": "24d33c41-9bdb-485e-bc8b-3f1d6874e694",
   "metadata": {},
   "source": [
    "#### readline이 아니라 readlines 하면 리스트로 반환한다.\n",
    "\n",
    "### 파일 전체 다 읽어오기\n",
    "read : str으로 읽어온다.\n",
    "readlines: 리스트로 읽어온다.(이게 라인 별로 끊기 편해서 이걸 많이 쓴다.)\n"
   ]
  },
  {
   "cell_type": "code",
   "execution_count": 187,
   "id": "398285a1-cc52-4b64-a5d0-08b7b2b8e5f5",
   "metadata": {},
   "outputs": [
    {
     "name": "stdout",
     "output_type": "stream",
     "text": [
      "['1\\n', '2\\n', '3\\n', '4\\n', '5\\n']\n",
      "\n"
     ]
    }
   ],
   "source": [
    "f = open(\"c:\\\\AI\\\\two_times_table.txt\",\"r\") # (1) 파일을 읽기 모드로 열기\n",
    "                                    # r생략해도 기본이 r이긴 함.\n",
    "aaaa = f.readlines()      #[1번라인,2번라인, ....] 리스트 형태로 -> 이래야 끊기 편해서 개발자들 많이 씀.\n",
    "bbbb = f.read()           # str=\"\" str에 line 계속 더해서 str덩어리로\n",
    "f.close()                       # (3) 파일 닫기\n",
    "\n",
    "print(aaaa)\n",
    "print(bbbb)            # 출력 안 됨!\n",
    "    #이렇게 하면 aaaa= readlines에 의해 커서가 맨 밑으로 내려가 있어서\n",
    "\n"
   ]
  },
  {
   "cell_type": "code",
   "execution_count": 188,
   "id": "4813c2ad-456e-4664-852a-35e1f5737bff",
   "metadata": {},
   "outputs": [
    {
     "name": "stdout",
     "output_type": "stream",
     "text": [
      "1\n",
      "2\n",
      "3\n",
      "4\n",
      "5\n",
      "\n"
     ]
    }
   ],
   "source": [
    "f = open(\"c:\\\\AI\\\\two_times_table.txt\",\"r\") # (1) 파일을 읽기 모드로 열기\n",
    "                                    # r생략해도 기본이 r이긴 함.\n",
    "bbbb = f.read()\n",
    "f.close()                       # (3) 파일 닫기\n",
    "\n",
    "print(bbbb)"
   ]
  },
  {
   "cell_type": "markdown",
   "id": "755541a0-4cd6-47cc-bb08-c42321c96265",
   "metadata": {},
   "source": [
    "**[6장: 110페이지]**"
   ]
  },
  {
   "cell_type": "code",
   "execution_count": null,
   "id": "92f89df6-fe3a-4fb0-8fa1-9c1a8c0eb8d3",
   "metadata": {
    "scrolled": true
   },
   "outputs": [],
   "source": [
    "f = open(\"two_times_table.txt\")  # 파일을 읽기 모드로 열기\n",
    "lines = f.readlines()            # 파일 전체 읽기(리스트로 반환)\n",
    "f.close()                        # 파일 닫기\n",
    "for line in lines:              # 리스트를 <반복 범위>로 지정\n",
    "    print(line, end=\"\")          # 리스트 항목을 출력(줄 바꿈 안 함)"
   ]
  },
  {
   "cell_type": "markdown",
   "id": "59715fbc-758a-436f-9a78-3248ed30c1ff",
   "metadata": {},
   "source": [
    "**[6장: 111페이지]**"
   ]
  },
  {
   "cell_type": "code",
   "execution_count": null,
   "id": "1e35f314-e947-4e8c-881f-c100e2fe6dc2",
   "metadata": {
    "tags": []
   },
   "outputs": [],
   "source": [
    "f = open(\"two_times_table.txt\")  # 파일을 읽기 모드로 열기\n",
    "for line in f.readlines():      # 파일 전체를 읽고, 리스트 항목을 line에 할당\n",
    "    print(line, end=\"\")          # 리스트 항목을 출력(줄 바꿈 안 함)\n",
    "f.close()   "
   ]
  },
  {
   "cell_type": "markdown",
   "id": "5b93d0e4-d5ee-4a22-829b-09ae286b1d2d",
   "metadata": {},
   "source": [
    "**[6장: 111페이지]**"
   ]
  },
  {
   "cell_type": "code",
   "execution_count": null,
   "id": "21149201-f677-432d-8074-79adf90a1ee3",
   "metadata": {},
   "outputs": [],
   "source": [
    "f = open(\"two_times_table.txt\") # 파일을 읽기 모드로 열기\n",
    "for line in f:                 # 파일 전체를 읽고, 리스트 항목을 line에 할당\n",
    "    print(line, end=\"\")         # line의 내용 출력(줄 바꿈 안 함)\n",
    "f.close()                       # 파일 닫기"
   ]
  },
  {
   "cell_type": "code",
   "execution_count": null,
   "id": "a5fe6a51-760e-4c76-ac70-ed2ff50521a0",
   "metadata": {},
   "outputs": [],
   "source": []
  },
  {
   "cell_type": "markdown",
   "id": "8fd6d95c-0f7c-4994-a0a1-c4fc73b01926",
   "metadata": {},
   "source": [
    "## 6.5 with 문을 활용해 파일 읽고 쓰기\n",
    "close 깜빡하고 빼먹었을 때 안전장치"
   ]
  },
  {
   "cell_type": "markdown",
   "id": "9f5848ca-39f0-4ba7-a354-7153aa124c19",
   "metadata": {},
   "source": [
    "### with 문의 구조"
   ]
  },
  {
   "cell_type": "markdown",
   "id": "7bca9b73-eb10-468d-bd62-2c3caa1725ff",
   "metadata": {},
   "source": [
    "**[6장: 112페이지]**"
   ]
  },
  {
   "cell_type": "code",
   "execution_count": null,
   "id": "6c8dfb7c-e163-4ac8-8b95-3af7cac45346",
   "metadata": {},
   "outputs": [],
   "source": [
    "f = open('myTextFile.txt', 'w')   # (1) 파일 열기\n",
    "f.write('File write/read test.')  # (2) 파일 쓰기\n",
    "f.close()                         # (3) 파일 닫기"
   ]
  },
  {
   "cell_type": "markdown",
   "id": "41902d50-6381-4033-a450-4d163c65244f",
   "metadata": {},
   "source": [
    "**[6장: 112페이지]**"
   ]
  },
  {
   "cell_type": "code",
   "execution_count": null,
   "id": "4549e3d0-18e0-47cb-a732-9e16362885ae",
   "metadata": {},
   "outputs": [],
   "source": [
    "f = open('myTextFile.txt', 'r')  # (1) 파일 열기\n",
    "test = f.read()                  # (2) 파일 읽기\n",
    "f.close()                        # (3) 파일 닫기 -> 깜빡하면?\n",
    "print(test)"
   ]
  },
  {
   "cell_type": "markdown",
   "id": "01aff8b3-d87b-42a2-8d2f-5ab862a0c4d8",
   "metadata": {},
   "source": [
    "### with문의 활용\n",
    "\n",
    "with open -> close() 자동으로 해준다.  \n",
    "**with open() as {변수명}**  \n",
    "    **변수명.read()**\n",
    "with 블록에서 할 일 끝나면 자동 close"
   ]
  },
  {
   "cell_type": "markdown",
   "id": "3254fbf9-39a0-4159-805b-e3cba41d0415",
   "metadata": {},
   "source": [
    "**[6장: 113페이지]**"
   ]
  },
  {
   "cell_type": "code",
   "execution_count": null,
   "id": "94e1ead6-94eb-4b65-abab-9289ff7595ef",
   "metadata": {},
   "outputs": [],
   "source": [
    "with open('C:/myPyCode/myTextFile2.txt', 'w') as f: # (1) 파일 열기\n",
    "    f.write('File read/write test2: line1\\n')        # (2) 파일 쓰기\n",
    "    f.write('File read/write test2: line2\\n')\n",
    "    f.write('File read/write test2: line3\\n')"
   ]
  },
  {
   "cell_type": "markdown",
   "id": "7c29f0f9-d670-42a6-874e-00be3a09a48b",
   "metadata": {},
   "source": [
    "**[6장: 113페이지]**"
   ]
  },
  {
   "cell_type": "code",
   "execution_count": null,
   "id": "775303b3-6902-4f21-a7b3-e2acf80b14ad",
   "metadata": {
    "code_folding": []
   },
   "outputs": [],
   "source": [
    "with open('C:/myPyCode/myTextFile2.txt') as f: # (1) 파일 열기\n",
    "    file_string = f.read()                      # (2) 파일 읽기\n",
    "    print(file_string)"
   ]
  },
  {
   "cell_type": "markdown",
   "id": "c2d96cd2-4e49-4282-b546-2033f10cd917",
   "metadata": {},
   "source": [
    "**[6장: 113페이지]**"
   ]
  },
  {
   "cell_type": "code",
   "execution_count": 194,
   "id": "eca5804d-4d5b-46c6-80e9-d6a8cc3fb0d6",
   "metadata": {},
   "outputs": [
    {
     "name": "stdout",
     "output_type": "stream",
     "text": [
      "<built-in method read of _io.TextIOWrapper object at 0x000001B530B93C70>\n"
     ]
    }
   ],
   "source": [
    "temp=\"\"\n",
    "temp_list=[]\n",
    "with open(\"c:\\\\AI\\\\two_times_table.txt\") as f:\n",
    "    # temp = temp+f.readline()\n",
    "    temp=f.read\n",
    "    # temp_list=f.readlines()\n",
    "print(temp)\n",
    "#print(temp_list)\n",
    "#for line in temp_list:\n",
    "#    print(line, end=\"\")"
   ]
  },
  {
   "cell_type": "code",
   "execution_count": null,
   "id": "55ba8e01-3933-45ab-bd21-2d2de2fb3c2c",
   "metadata": {},
   "outputs": [],
   "source": [
    "with open('C:/myPyCode/myTextFile3.txt', 'w') as f: # 파일을 쓰기 모드로 열기\n",
    "    for num in range(1,6):             # for문에서 num이 1~5까지 반복\n",
    "        format_string = \"3 x {0} = {1}\\n\".format(num,3*num) # 문자열 생성\n",
    "        f.write(format_string)         # 파일에 문자열 쓰기"
   ]
  },
  {
   "cell_type": "markdown",
   "id": "a180cc20-e12a-4469-a834-9824f2f12196",
   "metadata": {},
   "source": [
    "**[6장: 114페이지]**"
   ]
  },
  {
   "cell_type": "code",
   "execution_count": null,
   "id": "c6de71ef-fc29-47c7-bdc3-f1979ea5401e",
   "metadata": {
    "tags": []
   },
   "outputs": [],
   "source": [
    "with open('C:/myPyCode/myTextFile3.txt', 'r') as f: # 파일을 읽기 모드로 열기\n",
    "    for line in f:           # 파일 전체를 읽고 리스트 항목을 line에 할당\n",
    "        print(line, end=\"\")  # line에 할당된 문자열 출력(줄 바꿈 안 함)"
   ]
  },
  {
   "cell_type": "markdown",
   "id": "3b7b41f0-8471-45b8-8df1-1faa849e708f",
   "metadata": {},
   "source": [
    "### 미션\n",
    "AI폴더 original에 미리 애국가 다 넣어두기\n",
    "\n",
    "1. 읽기\n",
    "'C:\\\\AI\\\\original.txt','r'\n",
    "동해물과 백두산이\n",
    "마르고 닳도록\n",
    "\n",
    "2. 일부 복제파일 만들기\n",
    "'C:\\\\AI\\\\backup.txt','w'\n"
   ]
  },
  {
   "cell_type": "code",
   "execution_count": 19,
   "id": "905bc213-9eee-4b74-86c8-a2bc1afa7c06",
   "metadata": {},
   "outputs": [
    {
     "name": "stdout",
     "output_type": "stream",
     "text": [
      "동해물과 백두산이 마르고 닳도록\n",
      "하느님이 보우하사 우리나라만세\n",
      "\n"
     ]
    }
   ],
   "source": [
    "# temp=[]\n",
    "# with open ('C:\\\\AI\\\\original.txt', 'r', encoding='UTF8') as f:\n",
    "#     for line in range(0,2):\n",
    "#         line1=f.readline()\n",
    "#         temp.append(line1)\n",
    "# print(temp)\n",
    "\n",
    "\n",
    "# 리눅스 이런 대부분의 OS에서는 ANSI라는 인코딩을 쓴다. 이건 1바이트로 이루어져 있음.\n",
    "# 영어가 1바이트라^^...\n",
    "# 근데 한국은 2바이트 중국은 2바이트, 4바이트\n",
    "# 전세계 공용 2바이트 포맷이 UTF8. 이걸로 인코딩해주면 좋다.\n",
    "\n",
    "temp=\"\"\n",
    "with open ('C:\\\\AI\\\\original.txt', 'r', encoding='UTF8') as fr:\n",
    "    for line in range(0,2):\n",
    "        line1=fr.readline()\n",
    "        temp=temp+ line1\n",
    "print(temp)\n",
    "\n",
    "\n",
    "with open ('C:\\\\AI\\\\backup.txt', 'w', encoding='UTF8') as fw: #없으면 신규로 만들어줌.\n",
    "    for line in range(0,1):\n",
    "        fw.write(temp)\n",
    "\n",
    "        "
   ]
  },
  {
   "cell_type": "code",
   "execution_count": null,
   "id": "bfa3cecf-f847-441b-aa8f-67b0d9d209bd",
   "metadata": {},
   "outputs": [],
   "source": [
    "#by 최상현\n",
    "\n",
    "with open('C://AI//original.txt', 'w') as f: \n",
    "    f.write('동해물과 백두산이 마르고 닳도록\\n')\n",
    "with open('C://AI//original.txt','r') as f:\n",
    "    x = f.read()\n",
    "    print(x)\n",
    "with open('C://AI//backup.txt','w') as f:\n",
    "    f.write(x)\n"
   ]
  },
  {
   "cell_type": "code",
   "execution_count": 23,
   "id": "7180ee91-3ef5-4ddd-ac9b-c9c89d11a90d",
   "metadata": {},
   "outputs": [
    {
     "name": "stdout",
     "output_type": "stream",
     "text": [
      "<built-in method readlines of _io.TextIOWrapper object at 0x000001E65EC82A00>\n"
     ]
    },
    {
     "ename": "TypeError",
     "evalue": "'builtin_function_or_method' object is not iterable",
     "output_type": "error",
     "traceback": [
      "\u001b[1;31m---------------------------------------------------------------------------\u001b[0m",
      "\u001b[1;31mTypeError\u001b[0m                                 Traceback (most recent call last)",
      "\u001b[1;32m~\\AppData\\Local\\Temp/ipykernel_11748/3350095157.py\u001b[0m in \u001b[0;36m<module>\u001b[1;34m\u001b[0m\n\u001b[0;32m     11\u001b[0m \u001b[1;33m\u001b[0m\u001b[0m\n\u001b[0;32m     12\u001b[0m \u001b[1;32mwith\u001b[0m \u001b[0mopen\u001b[0m \u001b[1;33m(\u001b[0m\u001b[1;34m'C:\\\\AI\\\\backup.txt'\u001b[0m\u001b[1;33m,\u001b[0m \u001b[1;34m'w'\u001b[0m\u001b[1;33m,\u001b[0m \u001b[0mencoding\u001b[0m\u001b[1;33m=\u001b[0m\u001b[1;34m'UTF8'\u001b[0m\u001b[1;33m)\u001b[0m \u001b[1;32mas\u001b[0m \u001b[0mfw\u001b[0m\u001b[1;33m:\u001b[0m \u001b[1;31m#없으면 신규로 만들어줌.\u001b[0m\u001b[1;33m\u001b[0m\u001b[1;33m\u001b[0m\u001b[0m\n\u001b[1;32m---> 13\u001b[1;33m     \u001b[1;32mfor\u001b[0m \u001b[0mline\u001b[0m \u001b[1;32min\u001b[0m \u001b[0mtemp_list\u001b[0m\u001b[1;33m:\u001b[0m\u001b[1;33m\u001b[0m\u001b[1;33m\u001b[0m\u001b[0m\n\u001b[0m\u001b[0;32m     14\u001b[0m         \u001b[0mfw\u001b[0m\u001b[1;33m.\u001b[0m\u001b[0mwrite\u001b[0m\u001b[1;33m(\u001b[0m\u001b[0mline\u001b[0m\u001b[1;33m)\u001b[0m\u001b[1;33m\u001b[0m\u001b[1;33m\u001b[0m\u001b[0m\n",
      "\u001b[1;31mTypeError\u001b[0m: 'builtin_function_or_method' object is not iterable"
     ]
    }
   ],
   "source": [
    "#range 없이 하는 법\n",
    "#왜인지모르겠지만 에러난다.\n",
    "\n",
    "# temp_str=\"\"\n",
    "temp_list=[]\n",
    "with open ('C:\\\\AI\\\\original.txt', 'r', encoding='UTF8') as fr:\n",
    "    # temp_str = fr.read() # 뭐가 있든 다 읽어라. 글자로 준다.\n",
    "    temp_list=fr.readlines #이것도 괜찮다. 리스트로 준다.\n",
    "# print(temp_str)\n",
    "print(temp_list)\n",
    "\n",
    "\n",
    "with open ('C:\\\\AI\\\\backup.txt', 'w', encoding='UTF8') as fw: #없으면 신규로 만들어줌.\n",
    "    for line in temp_list:\n",
    "        fw.write(line)\n",
    "#writelines도 있다. 읽은 리스트만큼 다 write"
   ]
  },
  {
   "cell_type": "markdown",
   "id": "4ed8d540-74ac-40f8-99c6-578bfd07b998",
   "metadata": {},
   "source": [
    "파일 읽기 쓰기는 사실 이렇게 안 하고 다른 좋은 기능 많다. 이후 알려주겠다.\n",
    "## TODO : file 관련 함수 다루기"
   ]
  }
 ],
 "metadata": {
  "kernelspec": {
   "display_name": "Python 3 (ipykernel)",
   "language": "python",
   "name": "python3"
  },
  "language_info": {
   "codemirror_mode": {
    "name": "ipython",
    "version": 3
   },
   "file_extension": ".py",
   "mimetype": "text/x-python",
   "name": "python",
   "nbconvert_exporter": "python",
   "pygments_lexer": "ipython3",
   "version": "3.8.8"
  }
 },
 "nbformat": 4,
 "nbformat_minor": 5
}
