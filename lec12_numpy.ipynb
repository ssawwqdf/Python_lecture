{
 "cells": [
  {
   "cell_type": "markdown",
   "id": "2b6c6b1a-a93f-4a02-974b-4230f05ebdeb",
   "metadata": {},
   "source": [
    "# ch. 11 Numpy"
   ]
  },
  {
   "cell_type": "markdown",
   "id": "eca310e8-61a4-4a7c-8663-281da1c4ae5b",
   "metadata": {
    "tags": []
   },
   "source": [
    "-> 배열데이터(array): 여러 데이터를 담는 것을 배열이라고 한다.  \n",
    "일반적으로 다른 랭기지에서는 배열은 ( 1, 2, 3   ) 이런 식으로 쓴다.  \n",
    "파이썬에서는 특이하게 리스트와 배열 튜플 등을 구분한다.  \n",
    "\n",
    "파이썬 내장:  \n",
    "    리스트(list): [ 1,2, 3 ]  \n",
    "    튜플(tuple): ( 1, 2, 3 )  \n",
    "    셋(set): { 1, 2, 3 }  \n",
    "    딕트(dict): {\"id\": 'kim', 'pw' : 111}  \n",
    "파이썬에 내장된 형태들: list, tuple, set, dict, int, str, bool, date, datetime.  \n",
    "\n",
    "\n",
    "-> 위의 데이터 형식을 배열화  \n",
    "배열: [ 1 2 3 ]******** -> 파이썬에 정식으로있는 문법은 아님.(사용자가 직접 작성하는 건 아니다.)  \n",
    "                           -> Numpy.py 패키지에서 해준다.(원래 따로 설치했어야됐는데 파이썬 안으로 들어왔다.)  \n",
    "배열의 파일 형식은 numpy  \n",
    "\n",
    "-> 파이썬 내장만으로는 여러 개 데이터 한 번에 다루기 어렵다.(한 개 씩 해야돼서 속도가 안 남) 이걸 가능하게 해주는 게 numpy  \n",
    "-> 근데 numpy 다루기 어렵다.  \n",
    "-> numpy를 다루기 쉽게 해주는 게 데이터프레임!  \n",
    "\n",
    "class DataFrame(numpy): DataFrame은 numpy를 부모의부모의...부모클래스로 하는 클래스  \n",
    "데이터프레임 == 테이블형태  \n",
    "데이터프레임 형태 예시:  \n",
    "empno ename  \n",
    "*------* *-------*  \n",
    "7788  smith  \n",
    "8892  allen  \n",
    "\n",
    "데이터프레임은 numpy보다 추가된 기능도 있고 overriding한 것도 있어서 numpy를 써야될 때도 있다. -> 둘 다 필요.  \n",
    "  \n",
    "### 배열은 numpy, 데이터프레임은 pandas 설치 필요\n",
    "      "
   ]
  },
  {
   "cell_type": "code",
   "execution_count": 2,
   "id": "aadde422-9bdc-467f-b743-ea565985a5e7",
   "metadata": {},
   "outputs": [
    {
     "name": "stdout",
     "output_type": "stream",
     "text": [
      "[1 2 3] <class 'numpy.ndarray'>\n"
     ]
    }
   ],
   "source": [
    "# numpy\n",
    "import numpy as np # 100% np로 alias 준다.\n",
    "arr= np.array( [1,2,3]) # np.array( ) 캐스팅해준다.\n",
    "print(arr, type(arr)) # 타입: numpy.ndarray : numpy의 numpy data의 array 타입이다.\n"
   ]
  },
  {
   "cell_type": "markdown",
   "id": "3f110b87-fc25-4a1c-baa7-e1d7aca8db02",
   "metadata": {
    "nbpresent": {
     "id": "a00a5059-101b-4f62-bac3-0c6049620deb"
    },
    "tags": []
   },
   "source": [
    "# 11장 데이터 분석을 위한 패키지"
   ]
  },
  {
   "cell_type": "code",
   "execution_count": null,
   "id": "0baef4e9-d920-47a0-8b4c-35d136b6fcfe",
   "metadata": {},
   "outputs": [],
   "source": []
  },
  {
   "cell_type": "markdown",
   "id": "da9696fc-82bf-42f0-b6de-8c9bcbc91c5f",
   "metadata": {
    "nbpresent": {
     "id": "ee59bc8f-cf0f-4aaf-a8ae-b5c2763cc79b"
    }
   },
   "source": [
    "### 배열의 연산"
   ]
  },
  {
   "cell_type": "markdown",
   "id": "da24c8df-5fc0-43e2-9804-9b7a8c51af51",
   "metadata": {},
   "source": [
    "#### 기본 연산"
   ]
  },
  {
   "cell_type": "markdown",
   "id": "2118097a-9772-4d58-8dd3-6f8e91b5aaf1",
   "metadata": {},
   "source": [
    "**[11장: 225페이지]**"
   ]
  },
  {
   "cell_type": "code",
   "execution_count": 4,
   "id": "b4916122-f170-49d2-9777-e73841d30f37",
   "metadata": {
    "nbpresent": {
     "id": "31a5e2f1-017c-4d6d-aae3-1fb54ac75e9c"
    }
   },
   "outputs": [],
   "source": [
    "arr1 = np.array([10, 20, 30, 40])\n",
    "arr2 = np.array([1, 2, 3, 4])"
   ]
  },
  {
   "cell_type": "markdown",
   "id": "15568ca8-64d1-4b5a-bc96-f60aa52f4754",
   "metadata": {
    "nbpresent": {
     "id": "c8775c40-9bd4-4f67-95dc-5bd8649d797a"
    }
   },
   "source": [
    "**[11장: 226페이지]**"
   ]
  },
  {
   "cell_type": "code",
   "execution_count": 5,
   "id": "90243a4b-c29e-406b-9666-76f9f67a0c85",
   "metadata": {
    "nbpresent": {
     "id": "4f32ef1d-bbac-41a0-928b-75941eb6508c"
    }
   },
   "outputs": [
    {
     "data": {
      "text/plain": [
       "array([11, 22, 33, 44])"
      ]
     },
     "execution_count": 5,
     "metadata": {},
     "output_type": "execute_result"
    }
   ],
   "source": [
    "arr1 + arr2 # array끼리는 덧셈도 가능하다.\n",
    "            # 리스트형처럼 결과 나오지만 print 하면 array 꼴로 나온다.\n",
    "            # 리스트에서 덧셈 하면 붙여졌다.\n",
    "            # item에 대한 핸들링이 list(껍데기 채)\n",
    "            # 값에 대한 핸들링이 arry(세부적인 값)\n",
    "            # 값의 개수가 같아야 합산 가능."
   ]
  },
  {
   "cell_type": "markdown",
   "id": "3e087dfc-432c-44b0-9a31-a255d9fb7b00",
   "metadata": {
    "nbpresent": {
     "id": "6f741d1a-45ad-4a71-b0a7-f9a02979eec0"
    }
   },
   "source": [
    "**[11장: 226페이지]**"
   ]
  },
  {
   "cell_type": "code",
   "execution_count": 6,
   "id": "8c6fd0c2-0622-4332-87c7-ef5d5aa631dc",
   "metadata": {
    "nbpresent": {
     "id": "a806af30-5593-4124-8bb7-d458c2853ad8"
    }
   },
   "outputs": [
    {
     "data": {
      "text/plain": [
       "array([ 9, 18, 27, 36])"
      ]
     },
     "execution_count": 6,
     "metadata": {},
     "output_type": "execute_result"
    }
   ],
   "source": [
    "arr1 - arr2 # 각 값들을 빼줘\n",
    "            # 리스트는 뺄셈 안 됨."
   ]
  },
  {
   "cell_type": "code",
   "execution_count": 17,
   "id": "22c22b68-72a8-4c13-9672-89bf15fa3135",
   "metadata": {},
   "outputs": [
    {
     "name": "stdout",
     "output_type": "stream",
     "text": [
      "[10, 20, 30]\n",
      "[10, 20, 30, 50]\n",
      "20\n",
      "[20, 30, 50]\n",
      "[70, 20, 30, 50]\n"
     ]
    }
   ],
   "source": [
    "# [10, 20, 30, 40] - [1, 2, 3, 4] 불가\n",
    "list=[10, 20, 30, 40]\n",
    "del list[3]             # -------------delete\n",
    "print(list)\n",
    "list.append(50)         # -------------insert\n",
    "print(list)\n",
    "print(list[1])          # -------------select\n",
    "print(list[1:4])        # ------------- 뒤에 거 미만임에 유의!!!\n",
    "list[0]=70              # update\n",
    "print(list)"
   ]
  },
  {
   "cell_type": "markdown",
   "id": "db26630a-3d05-46ca-ac0e-094d9a99770d",
   "metadata": {
    "nbpresent": {
     "id": "68c0bf09-6eb0-4498-bd08-0ca334bc6e5b"
    }
   },
   "source": [
    "**[11장: 226페이지]**"
   ]
  },
  {
   "cell_type": "code",
   "execution_count": 18,
   "id": "164117c4-28d5-4775-a764-5e5a8eb62845",
   "metadata": {
    "nbpresent": {
     "id": "bf735d32-362d-455e-b9df-4881cfaaa8ff"
    }
   },
   "outputs": [
    {
     "data": {
      "text/plain": [
       "array([2, 4, 6, 8])"
      ]
     },
     "execution_count": 18,
     "metadata": {},
     "output_type": "execute_result"
    }
   ],
   "source": [
    "arr2 * 2 # 개별 값 더블\n",
    "        # 리스트는 두 번 반복"
   ]
  },
  {
   "cell_type": "markdown",
   "id": "95b77a36-5252-40c3-8589-6e0359de2354",
   "metadata": {},
   "source": [
    "미니 미션\n",
    "* list 값을 두 배 하시오"
   ]
  },
  {
   "cell_type": "code",
   "execution_count": 31,
   "id": "5bfebcbf-8bca-4822-8c8f-d04790658139",
   "metadata": {},
   "outputs": [
    {
     "name": "stdout",
     "output_type": "stream",
     "text": [
      "[140, 40, 60, 100]\n",
      "[140, 40, 60, 100]\n",
      "[140, 40, 60, 100]\n",
      "[140  40  60 100]\n"
     ]
    }
   ],
   "source": [
    "# [70,20,30,50] -> 리스트를 array 연산처럼 더블해보자\n",
    "# for문 쓰지 말고 array 쓰라고 알려준 거다~~~\n",
    "\n",
    "list=[70,20,30,50]\n",
    "for i in range(len(list)):\n",
    "    list[i]=list[i]*2\n",
    "    \n",
    "res=list\n",
    "print(res)\n",
    "\n",
    "res=list\n",
    "\n",
    "list2=[70,20,30,50]\n",
    "for i, x in enumerate(list2):\n",
    "    list2[i]=x*2\n",
    "    \n",
    "res2=list2\n",
    "\n",
    "print(res)\n",
    "print(res2)\n",
    "\n",
    "####가장 손 쉬운 방법\n",
    "list3=[70,20,30,50]\n",
    "res3= np.array(list3)*2\n",
    "print(res3)"
   ]
  },
  {
   "cell_type": "markdown",
   "id": "9b846520-d7d5-4da5-9c83-ce0dee2f131f",
   "metadata": {
    "nbpresent": {
     "id": "ae5280f0-4e1d-4dd9-8d4e-1a410802d866"
    }
   },
   "source": [
    "**[11장: 226페이지]**"
   ]
  },
  {
   "cell_type": "code",
   "execution_count": 33,
   "id": "acfb74db-2b99-464b-a3f6-835dc8c228fa",
   "metadata": {},
   "outputs": [],
   "source": [
    "arr1 = np.array([10, 20, 30, 40])\n",
    "arr2 = np.array([1, 2, 3, 4])"
   ]
  },
  {
   "cell_type": "code",
   "execution_count": 34,
   "id": "665dc4b8-5740-4d47-b1cf-7acd93b3be36",
   "metadata": {
    "nbpresent": {
     "id": "248b2673-a05f-447b-85ea-d537b8880f80"
    }
   },
   "outputs": [
    {
     "data": {
      "text/plain": [
       "array([ 1,  4,  9, 16])"
      ]
     },
     "execution_count": 34,
     "metadata": {},
     "output_type": "execute_result"
    }
   ],
   "source": [
    "arr2 ** 2"
   ]
  },
  {
   "cell_type": "code",
   "execution_count": 35,
   "id": "f10e479e-3a1e-430a-8900-347cdda2bf96",
   "metadata": {
    "nbpresent": {
     "id": "90778e0d-2726-4c96-bae9-af808aa17696"
    }
   },
   "outputs": [
    {
     "data": {
      "text/plain": [
       "array([ 10,  40,  90, 160])"
      ]
     },
     "execution_count": 35,
     "metadata": {},
     "output_type": "execute_result"
    }
   ],
   "source": [
    "arr1 * arr2"
   ]
  },
  {
   "cell_type": "code",
   "execution_count": 36,
   "id": "45977497-214a-49a3-be55-f11d6f7607cc",
   "metadata": {
    "nbpresent": {
     "id": "497bfe6b-1180-43ad-8d15-911730388b95"
    }
   },
   "outputs": [
    {
     "data": {
      "text/plain": [
       "array([10., 10., 10., 10.])"
      ]
     },
     "execution_count": 36,
     "metadata": {},
     "output_type": "execute_result"
    }
   ],
   "source": [
    "arr1 / arr2 # array/array 하면 float이 된다."
   ]
  },
  {
   "cell_type": "code",
   "execution_count": 37,
   "id": "902150cd-b445-44dc-8d7e-79c05e71fbeb",
   "metadata": {
    "nbpresent": {
     "id": "a91ef282-77b8-44fa-8f41-61b2733727ba"
    }
   },
   "outputs": [
    {
     "data": {
      "text/plain": [
       "array([10.        ,  5.        ,  3.33333333,  2.5       ])"
      ]
     },
     "execution_count": 37,
     "metadata": {},
     "output_type": "execute_result"
    }
   ],
   "source": [
    "arr1 / (arr2 ** 2)"
   ]
  },
  {
   "cell_type": "markdown",
   "id": "8a97aa17-78c3-47e2-b8f2-99d4ef7d0e60",
   "metadata": {},
   "source": [
    "arr1 > 20 값을 출력\n",
    "출력 결과: 30, 40"
   ]
  },
  {
   "cell_type": "code",
   "execution_count": 63,
   "id": "6cae9781-2836-442e-9fdd-0926c89e3689",
   "metadata": {
    "nbpresent": {
     "id": "b412697d-8109-4e03-8194-757e3f000fa1"
    }
   },
   "outputs": [
    {
     "data": {
      "text/plain": [
       "array([False, False,  True,  True])"
      ]
     },
     "execution_count": 63,
     "metadata": {},
     "output_type": "execute_result"
    }
   ],
   "source": [
    "arr1 = np.array([10, 20, 30, 40])\n",
    "arr1 > 20 # 일괄 값처리 가능."
   ]
  },
  {
   "cell_type": "code",
   "execution_count": 67,
   "id": "1715fca1-c133-4318-9479-16fb4ff97a4e",
   "metadata": {},
   "outputs": [
    {
     "name": "stdout",
     "output_type": "stream",
     "text": [
      "30\n",
      "40\n",
      "[False False  True  True]\n",
      "30\n",
      "40\n"
     ]
    }
   ],
   "source": [
    "arr1 = np.array([10, 20, 30, 40])\n",
    "for a in arr1:\n",
    "    if a>20:\n",
    "        print(a)\n",
    "\n",
    "## 아래와 같은 방법으로도 가능.(강사님 코드 참고)\n",
    "\n",
    "temp=arr1>20\n",
    "print(temp)\n",
    "        \n",
    "for i, t in enumerate(arr1>20):\n",
    "    if t==True:\n",
    "        print(arr1[i])"
   ]
  },
  {
   "cell_type": "code",
   "execution_count": null,
   "id": "309b8848-4864-49b4-9a05-40571b124d3d",
   "metadata": {},
   "outputs": [],
   "source": [
    "int(True), int(False) # 1, 0\n",
    "\n",
    "bool(1), bool(0) # True, False"
   ]
  },
  {
   "cell_type": "markdown",
   "id": "1edb81ef-ccb5-4906-94a8-592d9d3421bc",
   "metadata": {},
   "source": [
    "## 반드시 암기\n",
    "\n",
    "* <font color=red> list --> arr : np.array(list)</font>\n",
    "* <font color=red> arr --> list : list(arr) XX (이건 내장형식에서 내장형식으로!!), arrary이름.tolist()</font>"
   ]
  },
  {
   "cell_type": "code",
   "execution_count": 70,
   "id": "932fd3c5-2831-457f-a616-d643edab9f74",
   "metadata": {},
   "outputs": [
    {
     "name": "stdout",
     "output_type": "stream",
     "text": [
      "[10 20 30 40]\n",
      "[10, 20, 30, 40]\n"
     ]
    }
   ],
   "source": [
    "arr1=np.array([10,20,30,40])\n",
    "print(arr1)\n",
    "### arr을 list로 바꾸는 방법!!\n",
    "res=arr1.tolist()\n",
    "print(res)\n"
   ]
  },
  {
   "cell_type": "markdown",
   "id": "b17e982f-f155-41fa-8c80-a1dea04ca2b0",
   "metadata": {
    "nbpresent": {
     "id": "ed5d25ea-f078-4238-9911-6f56810dc8b6"
    }
   },
   "source": [
    "### <font color=red>통계를 위한 연산★★★★★★★★ </font>\n",
    "지금 통계하자는 건 아니다  \n",
    "경영 - 마이닝  \n",
    "통계 - 통계 -> 산술 추정  \n",
    "컴공, AI - 예측  \n",
    "\n",
    "--> 통계가 근간 + 컴공 모델화 + AI 예측 \n",
    "--> 분석, 모델 설계 하려면 통계 비중 커지고 AI 비중 낮아짐.  \n",
    "--> 신입 땐 통계 덜 중요\n",
    "\n",
    "선형대수"
   ]
  },
  {
   "cell_type": "code",
   "execution_count": 97,
   "id": "5957d39f-5345-4e80-a76c-92cbe5d85ea6",
   "metadata": {},
   "outputs": [
    {
     "data": {
      "text/plain": [
       "range(1, 5)"
      ]
     },
     "execution_count": 97,
     "metadata": {},
     "output_type": "execute_result"
    }
   ],
   "source": []
  },
  {
   "cell_type": "code",
   "execution_count": 99,
   "id": "142b8ede-67b0-477a-a8bf-04635420c8e4",
   "metadata": {
    "nbpresent": {
     "id": "10bbf32c-3190-4853-b5b7-47d3048a2732"
    }
   },
   "outputs": [
    {
     "name": "stdout",
     "output_type": "stream",
     "text": [
      "1234"
     ]
    },
    {
     "data": {
      "text/plain": [
       "array([0, 1, 2, 3, 4])"
      ]
     },
     "execution_count": 99,
     "metadata": {},
     "output_type": "execute_result"
    }
   ],
   "source": [
    "# cf. range(1,5) -> 내장. 리스트를 준다.\n",
    "for i in range(1,5):\n",
    "    print(i, end=\"\")\n",
    "arr3 = np.arange(5) # array range / 초기값 안 주면 0부터 시작\n",
    "arr3"
   ]
  },
  {
   "cell_type": "markdown",
   "id": "e1bf076b-3c23-4796-bbd6-84283a7c7226",
   "metadata": {
    "nbpresent": {
     "id": "4530b23b-2318-4409-921f-8ee2dc665327"
    }
   },
   "source": [
    "**[11장: 227페이지]**"
   ]
  },
  {
   "cell_type": "markdown",
   "id": "40624caf-b633-4d8c-afcf-a411657b929e",
   "metadata": {},
   "source": [
    "오라클로 치면 그룹함수랑 비슷\n",
    "* min(), max(), sum(), avg(), count(), std(), var()\n",
    "-> numpy에서는 avg 대신 min으로 쓰는 게 다르다!!"
   ]
  },
  {
   "cell_type": "code",
   "execution_count": 102,
   "id": "076c62fa-562a-429e-a0d1-f50dd4443d97",
   "metadata": {
    "nbpresent": {
     "id": "e431758a-85a8-47d9-9bc0-e4d601d4db09"
    }
   },
   "outputs": [
    {
     "data": {
      "text/plain": [
       "[10, 2.0]"
      ]
     },
     "execution_count": 102,
     "metadata": {},
     "output_type": "execute_result"
    }
   ],
   "source": [
    "[arr3.sum(), arr3.mean()] # 합, 평균 (산술 연산) / 결과를 리스트로 담을 수 있다."
   ]
  },
  {
   "cell_type": "markdown",
   "id": "037a9850-a434-4cf6-8ef9-3aee55695196",
   "metadata": {
    "nbpresent": {
     "id": "c518a29e-e00d-40d7-bec5-07d421415653"
    }
   },
   "source": [
    "**[11장: 228페이지]**"
   ]
  },
  {
   "cell_type": "code",
   "execution_count": 84,
   "id": "43b2069a-97fa-413b-8afb-919d68d5d572",
   "metadata": {
    "nbpresent": {
     "id": "fb6fc3f3-1a8a-403c-84d5-1ea68bc354c1"
    }
   },
   "outputs": [
    {
     "data": {
      "text/plain": [
       "[1.4142135623730951, 2.0]"
      ]
     },
     "execution_count": 84,
     "metadata": {},
     "output_type": "execute_result"
    }
   ],
   "source": [
    "[arr3.std(), arr3.var()] # 표준편차, 분산 (산술 연산)"
   ]
  },
  {
   "cell_type": "markdown",
   "id": "d012ced7-fb41-4726-b6a6-d0162e3e22cd",
   "metadata": {
    "nbpresent": {
     "id": "89623b71-c0fe-41b4-8266-1fd88f4af845"
    }
   },
   "source": [
    "**[11장: 228페이지]**"
   ]
  },
  {
   "cell_type": "code",
   "execution_count": 85,
   "id": "3afa0e4c-1fe2-4be4-a346-496c4718f1a5",
   "metadata": {
    "nbpresent": {
     "id": "f102e256-50cc-43d9-94fc-7cb973bbbf9e"
    }
   },
   "outputs": [
    {
     "data": {
      "text/plain": [
       "[0, 4]"
      ]
     },
     "execution_count": 85,
     "metadata": {},
     "output_type": "execute_result"
    }
   ],
   "source": [
    "[arr3.min(), arr3.max()] # 최소 최대 (산술 연산)"
   ]
  },
  {
   "cell_type": "markdown",
   "id": "b7a7e505-c39a-4d57-851e-17c09f66c20f",
   "metadata": {
    "nbpresent": {
     "id": "d871227b-d4dd-40c1-a5ad-9fa3f362b878"
    }
   },
   "source": [
    "**[11장: 228페이지]**"
   ]
  },
  {
   "cell_type": "code",
   "execution_count": 104,
   "id": "41263684-c58b-498e-b878-2ac85356b304",
   "metadata": {},
   "outputs": [
    {
     "data": {
      "text/plain": [
       "array([1, 2, 3, 4])"
      ]
     },
     "execution_count": 104,
     "metadata": {},
     "output_type": "execute_result"
    }
   ],
   "source": [
    "arr4 = np.arange(1,5) # range는 range인데 array로 만드는 range가 arange\n",
    "arr4"
   ]
  },
  {
   "cell_type": "markdown",
   "id": "04404d65-3c2c-4ce0-8ea0-626d2718fc64",
   "metadata": {},
   "source": [
    "**[11장: 228페이지]** "
   ]
  },
  {
   "cell_type": "code",
   "execution_count": 107,
   "id": "5ae0e6e1-12ea-4994-8524-9d5f92bf0b0b",
   "metadata": {},
   "outputs": [],
   "source": [
    "# cf. arr.sum은 전체 array 합."
   ]
  },
  {
   "cell_type": "code",
   "execution_count": 106,
   "id": "dbb99804-1ab8-453c-b3dd-f67ae192b8f9",
   "metadata": {
    "nbpresent": {
     "id": "bafc5580-e051-4737-8631-2a8d3bf9c9cb"
    }
   },
   "outputs": [
    {
     "data": {
      "text/plain": [
       "array([ 1,  3,  6, 10])"
      ]
     },
     "execution_count": 106,
     "metadata": {},
     "output_type": "execute_result"
    }
   ],
   "source": [
    "arr4.cumsum()  #********** 누적으로 sum. 금융쪽에서 cumsum 한다는 건 이번 한 주의 누적 수익률, 저번주부터의 누적수익률 이런 식. / 씨썸이라고 하겠다."
   ]
  },
  {
   "cell_type": "code",
   "execution_count": 108,
   "id": "20546c38-ef75-4443-8038-addc5b7654a4",
   "metadata": {
    "nbpresent": {
     "id": "a5b08f83-1ffd-4a88-941b-a8471101b857"
    }
   },
   "outputs": [
    {
     "data": {
      "text/plain": [
       "array([ 1,  2,  6, 24])"
      ]
     },
     "execution_count": 108,
     "metadata": {},
     "output_type": "execute_result"
    }
   ],
   "source": [
    "arr4.cumprod() #"
   ]
  },
  {
   "cell_type": "markdown",
   "id": "6d1a597b-bf65-4552-99f6-d2f5fdf1522e",
   "metadata": {
    "nbpresent": {
     "id": "68113591-507a-4c02-9133-3cb8142de227"
    }
   },
   "source": [
    "#### 행렬 연산 == 선형대수"
   ]
  },
  {
   "cell_type": "markdown",
   "id": "973d4047-291b-4696-8576-aefdf4b781a4",
   "metadata": {},
   "source": [
    "**[11장: 229페이지]**"
   ]
  },
  {
   "cell_type": "markdown",
   "id": "b6ee24f4-ebed-4a7f-a17d-8c051a705e0b",
   "metadata": {},
   "source": [
    "* 행렬 ( 행, 렬 )"
   ]
  },
  {
   "cell_type": "code",
   "execution_count": 125,
   "id": "be536779-8f34-48c1-9c52-35205f10751c",
   "metadata": {},
   "outputs": [
    {
     "data": {
      "text/plain": [
       "array([[0, 1],\n",
       "       [2, 3]])"
      ]
     },
     "execution_count": 125,
     "metadata": {},
     "output_type": "execute_result"
    }
   ],
   "source": [
    "A=np.array([0,1,2,3]) # *** (4, )\n",
    "A.shape ## *** (4, )\n",
    "\n",
    "A = np.array([0, 1, 2, 3]).reshape(2,2)  # 2행, 2열\n",
    "A\n",
    "\n",
    "# array 잘 하면 numpy 잘 한다 -> 이것보다 쉬운 게 pandas"
   ]
  },
  {
   "cell_type": "code",
   "execution_count": 121,
   "id": "2780f73b-58f3-4e0c-bfe8-bd88dffdfbee",
   "metadata": {},
   "outputs": [
    {
     "name": "stdout",
     "output_type": "stream",
     "text": [
      "[[0, 1, 2, 3], [0, 1, 2, 3]]\n",
      "------------------------------------------------------------\n",
      "[[0 1 2 3]\n",
      " [0 1 2 3]]\n"
     ]
    },
    {
     "data": {
      "text/plain": [
       "(2, 4)"
      ]
     },
     "execution_count": 121,
     "metadata": {},
     "output_type": "execute_result"
    }
   ],
   "source": [
    "list=[[0,1,2,3],[0,1,2,3]]\n",
    "arr=np.array(list)\n",
    "print(list)\n",
    "# 3 뽑으려면 list[0][3]\n",
    "print(\"--\"*30)\n",
    "print(arr)\n",
    "arr.shape\n",
    "# 3 뽑으려면 arr[0][3] //// 행렬도 마찬가지로 0으로 시작!!!!!!*********주의주의주의"
   ]
  },
  {
   "cell_type": "markdown",
   "id": "38d39787-09c2-4752-a15b-ed9376e51e1f",
   "metadata": {},
   "source": [
    "### <font color=red> reshape </font>"
   ]
  },
  {
   "cell_type": "code",
   "execution_count": 132,
   "id": "b750e0a6-2fc3-4c5d-974e-e58fe7da64d6",
   "metadata": {},
   "outputs": [
    {
     "name": "stdout",
     "output_type": "stream",
     "text": [
      "[0 1 2 3]\n",
      "[[0]\n",
      " [1]\n",
      " [2]\n",
      " [3]]\n"
     ]
    }
   ],
   "source": [
    "A= np.array([0,1,2,3])\n",
    "print(A)\n",
    "res=A.reshape(-1,1) # 가로를 세로로 바꾸려면 -1, 칸수는 한 칸이면 1(-1은 나머지 줄 또는 칸 수 자동 계산해준다는 의미)\n",
    "print(res)"
   ]
  },
  {
   "cell_type": "code",
   "execution_count": 142,
   "id": "ac4bb12f-5d18-42cd-b652-8a31519ea26e",
   "metadata": {},
   "outputs": [
    {
     "name": "stdout",
     "output_type": "stream",
     "text": [
      "[[0 1]\n",
      " [2 3]]\n",
      "[[3 2]\n",
      " [0 1]]\n"
     ]
    }
   ],
   "source": [
    "A = np.array([0, 1, 2, 3]).reshape(2,2)\n",
    "print(A)\n",
    "B = np.array([3, 2, 0, 1]).reshape(2,2)\n",
    "print(B)"
   ]
  },
  {
   "cell_type": "code",
   "execution_count": 225,
   "id": "53f6005e-fa0d-4e9e-ba65-309eb83bb612",
   "metadata": {},
   "outputs": [
    {
     "name": "stdout",
     "output_type": "stream",
     "text": [
      "[[ 0 10 20]\n",
      " [30 40 50]]\n",
      "[[ 0 10 20]\n",
      " [30 40 50]]\n"
     ]
    }
   ],
   "source": [
    "a1 = np.array([0, 10, 20, 30, 40, 50]).reshape(2,3)\n",
    "print(a1)\n",
    "a1 = np.array([0, 10, 20, 30, 40, 50]).reshape(-1,3)\n",
    "print(a1)"
   ]
  },
  {
   "cell_type": "code",
   "execution_count": 140,
   "id": "87d900f3-4315-4b3b-8b99-2772080acc25",
   "metadata": {},
   "outputs": [
    {
     "data": {
      "text/plain": [
       "array([[0, 1],\n",
       "       [6, 7]])"
      ]
     },
     "execution_count": 140,
     "metadata": {},
     "output_type": "execute_result"
    }
   ],
   "source": [
    "A.dot(B) # 행렬 .dot : 내적(행렬곱) ***** 엄청나게 자주 쓰인다.\n",
    "\n",
    "np.dot(A,B) # 같은 표현"
   ]
  },
  {
   "cell_type": "markdown",
   "id": "330f4b05-0383-4a1a-8ddc-aa224ec7b484",
   "metadata": {},
   "source": [
    "* 전위==피봇 :: 행<->열"
   ]
  },
  {
   "cell_type": "code",
   "execution_count": null,
   "id": "460a0ad5-10fa-4e88-ba81-20d15aac84ae",
   "metadata": {},
   "outputs": [],
   "source": [
    "np.transpose(A) # 전위(행과 열을 바뀐다.) (reshape는 모양을 바꾸는 거고 transpose 는 행과 열 바꿈. 엑셀에서는 pivot이라고 함.)\n",
    "A.transpose()"
   ]
  },
  {
   "cell_type": "code",
   "execution_count": null,
   "id": "a05cf3f1-5097-419e-bede-064728fb8117",
   "metadata": {},
   "outputs": [],
   "source": []
  },
  {
   "cell_type": "code",
   "execution_count": null,
   "id": "a435e007-3f0a-4581-af1c-d1152848b80c",
   "metadata": {},
   "outputs": [],
   "source": [
    "np.linalg.inv(A) # 패스"
   ]
  },
  {
   "cell_type": "code",
   "execution_count": null,
   "id": "806ac261-a74e-49bc-9d15-6f10b1034c01",
   "metadata": {
    "tags": []
   },
   "outputs": [],
   "source": [
    "np.linalg.det(A)"
   ]
  },
  {
   "cell_type": "markdown",
   "id": "bbe39841-e315-4840-b7dc-38b8a21fbbb2",
   "metadata": {
    "nbpresent": {
     "id": "0266279b-0a9a-4625-bf56-25dcdc3ed960"
    }
   },
   "source": [
    "### 배열의 인덱싱과 슬라이싱"
   ]
  },
  {
   "cell_type": "markdown",
   "id": "16b01429-ae32-41da-9464-8a5979f8f60b",
   "metadata": {
    "nbpresent": {
     "id": "c2015789-2fd8-46d5-9d58-5291f8e895df"
    }
   },
   "source": [
    "#### 배열의 인덱싱"
   ]
  },
  {
   "cell_type": "markdown",
   "id": "2bbcde9b-7304-46a4-b509-9104ef8718ee",
   "metadata": {},
   "source": [
    "리스트와 같다!"
   ]
  },
  {
   "cell_type": "code",
   "execution_count": 144,
   "id": "43a67dc6-964b-434f-984c-35b4e0388d97",
   "metadata": {
    "nbpresent": {
     "id": "eeea493a-f604-4696-bc2f-6d3eccb0f586"
    }
   },
   "outputs": [
    {
     "data": {
      "text/plain": [
       "array([ 0, 10, 20, 30, 40, 50])"
      ]
     },
     "execution_count": 144,
     "metadata": {},
     "output_type": "execute_result"
    }
   ],
   "source": [
    "a1 = np.array([0, 10, 20, 30, 40, 50])\n",
    "a1"
   ]
  },
  {
   "cell_type": "code",
   "execution_count": null,
   "id": "0d486945-43b6-4a7a-aa7a-c9c69cf6e310",
   "metadata": {
    "nbpresent": {
     "id": "2fd50764-d3f4-4999-9efe-e7f75dde9fb8"
    }
   },
   "outputs": [],
   "source": [
    "a1[0], a1[4]"
   ]
  },
  {
   "cell_type": "code",
   "execution_count": null,
   "id": "ac3c6626-97ed-4385-9708-9117624b1829",
   "metadata": {},
   "outputs": [],
   "source": [
    "a1[5] = 70\n",
    "a1"
   ]
  },
  {
   "cell_type": "markdown",
   "id": "f8e2b88b-3e55-4637-9dba-1e8543604802",
   "metadata": {
    "nbpresent": {
     "id": "be5663ea-c3e0-493d-9d79-f62a519cec85"
    }
   },
   "source": [
    "**[11장: 231페이지]**"
   ]
  },
  {
   "cell_type": "code",
   "execution_count": 154,
   "id": "3594cdca-b865-4728-abf5-109d8c5fa7e5",
   "metadata": {
    "nbpresent": {
     "id": "002591c3-c483-4a64-b1a3-cbe5c82369fa"
    }
   },
   "outputs": [
    {
     "data": {
      "text/plain": [
       "array([10, 30, 40])"
      ]
     },
     "execution_count": 154,
     "metadata": {},
     "output_type": "execute_result"
    }
   ],
   "source": [
    "a1[[1,3,4]] # 멀티인덱스(a1에서 첫번째 값 세 번째 값 네 번째 값 뽑아라.)"
   ]
  },
  {
   "cell_type": "code",
   "execution_count": 153,
   "id": "d051b279-91d4-4e78-b6ac-f948dec01469",
   "metadata": {},
   "outputs": [
    {
     "name": "stdout",
     "output_type": "stream",
     "text": [
      "100 90 80\n",
      "[100  90  80]\n",
      "[90 70 60]\n"
     ]
    }
   ],
   "source": [
    "score=np.array([100,90,80,70,60])\n",
    "print(score[0], score[1],score[2]) # 번째, 번째 인덱스로 가져오는 경우(약간 번거롭)\n",
    "print(score[0:3])     # 슬라이싱\n",
    "print(score[[1,3,4]]) # 띄엄띄엄 떼거지로 뽑을 때(리스트는 안 먹는다.)\n",
    "\n",
    "\n",
    "# 대괄호 표현                     \n",
    "# [] 인덱스 번째, [] 리스트(떼거지), [] 배열"
   ]
  },
  {
   "cell_type": "markdown",
   "id": "2dbda77a-a459-45a2-abc5-00c01c96919d",
   "metadata": {},
   "source": [
    "**[11장: 232페이지]**"
   ]
  },
  {
   "cell_type": "code",
   "execution_count": 156,
   "id": "a536cd14-35b5-48c8-8ad3-5078875562e7",
   "metadata": {},
   "outputs": [
    {
     "ename": "ValueError",
     "evalue": "cannot reshape array of size 10 into shape (3,3)",
     "output_type": "error",
     "traceback": [
      "\u001b[1;31m---------------------------------------------------------------------------\u001b[0m",
      "\u001b[1;31mValueError\u001b[0m                                Traceback (most recent call last)",
      "\u001b[1;32m~\\AppData\\Local\\Temp/ipykernel_20012/3169101301.py\u001b[0m in \u001b[0;36m<module>\u001b[1;34m\u001b[0m\n\u001b[0;32m      2\u001b[0m \u001b[1;33m\u001b[0m\u001b[0m\n\u001b[0;32m      3\u001b[0m  \u001b[1;31m## reshape 주의 reshape(a,b) -> a*b != 값 개수면 에러!\u001b[0m\u001b[1;33m\u001b[0m\u001b[1;33m\u001b[0m\u001b[1;33m\u001b[0m\u001b[0m\n\u001b[1;32m----> 4\u001b[1;33m \u001b[0ma2\u001b[0m \u001b[1;33m=\u001b[0m \u001b[0mnp\u001b[0m\u001b[1;33m.\u001b[0m\u001b[0marange\u001b[0m\u001b[1;33m(\u001b[0m\u001b[1;36m10\u001b[0m\u001b[1;33m,\u001b[0m \u001b[1;36m110\u001b[0m\u001b[1;33m,\u001b[0m \u001b[1;36m10\u001b[0m\u001b[1;33m)\u001b[0m\u001b[1;33m.\u001b[0m\u001b[0mreshape\u001b[0m\u001b[1;33m(\u001b[0m\u001b[1;36m3\u001b[0m\u001b[1;33m,\u001b[0m\u001b[1;36m3\u001b[0m\u001b[1;33m)\u001b[0m\u001b[1;33m\u001b[0m\u001b[1;33m\u001b[0m\u001b[0m\n\u001b[0m\u001b[0;32m      5\u001b[0m \u001b[0ma2\u001b[0m\u001b[1;33m\u001b[0m\u001b[1;33m\u001b[0m\u001b[0m\n",
      "\u001b[1;31mValueError\u001b[0m: cannot reshape array of size 10 into shape (3,3)"
     ]
    }
   ],
   "source": [
    "# 10 ~ 90까지 10개 씩 증가.\n",
    "\n",
    " ## reshape 주의 reshape(a,b) -> a*b != (배열값개수)면 에러!\n",
    "a2 = np.arange(10, 110, 10).reshape(3,3)\n",
    "a2"
   ]
  },
  {
   "cell_type": "code",
   "execution_count": 157,
   "id": "26fc9375-7b39-4b70-9f3a-9f75ab8af0eb",
   "metadata": {},
   "outputs": [
    {
     "data": {
      "text/plain": [
       "array([[10, 20, 30],\n",
       "       [40, 50, 60],\n",
       "       [70, 80, 90]])"
      ]
     },
     "execution_count": 157,
     "metadata": {},
     "output_type": "execute_result"
    }
   ],
   "source": [
    "# 10 ~ 90까지 10개 씩 증가.\n",
    "a2 = np.arange(10, 100, 10).reshape(3,3)\n",
    "a2"
   ]
  },
  {
   "cell_type": "code",
   "execution_count": 158,
   "id": "960f94d5-0976-4692-935a-20b03346a8b5",
   "metadata": {},
   "outputs": [
    {
     "data": {
      "text/plain": [
       "30"
      ]
     },
     "execution_count": 158,
     "metadata": {},
     "output_type": "execute_result"
    }
   ],
   "source": [
    "a2[0, 2]"
   ]
  },
  {
   "cell_type": "code",
   "execution_count": 172,
   "id": "91bbd76f-6fc9-4e96-89ed-2fea5d6fcd23",
   "metadata": {},
   "outputs": [
    {
     "name": "stdout",
     "output_type": "stream",
     "text": [
      "30\n"
     ]
    }
   ],
   "source": [
    "list= [[10, 20, 30],\n",
    "       [40, 50, 60],\n",
    "       [70, 80, 90]]\n",
    "print(list[0][2])\n",
    "#print(list[0,2]) ### list는 이런 거 없다."
   ]
  },
  {
   "cell_type": "code",
   "execution_count": 169,
   "id": "86b9bc8e-8ed2-423c-b5a7-11f048dfd064",
   "metadata": {},
   "outputs": [
    {
     "name": "stdout",
     "output_type": "stream",
     "text": [
      "30\n",
      "30\n"
     ]
    }
   ],
   "source": [
    "arr= np.array([[10, 20, 30],\n",
    "               [40, 50, 60],\n",
    "               [70, 80, 90]])\n",
    "print(arr[0,2])\n",
    "print(arr[0][2]) ## array에서도 가능. 둘 다에 가능한 문법 써라"
   ]
  },
  {
   "cell_type": "code",
   "execution_count": 174,
   "id": "7f9e2643-92d3-4dc9-a4a1-dda757ac61ae",
   "metadata": {},
   "outputs": [
    {
     "name": "stdout",
     "output_type": "stream",
     "text": [
      "[[10 20 30]\n",
      " [40 50 60]\n",
      " [70 80 95]]\n",
      "[[10 20 30]\n",
      " [40 50 60]\n",
      " [70 80 90]]\n"
     ]
    }
   ],
   "source": [
    "a2[2, 2] = 95  # 값 바꾸기. array는 이런 표현도 된다.\n",
    "print(a2)\n",
    "a2[2][2] = 90\n",
    "print(a2)"
   ]
  },
  {
   "cell_type": "code",
   "execution_count": 186,
   "id": "c0527e93-1008-4a46-af14-dde7cef74f75",
   "metadata": {},
   "outputs": [
    {
     "name": "stdout",
     "output_type": "stream",
     "text": [
      "[[45 55 65]\n",
      " [47 57 67]\n",
      " [70 80 90]]\n",
      "[[45 55 65]\n",
      " [47 57 67]\n",
      " [70 80 90]]\n"
     ]
    }
   ],
   "source": [
    "a2[1] ##결과는 배열(행방향) [40 50 60]\n",
    "\n",
    "# 한 행 값 떼거지로 바꾸기 -> 어레이를 넣을 수도 있고\n",
    "a2[0] = np.array([45, 55, 65])\n",
    "print(a2)\n",
    "\n",
    "# 한 행 값 떼거지로 바꾸기 -> 리스트를 통으로 넣기도 가능\n",
    "            #(현업에서는 습관적으로 어레이 넣는 경우가 많다)\n",
    "a2[1] = [47, 57, 67]\n",
    "print(a2)"
   ]
  },
  {
   "cell_type": "markdown",
   "id": "42dba4eb-b8f9-46b9-bb94-a12cfb9b8009",
   "metadata": {},
   "source": [
    "**[11장: 233페이지]**"
   ]
  },
  {
   "cell_type": "code",
   "execution_count": 189,
   "id": "f8b18c15-dad8-4a57-9f79-15a1ee8af60f",
   "metadata": {},
   "outputs": [
    {
     "data": {
      "text/plain": [
       "array([45, 80])"
      ]
     },
     "execution_count": 189,
     "metadata": {},
     "output_type": "execute_result"
    }
   ],
   "source": [
    "a2[[0, 2], [0, 1]] ## [ ] 인덱스 안에 [] 리스트로 떼거지 불러오기\n",
    "# a2[[0][2], [0][1]] 이건 안 되네..^^\n",
    "# 강사님 거 가져오기.######################################################### "
   ]
  },
  {
   "cell_type": "markdown",
   "id": "d92dd0f4-8efc-47dd-82b1-36e56e3db82f",
   "metadata": {},
   "source": [
    "**[11장: 233페이지]**"
   ]
  },
  {
   "cell_type": "code",
   "execution_count": 4,
   "id": "53307b3a-c840-49ce-ae37-e8bcc4007f1d",
   "metadata": {},
   "outputs": [
    {
     "name": "stdout",
     "output_type": "stream",
     "text": [
      "1\n",
      "[4 5 6]\n",
      "[4 5 6]\n"
     ]
    }
   ],
   "source": [
    "a = np.array([1, 2, 3, 4, 5, 6])\n",
    "print(a[0]) # 0번째\n",
    "res=(a[a > 3]) # 조건 a>3도 가능!! 이렇게 쓰는 게 대부분\n",
    "print(res)\n",
    "\n",
    "# a = np.array([1, 2, 3, 4, 5, 6]).reshape(2,3)\n",
    "# res=(a[a > 3])\n",
    "# print(res)\n",
    "\n",
    "## 조건도 가능\n",
    " # -> array 라 가능!(값을 제어하는 애들이라)"
   ]
  },
  {
   "cell_type": "markdown",
   "id": "83b9c9ed-b837-4adf-abc8-d386b19e0d88",
   "metadata": {},
   "source": [
    "**[11장: 234페이지]**"
   ]
  },
  {
   "cell_type": "code",
   "execution_count": 204,
   "id": "315f4c63-0864-43df-99c0-be1ef7e1949b",
   "metadata": {},
   "outputs": [],
   "source": [
    "a = np.array([1, 4, 3, 5, 5, 8])\n",
    "\n",
    "a[ (a % 2) == 0] # 짝수 애들만\n",
    "a[ (a //3) == 1] # 3 나눴을 때 몫이 1인 애들만\n",
    "\n",
    "\n",
    "a = np.array([1, 2, 3, 4, 5, 6])"
   ]
  },
  {
   "cell_type": "markdown",
   "id": "26844644-eb02-40eb-9072-695960a55f70",
   "metadata": {
    "nbpresent": {
     "id": "fbfdb73b-42aa-4d6c-8607-de4d7e930345"
    }
   },
   "source": [
    "#### 배열의 슬라이싱"
   ]
  },
  {
   "cell_type": "markdown",
   "id": "7323e275-17dd-41bf-b350-781c4cba8db7",
   "metadata": {},
   "source": [
    "**[11장: 234페이지]**"
   ]
  },
  {
   "cell_type": "code",
   "execution_count": 206,
   "id": "c022433b-d4fc-4b3f-95f6-728088c3839d",
   "metadata": {
    "nbpresent": {
     "id": "73248ff9-96ab-4911-a605-a2656df5439d"
    }
   },
   "outputs": [
    {
     "data": {
      "text/plain": [
       "array([10, 20, 30])"
      ]
     },
     "execution_count": 206,
     "metadata": {},
     "output_type": "execute_result"
    }
   ],
   "source": [
    "b1 = np.array([0, 10, 20, 30, 40, 50])\n",
    "b1[1:4]"
   ]
  },
  {
   "cell_type": "code",
   "execution_count": 207,
   "id": "e3a6dde3-50da-4afc-aa6c-6bcffe50035d",
   "metadata": {},
   "outputs": [
    {
     "data": {
      "text/plain": [
       "array([ 0, 10, 20])"
      ]
     },
     "execution_count": 207,
     "metadata": {},
     "output_type": "execute_result"
    }
   ],
   "source": [
    "b1[:3] # 0번째부터"
   ]
  },
  {
   "cell_type": "code",
   "execution_count": 208,
   "id": "8366d5d5-0a27-43bf-a6ad-913a2868510b",
   "metadata": {},
   "outputs": [
    {
     "data": {
      "text/plain": [
       "array([20, 30, 40, 50])"
      ]
     },
     "execution_count": 208,
     "metadata": {},
     "output_type": "execute_result"
    }
   ],
   "source": [
    "b1[2:] # 끝까지"
   ]
  },
  {
   "cell_type": "code",
   "execution_count": 209,
   "id": "89234d1a-b606-4653-9b51-6548f85f39a5",
   "metadata": {},
   "outputs": [
    {
     "data": {
      "text/plain": [
       "array([ 0, 10, 25, 35, 45, 50])"
      ]
     },
     "execution_count": 209,
     "metadata": {},
     "output_type": "execute_result"
    }
   ],
   "source": [
    "b1[2:5] = np.array([25, 35, 45])\n",
    "b1"
   ]
  },
  {
   "cell_type": "code",
   "execution_count": 210,
   "id": "e6447d1e-678a-46c7-8fb8-9d2cafa95661",
   "metadata": {
    "nbpresent": {
     "id": "6388bb1d-a6da-4b8d-9343-c9e36e961fcb"
    }
   },
   "outputs": [
    {
     "data": {
      "text/plain": [
       "array([ 0, 10, 25, 60, 60, 60])"
      ]
     },
     "execution_count": 210,
     "metadata": {},
     "output_type": "execute_result"
    }
   ],
   "source": [
    "b1[3:6] = 60\n",
    "b1"
   ]
  },
  {
   "cell_type": "code",
   "execution_count": 211,
   "id": "327dcc10-7d32-4473-8f05-9a6d31493fa5",
   "metadata": {},
   "outputs": [
    {
     "data": {
      "text/plain": [
       "array([[10, 20, 30],\n",
       "       [40, 50, 60],\n",
       "       [70, 80, 90]])"
      ]
     },
     "execution_count": 211,
     "metadata": {},
     "output_type": "execute_result"
    }
   ],
   "source": [
    "b2 = np.arange(10, 100, 10).reshape(3,3)\n",
    "b2"
   ]
  },
  {
   "cell_type": "code",
   "execution_count": 215,
   "id": "9a95449c-9717-412e-95ae-a415c0bc9ffb",
   "metadata": {
    "nbpresent": {
     "id": "de8005c3-e4b5-4a92-a1ca-2b9871cd8177"
    }
   },
   "outputs": [
    {
     "data": {
      "text/plain": [
       "array([[50, 60],\n",
       "       [80, 90]])"
      ]
     },
     "execution_count": 215,
     "metadata": {},
     "output_type": "execute_result"
    }
   ],
   "source": [
    "b2[1:3, 1:3]  # 첫번째, 두번째 행, 첫번째 두번째 열"
   ]
  },
  {
   "cell_type": "code",
   "execution_count": 213,
   "id": "96229533-23bd-4c9b-afde-32f180814831",
   "metadata": {},
   "outputs": [
    {
     "data": {
      "text/plain": [
       "array([[20, 30],\n",
       "       [50, 60],\n",
       "       [80, 90]])"
      ]
     },
     "execution_count": 213,
     "metadata": {},
     "output_type": "execute_result"
    }
   ],
   "source": [
    "b2[:3, 1:]"
   ]
  },
  {
   "cell_type": "code",
   "execution_count": 213,
   "id": "34064739-1829-45a6-922f-9e630204a958",
   "metadata": {},
   "outputs": [
    {
     "data": {
      "text/plain": [
       "array([[20, 30],\n",
       "       [50, 60],\n",
       "       [80, 90]])"
      ]
     },
     "execution_count": 213,
     "metadata": {},
     "output_type": "execute_result"
    }
   ],
   "source": [
    "b2[:3, 1:]"
   ]
  },
  {
   "cell_type": "code",
   "execution_count": 213,
   "id": "a13672b8-1046-42a7-9933-300b31ce0c36",
   "metadata": {},
   "outputs": [
    {
     "data": {
      "text/plain": [
       "array([[20, 30],\n",
       "       [50, 60],\n",
       "       [80, 90]])"
      ]
     },
     "execution_count": 213,
     "metadata": {},
     "output_type": "execute_result"
    }
   ],
   "source": [
    "b2[:3, 1:]"
   ]
  },
  {
   "cell_type": "code",
   "execution_count": 213,
   "id": "0c0a843e-0d58-472b-b7dd-48d9355ca0dd",
   "metadata": {},
   "outputs": [
    {
     "data": {
      "text/plain": [
       "array([[20, 30],\n",
       "       [50, 60],\n",
       "       [80, 90]])"
      ]
     },
     "execution_count": 213,
     "metadata": {},
     "output_type": "execute_result"
    }
   ],
   "source": [
    "b2[:3, 1:]"
   ]
  },
  {
   "cell_type": "code",
   "execution_count": 213,
   "id": "e22dffe9-18db-446f-a70e-ffe540dee0e0",
   "metadata": {},
   "outputs": [
    {
     "data": {
      "text/plain": [
       "array([[20, 30],\n",
       "       [50, 60],\n",
       "       [80, 90]])"
      ]
     },
     "execution_count": 213,
     "metadata": {},
     "output_type": "execute_result"
    }
   ],
   "source": [
    "b2[:3, 1:]"
   ]
  },
  {
   "cell_type": "code",
   "execution_count": 213,
   "id": "49c2816a-54bd-4ba8-ac51-c2e93ffabc28",
   "metadata": {},
   "outputs": [
    {
     "data": {
      "text/plain": [
       "array([[20, 30],\n",
       "       [50, 60],\n",
       "       [80, 90]])"
      ]
     },
     "execution_count": 213,
     "metadata": {},
     "output_type": "execute_result"
    }
   ],
   "source": [
    "b2[:3, 1:]"
   ]
  },
  {
   "cell_type": "code",
   "execution_count": 214,
   "id": "13adcb6a-79d4-4406-a84d-bbfbad302642",
   "metadata": {},
   "outputs": [
    {
     "data": {
      "text/plain": [
       "array([40, 50])"
      ]
     },
     "execution_count": 214,
     "metadata": {},
     "output_type": "execute_result"
    }
   ],
   "source": [
    "b2[1][0:2]"
   ]
  },
  {
   "cell_type": "code",
   "execution_count": null,
   "id": "2e83829f-f356-49fc-971c-bf13007ee8c0",
   "metadata": {
    "nbpresent": {
     "id": "daad9c34-20d7-4214-906a-b9853876a577"
    }
   },
   "outputs": [],
   "source": [
    "b2[0:2, 1:3] = np.array([[25, 35], [55, 65]])\n",
    "b2"
   ]
  },
  {
   "cell_type": "markdown",
   "id": "d998ae05-60b9-417c-a3dd-4451a707f0bd",
   "metadata": {},
   "source": [
    "# Quiz"
   ]
  },
  {
   "cell_type": "markdown",
   "id": "1d6ed9c9-755a-48da-93ac-ec2093723659",
   "metadata": {},
   "source": [
    "* arr [ 줄, 칸]\n",
    "* arr [ [1줄,2줄] , [칸1, 칸2] ]  -> 1줄의 칸1, 2줄의 칸2\n",
    "* arr [ [1줄,2줄,3줄] , [칸1, 칸2,칸3] ] -> (1줄,칸1), (2줄,칸2) (3줄,칸3)\n",
    "\n",
    "* arr[s:e줄, s:e칸]\n",
    "\n",
    "* -> 명확히 이해해라.\n"
   ]
  },
  {
   "cell_type": "code",
   "execution_count": 12,
   "id": "9d1307ba-e9ff-428e-befe-f5e94315abc7",
   "metadata": {},
   "outputs": [
    {
     "name": "stdout",
     "output_type": "stream",
     "text": [
      "[[10 25 35]\n",
      " [40 55 65]\n",
      " [70 80 90]]\n"
     ]
    }
   ],
   "source": [
    "arr = np.array([[10, 25, 35],\n",
    "       [40, 55, 65],\n",
    "       [70, 80, 90]])\n",
    "print(arr)\n"
   ]
  },
  {
   "cell_type": "code",
   "execution_count": 241,
   "id": "e1d7ffb3-ee26-49c6-83f1-700748ebcb92",
   "metadata": {},
   "outputs": [
    {
     "name": "stdout",
     "output_type": "stream",
     "text": [
      "[[10]\n",
      " [70]]\n"
     ]
    }
   ],
   "source": [
    "print( arr [ [0,2] , 0:1 ]) # 10\n",
    "                            # 70"
   ]
  },
  {
   "cell_type": "code",
   "execution_count": 243,
   "id": "88ecda18-ebb8-44ca-999a-aa57ee49a9dc",
   "metadata": {},
   "outputs": [
    {
     "name": "stdout",
     "output_type": "stream",
     "text": [
      "[[10]\n",
      " [40]]\n"
     ]
    }
   ],
   "source": [
    "print( arr [ 0:2 , 0:1 ]) #10\n",
    "                          # 40"
   ]
  },
  {
   "cell_type": "code",
   "execution_count": 244,
   "id": "016dd709-cb98-4250-9381-e76722b0efde",
   "metadata": {},
   "outputs": [
    {
     "name": "stdout",
     "output_type": "stream",
     "text": [
      "[10 80]\n"
     ]
    }
   ],
   "source": [
    "print( arr [ [0,2] ,[0,1] ])  # 10 80\n"
   ]
  },
  {
   "cell_type": "code",
   "execution_count": 7,
   "id": "fd8ba023-a124-4a81-a7cd-2d4182445bdf",
   "metadata": {},
   "outputs": [
    {
     "ename": "SyntaxError",
     "evalue": "invalid syntax (Temp/ipykernel_7852/2517915316.py, line 4)",
     "output_type": "error",
     "traceback": [
      "\u001b[1;36m  File \u001b[1;32m\"C:\\Users\\LHL\\AppData\\Local\\Temp/ipykernel_7852/2517915316.py\"\u001b[1;36m, line \u001b[1;32m4\u001b[0m\n\u001b[1;33m    print ( [ [0:1, 1:2] , 3] ) # --ERROR!!\u001b[0m\n\u001b[1;37m                ^\u001b[0m\n\u001b[1;31mSyntaxError\u001b[0m\u001b[1;31m:\u001b[0m invalid syntax\n"
     ]
    }
   ],
   "source": [
    "# print ([ [0:2] , [0:1] ]) # --ERROR!!\n",
    "# print ([ [0:2] , [0:1] ]) # --ERROR!!\n",
    "\n",
    "print ( [ [0:1, 1:2] , 3] ) # --ERROR!!"
   ]
  },
  {
   "cell_type": "code",
   "execution_count": 14,
   "id": "181c2992-0467-45a9-8c75-fc0a7134116f",
   "metadata": {},
   "outputs": [
    {
     "name": "stdout",
     "output_type": "stream",
     "text": [
      "[25 70]\n"
     ]
    }
   ],
   "source": [
    "# 이건 왜 이렇게 나올까??  -->> 이상하다\n",
    "# print( arr [ 0:2, [1,1] ])"
   ]
  },
  {
   "cell_type": "code",
   "execution_count": null,
   "id": "d65799d7-06ba-43de-9f78-7198efd50f7e",
   "metadata": {},
   "outputs": [],
   "source": [
    "dataframe으로~"
   ]
  },
  {
   "cell_type": "code",
   "execution_count": 5,
   "id": "83e720c8-e1b4-419d-b549-c83373d21a20",
   "metadata": {},
   "outputs": [
    {
     "data": {
      "text/plain": [
       "(4,)"
      ]
     },
     "execution_count": 5,
     "metadata": {},
     "output_type": "execute_result"
    }
   ],
   "source": []
  },
  {
   "cell_type": "markdown",
   "id": "e8d74bc1-9660-4d73-99db-118c9509283f",
   "metadata": {},
   "source": [
    "#### 특별한 형태의 배열 생성"
   ]
  },
  {
   "cell_type": "markdown",
   "id": "015a1557-3d45-4e00-b118-9025b43b3cfe",
   "metadata": {},
   "source": [
    "**[11장: 220페이지]**"
   ]
  },
  {
   "cell_type": "code",
   "execution_count": null,
   "id": "ee3cc2f2-7c1d-4300-b209-e1224b4dac73",
   "metadata": {
    "nbpresent": {
     "id": "ec1bca5f-3476-4abb-928f-6c071fac203a"
    }
   },
   "outputs": [],
   "source": [
    "np.zeros(10)"
   ]
  },
  {
   "cell_type": "markdown",
   "id": "14d18bcd-7c6f-4787-b88c-63af9aa3a306",
   "metadata": {},
   "source": [
    "**[11장: 220페이지]**"
   ]
  },
  {
   "cell_type": "code",
   "execution_count": null,
   "id": "b807a59d-4f80-4b45-830d-fc12e5444c54",
   "metadata": {
    "nbpresent": {
     "id": "daee3ad5-0f22-44b2-b473-8980d1a58e53"
    }
   },
   "outputs": [],
   "source": [
    "np.zeros((3,4))"
   ]
  },
  {
   "cell_type": "markdown",
   "id": "ccbc0603-fc0c-4fe7-bdae-0bbc86452abc",
   "metadata": {},
   "source": [
    "**[11장: 220 ~ 221페이지]**"
   ]
  },
  {
   "cell_type": "code",
   "execution_count": null,
   "id": "7ce6e293-4d59-4c05-bd37-b1172f4667a5",
   "metadata": {
    "nbpresent": {
     "id": "e906fa8c-b178-45b9-9591-31f3af9ac3ae"
    }
   },
   "outputs": [],
   "source": [
    "np.ones(5)"
   ]
  },
  {
   "cell_type": "code",
   "execution_count": null,
   "id": "d87b58ef-6356-4952-bbb1-5407ce2d0652",
   "metadata": {
    "nbpresent": {
     "id": "4ca86a90-74ed-42a2-a46d-a42d4a28ddb5"
    }
   },
   "outputs": [],
   "source": [
    "np.ones((3,5))"
   ]
  },
  {
   "cell_type": "markdown",
   "id": "83aed033-490f-40d6-97d5-36c6316c0fc9",
   "metadata": {
    "nbpresent": {
     "id": "cdda517f-7dda-4747-82fb-291fbdd34149"
    }
   },
   "source": [
    "**[11장: 221페이지]**"
   ]
  },
  {
   "cell_type": "code",
   "execution_count": 4,
   "id": "8ab85f66-1c20-4b54-a8e3-b9d5d324904e",
   "metadata": {
    "nbpresent": {
     "id": "963a3cc5-3883-435d-a090-afad780451ea"
    }
   },
   "outputs": [
    {
     "data": {
      "text/plain": [
       "array([[1., 0., 0.],\n",
       "       [0., 1., 0.],\n",
       "       [0., 0., 1.]])"
      ]
     },
     "execution_count": 4,
     "metadata": {},
     "output_type": "execute_result"
    }
   ],
   "source": [
    "np.eye(3)"
   ]
  },
  {
   "cell_type": "code",
   "execution_count": null,
   "id": "aef6be8e-b0e5-4efa-bd42-072cc9fd8ea7",
   "metadata": {},
   "outputs": [],
   "source": []
  },
  {
   "cell_type": "markdown",
   "id": "e68d08eb-efb8-481a-9093-189ae1a0c88c",
   "metadata": {
    "tags": []
   },
   "source": [
    "#### 난수 배열의 생성"
   ]
  },
  {
   "cell_type": "markdown",
   "id": "c7a50eb9-4841-4f25-9c81-ddae6a3ff6e2",
   "metadata": {},
   "source": [
    "**[11장: 224 ~ 225페이지]**"
   ]
  },
  {
   "cell_type": "code",
   "execution_count": 17,
   "id": "0fdc92af-213e-461a-aaa9-d5dfb08c0f22",
   "metadata": {},
   "outputs": [
    {
     "data": {
      "text/plain": [
       "array([[0.50327005, 0.06344113, 0.72785704],\n",
       "       [0.44161959, 0.11351561, 0.8873565 ]])"
      ]
     },
     "execution_count": 17,
     "metadata": {},
     "output_type": "execute_result"
    }
   ],
   "source": [
    "np.random.rand(2,3)"
   ]
  },
  {
   "cell_type": "code",
   "execution_count": 21,
   "id": "5e64fa5b-43d7-4a94-958d-7e50d9f91847",
   "metadata": {},
   "outputs": [
    {
     "data": {
      "text/plain": [
       "array([0.51676984, 0.87159144])"
      ]
     },
     "execution_count": 21,
     "metadata": {},
     "output_type": "execute_result"
    }
   ],
   "source": [
    "np.random.rand()"
   ]
  },
  {
   "cell_type": "code",
   "execution_count": 16,
   "id": "cfa31228-0c23-4972-a9b6-b3f070bdc8ee",
   "metadata": {},
   "outputs": [
    {
     "data": {
      "text/plain": [
       "array([[[0.88389428, 0.43636059, 0.16189368, 0.46506364],\n",
       "        [0.0693789 , 0.88726073, 0.18449743, 0.19305122],\n",
       "        [0.18425676, 0.09330828, 0.77751958, 0.27092764]],\n",
       "\n",
       "       [[0.0158447 , 0.39169125, 0.36985499, 0.92982217],\n",
       "        [0.84376109, 0.51613706, 0.44452584, 0.26286774],\n",
       "        [0.35593303, 0.25740974, 0.45872957, 0.78369433]]])"
      ]
     },
     "execution_count": 16,
     "metadata": {},
     "output_type": "execute_result"
    }
   ],
   "source": [
    "np.random.rand(2,3,4) # 두 덩어리 씩, 한 덩어리에 세 줄 네 칸"
   ]
  },
  {
   "cell_type": "markdown",
   "id": "d5965874-353c-4d4f-9af8-7f361b13add8",
   "metadata": {},
   "source": [
    "**[11장: 225페이지]**"
   ]
  },
  {
   "cell_type": "code",
   "execution_count": null,
   "id": "58894a3b-cba0-4fce-bebf-038c57181f99",
   "metadata": {},
   "outputs": [],
   "source": [
    "np.random.randint(10, size=(3, 4)) #0부터 10개의 수(0부터 9), 3줄 4칸"
   ]
  },
  {
   "cell_type": "code",
   "execution_count": 20,
   "id": "9faf5ade-21d4-4136-ba36-22c0787083b9",
   "metadata": {},
   "outputs": [
    {
     "data": {
      "text/plain": [
       "array([28,  7, 25, 34, 28, 39])"
      ]
     },
     "execution_count": 20,
     "metadata": {},
     "output_type": "execute_result"
    }
   ],
   "source": [
    "np.random.randint(45, size=(6))+1 #로또 번호 0부터 44까지니까(45개라) +1해서 1부터 45까지"
   ]
  },
  {
   "cell_type": "code",
   "execution_count": null,
   "id": "29a6d1db-9e3b-4df0-a8ba-876d935aabba",
   "metadata": {},
   "outputs": [],
   "source": [
    "np.random.randint(1, 30)"
   ]
  }
 ],
 "metadata": {
  "kernelspec": {
   "display_name": "Python 3 (ipykernel)",
   "language": "python",
   "name": "python3"
  },
  "language_info": {
   "codemirror_mode": {
    "name": "ipython",
    "version": 3
   },
   "file_extension": ".py",
   "mimetype": "text/x-python",
   "name": "python",
   "nbconvert_exporter": "python",
   "pygments_lexer": "ipython3",
   "version": "3.8.8"
  }
 },
 "nbformat": 4,
 "nbformat_minor": 5
}
